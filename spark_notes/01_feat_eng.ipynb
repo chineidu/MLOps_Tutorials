{
 "cells": [
  {
   "attachments": {},
   "cell_type": "markdown",
   "metadata": {},
   "source": [
    "# EDA and Feature Engineering Using Spark"
   ]
  },
  {
   "cell_type": "code",
   "execution_count": 1,
   "metadata": {},
   "outputs": [],
   "source": [
    "# Built-in libraries\n",
    "import collections\n",
    "import itertools\n",
    "import re\n",
    "from typing import Any\n",
    "import json\n",
    "\n",
    "import numpy as np\n",
    "import pandas as pd\n",
    "\n",
    "\n",
    "# PySpark Modules\n",
    "from pyspark.sql import SparkSession\n",
    "import pyspark.sql.functions as F\n",
    "from pyspark.sql.types import (\n",
    "    ArrayType,\n",
    "    DoubleType,\n",
    "    StringType,\n",
    "    IntegerType,\n",
    "    FloatType,\n",
    "    StructType,\n",
    "    StructField,\n",
    "    LongType,\n",
    ")\n",
    "\n",
    "# Black formatter (optional)\n",
    "%load_ext lab_black\n",
    "# auto reload imports\n",
    "%load_ext autoreload\n",
    "%autoreload 2"
   ]
  },
  {
   "cell_type": "code",
   "execution_count": 2,
   "metadata": {},
   "outputs": [
    {
     "name": "stderr",
     "output_type": "stream",
     "text": [
      "23/07/07 17:45:56 WARN Utils: Your hostname, Chinedus-MacBook-Pro.local resolves to a loopback address: 127.0.0.1; using 192.168.1.151 instead (on interface en0)\n",
      "23/07/07 17:45:56 WARN Utils: Set SPARK_LOCAL_IP if you need to bind to another address\n",
      "Using Spark's default log4j profile: org/apache/spark/log4j-defaults.properties\n",
      "Setting default log level to \"WARN\".\n",
      "To adjust logging level use sc.setLogLevel(newLevel). For SparkR, use setLogLevel(newLevel).\n",
      "23/07/07 17:45:56 WARN NativeCodeLoader: Unable to load native-hadoop library for your platform... using builtin-java classes where applicable\n"
     ]
    }
   ],
   "source": [
    "# Create Spark Session\n",
    "spark = SparkSession.builder.appName(\"EDA\").getOrCreate()"
   ]
  },
  {
   "cell_type": "code",
   "execution_count": 3,
   "metadata": {},
   "outputs": [
    {
     "name": "stdout",
     "output_type": "stream",
     "text": [
      "root\n",
      " |-- course_name: string (nullable = true)\n",
      " |-- instructor: string (nullable = true)\n",
      " |-- course url: string (nullable = true)\n",
      " |-- course image: string (nullable = true)\n",
      " |-- course description: string (nullable = true)\n",
      " |-- reviews_avg: string (nullable = true)\n",
      " |-- reviews_count: string (nullable = true)\n",
      " |-- course_duration: string (nullable = true)\n",
      " |-- lectures_count: string (nullable = true)\n",
      " |-- level: string (nullable = true)\n",
      " |-- price_after_discount: string (nullable = true)\n",
      " |-- main_price: string (nullable = true)\n",
      " |-- course_flag: string (nullable = true)\n",
      " |-- students_count: string (nullable = true)\n",
      " |-- _c14: string (nullable = true)\n",
      " |-- _c15: string (nullable = true)\n",
      " |-- _c16: string (nullable = true)\n",
      " |-- _c17: string (nullable = true)\n",
      "\n"
     ]
    }
   ],
   "source": [
    "# Load data\n",
    "fp = \"../data/udemy_data.csv\"\n",
    "raw_data = spark.read.option(\"header\", \"true\").option(\"inferSchema\", \"true\").csv(fp)\n",
    "\n",
    "raw_data.printSchema()"
   ]
  },
  {
   "cell_type": "code",
   "execution_count": 4,
   "metadata": {},
   "outputs": [
    {
     "data": {
      "text/plain": [
       "5027"
      ]
     },
     "execution_count": 4,
     "metadata": {},
     "output_type": "execute_result"
    }
   ],
   "source": [
    "# Data size (number of rows)\n",
    "raw_data.count()"
   ]
  },
  {
   "attachments": {},
   "cell_type": "markdown",
   "metadata": {},
   "source": [
    "### To Do\n",
    "\n",
    "```text\n",
    "- Drop irrelevant columns.\n",
    "- Extract the programming languages from the course name.\n",
    "- Clean the following columns\n",
    "    - `reviews avg` \n",
    "    - `reviews_count`.\n",
    "    - `course_duration`.\n",
    "    - `lectures_count` column .\n",
    "    - `level`.\n",
    "    - `price_after_discount` and `main_price`.\n",
    "    - `students_count`.\n",
    "```"
   ]
  },
  {
   "cell_type": "code",
   "execution_count": 5,
   "metadata": {},
   "outputs": [
    {
     "name": "stdout",
     "output_type": "stream",
     "text": [
      "+---------------------------------------------------------+------------------------------------------------------+------------------------------------------------------------+------------------------------------------------------------+------------------------------------------------------------+----------------------------------------------------+--------------------+----------------+----------------+------------+-----------------------+--------------------------+--------------------------+------------------+\n",
      "|                                              course_name|                                            instructor|                                                  course url|                                                course image|                                          course description|                                         reviews_avg|       reviews_count| course_duration|  lectures_count|       level|   price_after_discount|                main_price|               course_flag|    students_count|\n",
      "+---------------------------------------------------------+------------------------------------------------------+------------------------------------------------------------+------------------------------------------------------------+------------------------------------------------------------+----------------------------------------------------+--------------------+----------------+----------------+------------+-----------------------+--------------------------+--------------------------+------------------+\n",
      "|2022 Complete Python Bootcamp From Zero to Hero in Python|                                         Jose Portilla|      https://www.udemy.com/course/complete-python-bootcamp/|   https://img-b.udemycdn.com/course/240x135/567828_67d0.jpg|Learn Python like a Professional  Start from the basics a...|                                Rating: 4.6 out of 5|      440383 reviews|  22 total hours|    155 lectures|  All Levels|Current price: E£319.99|Original price: E£1,399.99|                      null|1,629,692 students|\n",
      "|                          The Web Developer Bootcamp 2022|                                           Colt Steele|    https://www.udemy.com/course/the-web-developer-bootcamp/| https://img-b.udemycdn.com/course/240x135/625204_436a_3.jpg|COMPLETELY REDONE - The only course you need to learn web...|                                Rating: 4.7 out of 5|      248508 reviews|  64 total hours|    615 lectures|  All Levels|Current price: E£269.99|Original price: E£1,399.99|                      null|  830,559 students|\n",
      "|               The Complete 2022 Web Development Bootcamp|                                         Dr. Angela Yu|https://www.udemy.com/course/the-complete-web-development...|https://img-b.udemycdn.com/course/240x135/1565838_e54e_16...|Become a Full-Stack Web Developer with just ONE course. H...|                                Rating: 4.7 out of 5|      234837 reviews|65.5 total hours|    490 lectures|  All Levels|Current price: E£349.99|Original price: E£1,699.99|                Bestseller|  794,897 students|\n",
      "|              Angular - The Complete Guide (2023 Edition)|                              Maximilian Schwarzmüller|https://www.udemy.com/course/the-complete-guide-to-angula...| https://img-b.udemycdn.com/course/240x135/756150_c033_2.jpg|\"Master Angular 14 (formerly \"\"Angular 2\"\") and build awe...| reactive web apps with the successor of Angular.js\"|Rating: 4.6 out of 5|  174576 reviews|34.5 total hours|472 lectures|             All Levels|   Current price: E£319.99|Original price: E£1,599.99|        Bestseller|\n",
      "|  Java Programming Masterclass covering Java 11 & Java 17|Tim Buchalka, Tim Buchalka's Learn Programming Academy|https://www.udemy.com/course/java-the-complete-java-devel...| https://img-b.udemycdn.com/course/240x135/533682_c10c_4.jpg|Learn Java In This Course And Become a Computer Programme...|                                Rating: 4.5 out of 5|      171838 reviews|80.5 total hours|    401 lectures|  All Levels|Current price: E£349.99|  Original price: E£849.99|                Bestseller|  727,934 students|\n",
      "+---------------------------------------------------------+------------------------------------------------------+------------------------------------------------------------+------------------------------------------------------------+------------------------------------------------------------+----------------------------------------------------+--------------------+----------------+----------------+------------+-----------------------+--------------------------+--------------------------+------------------+\n",
      "only showing top 5 rows\n",
      "\n"
     ]
    }
   ],
   "source": [
    "# Drop irrelevant columns\n",
    "data = raw_data.drop(\"_c14\", \"_c15\", \"_c16\", \"_c17\")\n",
    "\n",
    "data.show(5, truncate=60)"
   ]
  },
  {
   "cell_type": "markdown",
   "metadata": {},
   "source": [
    "### Extract the programming languages."
   ]
  },
  {
   "cell_type": "code",
   "execution_count": 6,
   "metadata": {},
   "outputs": [
    {
     "data": {
      "text/plain": [
       "'(\\\\br\\\\b|abap|ada|angular|asp.net|asp.net mvc|assembly|bash|c#|c\\\\+\\\\+|caffe|caffe2|cakephp|chainer|clojure|cobol|codeigniter|corenlp|crystal|css|dart|deeplearning4j|delphi|django|docker|dockerfile|elixir|elm|ember.js|ember[\\\\.\\\\s]?[j]?[s]?|erlang|express[\\\\.\\\\s]?[j]?[s]?|f#|flask|fortran|gluon|go|golang|groovy|h2o|hack|haskell|haxe|html|hugging\\\\s?face\\\\s?transformers|java|javascript|julia|k8s|keras|kotlin|kubernetes|laravel|lisp|lua|matlab|meteor|mxnet|nltk|objective-c|ocaml|perl|php|pl/sql|play|powershell|prolog|puppet|python|pytorch|racket|react|ruby|ruby on rails|rust|scala|scikit\\\\-?\\\\s?learn|scratch|shell|spacy|spring boot|sql|struts|swift|symfony|tcl|tensorflow|theano|torch|typescript|vb.net|verilog|vue[\\\\.\\\\s]?[j]?[s]?)'"
      ]
     },
     "execution_count": 6,
     "metadata": {},
     "output_type": "execute_result"
    }
   ],
   "source": [
    "tools = [\n",
    "    \"\\\\br\\\\b\",\n",
    "    \"abap\",\n",
    "    \"ada\",\n",
    "    \"angular\",\n",
    "    \"asp.net\",\n",
    "    \"asp.net mvc\",\n",
    "    \"assembly\",\n",
    "    \"bash\",\n",
    "    \"c#\",\n",
    "    \"c\\\\+\\\\+\",\n",
    "    \"caffe\",\n",
    "    \"caffe2\",\n",
    "    \"cakephp\",\n",
    "    \"chainer\",\n",
    "    \"clojure\",\n",
    "    \"cobol\",\n",
    "    \"codeigniter\",\n",
    "    \"corenlp\",\n",
    "    \"crystal\",\n",
    "    \"css\",\n",
    "    \"dart\",\n",
    "    \"deeplearning4j\",\n",
    "    \"delphi\",\n",
    "    \"django\",\n",
    "    \"docker\",\n",
    "    \"dockerfile\",\n",
    "    \"elixir\",\n",
    "    \"elm\",\n",
    "    \"ember.js\",\n",
    "    \"ember[\\\\.\\\\s]?[j]?[s]?\",\n",
    "    \"erlang\",\n",
    "    \"express[\\\\.\\\\s]?[j]?[s]?\",\n",
    "    \"f#\",\n",
    "    \"flask\",\n",
    "    \"fortran\",\n",
    "    \"gluon\",\n",
    "    \"go\",\n",
    "    \"golang\",\n",
    "    \"groovy\",\n",
    "    \"h2o\",\n",
    "    \"hack\",\n",
    "    \"haskell\",\n",
    "    \"haxe\",\n",
    "    \"html\",\n",
    "    r\"hugging\\s?face\\s?transformers\",\n",
    "    \"java\",\n",
    "    \"javascript\",\n",
    "    \"julia\",\n",
    "    \"k8s\",\n",
    "    \"keras\",\n",
    "    \"kotlin\",\n",
    "    \"kubernetes\",\n",
    "    \"laravel\",\n",
    "    \"lisp\",\n",
    "    \"lua\",\n",
    "    \"matlab\",\n",
    "    \"meteor\",\n",
    "    \"mxnet\",\n",
    "    \"nltk\",\n",
    "    \"objective-c\",\n",
    "    \"ocaml\",\n",
    "    \"perl\",\n",
    "    \"php\",\n",
    "    \"pl/sql\",\n",
    "    \"play\",\n",
    "    \"powershell\",\n",
    "    \"prolog\",\n",
    "    \"puppet\",\n",
    "    \"python\",\n",
    "    \"pytorch\",\n",
    "    \"racket\",\n",
    "    \"react\",\n",
    "    \"ruby\",\n",
    "    \"ruby on rails\",\n",
    "    \"rust\",\n",
    "    \"scala\",\n",
    "    r\"scikit\\-?\\s?learn\",\n",
    "    \"scratch\",\n",
    "    \"shell\",\n",
    "    \"spacy\",\n",
    "    \"spring boot\",\n",
    "    \"sql\",\n",
    "    \"struts\",\n",
    "    \"swift\",\n",
    "    \"symfony\",\n",
    "    \"tcl\",\n",
    "    \"tensorflow\",\n",
    "    \"theano\",\n",
    "    \"torch\",\n",
    "    \"typescript\",\n",
    "    \"vb.net\",\n",
    "    \"verilog\",\n",
    "    \"vue[\\\\.\\\\s]?[j]?[s]?\",\n",
    "]\n",
    "\n",
    "# tools = [var.lower() for var in tools]\n",
    "\n",
    "PATTERN = \"(\" + \"|\".join(sorted(tools)) + \")\"\n",
    "PATTERN"
   ]
  },
  {
   "cell_type": "code",
   "execution_count": 7,
   "metadata": {},
   "outputs": [],
   "source": [
    "@F.udf(returnType=StringType())\n",
    "def extract_prog_language(input_: str, pattern: str) -> Any:\n",
    "    \"\"\"This returns a list containing the matched pattern.\"\"\"\n",
    "    # pattern = PATTERN\n",
    "    result = re.compile(pattern=pattern, flags=re.I).findall(string=input_)\n",
    "    result = [var.strip() for var in set(result)]\n",
    "    return result"
   ]
  },
  {
   "cell_type": "code",
   "execution_count": 8,
   "metadata": {},
   "outputs": [
    {
     "name": "stdout",
     "output_type": "stream",
     "text": [
      "+--------------------+--------------------+--------------------+--------------------+--------------------+--------------------+--------------------+----------------+----------------+------------+--------------------+--------------------+--------------------+------------------+----------------------+\n",
      "|         course_name|          instructor|          course url|        course image|  course description|         reviews_avg|       reviews_count| course_duration|  lectures_count|       level|price_after_discount|          main_price|         course_flag|    students_count|prog_languages_n_tools|\n",
      "+--------------------+--------------------+--------------------+--------------------+--------------------+--------------------+--------------------+----------------+----------------+------------+--------------------+--------------------+--------------------+------------------+----------------------+\n",
      "|2022 Complete Pyt...|       Jose Portilla|https://www.udemy...|https://img-b.ude...|Learn Python like...|Rating: 4.6 out of 5|      440383 reviews|  22 total hours|    155 lectures|  All Levels|Current price: E£...|Original price: E...|                null|1,629,692 students|              [python]|\n",
      "|The Web Developer...|         Colt Steele|https://www.udemy...|https://img-b.ude...|COMPLETELY REDONE...|Rating: 4.7 out of 5|      248508 reviews|  64 total hours|    615 lectures|  All Levels|Current price: E£...|Original price: E...|                null|  830,559 students|                    []|\n",
      "|The Complete 2022...|       Dr. Angela Yu|https://www.udemy...|https://img-b.ude...|Become a Full-Sta...|Rating: 4.7 out of 5|      234837 reviews|65.5 total hours|    490 lectures|  All Levels|Current price: E£...|Original price: E...|          Bestseller|  794,897 students|                    []|\n",
      "|Angular - The Com...|Maximilian Schwar...|https://www.udemy...|https://img-b.ude...|\"Master Angular 1...| reactive web app...|Rating: 4.6 out of 5|  174576 reviews|34.5 total hours|472 lectures|          All Levels|Current price: E£...|Original price: E...|        Bestseller|             [angular]|\n",
      "|Java Programming ...|Tim Buchalka, Tim...|https://www.udemy...|https://img-b.ude...|Learn Java In Thi...|Rating: 4.5 out of 5|      171838 reviews|80.5 total hours|    401 lectures|  All Levels|Current price: E£...|Original price: E...|          Bestseller|  727,934 students|                [java]|\n",
      "|React - The Compl...|Academind by Maxi...|https://www.udemy...|https://img-b.ude...|Dive in and learn...|Rating: 4.6 out of 5|      166128 reviews|49.5 total hours|    495 lectures|  All Levels|Current price: E£...|Original price: E...|          Bestseller|  649,985 students|               [react]|\n",
      "|Machine Learning ...|Kirill Eremenko, ...|https://www.udemy...|https://img-b.ude...|Learn to create M...|Rating: 4.5 out of 5|      163104 reviews|42.5 total hours|    287 lectures|  All Levels|Current price: E£...|Original price: E...|                null|  900,823 students|           [python, r]|\n",
      "|The Complete Java...|   Jonas Schmedtmann|https://www.udemy...|https://img-b.ude...|The modern JavaSc...|Rating: 4.7 out of 5|      156031 reviews|  69 total hours|    320 lectures|  All Levels|Current price: E£...|Original price: E...|          Bestseller|  699,335 students|                [java]|\n",
      "|100 Days of Code:...|       Dr. Angela Yu|https://www.udemy...|https://img-b.ude...|Master Python by ...|Rating: 4.7 out of 5|      150024 reviews|  64 total hours|    676 lectures|  All Levels|Current price: E£...|Original price: E...|          Bestseller|  662,274 students|              [python]|\n",
      "|Python for Data S...|       Jose Portilla|https://www.udemy...|https://img-b.ude...|Learn how to use ...|Rating: 4.6 out of 5|      122487 reviews|  25 total hours|    165 lectures|  All Levels|Current price: E£...|Original price: E...|          Bestseller|  588,524 students|              [python]|\n",
      "|The Data Science ...|365 Careers, 365 ...|https://www.udemy...|https://img-b.ude...|Complete Data Sci...|Rating: 4.6 out of 5|      114535 reviews|  32 total hours|    517 lectures|  All Levels|Current price: E£...|Original price: E...|          Bestseller|  539,202 students|                    []|\n",
      "|Automate the Bori...|         Al Sweigart|https://www.udemy...|https://img-b.ude...|A practical progr...|Rating: 4.7 out of 5|      103366 reviews| 9.5 total hours|     51 lectures|  All Levels|Current price: E£...|Original price: E...|                null|1,060,445 students|              [python]|\n",
      "|Complete C# Unity...|GameDev.tv Team, ...|https://www.udemy...|https://img-b.ude...|Learn Unity in C#...|Rating: 4.7 out of 5|       96126 reviews|18.5 total hours|    140 lectures|  All Levels|Current price: E£...|Original price: E...|                null|  433,485 students|                  [c#]|\n",
      "|Learn Python Prog...|Tim Buchalka, Jea...|https://www.udemy...|https://img-b.ude...|This Python For B...|Rating: 4.6 out of 5|       94413 reviews|72.5 total hours|    534 lectures|  All Levels|Current price: E£...|Original price: E...|                null|  394,722 students|              [python]|\n",
      "|Selenium WebDrive...|        Rahul Shetty|https://www.udemy...|https://img-b.ude...|\"\"\"TOP RATED  #1 ...|Rating: 4.6 out of 5|       89742 reviews|53.5 total hours|    327 lectures|  All Levels|Current price: E£...|Original price: E...|          Bestseller|  280,503 students|                [java]|\n",
      "|Build Responsive ...|   Jonas Schmedtmann|https://www.udemy...|https://img-b.ude...|Learn modern HTML...|Rating: 4.8 out of 5|       85094 reviews|37.5 total hours|    151 lectures|  All Levels|Current price: E£...|Original price: E...|          Bestseller|  341,962 students|           [css, html]|\n",
      "|iOS & Swift - The...|       Dr. Angela Yu|https://www.udemy...|https://img-b.ude...|From Beginner to ...|Rating: 4.8 out of 5|       80067 reviews|60.5 total hours|    542 lectures|  All Levels|Current price: E£...|Original price: E...|          Bestseller|  311,592 students|               [swift]|\n",
      "|Modern React with...|      Stephen Grider|https://www.udemy...|https://img-b.ude...|Master React and ...|Rating: 4.7 out of 5|       77591 reviews|52.5 total hours|    574 lectures|  All Levels|Current price: E£...|Original price: E...|          Bestseller|  275,832 students|               [react]|\n",
      "|The Ultimate MySQ...|Colt Steele, Ian ...|https://www.udemy...|https://img-b.ude...|JUST COMPLETELY R...|Rating: 4.6 out of 5|       74438 reviews|37.5 total hours|    650 lectures|    Beginner|Current price: E£...|Original price: E...|          Bestseller|  344,881 students|             [go, sql]|\n",
      "|The Complete Web ...|Rob Percival, Cod...|https://www.udemy...|https://img-b.ude...|Learn Web Develop...|Rating: 4.6 out of 5|       70448 reviews|28.5 total hours|    288 lectures|  All Levels|Current price: E£...|Original price: E...|                null|  304,994 students|                    []|\n",
      "+--------------------+--------------------+--------------------+--------------------+--------------------+--------------------+--------------------+----------------+----------------+------------+--------------------+--------------------+--------------------+------------------+----------------------+\n",
      "only showing top 20 rows\n",
      "\n"
     ]
    },
    {
     "name": "stderr",
     "output_type": "stream",
     "text": [
      "                                                                                \r"
     ]
    }
   ],
   "source": [
    "data = data.withColumn(\n",
    "    \"prog_languages_n_tools\",\n",
    "    extract_prog_language(F.lower(F.col(\"course_name\")), F.lit(PATTERN)),\n",
    ")\n",
    "\n",
    "data.show()"
   ]
  },
  {
   "attachments": {},
   "cell_type": "markdown",
   "metadata": {},
   "source": [
    "### - Clean the following columns\n",
    "\n",
    "```text\n",
    "    - `reviews_avg` \n",
    "    - `reviews_count`\n",
    "```"
   ]
  },
  {
   "cell_type": "code",
   "execution_count": 9,
   "metadata": {},
   "outputs": [
    {
     "name": "stdout",
     "output_type": "stream",
     "text": [
      "+---------------------------------------------------------+------------------------------------------------------+---------------------------------------------------------------------+-------------------------------------------------------------+----------------------------------------------------------------------------------------------------------------------+----------------------------------------------------+--------------------+----------------+----------------+------------+-----------------------+--------------------------+--------------------------+------------------+----------------------+\n",
      "|course_name                                              |instructor                                            |course url                                                           |course image                                                 |course description                                                                                                    |reviews_avg                                         |reviews_count       |course_duration |lectures_count  |level       |price_after_discount   |main_price                |course_flag               |students_count    |prog_languages_n_tools|\n",
      "+---------------------------------------------------------+------------------------------------------------------+---------------------------------------------------------------------+-------------------------------------------------------------+----------------------------------------------------------------------------------------------------------------------+----------------------------------------------------+--------------------+----------------+----------------+------------+-----------------------+--------------------------+--------------------------+------------------+----------------------+\n",
      "|2022 Complete Python Bootcamp From Zero to Hero in Python|Jose Portilla                                         |https://www.udemy.com/course/complete-python-bootcamp/               |https://img-b.udemycdn.com/course/240x135/567828_67d0.jpg    |Learn Python like a Professional  Start from the basics and go all the way to creating your own applications and games|Rating: 4.6 out of 5                                |440383 reviews      |22 total hours  |155 lectures    |All Levels  |Current price: E£319.99|Original price: E£1,399.99|null                      |1,629,692 students|[python]              |\n",
      "|The Web Developer Bootcamp 2022                          |Colt Steele                                           |https://www.udemy.com/course/the-web-developer-bootcamp/             |https://img-b.udemycdn.com/course/240x135/625204_436a_3.jpg  |COMPLETELY REDONE - The only course you need to learn web development - HTML, CSS, JS, Node, and More!                |Rating: 4.7 out of 5                                |248508 reviews      |64 total hours  |615 lectures    |All Levels  |Current price: E£269.99|Original price: E£1,399.99|null                      |830,559 students  |[]                    |\n",
      "|The Complete 2022 Web Development Bootcamp               |Dr. Angela Yu                                         |https://www.udemy.com/course/the-complete-web-development-bootcamp/  |https://img-b.udemycdn.com/course/240x135/1565838_e54e_16.jpg|Become a Full-Stack Web Developer with just ONE course. HTML, CSS, Javascript, Node, React, MongoDB, Web3 and DApps   |Rating: 4.7 out of 5                                |234837 reviews      |65.5 total hours|490 lectures    |All Levels  |Current price: E£349.99|Original price: E£1,699.99|Bestseller                |794,897 students  |[]                    |\n",
      "|Angular - The Complete Guide (2023 Edition)              |Maximilian Schwarzmüller                              |https://www.udemy.com/course/the-complete-guide-to-angular-2/        |https://img-b.udemycdn.com/course/240x135/756150_c033_2.jpg  |\"Master Angular 14 (formerly \"\"Angular 2\"\") and build awesome                                                         | reactive web apps with the successor of Angular.js\"|Rating: 4.6 out of 5|174576 reviews  |34.5 total hours|472 lectures|All Levels             |Current price: E£319.99   |Original price: E£1,599.99|Bestseller        |[angular]             |\n",
      "|Java Programming Masterclass covering Java 11 & Java 17  |Tim Buchalka, Tim Buchalka's Learn Programming Academy|https://www.udemy.com/course/java-the-complete-java-developer-course/|https://img-b.udemycdn.com/course/240x135/533682_c10c_4.jpg  |Learn Java In This Course And Become a Computer Programmer. Obtain valuable Core Java Skills And Java Certification   |Rating: 4.5 out of 5                                |171838 reviews      |80.5 total hours|401 lectures    |All Levels  |Current price: E£349.99|Original price: E£849.99  |Bestseller                |727,934 students  |[java]                |\n",
      "+---------------------------------------------------------+------------------------------------------------------+---------------------------------------------------------------------+-------------------------------------------------------------+----------------------------------------------------------------------------------------------------------------------+----------------------------------------------------+--------------------+----------------+----------------+------------+-----------------------+--------------------------+--------------------------+------------------+----------------------+\n",
      "only showing top 5 rows\n",
      "\n"
     ]
    }
   ],
   "source": [
    "data.show(5, truncate=False)"
   ]
  },
  {
   "cell_type": "code",
   "execution_count": 10,
   "metadata": {},
   "outputs": [
    {
     "name": "stdout",
     "output_type": "stream",
     "text": [
      "+--------------------+--------------------+--------------------+--------------------+--------------------+--------------------+--------------------+----------------+----------------+------------+--------------------+--------------------+--------------------+------------------+----------------------+-------+\n",
      "|         course_name|          instructor|          course url|        course image|  course description|         reviews_avg|       reviews_count| course_duration|  lectures_count|       level|price_after_discount|          main_price|         course_flag|    students_count|prog_languages_n_tools|reviews|\n",
      "+--------------------+--------------------+--------------------+--------------------+--------------------+--------------------+--------------------+----------------+----------------+------------+--------------------+--------------------+--------------------+------------------+----------------------+-------+\n",
      "|2022 Complete Pyt...|       Jose Portilla|https://www.udemy...|https://img-b.ude...|Learn Python like...|Rating: 4.6 out of 5|      440383 reviews|  22 total hours|    155 lectures|  All Levels|Current price: E£...|Original price: E...|                null|1,629,692 students|              [python]|    4.6|\n",
      "|The Web Developer...|         Colt Steele|https://www.udemy...|https://img-b.ude...|COMPLETELY REDONE...|Rating: 4.7 out of 5|      248508 reviews|  64 total hours|    615 lectures|  All Levels|Current price: E£...|Original price: E...|                null|  830,559 students|                    []|    4.7|\n",
      "|The Complete 2022...|       Dr. Angela Yu|https://www.udemy...|https://img-b.ude...|Become a Full-Sta...|Rating: 4.7 out of 5|      234837 reviews|65.5 total hours|    490 lectures|  All Levels|Current price: E£...|Original price: E...|          Bestseller|  794,897 students|                    []|    4.7|\n",
      "|Angular - The Com...|Maximilian Schwar...|https://www.udemy...|https://img-b.ude...|\"Master Angular 1...| reactive web app...|Rating: 4.6 out of 5|  174576 reviews|34.5 total hours|472 lectures|          All Levels|Current price: E£...|Original price: E...|        Bestseller|             [angular]|       |\n",
      "|Java Programming ...|Tim Buchalka, Tim...|https://www.udemy...|https://img-b.ude...|Learn Java In Thi...|Rating: 4.5 out of 5|      171838 reviews|80.5 total hours|    401 lectures|  All Levels|Current price: E£...|Original price: E...|          Bestseller|  727,934 students|                [java]|    4.5|\n",
      "|React - The Compl...|Academind by Maxi...|https://www.udemy...|https://img-b.ude...|Dive in and learn...|Rating: 4.6 out of 5|      166128 reviews|49.5 total hours|    495 lectures|  All Levels|Current price: E£...|Original price: E...|          Bestseller|  649,985 students|               [react]|    4.6|\n",
      "|Machine Learning ...|Kirill Eremenko, ...|https://www.udemy...|https://img-b.ude...|Learn to create M...|Rating: 4.5 out of 5|      163104 reviews|42.5 total hours|    287 lectures|  All Levels|Current price: E£...|Original price: E...|                null|  900,823 students|           [python, r]|    4.5|\n",
      "|The Complete Java...|   Jonas Schmedtmann|https://www.udemy...|https://img-b.ude...|The modern JavaSc...|Rating: 4.7 out of 5|      156031 reviews|  69 total hours|    320 lectures|  All Levels|Current price: E£...|Original price: E...|          Bestseller|  699,335 students|                [java]|    4.7|\n",
      "|100 Days of Code:...|       Dr. Angela Yu|https://www.udemy...|https://img-b.ude...|Master Python by ...|Rating: 4.7 out of 5|      150024 reviews|  64 total hours|    676 lectures|  All Levels|Current price: E£...|Original price: E...|          Bestseller|  662,274 students|              [python]|    4.7|\n",
      "|Python for Data S...|       Jose Portilla|https://www.udemy...|https://img-b.ude...|Learn how to use ...|Rating: 4.6 out of 5|      122487 reviews|  25 total hours|    165 lectures|  All Levels|Current price: E£...|Original price: E...|          Bestseller|  588,524 students|              [python]|    4.6|\n",
      "+--------------------+--------------------+--------------------+--------------------+--------------------+--------------------+--------------------+----------------+----------------+------------+--------------------+--------------------+--------------------+------------------+----------------------+-------+\n",
      "only showing top 10 rows\n",
      "\n"
     ]
    }
   ],
   "source": [
    "# Clean the reviews_avg\n",
    "data = data.withColumn(\n",
    "    \"reviews\",\n",
    "    F.regexp_extract(F.col(\"reviews_avg\"), pattern=r\"\\d{1}\\.\\d{1}\", idx=0),\n",
    ")\n",
    "\n",
    "data.show(10)"
   ]
  },
  {
   "cell_type": "code",
   "execution_count": 11,
   "metadata": {},
   "outputs": [
    {
     "name": "stdout",
     "output_type": "stream",
     "text": [
      "+-------+\n",
      "|reviews|\n",
      "+-------+\n",
      "|    2.6|\n",
      "|    3.1|\n",
      "|    4.2|\n",
      "|    4.4|\n",
      "|    3.8|\n",
      "|    2.7|\n",
      "|    1.7|\n",
      "|    2.9|\n",
      "|    4.5|\n",
      "|   null|\n",
      "|    2.5|\n",
      "|    2.4|\n",
      "|    4.9|\n",
      "|    3.4|\n",
      "|    3.3|\n",
      "|    4.3|\n",
      "|    3.5|\n",
      "|    4.8|\n",
      "|    4.1|\n",
      "|    4.6|\n",
      "|    5.0|\n",
      "|    9.9|\n",
      "|    4.0|\n",
      "|    1.9|\n",
      "|    3.6|\n",
      "|    2.8|\n",
      "|    3.2|\n",
      "|    3.7|\n",
      "|    4.7|\n",
      "|       |\n",
      "|    3.0|\n",
      "|    2.1|\n",
      "|    3.9|\n",
      "+-------+\n",
      "\n",
      "['2.6' '3.1' '4.2' '4.4' '3.8' '2.7' '1.7' '2.9' '4.5' None '2.5' '2.4'\n",
      " '4.9' '3.4' '3.3' '4.3' '3.5' '4.8' '4.1' '4.6' '5.0' '9.9' '4.0' '1.9'\n",
      " '3.6' '2.8' '3.2' '3.7' '4.7' '' '3.0' '2.1' '3.9']\n"
     ]
    }
   ],
   "source": [
    "# Replace null/invalid values\n",
    "data.select(\"reviews\").distinct().show(50)\n",
    "\n",
    "print(data.select(\"reviews\").distinct().toPandas()[\"reviews\"].values)"
   ]
  },
  {
   "cell_type": "code",
   "execution_count": 12,
   "metadata": {},
   "outputs": [
    {
     "name": "stdout",
     "output_type": "stream",
     "text": [
      "+-------+\n",
      "|reviews|\n",
      "+-------+\n",
      "|    4.6|\n",
      "|    4.7|\n",
      "|    4.7|\n",
      "|    4.5|\n",
      "|    4.6|\n",
      "|    4.5|\n",
      "|    4.7|\n",
      "|    4.7|\n",
      "|    4.6|\n",
      "|    4.6|\n",
      "|    4.7|\n",
      "|    4.7|\n",
      "|    4.6|\n",
      "|    4.6|\n",
      "|    4.8|\n",
      "|    4.8|\n",
      "|    4.7|\n",
      "|    4.6|\n",
      "|    4.6|\n",
      "|    4.6|\n",
      "+-------+\n",
      "only showing top 20 rows\n",
      "\n"
     ]
    }
   ],
   "source": [
    "# Calculate the percentile w/o the invalid values\n",
    "df = data.alias(\"df\")\n",
    "\n",
    "df = df.select(\"reviews\").filter(~((df[\"reviews\"].isNull()) | (df[\"reviews\"] == r\"\")))\n",
    "df.show()"
   ]
  },
  {
   "cell_type": "code",
   "execution_count": 13,
   "metadata": {},
   "outputs": [
    {
     "data": {
      "text/plain": [
       "4.4"
      ]
     },
     "execution_count": 13,
     "metadata": {},
     "output_type": "execute_result"
    }
   ],
   "source": [
    "# 50th percentile. i.e 0.5%\n",
    "REPL_VALUE = df.selectExpr(\"percentile(reviews, 0.5)\").first()[0]\n",
    "REPL_VALUE"
   ]
  },
  {
   "cell_type": "code",
   "execution_count": 14,
   "metadata": {},
   "outputs": [
    {
     "name": "stdout",
     "output_type": "stream",
     "text": [
      "+--------------------+--------------------+--------------------+--------------------+--------------------+--------------------+--------------------+----------------+----------------+------------+--------------------+--------------------+--------------------+------------------+----------------------+-------+\n",
      "|         course_name|          instructor|          course url|        course image|  course description|         reviews_avg|       reviews_count| course_duration|  lectures_count|       level|price_after_discount|          main_price|         course_flag|    students_count|prog_languages_n_tools|reviews|\n",
      "+--------------------+--------------------+--------------------+--------------------+--------------------+--------------------+--------------------+----------------+----------------+------------+--------------------+--------------------+--------------------+------------------+----------------------+-------+\n",
      "|2022 Complete Pyt...|       Jose Portilla|https://www.udemy...|https://img-b.ude...|Learn Python like...|Rating: 4.6 out of 5|      440383 reviews|  22 total hours|    155 lectures|  All Levels|Current price: E£...|Original price: E...|                null|1,629,692 students|              [python]|    4.6|\n",
      "|The Web Developer...|         Colt Steele|https://www.udemy...|https://img-b.ude...|COMPLETELY REDONE...|Rating: 4.7 out of 5|      248508 reviews|  64 total hours|    615 lectures|  All Levels|Current price: E£...|Original price: E...|                null|  830,559 students|                    []|    4.7|\n",
      "|The Complete 2022...|       Dr. Angela Yu|https://www.udemy...|https://img-b.ude...|Become a Full-Sta...|Rating: 4.7 out of 5|      234837 reviews|65.5 total hours|    490 lectures|  All Levels|Current price: E£...|Original price: E...|          Bestseller|  794,897 students|                    []|    4.7|\n",
      "|Angular - The Com...|Maximilian Schwar...|https://www.udemy...|https://img-b.ude...|\"Master Angular 1...| reactive web app...|Rating: 4.6 out of 5|  174576 reviews|34.5 total hours|472 lectures|          All Levels|Current price: E£...|Original price: E...|        Bestseller|             [angular]|    4.4|\n",
      "|Java Programming ...|Tim Buchalka, Tim...|https://www.udemy...|https://img-b.ude...|Learn Java In Thi...|Rating: 4.5 out of 5|      171838 reviews|80.5 total hours|    401 lectures|  All Levels|Current price: E£...|Original price: E...|          Bestseller|  727,934 students|                [java]|    4.5|\n",
      "|React - The Compl...|Academind by Maxi...|https://www.udemy...|https://img-b.ude...|Dive in and learn...|Rating: 4.6 out of 5|      166128 reviews|49.5 total hours|    495 lectures|  All Levels|Current price: E£...|Original price: E...|          Bestseller|  649,985 students|               [react]|    4.6|\n",
      "|Machine Learning ...|Kirill Eremenko, ...|https://www.udemy...|https://img-b.ude...|Learn to create M...|Rating: 4.5 out of 5|      163104 reviews|42.5 total hours|    287 lectures|  All Levels|Current price: E£...|Original price: E...|                null|  900,823 students|           [python, r]|    4.5|\n",
      "|The Complete Java...|   Jonas Schmedtmann|https://www.udemy...|https://img-b.ude...|The modern JavaSc...|Rating: 4.7 out of 5|      156031 reviews|  69 total hours|    320 lectures|  All Levels|Current price: E£...|Original price: E...|          Bestseller|  699,335 students|                [java]|    4.7|\n",
      "|100 Days of Code:...|       Dr. Angela Yu|https://www.udemy...|https://img-b.ude...|Master Python by ...|Rating: 4.7 out of 5|      150024 reviews|  64 total hours|    676 lectures|  All Levels|Current price: E£...|Original price: E...|          Bestseller|  662,274 students|              [python]|    4.7|\n",
      "|Python for Data S...|       Jose Portilla|https://www.udemy...|https://img-b.ude...|Learn how to use ...|Rating: 4.6 out of 5|      122487 reviews|  25 total hours|    165 lectures|  All Levels|Current price: E£...|Original price: E...|          Bestseller|  588,524 students|              [python]|    4.6|\n",
      "|The Data Science ...|365 Careers, 365 ...|https://www.udemy...|https://img-b.ude...|Complete Data Sci...|Rating: 4.6 out of 5|      114535 reviews|  32 total hours|    517 lectures|  All Levels|Current price: E£...|Original price: E...|          Bestseller|  539,202 students|                    []|    4.6|\n",
      "|Automate the Bori...|         Al Sweigart|https://www.udemy...|https://img-b.ude...|A practical progr...|Rating: 4.7 out of 5|      103366 reviews| 9.5 total hours|     51 lectures|  All Levels|Current price: E£...|Original price: E...|                null|1,060,445 students|              [python]|    4.7|\n",
      "|Complete C# Unity...|GameDev.tv Team, ...|https://www.udemy...|https://img-b.ude...|Learn Unity in C#...|Rating: 4.7 out of 5|       96126 reviews|18.5 total hours|    140 lectures|  All Levels|Current price: E£...|Original price: E...|                null|  433,485 students|                  [c#]|    4.7|\n",
      "|Learn Python Prog...|Tim Buchalka, Jea...|https://www.udemy...|https://img-b.ude...|This Python For B...|Rating: 4.6 out of 5|       94413 reviews|72.5 total hours|    534 lectures|  All Levels|Current price: E£...|Original price: E...|                null|  394,722 students|              [python]|    4.6|\n",
      "|Selenium WebDrive...|        Rahul Shetty|https://www.udemy...|https://img-b.ude...|\"\"\"TOP RATED  #1 ...|Rating: 4.6 out of 5|       89742 reviews|53.5 total hours|    327 lectures|  All Levels|Current price: E£...|Original price: E...|          Bestseller|  280,503 students|                [java]|    4.6|\n",
      "|Build Responsive ...|   Jonas Schmedtmann|https://www.udemy...|https://img-b.ude...|Learn modern HTML...|Rating: 4.8 out of 5|       85094 reviews|37.5 total hours|    151 lectures|  All Levels|Current price: E£...|Original price: E...|          Bestseller|  341,962 students|           [css, html]|    4.8|\n",
      "|iOS & Swift - The...|       Dr. Angela Yu|https://www.udemy...|https://img-b.ude...|From Beginner to ...|Rating: 4.8 out of 5|       80067 reviews|60.5 total hours|    542 lectures|  All Levels|Current price: E£...|Original price: E...|          Bestseller|  311,592 students|               [swift]|    4.8|\n",
      "|Modern React with...|      Stephen Grider|https://www.udemy...|https://img-b.ude...|Master React and ...|Rating: 4.7 out of 5|       77591 reviews|52.5 total hours|    574 lectures|  All Levels|Current price: E£...|Original price: E...|          Bestseller|  275,832 students|               [react]|    4.7|\n",
      "|The Ultimate MySQ...|Colt Steele, Ian ...|https://www.udemy...|https://img-b.ude...|JUST COMPLETELY R...|Rating: 4.6 out of 5|       74438 reviews|37.5 total hours|    650 lectures|    Beginner|Current price: E£...|Original price: E...|          Bestseller|  344,881 students|             [go, sql]|    4.6|\n",
      "|The Complete Web ...|Rob Percival, Cod...|https://www.udemy...|https://img-b.ude...|Learn Web Develop...|Rating: 4.6 out of 5|       70448 reviews|28.5 total hours|    288 lectures|  All Levels|Current price: E£...|Original price: E...|                null|  304,994 students|                    []|    4.6|\n",
      "+--------------------+--------------------+--------------------+--------------------+--------------------+--------------------+--------------------+----------------+----------------+------------+--------------------+--------------------+--------------------+------------------+----------------------+-------+\n",
      "only showing top 20 rows\n",
      "\n"
     ]
    }
   ],
   "source": [
    "# Replace null/invalid values\n",
    "data = data.withColumn(\n",
    "    \"reviews\",\n",
    "    F.when(F.col(\"reviews\").isNull(), REPL_VALUE)\n",
    "    .when(F.col(\"reviews\") == \"\", REPL_VALUE)\n",
    "    .otherwise(F.col(\"reviews\"))\n",
    "    .cast(\"double\"),\n",
    ")\n",
    "\n",
    "data.show()"
   ]
  },
  {
   "cell_type": "code",
   "execution_count": 15,
   "metadata": {},
   "outputs": [
    {
     "name": "stdout",
     "output_type": "stream",
     "text": [
      "+-------+\n",
      "|reviews|\n",
      "+-------+\n",
      "+-------+\n",
      "\n"
     ]
    }
   ],
   "source": [
    "# Verify!\n",
    "data.select(\"reviews\").filter(data.reviews.isNull()).show()"
   ]
  },
  {
   "cell_type": "code",
   "execution_count": 16,
   "metadata": {},
   "outputs": [
    {
     "name": "stdout",
     "output_type": "stream",
     "text": [
      "13779.0\n",
      "+--------------------+--------------------+--------------------+--------------------+--------------------+--------------------+--------------------+----------------+----------------+------------+--------------------+--------------------+--------------------+------------------+----------------------+-------+-----------+\n",
      "|         course_name|          instructor|          course url|        course image|  course description|         reviews_avg|       reviews_count| course_duration|  lectures_count|       level|price_after_discount|          main_price|         course_flag|    students_count|prog_languages_n_tools|reviews|num_reviews|\n",
      "+--------------------+--------------------+--------------------+--------------------+--------------------+--------------------+--------------------+----------------+----------------+------------+--------------------+--------------------+--------------------+------------------+----------------------+-------+-----------+\n",
      "|2022 Complete Pyt...|       Jose Portilla|https://www.udemy...|https://img-b.ude...|Learn Python like...|Rating: 4.6 out of 5|      440383 reviews|  22 total hours|    155 lectures|  All Levels|Current price: E£...|Original price: E...|                null|1,629,692 students|              [python]|    4.6|     440383|\n",
      "|The Web Developer...|         Colt Steele|https://www.udemy...|https://img-b.ude...|COMPLETELY REDONE...|Rating: 4.7 out of 5|      248508 reviews|  64 total hours|    615 lectures|  All Levels|Current price: E£...|Original price: E...|                null|  830,559 students|                    []|    4.7|     248508|\n",
      "|The Complete 2022...|       Dr. Angela Yu|https://www.udemy...|https://img-b.ude...|Become a Full-Sta...|Rating: 4.7 out of 5|      234837 reviews|65.5 total hours|    490 lectures|  All Levels|Current price: E£...|Original price: E...|          Bestseller|  794,897 students|                    []|    4.7|     234837|\n",
      "|Angular - The Com...|Maximilian Schwar...|https://www.udemy...|https://img-b.ude...|\"Master Angular 1...| reactive web app...|Rating: 4.6 out of 5|  174576 reviews|34.5 total hours|472 lectures|          All Levels|Current price: E£...|Original price: E...|        Bestseller|             [angular]|    4.4|      13779|\n",
      "|Java Programming ...|Tim Buchalka, Tim...|https://www.udemy...|https://img-b.ude...|Learn Java In Thi...|Rating: 4.5 out of 5|      171838 reviews|80.5 total hours|    401 lectures|  All Levels|Current price: E£...|Original price: E...|          Bestseller|  727,934 students|                [java]|    4.5|     171838|\n",
      "|React - The Compl...|Academind by Maxi...|https://www.udemy...|https://img-b.ude...|Dive in and learn...|Rating: 4.6 out of 5|      166128 reviews|49.5 total hours|    495 lectures|  All Levels|Current price: E£...|Original price: E...|          Bestseller|  649,985 students|               [react]|    4.6|     166128|\n",
      "|Machine Learning ...|Kirill Eremenko, ...|https://www.udemy...|https://img-b.ude...|Learn to create M...|Rating: 4.5 out of 5|      163104 reviews|42.5 total hours|    287 lectures|  All Levels|Current price: E£...|Original price: E...|                null|  900,823 students|           [python, r]|    4.5|     163104|\n",
      "|The Complete Java...|   Jonas Schmedtmann|https://www.udemy...|https://img-b.ude...|The modern JavaSc...|Rating: 4.7 out of 5|      156031 reviews|  69 total hours|    320 lectures|  All Levels|Current price: E£...|Original price: E...|          Bestseller|  699,335 students|                [java]|    4.7|     156031|\n",
      "|100 Days of Code:...|       Dr. Angela Yu|https://www.udemy...|https://img-b.ude...|Master Python by ...|Rating: 4.7 out of 5|      150024 reviews|  64 total hours|    676 lectures|  All Levels|Current price: E£...|Original price: E...|          Bestseller|  662,274 students|              [python]|    4.7|     150024|\n",
      "|Python for Data S...|       Jose Portilla|https://www.udemy...|https://img-b.ude...|Learn how to use ...|Rating: 4.6 out of 5|      122487 reviews|  25 total hours|    165 lectures|  All Levels|Current price: E£...|Original price: E...|          Bestseller|  588,524 students|              [python]|    4.6|     122487|\n",
      "+--------------------+--------------------+--------------------+--------------------+--------------------+--------------------+--------------------+----------------+----------------+------------+--------------------+--------------------+--------------------+------------------+----------------------+-------+-----------+\n",
      "only showing top 10 rows\n",
      "\n"
     ]
    }
   ],
   "source": [
    "# Clean reviews_count\n",
    "data = data.withColumn(\n",
    "    \"num_reviews\",\n",
    "    F.regexp_extract(F.col(\"reviews_count\"), pattern=r\"\\d{4,10}\", idx=0),\n",
    ")\n",
    "\n",
    "\n",
    "# 90th percentile. i.e 0.9%\n",
    "REPL_VALUE = data.selectExpr(\"round(percentile(num_reviews, 0.9), 0)\").first()[0]\n",
    "print(REPL_VALUE)\n",
    "\n",
    "# Replace null/invalid values\n",
    "data = data.withColumn(\n",
    "    \"num_reviews\",\n",
    "    F.when(F.col(\"num_reviews\").isNull(), REPL_VALUE)\n",
    "    .when(F.col(\"num_reviews\") == \"\", REPL_VALUE)\n",
    "    .otherwise(F.col(\"num_reviews\"))\n",
    "    .cast(\"int\"),\n",
    ")\n",
    "\n",
    "data.show(10)"
   ]
  },
  {
   "cell_type": "code",
   "execution_count": 17,
   "metadata": {},
   "outputs": [
    {
     "name": "stdout",
     "output_type": "stream",
     "text": [
      "+-----------+\n",
      "|num_reviews|\n",
      "+-----------+\n",
      "+-----------+\n",
      "\n"
     ]
    }
   ],
   "source": [
    "# Verify!\n",
    "data.select(\"num_reviews\").filter(data.reviews.isNull()).show()"
   ]
  },
  {
   "cell_type": "markdown",
   "metadata": {},
   "source": [
    "### To Do\n",
    "\n",
    "```text\n",
    "- Clean the following columns:\n",
    "    - `course_duration`.\n",
    "    - `lectures_count`.\n",
    "```"
   ]
  },
  {
   "cell_type": "code",
   "execution_count": 18,
   "metadata": {},
   "outputs": [
    {
     "name": "stdout",
     "output_type": "stream",
     "text": [
      "+--------------------+--------------------+--------------------+--------------------+--------------------+--------------------+--------------------+----------------+----------------+------------+--------------------+--------------------+--------------------+------------------+----------------------+-------+-----------+\n",
      "|         course_name|          instructor|          course url|        course image|  course description|         reviews_avg|       reviews_count| course_duration|  lectures_count|       level|price_after_discount|          main_price|         course_flag|    students_count|prog_languages_n_tools|reviews|num_reviews|\n",
      "+--------------------+--------------------+--------------------+--------------------+--------------------+--------------------+--------------------+----------------+----------------+------------+--------------------+--------------------+--------------------+------------------+----------------------+-------+-----------+\n",
      "|2022 Complete Pyt...|       Jose Portilla|https://www.udemy...|https://img-b.ude...|Learn Python like...|Rating: 4.6 out of 5|      440383 reviews|  22 total hours|    155 lectures|  All Levels|Current price: E£...|Original price: E...|                null|1,629,692 students|              [python]|    4.6|     440383|\n",
      "|The Web Developer...|         Colt Steele|https://www.udemy...|https://img-b.ude...|COMPLETELY REDONE...|Rating: 4.7 out of 5|      248508 reviews|  64 total hours|    615 lectures|  All Levels|Current price: E£...|Original price: E...|                null|  830,559 students|                    []|    4.7|     248508|\n",
      "|The Complete 2022...|       Dr. Angela Yu|https://www.udemy...|https://img-b.ude...|Become a Full-Sta...|Rating: 4.7 out of 5|      234837 reviews|65.5 total hours|    490 lectures|  All Levels|Current price: E£...|Original price: E...|          Bestseller|  794,897 students|                    []|    4.7|     234837|\n",
      "|Angular - The Com...|Maximilian Schwar...|https://www.udemy...|https://img-b.ude...|\"Master Angular 1...| reactive web app...|Rating: 4.6 out of 5|  174576 reviews|34.5 total hours|472 lectures|          All Levels|Current price: E£...|Original price: E...|        Bestseller|             [angular]|    4.4|      13779|\n",
      "|Java Programming ...|Tim Buchalka, Tim...|https://www.udemy...|https://img-b.ude...|Learn Java In Thi...|Rating: 4.5 out of 5|      171838 reviews|80.5 total hours|    401 lectures|  All Levels|Current price: E£...|Original price: E...|          Bestseller|  727,934 students|                [java]|    4.5|     171838|\n",
      "+--------------------+--------------------+--------------------+--------------------+--------------------+--------------------+--------------------+----------------+----------------+------------+--------------------+--------------------+--------------------+------------------+----------------------+-------+-----------+\n",
      "only showing top 5 rows\n",
      "\n"
     ]
    }
   ],
   "source": [
    "data.show(5)"
   ]
  },
  {
   "cell_type": "code",
   "execution_count": 19,
   "metadata": {},
   "outputs": [
    {
     "name": "stdout",
     "output_type": "stream",
     "text": [
      "+--------------------+--------------------+--------------------+--------------------+--------------------+--------------------+--------------------+----------------+----------------+------------+--------------------+--------------------+--------------------+------------------+----------------------+-------+-----------+-------------------+\n",
      "|         course_name|          instructor|          course url|        course image|  course description|         reviews_avg|       reviews_count| course_duration|  lectures_count|       level|price_after_discount|          main_price|         course_flag|    students_count|prog_languages_n_tools|reviews|num_reviews|course_duration_hrs|\n",
      "+--------------------+--------------------+--------------------+--------------------+--------------------+--------------------+--------------------+----------------+----------------+------------+--------------------+--------------------+--------------------+------------------+----------------------+-------+-----------+-------------------+\n",
      "|2022 Complete Pyt...|       Jose Portilla|https://www.udemy...|https://img-b.ude...|Learn Python like...|Rating: 4.6 out of 5|      440383 reviews|  22 total hours|    155 lectures|  All Levels|Current price: E£...|Original price: E...|                null|1,629,692 students|              [python]|    4.6|     440383|               22.0|\n",
      "|The Web Developer...|         Colt Steele|https://www.udemy...|https://img-b.ude...|COMPLETELY REDONE...|Rating: 4.7 out of 5|      248508 reviews|  64 total hours|    615 lectures|  All Levels|Current price: E£...|Original price: E...|                null|  830,559 students|                    []|    4.7|     248508|               64.0|\n",
      "|The Complete 2022...|       Dr. Angela Yu|https://www.udemy...|https://img-b.ude...|Become a Full-Sta...|Rating: 4.7 out of 5|      234837 reviews|65.5 total hours|    490 lectures|  All Levels|Current price: E£...|Original price: E...|          Bestseller|  794,897 students|                    []|    4.7|     234837|               65.5|\n",
      "|Angular - The Com...|Maximilian Schwar...|https://www.udemy...|https://img-b.ude...|\"Master Angular 1...| reactive web app...|Rating: 4.6 out of 5|  174576 reviews|34.5 total hours|472 lectures|          All Levels|Current price: E£...|Original price: E...|        Bestseller|             [angular]|    4.4|      13779|               15.0|\n",
      "|Java Programming ...|Tim Buchalka, Tim...|https://www.udemy...|https://img-b.ude...|Learn Java In Thi...|Rating: 4.5 out of 5|      171838 reviews|80.5 total hours|    401 lectures|  All Levels|Current price: E£...|Original price: E...|          Bestseller|  727,934 students|                [java]|    4.5|     171838|               80.5|\n",
      "|React - The Compl...|Academind by Maxi...|https://www.udemy...|https://img-b.ude...|Dive in and learn...|Rating: 4.6 out of 5|      166128 reviews|49.5 total hours|    495 lectures|  All Levels|Current price: E£...|Original price: E...|          Bestseller|  649,985 students|               [react]|    4.6|     166128|               49.5|\n",
      "|Machine Learning ...|Kirill Eremenko, ...|https://www.udemy...|https://img-b.ude...|Learn to create M...|Rating: 4.5 out of 5|      163104 reviews|42.5 total hours|    287 lectures|  All Levels|Current price: E£...|Original price: E...|                null|  900,823 students|           [python, r]|    4.5|     163104|               42.5|\n",
      "|The Complete Java...|   Jonas Schmedtmann|https://www.udemy...|https://img-b.ude...|The modern JavaSc...|Rating: 4.7 out of 5|      156031 reviews|  69 total hours|    320 lectures|  All Levels|Current price: E£...|Original price: E...|          Bestseller|  699,335 students|                [java]|    4.7|     156031|               69.0|\n",
      "|100 Days of Code:...|       Dr. Angela Yu|https://www.udemy...|https://img-b.ude...|Master Python by ...|Rating: 4.7 out of 5|      150024 reviews|  64 total hours|    676 lectures|  All Levels|Current price: E£...|Original price: E...|          Bestseller|  662,274 students|              [python]|    4.7|     150024|               64.0|\n",
      "|Python for Data S...|       Jose Portilla|https://www.udemy...|https://img-b.ude...|Learn how to use ...|Rating: 4.6 out of 5|      122487 reviews|  25 total hours|    165 lectures|  All Levels|Current price: E£...|Original price: E...|          Bestseller|  588,524 students|              [python]|    4.6|     122487|               25.0|\n",
      "|The Data Science ...|365 Careers, 365 ...|https://www.udemy...|https://img-b.ude...|Complete Data Sci...|Rating: 4.6 out of 5|      114535 reviews|  32 total hours|    517 lectures|  All Levels|Current price: E£...|Original price: E...|          Bestseller|  539,202 students|                    []|    4.6|     114535|               32.0|\n",
      "|Automate the Bori...|         Al Sweigart|https://www.udemy...|https://img-b.ude...|A practical progr...|Rating: 4.7 out of 5|      103366 reviews| 9.5 total hours|     51 lectures|  All Levels|Current price: E£...|Original price: E...|                null|1,060,445 students|              [python]|    4.7|     103366|                9.5|\n",
      "|Complete C# Unity...|GameDev.tv Team, ...|https://www.udemy...|https://img-b.ude...|Learn Unity in C#...|Rating: 4.7 out of 5|       96126 reviews|18.5 total hours|    140 lectures|  All Levels|Current price: E£...|Original price: E...|                null|  433,485 students|                  [c#]|    4.7|      96126|               18.5|\n",
      "|Learn Python Prog...|Tim Buchalka, Jea...|https://www.udemy...|https://img-b.ude...|This Python For B...|Rating: 4.6 out of 5|       94413 reviews|72.5 total hours|    534 lectures|  All Levels|Current price: E£...|Original price: E...|                null|  394,722 students|              [python]|    4.6|      94413|               72.5|\n",
      "|Selenium WebDrive...|        Rahul Shetty|https://www.udemy...|https://img-b.ude...|\"\"\"TOP RATED  #1 ...|Rating: 4.6 out of 5|       89742 reviews|53.5 total hours|    327 lectures|  All Levels|Current price: E£...|Original price: E...|          Bestseller|  280,503 students|                [java]|    4.6|      89742|               53.5|\n",
      "|Build Responsive ...|   Jonas Schmedtmann|https://www.udemy...|https://img-b.ude...|Learn modern HTML...|Rating: 4.8 out of 5|       85094 reviews|37.5 total hours|    151 lectures|  All Levels|Current price: E£...|Original price: E...|          Bestseller|  341,962 students|           [css, html]|    4.8|      85094|               37.5|\n",
      "|iOS & Swift - The...|       Dr. Angela Yu|https://www.udemy...|https://img-b.ude...|From Beginner to ...|Rating: 4.8 out of 5|       80067 reviews|60.5 total hours|    542 lectures|  All Levels|Current price: E£...|Original price: E...|          Bestseller|  311,592 students|               [swift]|    4.8|      80067|               60.5|\n",
      "|Modern React with...|      Stephen Grider|https://www.udemy...|https://img-b.ude...|Master React and ...|Rating: 4.7 out of 5|       77591 reviews|52.5 total hours|    574 lectures|  All Levels|Current price: E£...|Original price: E...|          Bestseller|  275,832 students|               [react]|    4.7|      77591|               52.5|\n",
      "|The Ultimate MySQ...|Colt Steele, Ian ...|https://www.udemy...|https://img-b.ude...|JUST COMPLETELY R...|Rating: 4.6 out of 5|       74438 reviews|37.5 total hours|    650 lectures|    Beginner|Current price: E£...|Original price: E...|          Bestseller|  344,881 students|             [go, sql]|    4.6|      74438|               37.5|\n",
      "|The Complete Web ...|Rob Percival, Cod...|https://www.udemy...|https://img-b.ude...|Learn Web Develop...|Rating: 4.6 out of 5|       70448 reviews|28.5 total hours|    288 lectures|  All Levels|Current price: E£...|Original price: E...|                null|  304,994 students|                    []|    4.6|      70448|               28.5|\n",
      "+--------------------+--------------------+--------------------+--------------------+--------------------+--------------------+--------------------+----------------+----------------+------------+--------------------+--------------------+--------------------+------------------+----------------------+-------+-----------+-------------------+\n",
      "only showing top 20 rows\n",
      "\n"
     ]
    }
   ],
   "source": [
    "# Course duration and lectures count\n",
    "DURATION_THRESH = 100  # hours\n",
    "DURATION_REPL_VALUE = 15  # hours\n",
    "LECTURES_COUNT_VALUE = 20\n",
    "\n",
    "data = data.withColumn(\n",
    "    \"course_duration_hrs\",\n",
    "    F.regexp_extract(F.col(\"course_duration\"), pattern=r\"\\d{1,3}\\.?\\d{1,2}\", idx=0),\n",
    ").withColumn(\n",
    "    \"course_duration_hrs\",\n",
    "    F.when(F.col(\"course_duration_hrs\") > DURATION_THRESH, DURATION_REPL_VALUE)\n",
    "    .otherwise(F.col(\"course_duration_hrs\"))\n",
    "    .cast(\"double\"),\n",
    ")\n",
    "\n",
    "data.show()"
   ]
  },
  {
   "cell_type": "code",
   "execution_count": 20,
   "metadata": {},
   "outputs": [
    {
     "name": "stdout",
     "output_type": "stream",
     "text": [
      "+--------------------+--------------------+--------------------+--------------------+--------------------+--------------------+--------------------+----------------+----------------+------------+--------------------+--------------------+--------------------+------------------+----------------------+-------+-----------+-------------------+------------+\n",
      "|         course_name|          instructor|          course url|        course image|  course description|         reviews_avg|       reviews_count| course_duration|  lectures_count|       level|price_after_discount|          main_price|         course_flag|    students_count|prog_languages_n_tools|reviews|num_reviews|course_duration_hrs|num_lectures|\n",
      "+--------------------+--------------------+--------------------+--------------------+--------------------+--------------------+--------------------+----------------+----------------+------------+--------------------+--------------------+--------------------+------------------+----------------------+-------+-----------+-------------------+------------+\n",
      "|2022 Complete Pyt...|       Jose Portilla|https://www.udemy...|https://img-b.ude...|Learn Python like...|Rating: 4.6 out of 5|      440383 reviews|  22 total hours|    155 lectures|  All Levels|Current price: E£...|Original price: E...|                null|1,629,692 students|              [python]|    4.6|     440383|               22.0|         155|\n",
      "|The Web Developer...|         Colt Steele|https://www.udemy...|https://img-b.ude...|COMPLETELY REDONE...|Rating: 4.7 out of 5|      248508 reviews|  64 total hours|    615 lectures|  All Levels|Current price: E£...|Original price: E...|                null|  830,559 students|                    []|    4.7|     248508|               64.0|         615|\n",
      "|The Complete 2022...|       Dr. Angela Yu|https://www.udemy...|https://img-b.ude...|Become a Full-Sta...|Rating: 4.7 out of 5|      234837 reviews|65.5 total hours|    490 lectures|  All Levels|Current price: E£...|Original price: E...|          Bestseller|  794,897 students|                    []|    4.7|     234837|               65.5|         490|\n",
      "|Angular - The Com...|Maximilian Schwar...|https://www.udemy...|https://img-b.ude...|\"Master Angular 1...| reactive web app...|Rating: 4.6 out of 5|  174576 reviews|34.5 total hours|472 lectures|          All Levels|Current price: E£...|Original price: E...|        Bestseller|             [angular]|    4.4|      13779|               15.0|          20|\n",
      "|Java Programming ...|Tim Buchalka, Tim...|https://www.udemy...|https://img-b.ude...|Learn Java In Thi...|Rating: 4.5 out of 5|      171838 reviews|80.5 total hours|    401 lectures|  All Levels|Current price: E£...|Original price: E...|          Bestseller|  727,934 students|                [java]|    4.5|     171838|               80.5|         401|\n",
      "|React - The Compl...|Academind by Maxi...|https://www.udemy...|https://img-b.ude...|Dive in and learn...|Rating: 4.6 out of 5|      166128 reviews|49.5 total hours|    495 lectures|  All Levels|Current price: E£...|Original price: E...|          Bestseller|  649,985 students|               [react]|    4.6|     166128|               49.5|         495|\n",
      "|Machine Learning ...|Kirill Eremenko, ...|https://www.udemy...|https://img-b.ude...|Learn to create M...|Rating: 4.5 out of 5|      163104 reviews|42.5 total hours|    287 lectures|  All Levels|Current price: E£...|Original price: E...|                null|  900,823 students|           [python, r]|    4.5|     163104|               42.5|         287|\n",
      "|The Complete Java...|   Jonas Schmedtmann|https://www.udemy...|https://img-b.ude...|The modern JavaSc...|Rating: 4.7 out of 5|      156031 reviews|  69 total hours|    320 lectures|  All Levels|Current price: E£...|Original price: E...|          Bestseller|  699,335 students|                [java]|    4.7|     156031|               69.0|         320|\n",
      "|100 Days of Code:...|       Dr. Angela Yu|https://www.udemy...|https://img-b.ude...|Master Python by ...|Rating: 4.7 out of 5|      150024 reviews|  64 total hours|    676 lectures|  All Levels|Current price: E£...|Original price: E...|          Bestseller|  662,274 students|              [python]|    4.7|     150024|               64.0|         676|\n",
      "|Python for Data S...|       Jose Portilla|https://www.udemy...|https://img-b.ude...|Learn how to use ...|Rating: 4.6 out of 5|      122487 reviews|  25 total hours|    165 lectures|  All Levels|Current price: E£...|Original price: E...|          Bestseller|  588,524 students|              [python]|    4.6|     122487|               25.0|         165|\n",
      "|The Data Science ...|365 Careers, 365 ...|https://www.udemy...|https://img-b.ude...|Complete Data Sci...|Rating: 4.6 out of 5|      114535 reviews|  32 total hours|    517 lectures|  All Levels|Current price: E£...|Original price: E...|          Bestseller|  539,202 students|                    []|    4.6|     114535|               32.0|         517|\n",
      "|Automate the Bori...|         Al Sweigart|https://www.udemy...|https://img-b.ude...|A practical progr...|Rating: 4.7 out of 5|      103366 reviews| 9.5 total hours|     51 lectures|  All Levels|Current price: E£...|Original price: E...|                null|1,060,445 students|              [python]|    4.7|     103366|                9.5|          51|\n",
      "|Complete C# Unity...|GameDev.tv Team, ...|https://www.udemy...|https://img-b.ude...|Learn Unity in C#...|Rating: 4.7 out of 5|       96126 reviews|18.5 total hours|    140 lectures|  All Levels|Current price: E£...|Original price: E...|                null|  433,485 students|                  [c#]|    4.7|      96126|               18.5|         140|\n",
      "|Learn Python Prog...|Tim Buchalka, Jea...|https://www.udemy...|https://img-b.ude...|This Python For B...|Rating: 4.6 out of 5|       94413 reviews|72.5 total hours|    534 lectures|  All Levels|Current price: E£...|Original price: E...|                null|  394,722 students|              [python]|    4.6|      94413|               72.5|         534|\n",
      "|Selenium WebDrive...|        Rahul Shetty|https://www.udemy...|https://img-b.ude...|\"\"\"TOP RATED  #1 ...|Rating: 4.6 out of 5|       89742 reviews|53.5 total hours|    327 lectures|  All Levels|Current price: E£...|Original price: E...|          Bestseller|  280,503 students|                [java]|    4.6|      89742|               53.5|         327|\n",
      "|Build Responsive ...|   Jonas Schmedtmann|https://www.udemy...|https://img-b.ude...|Learn modern HTML...|Rating: 4.8 out of 5|       85094 reviews|37.5 total hours|    151 lectures|  All Levels|Current price: E£...|Original price: E...|          Bestseller|  341,962 students|           [css, html]|    4.8|      85094|               37.5|         151|\n",
      "|iOS & Swift - The...|       Dr. Angela Yu|https://www.udemy...|https://img-b.ude...|From Beginner to ...|Rating: 4.8 out of 5|       80067 reviews|60.5 total hours|    542 lectures|  All Levels|Current price: E£...|Original price: E...|          Bestseller|  311,592 students|               [swift]|    4.8|      80067|               60.5|         542|\n",
      "|Modern React with...|      Stephen Grider|https://www.udemy...|https://img-b.ude...|Master React and ...|Rating: 4.7 out of 5|       77591 reviews|52.5 total hours|    574 lectures|  All Levels|Current price: E£...|Original price: E...|          Bestseller|  275,832 students|               [react]|    4.7|      77591|               52.5|         574|\n",
      "|The Ultimate MySQ...|Colt Steele, Ian ...|https://www.udemy...|https://img-b.ude...|JUST COMPLETELY R...|Rating: 4.6 out of 5|       74438 reviews|37.5 total hours|    650 lectures|    Beginner|Current price: E£...|Original price: E...|          Bestseller|  344,881 students|             [go, sql]|    4.6|      74438|               37.5|         650|\n",
      "|The Complete Web ...|Rob Percival, Cod...|https://www.udemy...|https://img-b.ude...|Learn Web Develop...|Rating: 4.6 out of 5|       70448 reviews|28.5 total hours|    288 lectures|  All Levels|Current price: E£...|Original price: E...|                null|  304,994 students|                    []|    4.6|      70448|               28.5|         288|\n",
      "+--------------------+--------------------+--------------------+--------------------+--------------------+--------------------+--------------------+----------------+----------------+------------+--------------------+--------------------+--------------------+------------------+----------------------+-------+-----------+-------------------+------------+\n",
      "only showing top 20 rows\n",
      "\n"
     ]
    }
   ],
   "source": [
    "data = (\n",
    "    data.withColumn(\n",
    "        \"num_lectures\",\n",
    "        F.regexp_extract(F.col(\"lectures_count\"), pattern=r\"\\d{1,3}\\s?\\w{8}\", idx=0),\n",
    "    )\n",
    "    .withColumn(\n",
    "        \"num_lectures\",\n",
    "        F.regexp_extract(str=F.col(\"num_lectures\"), pattern=r\"\\d{1,3}\", idx=0),\n",
    "    )\n",
    "    .withColumn(\n",
    "        \"num_lectures\",\n",
    "        F.when(F.col(\"num_lectures\").isNull(), LECTURES_COUNT_VALUE)\n",
    "        .when(F.col(\"num_lectures\") == \"\", LECTURES_COUNT_VALUE)\n",
    "        .otherwise(F.col(\"num_lectures\"))\n",
    "        .cast(\"int\"),\n",
    "    )\n",
    ")\n",
    "\n",
    "data.show()"
   ]
  },
  {
   "cell_type": "markdown",
   "metadata": {},
   "source": [
    "### To Do\n",
    "\n",
    "```text\n",
    "- Clean the following columns:\n",
    "    - `level`.\n",
    "    - `price_after_discount` and `main_price`.\n",
    "    - `students_count`.\n",
    "```"
   ]
  },
  {
   "cell_type": "code",
   "execution_count": null,
   "metadata": {},
   "outputs": [],
   "source": []
  },
  {
   "cell_type": "code",
   "execution_count": null,
   "metadata": {},
   "outputs": [],
   "source": []
  },
  {
   "cell_type": "code",
   "execution_count": null,
   "metadata": {},
   "outputs": [],
   "source": []
  },
  {
   "cell_type": "code",
   "execution_count": null,
   "metadata": {},
   "outputs": [],
   "source": []
  },
  {
   "cell_type": "markdown",
   "metadata": {},
   "source": [
    "### To Do\n",
    "\n",
    "```text\n",
    "- Drop irrelevant columns.\n",
    "- Extract the programming languages from the course name.\n",
    "- Clean the following columns\n",
    "    - `reviews avg` \n",
    "    - `reviews_count`.\n",
    "    - `course_duration`.\n",
    "    - `lectures_count` column .\n",
    "    - `level`.\n",
    "    - `price_after_discount` and `main_price`.\n",
    "    - `students_count`.\n",
    "```"
   ]
  },
  {
   "cell_type": "code",
   "execution_count": null,
   "metadata": {},
   "outputs": [],
   "source": []
  }
 ],
 "metadata": {
  "kernelspec": {
   "display_name": "pyspark_env",
   "language": "python",
   "name": "pyspark_env"
  },
  "language_info": {
   "codemirror_mode": {
    "name": "ipython",
    "version": 3
   },
   "file_extension": ".py",
   "mimetype": "text/x-python",
   "name": "python",
   "nbconvert_exporter": "python",
   "pygments_lexer": "ipython3",
   "version": "3.9.7"
  },
  "orig_nbformat": 4
 },
 "nbformat": 4,
 "nbformat_minor": 2
}
