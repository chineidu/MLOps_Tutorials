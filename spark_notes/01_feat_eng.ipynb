{
 "cells": [
  {
   "attachments": {},
   "cell_type": "markdown",
   "metadata": {},
   "source": [
    "# EDA and Feature Engineering Using Spark"
   ]
  },
  {
   "cell_type": "code",
   "execution_count": 37,
   "metadata": {},
   "outputs": [
    {
     "name": "stdout",
     "output_type": "stream",
     "text": [
      "The lab_black extension is already loaded. To reload it, use:\n",
      "  %reload_ext lab_black\n",
      "The autoreload extension is already loaded. To reload it, use:\n",
      "  %reload_ext autoreload\n"
     ]
    }
   ],
   "source": [
    "# Built-in libraries\n",
    "import collections\n",
    "import itertools\n",
    "import re\n",
    "from typing import Any\n",
    "import json\n",
    "\n",
    "import numpy as np\n",
    "import pandas as pd\n",
    "import pyspark.sql.functions as fn\n",
    "\n",
    "\n",
    "# PySpark Modules\n",
    "from pyspark.sql import SparkSession\n",
    "import pyspark.sql.functions as func\n",
    "from pyspark.sql.types import (\n",
    "    ArrayType,\n",
    "    StringType,\n",
    "    IntegerType,\n",
    "    FloatType,\n",
    "    StructType,\n",
    "    StructField,\n",
    "    LongType,\n",
    ")\n",
    "\n",
    "\n",
    "# Black formatter (optional)\n",
    "%load_ext lab_black\n",
    "# auto reload imports\n",
    "%load_ext autoreload\n",
    "%autoreload 2"
   ]
  },
  {
   "cell_type": "code",
   "execution_count": 2,
   "metadata": {},
   "outputs": [
    {
     "name": "stderr",
     "output_type": "stream",
     "text": [
      "23/07/06 20:46:52 WARN Utils: Your hostname, Chinedus-MacBook-Pro.local resolves to a loopback address: 127.0.0.1; using 192.168.1.151 instead (on interface en0)\n",
      "23/07/06 20:46:52 WARN Utils: Set SPARK_LOCAL_IP if you need to bind to another address\n",
      "Using Spark's default log4j profile: org/apache/spark/log4j-defaults.properties\n",
      "Setting default log level to \"WARN\".\n",
      "To adjust logging level use sc.setLogLevel(newLevel). For SparkR, use setLogLevel(newLevel).\n",
      "23/07/06 20:46:53 WARN NativeCodeLoader: Unable to load native-hadoop library for your platform... using builtin-java classes where applicable\n"
     ]
    }
   ],
   "source": [
    "# Create Spark Session\n",
    "spark = SparkSession.builder.appName(\"EDA\").getOrCreate()"
   ]
  },
  {
   "cell_type": "code",
   "execution_count": 16,
   "metadata": {},
   "outputs": [
    {
     "name": "stdout",
     "output_type": "stream",
     "text": [
      "root\n",
      " |-- course_name: string (nullable = true)\n",
      " |-- instructor: string (nullable = true)\n",
      " |-- course url: string (nullable = true)\n",
      " |-- course image: string (nullable = true)\n",
      " |-- course description: string (nullable = true)\n",
      " |-- reviews_avg: string (nullable = true)\n",
      " |-- reviews_count: string (nullable = true)\n",
      " |-- course_duration: string (nullable = true)\n",
      " |-- lectures_count: string (nullable = true)\n",
      " |-- level: string (nullable = true)\n",
      " |-- price_after_discount: string (nullable = true)\n",
      " |-- main_price: string (nullable = true)\n",
      " |-- course_flag: string (nullable = true)\n",
      " |-- students_count: string (nullable = true)\n",
      " |-- _c14: string (nullable = true)\n",
      " |-- _c15: string (nullable = true)\n",
      " |-- _c16: string (nullable = true)\n",
      " |-- _c17: string (nullable = true)\n",
      "\n"
     ]
    }
   ],
   "source": [
    "# Load data\n",
    "fp = \"../data/udemy_data.csv\"\n",
    "data = spark.read.option(\"header\", \"true\").option(\"inferSchema\", \"true\").csv(fp)\n",
    "\n",
    "data.printSchema()\n"
   ]
  },
  {
   "cell_type": "code",
   "execution_count": 17,
   "metadata": {},
   "outputs": [
    {
     "data": {
      "text/plain": [
       "5027"
      ]
     },
     "execution_count": 17,
     "metadata": {},
     "output_type": "execute_result"
    }
   ],
   "source": [
    "# Data size (number of rows)\n",
    "data.count()\n"
   ]
  },
  {
   "cell_type": "code",
   "execution_count": 18,
   "metadata": {},
   "outputs": [
    {
     "name": "stdout",
     "output_type": "stream",
     "text": [
      "+---------------------------------------------------------+------------------------------------------------------+------------------------------------------------------------+------------------------------------------------------------+------------------------------------------------------------+----------------------------------------------------+--------------------+----------------+----------------+------------+-----------------------+--------------------------+--------------------------+------------------+----------------+----+----+----+\n",
      "|                                              course_name|                                            instructor|                                                  course url|                                                course image|                                          course description|                                         reviews_avg|       reviews_count| course_duration|  lectures_count|       level|   price_after_discount|                main_price|               course_flag|    students_count|            _c14|_c15|_c16|_c17|\n",
      "+---------------------------------------------------------+------------------------------------------------------+------------------------------------------------------------+------------------------------------------------------------+------------------------------------------------------------+----------------------------------------------------+--------------------+----------------+----------------+------------+-----------------------+--------------------------+--------------------------+------------------+----------------+----+----+----+\n",
      "|2022 Complete Python Bootcamp From Zero to Hero in Python|                                         Jose Portilla|      https://www.udemy.com/course/complete-python-bootcamp/|   https://img-b.udemycdn.com/course/240x135/567828_67d0.jpg|Learn Python like a Professional  Start from the basics a...|                                Rating: 4.6 out of 5|      440383 reviews|  22 total hours|    155 lectures|  All Levels|Current price: E£319.99|Original price: E£1,399.99|                      null|1,629,692 students|            null|null|null|null|\n",
      "|                          The Web Developer Bootcamp 2022|                                           Colt Steele|    https://www.udemy.com/course/the-web-developer-bootcamp/| https://img-b.udemycdn.com/course/240x135/625204_436a_3.jpg|COMPLETELY REDONE - The only course you need to learn web...|                                Rating: 4.7 out of 5|      248508 reviews|  64 total hours|    615 lectures|  All Levels|Current price: E£269.99|Original price: E£1,399.99|                      null|  830,559 students|            null|null|null|null|\n",
      "|               The Complete 2022 Web Development Bootcamp|                                         Dr. Angela Yu|https://www.udemy.com/course/the-complete-web-development...|https://img-b.udemycdn.com/course/240x135/1565838_e54e_16...|Become a Full-Stack Web Developer with just ONE course. H...|                                Rating: 4.7 out of 5|      234837 reviews|65.5 total hours|    490 lectures|  All Levels|Current price: E£349.99|Original price: E£1,699.99|                Bestseller|  794,897 students|            null|null|null|null|\n",
      "|              Angular - The Complete Guide (2023 Edition)|                              Maximilian Schwarzmüller|https://www.udemy.com/course/the-complete-guide-to-angula...| https://img-b.udemycdn.com/course/240x135/756150_c033_2.jpg|\"Master Angular 14 (formerly \"\"Angular 2\"\") and build awe...| reactive web apps with the successor of Angular.js\"|Rating: 4.6 out of 5|  174576 reviews|34.5 total hours|472 lectures|             All Levels|   Current price: E£319.99|Original price: E£1,599.99|        Bestseller|634,196 students|null|null|null|\n",
      "|  Java Programming Masterclass covering Java 11 & Java 17|Tim Buchalka, Tim Buchalka's Learn Programming Academy|https://www.udemy.com/course/java-the-complete-java-devel...| https://img-b.udemycdn.com/course/240x135/533682_c10c_4.jpg|Learn Java In This Course And Become a Computer Programme...|                                Rating: 4.5 out of 5|      171838 reviews|80.5 total hours|    401 lectures|  All Levels|Current price: E£349.99|  Original price: E£849.99|                Bestseller|  727,934 students|            null|null|null|null|\n",
      "+---------------------------------------------------------+------------------------------------------------------+------------------------------------------------------------+------------------------------------------------------------+------------------------------------------------------------+----------------------------------------------------+--------------------+----------------+----------------+------------+-----------------------+--------------------------+--------------------------+------------------+----------------+----+----+----+\n",
      "only showing top 5 rows\n",
      "\n"
     ]
    },
    {
     "name": "stderr",
     "output_type": "stream",
     "text": [
      "23/07/06 21:25:38 WARN CSVHeaderChecker: CSV header does not conform to the schema.\n",
      " Header: course_name, instructor, course url, course image, course description, reviews_avg, reviews_count, course_duration, lectures_count, level, price_after_discount, main_price, course_flag, students_count, , , , \n",
      " Schema: course_name, instructor, course url, course image, course description, reviews_avg, reviews_count, course_duration, lectures_count, level, price_after_discount, main_price, course_flag, students_count, _c14, _c15, _c16, _c17\n",
      "Expected: _c14 but found: \n",
      "CSV file: file:///Users/neidu/Desktop/Projects/Personal/My_Projects/MLOps_Tutorials/data/udemy_data.csv\n"
     ]
    }
   ],
   "source": [
    "data.show(5, truncate=60)\n"
   ]
  },
  {
   "cell_type": "code",
   "execution_count": 20,
   "metadata": {},
   "outputs": [
    {
     "name": "stdout",
     "output_type": "stream",
     "text": [
      "+--------------------+--------------------+--------------------+--------------------+--------------------+--------------------+--------------------+----------------+----------------+------------+--------------------+--------------------+--------------------+------------------+----------------+----+----+----+--------------------+---------+\n",
      "|         course_name|          instructor|          course url|        course image|  course description|         reviews_avg|       reviews_count| course_duration|  lectures_count|       level|price_after_discount|          main_price|         course_flag|    students_count|            _c14|_c15|_c16|_c17|            to_lower|is_python|\n",
      "+--------------------+--------------------+--------------------+--------------------+--------------------+--------------------+--------------------+----------------+----------------+------------+--------------------+--------------------+--------------------+------------------+----------------+----+----+----+--------------------+---------+\n",
      "|2022 Complete Pyt...|       Jose Portilla|https://www.udemy...|https://img-b.ude...|Learn Python like...|Rating: 4.6 out of 5|      440383 reviews|  22 total hours|    155 lectures|  All Levels|Current price: E£...|Original price: E...|                null|1,629,692 students|            null|null|null|null|2022 complete pyt...|     true|\n",
      "|The Web Developer...|         Colt Steele|https://www.udemy...|https://img-b.ude...|COMPLETELY REDONE...|Rating: 4.7 out of 5|      248508 reviews|  64 total hours|    615 lectures|  All Levels|Current price: E£...|Original price: E...|                null|  830,559 students|            null|null|null|null|the web developer...|    false|\n",
      "|The Complete 2022...|       Dr. Angela Yu|https://www.udemy...|https://img-b.ude...|Become a Full-Sta...|Rating: 4.7 out of 5|      234837 reviews|65.5 total hours|    490 lectures|  All Levels|Current price: E£...|Original price: E...|          Bestseller|  794,897 students|            null|null|null|null|the complete 2022...|    false|\n",
      "|Angular - The Com...|Maximilian Schwar...|https://www.udemy...|https://img-b.ude...|\"Master Angular 1...| reactive web app...|Rating: 4.6 out of 5|  174576 reviews|34.5 total hours|472 lectures|          All Levels|Current price: E£...|Original price: E...|        Bestseller|634,196 students|null|null|null|angular - the com...|    false|\n",
      "|Java Programming ...|Tim Buchalka, Tim...|https://www.udemy...|https://img-b.ude...|Learn Java In Thi...|Rating: 4.5 out of 5|      171838 reviews|80.5 total hours|    401 lectures|  All Levels|Current price: E£...|Original price: E...|          Bestseller|  727,934 students|            null|null|null|null|java programming ...|    false|\n",
      "+--------------------+--------------------+--------------------+--------------------+--------------------+--------------------+--------------------+----------------+----------------+------------+--------------------+--------------------+--------------------+------------------+----------------+----+----+----+--------------------+---------+\n",
      "only showing top 5 rows\n",
      "\n"
     ]
    },
    {
     "name": "stderr",
     "output_type": "stream",
     "text": [
      "23/07/06 21:26:25 WARN CSVHeaderChecker: CSV header does not conform to the schema.\n",
      " Header: course_name, instructor, course url, course image, course description, reviews_avg, reviews_count, course_duration, lectures_count, level, price_after_discount, main_price, course_flag, students_count, , , , \n",
      " Schema: course_name, instructor, course url, course image, course description, reviews_avg, reviews_count, course_duration, lectures_count, level, price_after_discount, main_price, course_flag, students_count, _c14, _c15, _c16, _c17\n",
      "Expected: _c14 but found: \n",
      "CSV file: file:///Users/neidu/Desktop/Projects/Personal/My_Projects/MLOps_Tutorials/data/udemy_data.csv\n"
     ]
    }
   ],
   "source": [
    "# Qs 1.) Check the number of courses that have Python in the course name\n",
    "COURSE = \"python\"\n",
    "\n",
    "data = data.withColumn(\"to_lower\", func.lower(func.col(\"course_name\"))).withColumn(\n",
    "    \"is_python\",\n",
    "    func.when(func.col(\"to_lower\").like(r\"%python%\"), True).otherwise(False),\n",
    ")\n",
    "data.show(5)\n"
   ]
  },
  {
   "cell_type": "code",
   "execution_count": 21,
   "metadata": {},
   "outputs": [
    {
     "data": {
      "text/plain": [
       "643"
      ]
     },
     "execution_count": 21,
     "metadata": {},
     "output_type": "execute_result"
    }
   ],
   "source": [
    "data.filter(func.col(\"is_python\") == True).count()\n"
   ]
  },
  {
   "cell_type": "code",
   "execution_count": 22,
   "metadata": {},
   "outputs": [
    {
     "name": "stdout",
     "output_type": "stream",
     "text": [
      "+------------------------------------------------------------+------------------------------------------------------------------+\n",
      "|to_lower                                                    |instructor                                                        |\n",
      "+------------------------------------------------------------+------------------------------------------------------------------+\n",
      "|2022 complete python bootcamp from zero to hero in python   |Jose Portilla                                                     |\n",
      "|the web developer bootcamp 2022                             |Colt Steele                                                       |\n",
      "|the complete 2022 web development bootcamp                  |Dr. Angela Yu                                                     |\n",
      "|angular - the complete guide (2023 edition)                 |Maximilian Schwarzmüller                                          |\n",
      "|java programming masterclass covering java 11 & java 17     |Tim Buchalka, Tim Buchalka's Learn Programming Academy            |\n",
      "|react - the complete guide (incl hooks, react router, redux)|Academind by Maximilian Schwarzmüller, Maximilian Schwarzmüller   |\n",
      "|machine learning a-z™: hands-on python & r in data science  |Kirill Eremenko, Hadelin de Ponteves, Ligency I Team, Ligency Team|\n",
      "|the complete javascript course 2023: from zero to expert!   |Jonas Schmedtmann                                                 |\n",
      "|100 days of code: the complete python pro bootcamp for 2022 |Dr. Angela Yu                                                     |\n",
      "|python for data science and machine learning bootcamp       |Jose Portilla                                                     |\n",
      "+------------------------------------------------------------+------------------------------------------------------------------+\n",
      "only showing top 10 rows\n",
      "\n"
     ]
    }
   ],
   "source": [
    "# OR\n",
    "data.select([\"to_lower\", \"instructor\"]).show(10, truncate=False)\n"
   ]
  },
  {
   "cell_type": "code",
   "execution_count": 88,
   "metadata": {},
   "outputs": [
    {
     "data": {
      "text/plain": [
       "'(\\\\br\\\\b|abap|ada|angular|asp.net|asp.net mvc|assembly|bash|c#|c\\\\+\\\\+|caffe|caffe2|cakephp|chainer|clojure|cobol|codeigniter|corenlp|crystal|css|dart|deeplearning4j|delphi|django|dockerfile|elixir|elm|ember.js|erlang|express.js|f#|flask|fortran|gluon|go|golang|groovy|h2o|hack|haskell|haxe|html|hugging face transformers|java|javascript|julia|keras|kotlin|laravel|lisp|lua|matlab|meteor|mxnet|nltk|objective-c|ocaml|perl|php|pl/sql|play|powershell|prolog|puppet|python|pytorch|racket|react|ruby|ruby on rails|rust|scala|scikit-learn|scratch|shell|spacy|spring boot|sql|struts|swift|symfony|tcl|tensorflow|theano|torch|typescript|vb.net|verilog|vue.js)'"
      ]
     },
     "execution_count": 88,
     "metadata": {},
     "output_type": "execute_result"
    }
   ],
   "source": [
    "tools = [\n",
    "    \"python\",\n",
    "    \"java\",\n",
    "    \"javascript\",\n",
    "    \"c#\",\n",
    "    \"c\\+\\+\",\n",
    "    \"ruby\",\n",
    "    \"go\",\n",
    "    \"swift\",\n",
    "    \"objective-c\",\n",
    "    \"rust\",\n",
    "    \"kotlin\",\n",
    "    \"typescript\",\n",
    "    \"scala\",\n",
    "    \"perl\",\n",
    "    \"haskell\",\n",
    "    \"lua\",\n",
    "    \"dart\",\n",
    "    \"julia\",\n",
    "    \"elixir\",\n",
    "    \"shell\",\n",
    "    \"php\",\n",
    "    \"ruby\",\n",
    "    \"sql\",\n",
    "    \"html\",\n",
    "    \"css\",\n",
    "    \"assembly\",\n",
    "    \"groovy\",\n",
    "    \"matlab\",\n",
    "    \"powershell\",\n",
    "    \"vb.net\",\n",
    "    \"f#\",\n",
    "    \"clojure\",\n",
    "    \"erlang\",\n",
    "    \"ocaml\",\n",
    "    \"bash\",\n",
    "    \"pl/sql\",\n",
    "    \"delphi\",\n",
    "    \"ada\",\n",
    "    \"lisp\",\n",
    "    \"fortran\",\n",
    "    \"prolog\",\n",
    "    \"cobol\",\n",
    "    \"scratch\",\n",
    "    \"abap\",\n",
    "    \"tcl\",\n",
    "    \"racket\",\n",
    "    \"golang\",\n",
    "    \"verilog\",\n",
    "    \"dockerfile\",\n",
    "    \"puppet\",\n",
    "    \"hack\",\n",
    "    \"rust\",\n",
    "    \"groovy\",\n",
    "    \"crystal\",\n",
    "    \"ocaml\",\n",
    "    \"racket\",\n",
    "    \"elm\",\n",
    "    \"haxe\",\n",
    "    \"typescript\",\n",
    "    \"lua\",\n",
    "    \"perl\",\n",
    "    \"elixir\",\n",
    "    \"powershell\",\n",
    "    \"scala\",\n",
    "    \"julia\",\n",
    "    \"ruby\",\n",
    "    \"go\",\n",
    "    \"erlang\",\n",
    "    \"swift\",\n",
    "    r\"\\br\\b\",\n",
    "    \"haskell\",\n",
    "    \"kotlin\",\n",
    "    \"f#\",\n",
    "    \"rust\",\n",
    "    \"dart\",\n",
    "    \"clojure\",\n",
    "    \"objective-c\",\n",
    "    \"java\",\n",
    "    \"javascript\",\n",
    "    \"python\",\n",
    "    \"django\",\n",
    "    \"ruby on rails\",\n",
    "    \"express.js\",\n",
    "    \"asp.net\",\n",
    "    \"laravel\",\n",
    "    \"flask\",\n",
    "    \"spring boot\",\n",
    "    \"vue.js\",\n",
    "    \"angular\",\n",
    "    \"react\",\n",
    "    \"ember.js\",\n",
    "    \"meteor\",\n",
    "    \"symfony\",\n",
    "    \"codeigniter\",\n",
    "    \"cakephp\",\n",
    "    \"asp.net mvc\",\n",
    "    \"play\",\n",
    "    \"struts\",\n",
    "    \"ruby on rails\",\n",
    "    \"flask\",\n",
    "    \"laravel\",\n",
    "    \"spring boot\",\n",
    "    \"django\",\n",
    "    \"express.js\",\n",
    "    \"codeigniter\",\n",
    "    \"vue.js\",\n",
    "    \"react\",\n",
    "    \"ember.js\",\n",
    "    \"meteor\",\n",
    "    \"angular\",\n",
    "    \"symfony\",\n",
    "    \"cakephp\",\n",
    "    \"play\",\n",
    "    \"asp.net mvc\",\n",
    "    \"struts\",\n",
    "    \"tensorflow\",\n",
    "    \"pytorch\",\n",
    "    \"keras\",\n",
    "    \"scikit-learn\",\n",
    "    \"caffe\",\n",
    "    \"theano\",\n",
    "    \"torch\",\n",
    "    \"mxnet\",\n",
    "    \"caffe2\",\n",
    "    \"h2o\",\n",
    "    \"deeplearning4j\",\n",
    "    \"gluon\",\n",
    "    \"chainer\",\n",
    "    \"tensorflow\",\n",
    "    \"pytorch\",\n",
    "    \"keras\",\n",
    "    \"scikit-learn\",\n",
    "    \"caffe\",\n",
    "    \"theano\",\n",
    "    \"torch\",\n",
    "    \"mxnet\",\n",
    "    \"caffe2\",\n",
    "    \"h2o\",\n",
    "    \"deeplearning4j\",\n",
    "    \"gluon\",\n",
    "    \"chainer\",\n",
    "    \"spacy\",\n",
    "    \"nltk\",\n",
    "    \"corenlp\",\n",
    "    \"hugging face transformers\",\n",
    "]\n",
    "\n",
    "# tools = [var.lower() for var in tools]\n",
    "\n",
    "PATTERN = \"(\" + \"|\".join(sorted(set(tools))) + \")\"\n",
    "PATTERN"
   ]
  },
  {
   "cell_type": "code",
   "execution_count": 99,
   "metadata": {},
   "outputs": [],
   "source": [
    "@func.udf(returnType=StringType())\n",
    "def extract_prog_language(input_: str) -> Any:\n",
    "    \"\"\"This returns a list containing the matched pattern.\"\"\"\n",
    "    pattern = PATTERN\n",
    "    result = re.compile(pattern=pattern, flags=re.I).findall(string=input_)\n",
    "    return list(set(result))"
   ]
  },
  {
   "cell_type": "code",
   "execution_count": 100,
   "metadata": {},
   "outputs": [
    {
     "ename": "TypeError",
     "evalue": "wrapper() got an unexpected keyword argument 'input_'",
     "output_type": "error",
     "traceback": [
      "\u001b[0;31m---------------------------------------------------------------------------\u001b[0m",
      "\u001b[0;31mTypeError\u001b[0m                                 Traceback (most recent call last)",
      "Cell \u001b[0;32mIn[100], line 3\u001b[0m\n\u001b[1;32m      1\u001b[0m text \u001b[39m=\u001b[39m \u001b[39m\"\u001b[39m\u001b[39mmachine learning a-z™: hands-on python & r in data science  \u001b[39m\u001b[39m\"\u001b[39m\n\u001b[0;32m----> 3\u001b[0m extract_prog_language(input_\u001b[39m=\u001b[39;49mtext)\n",
      "\u001b[0;31mTypeError\u001b[0m: wrapper() got an unexpected keyword argument 'input_'"
     ]
    }
   ],
   "source": [
    "text = \"machine learning a-z™: hands-on python & r in data science  \"\n",
    "\n",
    "extract_prog_language(input_=text)"
   ]
  },
  {
   "cell_type": "code",
   "execution_count": 101,
   "metadata": {},
   "outputs": [
    {
     "name": "stdout",
     "output_type": "stream",
     "text": [
      "+------------------------------------------------------------+-------------------------------------------------------------------------+----------------------------------------------------------------------------------------+-------------------------------------------------------------+----------------------------------------------------------------------------------------------------------------------------+----------------------------------------------------+--------------------+----------------+----------------+------------+-----------------------+--------------------------+--------------------------+------------------+----------------+----+----+----+------------------------------------------------------------+---------+-------------+\n",
      "|course_name                                                 |instructor                                                               |course url                                                                              |course image                                                 |course description                                                                                                          |reviews_avg                                         |reviews_count       |course_duration |lectures_count  |level       |price_after_discount   |main_price                |course_flag               |students_count    |_c14            |_c15|_c16|_c17|to_lower                                                    |is_python|languages    |\n",
      "+------------------------------------------------------------+-------------------------------------------------------------------------+----------------------------------------------------------------------------------------+-------------------------------------------------------------+----------------------------------------------------------------------------------------------------------------------------+----------------------------------------------------+--------------------+----------------+----------------+------------+-----------------------+--------------------------+--------------------------+------------------+----------------+----+----+----+------------------------------------------------------------+---------+-------------+\n",
      "|2022 Complete Python Bootcamp From Zero to Hero in Python   |Jose Portilla                                                            |https://www.udemy.com/course/complete-python-bootcamp/                                  |https://img-b.udemycdn.com/course/240x135/567828_67d0.jpg    |Learn Python like a Professional  Start from the basics and go all the way to creating your own applications and games      |Rating: 4.6 out of 5                                |440383 reviews      |22 total hours  |155 lectures    |All Levels  |Current price: E£319.99|Original price: E£1,399.99|null                      |1,629,692 students|null            |null|null|null|2022 complete python bootcamp from zero to hero in python   |true     |[python]     |\n",
      "|The Web Developer Bootcamp 2022                             |Colt Steele                                                              |https://www.udemy.com/course/the-web-developer-bootcamp/                                |https://img-b.udemycdn.com/course/240x135/625204_436a_3.jpg  |COMPLETELY REDONE - The only course you need to learn web development - HTML, CSS, JS, Node, and More!                      |Rating: 4.7 out of 5                                |248508 reviews      |64 total hours  |615 lectures    |All Levels  |Current price: E£269.99|Original price: E£1,399.99|null                      |830,559 students  |null            |null|null|null|the web developer bootcamp 2022                             |false    |[]           |\n",
      "|The Complete 2022 Web Development Bootcamp                  |Dr. Angela Yu                                                            |https://www.udemy.com/course/the-complete-web-development-bootcamp/                     |https://img-b.udemycdn.com/course/240x135/1565838_e54e_16.jpg|Become a Full-Stack Web Developer with just ONE course. HTML, CSS, Javascript, Node, React, MongoDB, Web3 and DApps         |Rating: 4.7 out of 5                                |234837 reviews      |65.5 total hours|490 lectures    |All Levels  |Current price: E£349.99|Original price: E£1,699.99|Bestseller                |794,897 students  |null            |null|null|null|the complete 2022 web development bootcamp                  |false    |[]           |\n",
      "|Angular - The Complete Guide (2023 Edition)                 |Maximilian Schwarzmüller                                                 |https://www.udemy.com/course/the-complete-guide-to-angular-2/                           |https://img-b.udemycdn.com/course/240x135/756150_c033_2.jpg  |\"Master Angular 14 (formerly \"\"Angular 2\"\") and build awesome                                                               | reactive web apps with the successor of Angular.js\"|Rating: 4.6 out of 5|174576 reviews  |34.5 total hours|472 lectures|All Levels             |Current price: E£319.99   |Original price: E£1,599.99|Bestseller        |634,196 students|null|null|null|angular - the complete guide (2023 edition)                 |false    |[angular]    |\n",
      "|Java Programming Masterclass covering Java 11 & Java 17     |Tim Buchalka, Tim Buchalka's Learn Programming Academy                   |https://www.udemy.com/course/java-the-complete-java-developer-course/                   |https://img-b.udemycdn.com/course/240x135/533682_c10c_4.jpg  |Learn Java In This Course And Become a Computer Programmer. Obtain valuable Core Java Skills And Java Certification         |Rating: 4.5 out of 5                                |171838 reviews      |80.5 total hours|401 lectures    |All Levels  |Current price: E£349.99|Original price: E£849.99  |Bestseller                |727,934 students  |null            |null|null|null|java programming masterclass covering java 11 & java 17     |false    |[java]       |\n",
      "|React - The Complete Guide (incl Hooks, React Router, Redux)|Academind by Maximilian Schwarzmüller, Maximilian Schwarzmüller          |https://www.udemy.com/course/react-the-complete-guide-incl-redux/                       |https://img-b.udemycdn.com/course/240x135/1362070_b9a1_2.jpg |Dive in and learn React.js from scratch! Learn Reactjs, Hooks, Redux, React Routing, Animations, Next.js and way more!      |Rating: 4.6 out of 5                                |166128 reviews      |49.5 total hours|495 lectures    |All Levels  |Current price: E£319.99|Original price: E£1,599.99|Bestseller                |649,985 students  |null            |null|null|null|react - the complete guide (incl hooks, react router, redux)|false    |[react]      |\n",
      "|Machine Learning A-Z™: Hands-On Python & R In Data Science  |Kirill Eremenko, Hadelin de Ponteves, Ligency I Team, Ligency Team       |https://www.udemy.com/course/machinelearning/                                           |https://img-b.udemycdn.com/course/240x135/950390_270f_3.jpg  |Learn to create Machine Learning Algorithms in Python and R from two Data Science experts. Code templates included.         |Rating: 4.5 out of 5                                |163104 reviews      |42.5 total hours|287 lectures    |All Levels  |Current price: E£269.99|Original price: E£1,299.99|null                      |900,823 students  |null            |null|null|null|machine learning a-z™: hands-on python & r in data science  |true     |[python, r]  |\n",
      "|The Complete JavaScript Course 2023: From Zero to Expert!   |Jonas Schmedtmann                                                        |https://www.udemy.com/course/the-complete-javascript-course/                            |https://img-b.udemycdn.com/course/240x135/851712_fc61_6.jpg  |The modern JavaScript course for everyone! Master JavaScript with projects, challenges and theory. Many courses in one!     |Rating: 4.7 out of 5                                |156031 reviews      |69 total hours  |320 lectures    |All Levels  |Current price: E£349.99|Original price: E£1,699.99|Bestseller                |699,335 students  |null            |null|null|null|the complete javascript course 2023: from zero to expert!   |false    |[java]       |\n",
      "|100 Days of Code: The Complete Python Pro Bootcamp for 2022 |Dr. Angela Yu                                                            |https://www.udemy.com/course/100-days-of-code/                                          |https://img-b.udemycdn.com/course/240x135/2776760_f176_10.jpg|Master Python by building 100 projects in 100 days. Learn data science, automation, build websites, games and apps!         |Rating: 4.7 out of 5                                |150024 reviews      |64 total hours  |676 lectures    |All Levels  |Current price: E£319.99|Original price: E£1,399.99|Bestseller                |662,274 students  |null            |null|null|null|100 days of code: the complete python pro bootcamp for 2022 |true     |[python]     |\n",
      "|Python for Data Science and Machine Learning Bootcamp       |Jose Portilla                                                            |https://www.udemy.com/course/python-for-data-science-and-machine-learning-bootcamp/     |https://img-b.udemycdn.com/course/240x135/903744_8eb2.jpg    |Learn how to use NumPy, Pandas, Seaborn , Matplotlib , Plotly , Scikit-Learn , Machine Learning, Tensorflow , and more!     |Rating: 4.6 out of 5                                |122487 reviews      |25 total hours  |165 lectures    |All Levels  |Current price: E£319.99|Original price: E£1,399.99|Bestseller                |588,524 students  |null            |null|null|null|python for data science and machine learning bootcamp       |true     |[python]     |\n",
      "|The Data Science Course 2022: Complete Data Science Bootcamp|365 Careers, 365 Careers Team                                            |https://www.udemy.com/course/the-data-science-course-complete-data-science-bootcamp/    |https://img-b.udemycdn.com/course/240x135/1754098_e0df_3.jpg |Complete Data Science Training: Mathematics, Statistics, Python, Advanced Statistics in Python, Machine & Deep Learning     |Rating: 4.6 out of 5                                |114535 reviews      |32 total hours  |517 lectures    |All Levels  |Current price: E£319.99|Original price: E£1,699.99|Bestseller                |539,202 students  |null            |null|null|null|the data science course 2022: complete data science bootcamp|false    |[]           |\n",
      "|Automate the Boring Stuff with Python Programming           |Al Sweigart                                                              |https://www.udemy.com/course/automate/                                                  |https://img-b.udemycdn.com/course/240x135/543600_64d1_4.jpg  |A practical programming course for office workers, academics, and administrators who want to improve their productivity.    |Rating: 4.7 out of 5                                |103366 reviews      |9.5 total hours |51 lectures     |All Levels  |Current price: E£319.99|Original price: E£479.99  |null                      |1,060,445 students|null            |null|null|null|automate the boring stuff with python programming           |true     |[python]     |\n",
      "|Complete C# Unity Game Developer 2D                         |GameDev.tv Team, Rick Davidson, Gary Pettie                              |https://www.udemy.com/course/unitycourse/                                               |https://img-b.udemycdn.com/course/240x135/258316_55e9_12.jpg |Learn Unity in C# & Code Your First Five 2D Video Games for Web, Mac & PC. The Tutorials Cover Tilemap                      |Rating: 4.7 out of 5                                |96126 reviews       |18.5 total hours|140 lectures    |All Levels  |Current price: E£349.99|Original price: E£1,599.99|null                      |433,485 students  |null            |null|null|null|complete c# unity game developer 2d                         |false    |[c#]         |\n",
      "|Learn Python Programming Masterclass                        |Tim Buchalka, Jean-Paul Roberts, Tim Buchalka's Learn Programming Academy|https://www.udemy.com/course/python-the-complete-python-developer-course/               |https://img-b.udemycdn.com/course/240x135/629302_8a2d_2.jpg  |This Python For Beginners Course Teaches You The Python Language  Fast.  Includes Python Online Training With Python 3      |Rating: 4.6 out of 5                                |94413 reviews       |72.5 total hours|534 lectures    |All Levels  |Current price: E£269.99|Original price: E£849.99  |null                      |394,722 students  |null            |null|null|null|learn python programming masterclass                        |true     |[python]     |\n",
      "|Selenium WebDriver with Java -Basics to Advanced+Frameworks |Rahul Shetty                                                             |https://www.udemy.com/course/selenium-real-time-examplesinterview-questions/            |https://img-b.udemycdn.com/course/240x135/354176_fe73_5.jpg  |\"\"\"TOP RATED  #1 Master SELENIUM java 4.0 (Latest) course\"\" -5 Million students learning worldWide with great collaboration\"|Rating: 4.6 out of 5                                |89742 reviews       |53.5 total hours|327 lectures    |All Levels  |Current price: E£319.99|Original price: E£1,399.99|Bestseller                |280,503 students  |null            |null|null|null|selenium webdriver with java -basics to advanced+frameworks |false    |[java]       |\n",
      "|Build Responsive Real-World Websites with HTML and CSS      |Jonas Schmedtmann                                                        |https://www.udemy.com/course/design-and-develop-a-killer-website-with-html5-and-css3/   |https://img-b.udemycdn.com/course/240x135/437398_46c3_10.jpg |Learn modern HTML5, CSS3 and web design by building a stunning website for your portfolio! Includes flexbox and CSS Grid    |Rating: 4.8 out of 5                                |85094 reviews       |37.5 total hours|151 lectures    |All Levels  |Current price: E£349.99|Original price: E£1,699.99|Bestseller                |341,962 students  |null            |null|null|null|build responsive real-world websites with html and css      |false    |[css, html]  |\n",
      "|iOS & Swift - The Complete iOS App Development Bootcamp     |Dr. Angela Yu                                                            |https://www.udemy.com/course/ios-13-app-development-bootcamp/                           |https://img-b.udemycdn.com/course/240x135/1778502_f4b9_12.jpg|From Beginner to iOS App Developer with Just One Course! Fully Updated with a Comprehensive Module Dedicated to SwiftUI!    |Rating: 4.8 out of 5                                |80067 reviews       |60.5 total hours|542 lectures    |All Levels  |Current price: E£349.99|Original price: E£1,699.99|Bestseller                |311,592 students  |null            |null|null|null|ios & swift - the complete ios app development bootcamp     |false    |[swift]      |\n",
      "|Modern React with Redux                                     |Stephen Grider                                                           |https://www.udemy.com/course/react-redux/                                               |https://img-b.udemycdn.com/course/240x135/705264_caa9_13.jpg |Master React and Redux with React Router, Webpack, and Create-React-App.  Includes Hooks!                                   |Rating: 4.7 out of 5                                |77591 reviews       |52.5 total hours|574 lectures    |All Levels  |Current price: E£319.99|Original price: E£1,399.99|Bestseller                |275,832 students  |null            |null|null|null|modern react with redux                                     |false    |[react]      |\n",
      "|The Ultimate MySQL Bootcamp: Go from SQL Beginner to Expert |Colt Steele, Ian Schoonover                                              |https://www.udemy.com/course/the-ultimate-mysql-bootcamp-go-from-sql-beginner-to-expert/|https://img-b.udemycdn.com/course/240x135/1187016_51b3.jpg   |JUST COMPLETELY REDONE!  Master SQL, Work With Complex Databases, Build Reports, and More!                                  |Rating: 4.6 out of 5                                |74438 reviews       |37.5 total hours|650 lectures    |Beginner    |Current price: E£319.99|Original price: E£1,399.99|Bestseller                |344,881 students  |null            |null|null|null|the ultimate mysql bootcamp: go from sql beginner to expert |false    |[go, sql]    |\n",
      "|The Complete Web Developer Course 2.0                       |Rob Percival, Codestars • over 2 million students worldwide!             |https://www.udemy.com/course/the-complete-web-developer-course-2/                       |https://img-b.udemycdn.com/course/240x135/764164_de03_2.jpg  |Learn Web Development by building 25 websites and mobile apps using HTML, CSS, Javascript, PHP, Python, MySQL & more!       |Rating: 4.6 out of 5                                |70448 reviews       |28.5 total hours|288 lectures    |All Levels  |Current price: E£269.99|Original price: E£1,299.99|null                      |304,994 students  |null            |null|null|null|the complete web developer course 2.0                       |false    |[]           |\n",
      "|The Complete Node.js Developer Course (3rd Edition)         |Andrew Mead, Rob Percival                                                |https://www.udemy.com/course/the-complete-nodejs-developer-course-2/                    |https://img-b.udemycdn.com/course/240x135/922484_52a1_8.jpg  |Learn Node.js by building real-world applications with Node JS, Express, MongoDB, Jest, and more!                           |Rating: 4.6 out of 5                                |67880 reviews       |35 total hours  |177 lectures    |All Levels  |Current price: E£269.99|Original price: E£629.99  |null                      |283,695 students  |null            |null|null|null|the complete node.js developer course (3rd edition)         |false    |[]           |\n",
      "|Spring & Hibernate for Beginners (includes Spring Boot)     |Chad Darby                                                               |https://www.udemy.com/course/spring-hibernate-tutorial/                                 |https://img-b.udemycdn.com/course/240x135/647428_be28_6.jpg  |Spring 5: Learn Spring 5 Core, AOP, Spring MVC, Spring Security, Spring REST, Spring Boot 2, Thymeleaf, JPA & Hibernate     |Rating: 4.6 out of 5                                |66391 reviews       |42.5 total hours|568 lectures    |All Levels  |Current price: E£349.99|Original price: E£1,699.99|Bestseller                |282,683 students  |null            |null|null|null|spring & hibernate for beginners (includes spring boot)     |false    |[spring boot]|\n",
      "|Unreal Engine 5 C++ Developer: Learn C++ & Make Video Games |Sam Pattuzzi, GameDev.tv Team, Stephen Ulibarri                          |https://www.udemy.com/course/unrealcourse/                                              |https://img-b.udemycdn.com/course/240x135/657932_c7e0_6.jpg  |Created in collaboration with Epic Games. Learn C++ from basics while making your first 5 video games in Unreal             |Rating: 4.7 out of 5                                |61325 reviews       |29.5 total hours|207 lectures    |All Levels  |Current price: E£269.99|Original price: E£1,299.99|Bestseller                |319,855 students  |null            |null|null|null|unreal engine 5 c++ developer: learn c++ & make video games |false    |[c++]        |\n",
      "|The Python Mega Course: Learn Python in 40 Days with 18 Apps|Ardit Sulce                                                              |https://www.udemy.com/course/the-python-mega-course/                                    |https://img-b.udemycdn.com/course/240x135/692188_9da7_30.jpg |New in 2022! Take the full course to become a Python programmer, or pick any project to master specific areas of Python.    |Rating: 4.6 out of 5                                |59372 reviews       |36.5 total hours|335 lectures    |All Levels  |Current price: E£319.99|Original price: E£1,399.99|null                      |279,373 students  |null            |null|null|null|the python mega course: learn python in 40 days with 18 apps|true     |[python]     |\n",
      "|C# Basics for Beginners: Learn C# Fundamentals by Coding    |Mosh Hamedani                                                            |https://www.udemy.com/course/csharp-tutorial-for-beginners/                             |https://img-b.udemycdn.com/course/240x135/382002_5d4a.jpg    |Master C# fundamentals in 6 hours - The most popular course with 50,000+ students, packed with tips and exercises!          |Rating: 4.5 out of 5                                |57641 reviews       |5.5 total hours |87 lectures     |Beginner    |Current price: E£349.99|Original price: E£1,399.99|null                      |191,563 students  |null            |null|null|null|c# basics for beginners: learn c# fundamentals by coding    |false    |[c#]         |\n",
      "|The Complete Web Developer in 2023: Zero to Mastery         |Andrei Neagoie, Zero To Mastery                                          |https://www.udemy.com/course/the-complete-web-developer-zero-to-mastery/                |https://img-b.udemycdn.com/course/240x135/1430746_2f43_10.jpg|Learn to code and become a Web Developer in 2023 with HTML, CSS, Javascript, React, Node.js, Machine Learning & more!       |Rating: 4.7 out of 5                                |57562 reviews       |38.5 total hours|399 lectures    |All Levels  |Current price: E£319.99|Original price: E£1,699.99|null                      |197,701 students  |null            |null|null|null|the complete web developer in 2023: zero to mastery         |false    |[]           |\n",
      "|Docker Mastery: with Kubernetes +Swarm from a Docker Captain|Bret Fisher, Docker Captain Program                                      |https://www.udemy.com/course/docker-mastery/                                            |https://img-b.udemycdn.com/course/240x135/1035000_c1aa_6.jpg |Build, test, deploy containers with the best mega-course on Docker, Kubernetes, Compose, Swarm and Registry using DevOps    |Rating: 4.7 out of 5                                |56703 reviews       |20 total hours  |180 lectures    |All Levels  |Current price: E£349.99|Original price: E£1,699.99|Bestseller                |280,933 students  |null            |null|null|null|docker mastery: with kubernetes +swarm from a docker captain|false    |[]           |\n",
      "|Vue - The Complete Guide (incl. Router & Composition API)   |Maximilian Schwarzmüller                                                 |https://www.udemy.com/course/vuejs-2-the-complete-guide/                                |https://img-b.udemycdn.com/course/240x135/995016_ebf4_3.jpg  |Vue.js is an awesome JavaScript Framework for building Frontend Applications! VueJS mixes the Best of Angular + React!      |Rating: 4.7 out of 5                                |56394 reviews       |32 total hours  |329 lectures    |All Levels  |Current price: E£319.99|Original price: E£1,599.99|Bestseller                |206,761 students  |null            |null|null|null|vue - the complete guide (incl. router & composition api)   |false    |[]           |\n",
      "|Flutter & Dart - The Complete Guide [2023 Edition]          |Academind by Maximilian Schwarzmüller, Maximilian Schwarzmüller          |https://www.udemy.com/course/learn-flutter-dart-to-build-ios-android-apps/              |https://img-b.udemycdn.com/course/240x135/1708340_7108_5.jpg |A Complete Guide to the Flutter SDK & Flutter Framework for building native iOS and Android apps                            |Rating: 4.6 out of 5                                |54299 reviews       |42.5 total hours|378 lectures    |All Levels  |Current price: E£319.99|Original price: E£1,599.99|Bestseller                |216,495 students  |null            |null|null|null|flutter & dart - the complete guide [2023 edition]          |false    |[dart]       |\n",
      "|Beginning C++ Programming - From Beginner to Beyond         |Tim Buchalka's Learn Programming Academy, Dr. Frank Mitropoulos          |https://www.udemy.com/course/beginning-c-plus-plus-programming/                         |https://img-b.udemycdn.com/course/240x135/1576854_9aeb_2.jpg |Obtain Modern C++ Object-Oriented Programming (OOP) and STL skills. C++14 and C++17 covered.  C++20 info see below.         |Rating: 4.6 out of 5                                |53453 reviews       |46 total hours  |305 lectures    |All Levels  |Current price: E£349.99|Original price: E£849.99  |Bestseller                |223,168 students  |null            |null|null|null|beginning c++ programming - from beginner to beyond         |false    |[c++]        |\n",
      "+------------------------------------------------------------+-------------------------------------------------------------------------+----------------------------------------------------------------------------------------+-------------------------------------------------------------+----------------------------------------------------------------------------------------------------------------------------+----------------------------------------------------+--------------------+----------------+----------------+------------+-----------------------+--------------------------+--------------------------+------------------+----------------+----+----+----+------------------------------------------------------------+---------+-------------+\n",
      "only showing top 30 rows\n",
      "\n"
     ]
    },
    {
     "name": "stderr",
     "output_type": "stream",
     "text": [
      "23/07/06 22:02:05 WARN CSVHeaderChecker: CSV header does not conform to the schema.\n",
      " Header: course_name, instructor, course url, course image, course description, reviews_avg, reviews_count, course_duration, lectures_count, level, price_after_discount, main_price, course_flag, students_count, , , , \n",
      " Schema: course_name, instructor, course url, course image, course description, reviews_avg, reviews_count, course_duration, lectures_count, level, price_after_discount, main_price, course_flag, students_count, _c14, _c15, _c16, _c17\n",
      "Expected: _c14 but found: \n",
      "CSV file: file:///Users/neidu/Desktop/Projects/Personal/My_Projects/MLOps_Tutorials/data/udemy_data.csv\n"
     ]
    }
   ],
   "source": [
    "data.withColumn(\"languages\", extract_prog_language(func.col(\"to_lower\"))).show(\n",
    "    30, truncate=False\n",
    ")"
   ]
  },
  {
   "cell_type": "code",
   "execution_count": null,
   "metadata": {},
   "outputs": [],
   "source": []
  },
  {
   "cell_type": "code",
   "execution_count": null,
   "metadata": {},
   "outputs": [],
   "source": []
  },
  {
   "cell_type": "code",
   "execution_count": null,
   "metadata": {},
   "outputs": [],
   "source": []
  },
  {
   "cell_type": "code",
   "execution_count": null,
   "metadata": {},
   "outputs": [],
   "source": []
  }
 ],
 "metadata": {
  "kernelspec": {
   "display_name": "pyspark_env",
   "language": "python",
   "name": "pyspark_env"
  },
  "language_info": {
   "codemirror_mode": {
    "name": "ipython",
    "version": 3
   },
   "file_extension": ".py",
   "mimetype": "text/x-python",
   "name": "python",
   "nbconvert_exporter": "python",
   "pygments_lexer": "ipython3",
   "version": "3.9.7"
  },
  "orig_nbformat": 4
 },
 "nbformat": 4,
 "nbformat_minor": 2
}
