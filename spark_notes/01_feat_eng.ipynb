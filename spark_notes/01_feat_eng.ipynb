{
 "cells": [
  {
   "attachments": {},
   "cell_type": "markdown",
   "metadata": {},
   "source": [
    "# EDA and Feature Engineering Using Spark"
   ]
  },
  {
   "cell_type": "code",
   "execution_count": 1,
   "metadata": {},
   "outputs": [],
   "source": [
    "# Built-in libraries\n",
    "import collections\n",
    "import itertools\n",
    "import re\n",
    "from typing import Any\n",
    "import json\n",
    "\n",
    "import numpy as np\n",
    "import pandas as pd\n",
    "\n",
    "\n",
    "# PySpark Modules\n",
    "from pyspark.sql import SparkSession\n",
    "import pyspark.sql.functions as F\n",
    "from pyspark.sql.types import (\n",
    "    ArrayType,\n",
    "    DoubleType,\n",
    "    StringType,\n",
    "    IntegerType,\n",
    "    FloatType,\n",
    "    StructType,\n",
    "    StructField,\n",
    "    LongType,\n",
    ")\n",
    "\n",
    "# Black formatter (optional)\n",
    "%load_ext lab_black\n",
    "# auto reload imports\n",
    "%load_ext autoreload\n",
    "%autoreload 2"
   ]
  },
  {
   "cell_type": "code",
   "execution_count": 2,
   "metadata": {},
   "outputs": [
    {
     "name": "stderr",
     "output_type": "stream",
     "text": [
      "23/07/09 13:51:35 WARN Utils: Your hostname, Chinedus-MacBook-Pro.local resolves to a loopback address: 127.0.0.1; using 192.168.1.151 instead (on interface en0)\n",
      "23/07/09 13:51:35 WARN Utils: Set SPARK_LOCAL_IP if you need to bind to another address\n",
      "Using Spark's default log4j profile: org/apache/spark/log4j-defaults.properties\n",
      "Setting default log level to \"WARN\".\n",
      "To adjust logging level use sc.setLogLevel(newLevel). For SparkR, use setLogLevel(newLevel).\n",
      "23/07/09 13:51:36 WARN NativeCodeLoader: Unable to load native-hadoop library for your platform... using builtin-java classes where applicable\n"
     ]
    }
   ],
   "source": [
    "# Create Spark Session\n",
    "spark = SparkSession.builder.appName(\"EDA\").getOrCreate()"
   ]
  },
  {
   "cell_type": "code",
   "execution_count": 3,
   "metadata": {},
   "outputs": [
    {
     "name": "stdout",
     "output_type": "stream",
     "text": [
      "root\n",
      " |-- course_name: string (nullable = true)\n",
      " |-- instructor: string (nullable = true)\n",
      " |-- course url: string (nullable = true)\n",
      " |-- course image: string (nullable = true)\n",
      " |-- course description: string (nullable = true)\n",
      " |-- reviews_avg: string (nullable = true)\n",
      " |-- reviews_count: string (nullable = true)\n",
      " |-- course_duration: string (nullable = true)\n",
      " |-- lectures_count: string (nullable = true)\n",
      " |-- level: string (nullable = true)\n",
      " |-- price_after_discount: string (nullable = true)\n",
      " |-- main_price: string (nullable = true)\n",
      " |-- course_flag: string (nullable = true)\n",
      " |-- students_count: string (nullable = true)\n",
      " |-- _c14: string (nullable = true)\n",
      " |-- _c15: string (nullable = true)\n",
      " |-- _c16: string (nullable = true)\n",
      " |-- _c17: string (nullable = true)\n",
      "\n"
     ]
    }
   ],
   "source": [
    "# Load data\n",
    "fp = \"../data/udemy_data.csv\"\n",
    "raw_data = spark.read.option(\"header\", \"true\").option(\"inferSchema\", \"true\").csv(fp)\n",
    "\n",
    "raw_data.printSchema()"
   ]
  },
  {
   "cell_type": "code",
   "execution_count": 4,
   "metadata": {},
   "outputs": [
    {
     "data": {
      "text/plain": [
       "5027"
      ]
     },
     "execution_count": 4,
     "metadata": {},
     "output_type": "execute_result"
    }
   ],
   "source": [
    "# Data size (number of rows)\n",
    "raw_data.count()"
   ]
  },
  {
   "attachments": {},
   "cell_type": "markdown",
   "metadata": {},
   "source": [
    "### To Do\n",
    "\n",
    "```text\n",
    "- Drop irrelevant columns.\n",
    "- Extract the programming languages from the course name.\n",
    "- Clean the following columns\n",
    "    - `reviews avg` \n",
    "    - `reviews_count`.\n",
    "    - `course_duration`.\n",
    "    - `lectures_count` column .\n",
    "    - `level`.\n",
    "    - `price_after_discount` and `main_price`.\n",
    "    - `students_count`.\n",
    "```"
   ]
  },
  {
   "cell_type": "code",
   "execution_count": 5,
   "metadata": {},
   "outputs": [
    {
     "name": "stdout",
     "output_type": "stream",
     "text": [
      "+---------------------------------------------------------+------------------------------------------------------+------------------------------------------------------------+------------------------------------------------------------+------------------------------------------------------------+----------------------------------------------------+--------------------+----------------+----------------+------------+-----------------------+--------------------------+--------------------------+------------------+\n",
      "|                                              course_name|                                            instructor|                                                  course url|                                                course image|                                          course description|                                         reviews_avg|       reviews_count| course_duration|  lectures_count|       level|   price_after_discount|                main_price|               course_flag|    students_count|\n",
      "+---------------------------------------------------------+------------------------------------------------------+------------------------------------------------------------+------------------------------------------------------------+------------------------------------------------------------+----------------------------------------------------+--------------------+----------------+----------------+------------+-----------------------+--------------------------+--------------------------+------------------+\n",
      "|2022 Complete Python Bootcamp From Zero to Hero in Python|                                         Jose Portilla|      https://www.udemy.com/course/complete-python-bootcamp/|   https://img-b.udemycdn.com/course/240x135/567828_67d0.jpg|Learn Python like a Professional  Start from the basics a...|                                Rating: 4.6 out of 5|      440383 reviews|  22 total hours|    155 lectures|  All Levels|Current price: E£319.99|Original price: E£1,399.99|                      null|1,629,692 students|\n",
      "|                          The Web Developer Bootcamp 2022|                                           Colt Steele|    https://www.udemy.com/course/the-web-developer-bootcamp/| https://img-b.udemycdn.com/course/240x135/625204_436a_3.jpg|COMPLETELY REDONE - The only course you need to learn web...|                                Rating: 4.7 out of 5|      248508 reviews|  64 total hours|    615 lectures|  All Levels|Current price: E£269.99|Original price: E£1,399.99|                      null|  830,559 students|\n",
      "|               The Complete 2022 Web Development Bootcamp|                                         Dr. Angela Yu|https://www.udemy.com/course/the-complete-web-development...|https://img-b.udemycdn.com/course/240x135/1565838_e54e_16...|Become a Full-Stack Web Developer with just ONE course. H...|                                Rating: 4.7 out of 5|      234837 reviews|65.5 total hours|    490 lectures|  All Levels|Current price: E£349.99|Original price: E£1,699.99|                Bestseller|  794,897 students|\n",
      "|              Angular - The Complete Guide (2023 Edition)|                              Maximilian Schwarzmüller|https://www.udemy.com/course/the-complete-guide-to-angula...| https://img-b.udemycdn.com/course/240x135/756150_c033_2.jpg|\"Master Angular 14 (formerly \"\"Angular 2\"\") and build awe...| reactive web apps with the successor of Angular.js\"|Rating: 4.6 out of 5|  174576 reviews|34.5 total hours|472 lectures|             All Levels|   Current price: E£319.99|Original price: E£1,599.99|        Bestseller|\n",
      "|  Java Programming Masterclass covering Java 11 & Java 17|Tim Buchalka, Tim Buchalka's Learn Programming Academy|https://www.udemy.com/course/java-the-complete-java-devel...| https://img-b.udemycdn.com/course/240x135/533682_c10c_4.jpg|Learn Java In This Course And Become a Computer Programme...|                                Rating: 4.5 out of 5|      171838 reviews|80.5 total hours|    401 lectures|  All Levels|Current price: E£349.99|  Original price: E£849.99|                Bestseller|  727,934 students|\n",
      "+---------------------------------------------------------+------------------------------------------------------+------------------------------------------------------------+------------------------------------------------------------+------------------------------------------------------------+----------------------------------------------------+--------------------+----------------+----------------+------------+-----------------------+--------------------------+--------------------------+------------------+\n",
      "only showing top 5 rows\n",
      "\n"
     ]
    }
   ],
   "source": [
    "# Drop irrelevant columns\n",
    "data = raw_data.drop(\"_c14\", \"_c15\", \"_c16\", \"_c17\")\n",
    "\n",
    "data.show(5, truncate=60)"
   ]
  },
  {
   "cell_type": "markdown",
   "metadata": {},
   "source": [
    "### Extract the programming languages."
   ]
  },
  {
   "cell_type": "code",
   "execution_count": 6,
   "metadata": {},
   "outputs": [
    {
     "data": {
      "text/plain": [
       "'([r]?[e]?[s]?[t]?[\\\\-\\\\s]?api|\\\\ba[\\\\.\\\\s]?i\\\\b|\\\\bar\\\\b|\\\\br\\\\b|abap|ada|android|angular|artificial\\\\s?intelligence|asp\\\\.?\\\\s?net\\\\s?[m]?[v]?[c]?|assembly|augmented\\\\s?reality|aws|azure|bash|c#|c\\\\+\\\\+|c\\\\.?i[\\\\s\\\\-\\\\/]?[\\\\s\\\\-]?c\\\\.?d|caffe\\\\s?[2]?|cakephp|chainer|clojure|cobol|codeigniter|confluence|corenlp|crystal|css|d3[\\\\s\\\\.\\\\-]?[j]?[s]?|dart|data[\\\\s\\\\-]?vi[sz]|data\\\\s?science|database[\\\\s\\\\-]?[d]?[e]?[s]?[i]?[g]?[n]?|deep\\\\s?learning|delphi|dev[\\\\s\\\\-]?ops|django|docker|dockerfile|elastic[\\\\s\\\\-]?search|elixir|elm|ember[\\\\.\\\\s]?[j]?[s]?|erlang|express[\\\\.\\\\s]?[j]?[s]?|f#|fast\\\\s?[a]?[p]?[i]?|firebase|flask|fortran|game[\\\\s\\\\-]?\\\\w{0,10}\\\\s?dev?|gcp|git|gluon|go|golang|graph[\\\\s\\\\-]?ql|groovy|h2o|hack|haskell|haxe|html|hugging\\\\s?face\\\\s?transformers|j[\\\\s\\\\-]?query|java|javascript|jax|jenkin[s]?|jira|julia|k8s|kafka|keras|kibana|kotlin|kubernetes|laravel|lisp|lua|matlab|meteor|mxnet|nltk|node[\\\\.\\\\s]?\\\\s?[j]?[s]?|numpy|objective\\\\-?\\\\s?[c]?|ocaml|pandas|perl|php|pl\\\\s?\\\\/?sql|play|powershell|program[m]?[i]?[n]?[g]?|prolog|puppet|python|pytorch|rabbit[\\\\-\\\\s]?[m]?[q]?|racket|react|redshift|ruby|ruby\\\\s?on\\\\s?rails|rust|scala|scikit\\\\-?\\\\s?learn|scipy|scratch|shell|software\\\\s?arch[i]?[t]?[e]?[c]?[t]?[u]?[r]?[e]?|spacy|spark|spring\\\\s?[b][o]?[o]?[t]?|sql|struts|swift|symfony|tcl|tensorflow|terraform|theano|torch|typescript|vb.net|verilog|vue[\\\\.\\\\s]?[j]?[s]?|web\\\\s?[d]?[e]?[v]?|word[\\\\s\\\\-]?[p][r]?[e]?[s]?[s]?)'"
      ]
     },
     "execution_count": 6,
     "metadata": {},
     "output_type": "execute_result"
    }
   ],
   "source": [
    "tools = [\n",
    "    r\"\\br\\b\",\n",
    "    \"abap\",\n",
    "    \"ada\",\n",
    "    r\"\\ba[\\.\\s]?i\\b\",\n",
    "    \"android\",\n",
    "    \"angular\",\n",
    "    r\"artificial\\s?intelligence\",\n",
    "    r\"asp\\.?\\s?net\\s?[m]?[v]?[c]?\",\n",
    "    r\"\\bar\\b\",\n",
    "    \"assembly\",\n",
    "    r\"augmented\\s?reality\",\n",
    "    \"aws\",\n",
    "    \"azure\",\n",
    "    \"bash\",\n",
    "    \"c#\",\n",
    "    r\"c\\+\\+\",\n",
    "    r\"caffe\\s?[2]?\",\n",
    "    \"cakephp\",\n",
    "    \"chainer\",\n",
    "    r\"c\\.?i[\\s\\-\\/]?[\\s\\-]?c\\.?d\",\n",
    "    \"confluence\",\n",
    "    \"clojure\",\n",
    "    \"cobol\",\n",
    "    \"codeigniter\",\n",
    "    \"corenlp\",\n",
    "    \"crystal\",\n",
    "    \"css\",\n",
    "    r\"d3[\\s\\.\\-]?[j]?[s]?\",\n",
    "    r\"database[\\s\\-]?[d]?[e]?[s]?[i]?[g]?[n]?\",\n",
    "    r\"data\\s?science\",\n",
    "    r\"data[\\s\\-]?vi[sz]\",\n",
    "    \"dart\",\n",
    "    r\"deep\\s?learning\",\n",
    "    \"delphi\",\n",
    "    r\"dev[\\s\\-]?ops\",\n",
    "    \"django\",\n",
    "    \"docker\",\n",
    "    \"dockerfile\",\n",
    "    r\"elastic[\\s\\-]?search\",\n",
    "    \"elixir\",\n",
    "    \"elm\",\n",
    "    r\"ember[\\.\\s]?[j]?[s]?\",\n",
    "    \"erlang\",\n",
    "    r\"express[\\.\\s]?[j]?[s]?\",\n",
    "    \"f#\",\n",
    "    r\"fast\\s?[a]?[p]?[i]?\",\n",
    "    \"flask\",\n",
    "    \"firebase\",\n",
    "    \"fortran\",\n",
    "    r\"game[\\s\\-]?\\w{0,10}\\s?dev?\",\n",
    "    \"gcp\",\n",
    "    \"git\",\n",
    "    \"gluon\",\n",
    "    \"go\",\n",
    "    \"golang\",\n",
    "    r\"graph[\\s\\-]?ql\",\n",
    "    \"groovy\",\n",
    "    \"h2o\",\n",
    "    \"hack\",\n",
    "    \"haskell\",\n",
    "    \"haxe\",\n",
    "    \"html\",\n",
    "    r\"hugging\\s?face\\s?transformers\",\n",
    "    \"java\",\n",
    "    \"javascript\",\n",
    "    \"jax\",\n",
    "    r\"jenkin[s]?\",\n",
    "    \"jira\",\n",
    "    r\"j[\\s\\-]?query\",\n",
    "    \"julia\",\n",
    "    \"k8s\",\n",
    "    \"kafka\",\n",
    "    \"keras\",\n",
    "    \"kibana\",\n",
    "    \"kotlin\",\n",
    "    \"kubernetes\",\n",
    "    \"laravel\",\n",
    "    \"lisp\",\n",
    "    \"lua\",\n",
    "    \"matlab\",\n",
    "    \"meteor\",\n",
    "    \"mxnet\",\n",
    "    \"nltk\",\n",
    "    r\"node[\\.\\s]?\\s?[j]?[s]?\",\n",
    "    \"numpy\",\n",
    "    r\"objective\\-?\\s?[c]?\",\n",
    "    \"ocaml\",\n",
    "    \"pandas\",\n",
    "    \"perl\",\n",
    "    \"php\",\n",
    "    r\"pl\\s?\\/?sql\",\n",
    "    \"play\",\n",
    "    \"powershell\",\n",
    "    r\"program[m]?[i]?[n]?[g]?\",\n",
    "    \"prolog\",\n",
    "    \"puppet\",\n",
    "    \"python\",\n",
    "    \"pytorch\",\n",
    "    r\"rabbit[\\-\\s]?[m]?[q]?\",\n",
    "    \"racket\",\n",
    "    \"react\",\n",
    "    \"redshift\",\n",
    "    r\"[r]?[e]?[s]?[t]?[\\-\\s]?api\",\n",
    "    \"ruby\",\n",
    "    r\"ruby\\s?on\\s?rails\",\n",
    "    \"rust\",\n",
    "    \"scala\",\n",
    "    r\"scikit\\-?\\s?learn\",\n",
    "    \"scipy\",\n",
    "    \"scratch\",\n",
    "    \"shell\",\n",
    "    r\"software\\s?arch[i]?[t]?[e]?[c]?[t]?[u]?[r]?[e]?\",\n",
    "    \"spacy\",\n",
    "    \"spark\",\n",
    "    r\"spring\\s?[b][o]?[o]?[t]?\",\n",
    "    \"sql\",\n",
    "    \"struts\",\n",
    "    \"swift\",\n",
    "    \"symfony\",\n",
    "    \"tcl\",\n",
    "    \"tensorflow\",\n",
    "    \"terraform\",\n",
    "    \"theano\",\n",
    "    \"torch\",\n",
    "    \"typescript\",\n",
    "    \"vb.net\",\n",
    "    \"verilog\",\n",
    "    r\"vue[\\.\\s]?[j]?[s]?\",\n",
    "    r\"web\\s?[d]?[e]?[v]?\",\n",
    "    r\"word[\\s\\-]?[p][r]?[e]?[s]?[s]?\",\n",
    "]\n",
    "\n",
    "# tools = [var.lower() for var in tools]\n",
    "\n",
    "PATTERN = \"(\" + \"|\".join(sorted(tools)) + \")\"\n",
    "PATTERN"
   ]
  },
  {
   "cell_type": "code",
   "execution_count": 7,
   "metadata": {},
   "outputs": [],
   "source": [
    "@F.udf(returnType=StringType())\n",
    "def extract_prog_language(input_: str, pattern: str) -> Any:\n",
    "    \"\"\"This returns a list containing the matched pattern.\"\"\"\n",
    "    result = re.compile(pattern=pattern, flags=re.I).findall(string=str(input_))\n",
    "    result = [var.strip() for var in set(result)]\n",
    "    return \"|\".join(result)"
   ]
  },
  {
   "cell_type": "code",
   "execution_count": 8,
   "metadata": {},
   "outputs": [
    {
     "name": "stderr",
     "output_type": "stream",
     "text": [
      "[Stage 6:>                                                          (0 + 1) / 1]\r"
     ]
    },
    {
     "name": "stdout",
     "output_type": "stream",
     "text": [
      "+--------------------------------------------------+--------------------------------------------------+--------------------------------------------------+--------------------------------------------------+--------------------------------------------------+--------------------------------------------------+--------------------+----------------+----------------+------------+-----------------------+--------------------------+--------------------------+------------------+----------------------+\n",
      "|                                       course_name|                                        instructor|                                        course url|                                      course image|                                course description|                                       reviews_avg|       reviews_count| course_duration|  lectures_count|       level|   price_after_discount|                main_price|               course_flag|    students_count|prog_languages_n_tools|\n",
      "+--------------------------------------------------+--------------------------------------------------+--------------------------------------------------+--------------------------------------------------+--------------------------------------------------+--------------------------------------------------+--------------------+----------------+----------------+------------+-----------------------+--------------------------+--------------------------+------------------+----------------------+\n",
      "|2022 Complete Python Bootcamp From Zero to Hero...|                                     Jose Portilla|https://www.udemy.com/course/complete-python-bo...|https://img-b.udemycdn.com/course/240x135/56782...|Learn Python like a Professional  Start from th...|                              Rating: 4.6 out of 5|      440383 reviews|  22 total hours|    155 lectures|  All Levels|Current price: E£319.99|Original price: E£1,399.99|                      null|1,629,692 students|                python|\n",
      "|                   The Web Developer Bootcamp 2022|                                       Colt Steele|https://www.udemy.com/course/the-web-developer-...|https://img-b.udemycdn.com/course/240x135/62520...|COMPLETELY REDONE - The only course you need to...|                              Rating: 4.7 out of 5|      248508 reviews|  64 total hours|    615 lectures|  All Levels|Current price: E£269.99|Original price: E£1,399.99|                      null|  830,559 students|               web dev|\n",
      "|        The Complete 2022 Web Development Bootcamp|                                     Dr. Angela Yu|https://www.udemy.com/course/the-complete-web-d...|https://img-b.udemycdn.com/course/240x135/15658...|Become a Full-Stack Web Developer with just ONE...|                              Rating: 4.7 out of 5|      234837 reviews|65.5 total hours|    490 lectures|  All Levels|Current price: E£349.99|Original price: E£1,699.99|                Bestseller|  794,897 students|               web dev|\n",
      "|       Angular - The Complete Guide (2023 Edition)|                          Maximilian Schwarzmüller|https://www.udemy.com/course/the-complete-guide...|https://img-b.udemycdn.com/course/240x135/75615...|\"Master Angular 14 (formerly \"\"Angular 2\"\") and...| reactive web apps with the successor of Angula...|Rating: 4.6 out of 5|  174576 reviews|34.5 total hours|472 lectures|             All Levels|   Current price: E£319.99|Original price: E£1,599.99|        Bestseller|               angular|\n",
      "|Java Programming Masterclass covering Java 11 &...|Tim Buchalka, Tim Buchalka's Learn Programming ...|https://www.udemy.com/course/java-the-complete-...|https://img-b.udemycdn.com/course/240x135/53368...|Learn Java In This Course And Become a Computer...|                              Rating: 4.5 out of 5|      171838 reviews|80.5 total hours|    401 lectures|  All Levels|Current price: E£349.99|  Original price: E£849.99|                Bestseller|  727,934 students|      programming|java|\n",
      "|React - The Complete Guide (incl Hooks, React R...|Academind by Maximilian Schwarzmüller, Maximili...|https://www.udemy.com/course/react-the-complete...|https://img-b.udemycdn.com/course/240x135/13620...|Dive in and learn React.js from scratch! Learn ...|                              Rating: 4.6 out of 5|      166128 reviews|49.5 total hours|    495 lectures|  All Levels|Current price: E£319.99|Original price: E£1,599.99|                Bestseller|  649,985 students|                 react|\n",
      "|Machine Learning A-Z™: Hands-On Python & R In D...|Kirill Eremenko, Hadelin de Ponteves, Ligency I...|     https://www.udemy.com/course/machinelearning/|https://img-b.udemycdn.com/course/240x135/95039...|Learn to create Machine Learning Algorithms in ...|                              Rating: 4.5 out of 5|      163104 reviews|42.5 total hours|    287 lectures|  All Levels|Current price: E£269.99|Original price: E£1,299.99|                      null|  900,823 students| python|r|data science|\n",
      "|The Complete JavaScript Course 2023: From Zero ...|                                 Jonas Schmedtmann|https://www.udemy.com/course/the-complete-javas...|https://img-b.udemycdn.com/course/240x135/85171...|The modern JavaScript course for everyone! Mast...|                              Rating: 4.7 out of 5|      156031 reviews|  69 total hours|    320 lectures|  All Levels|Current price: E£349.99|Original price: E£1,699.99|                Bestseller|  699,335 students|                  java|\n",
      "|100 Days of Code: The Complete Python Pro Bootc...|                                     Dr. Angela Yu|    https://www.udemy.com/course/100-days-of-code/|https://img-b.udemycdn.com/course/240x135/27767...|Master Python by building 100 projects in 100 d...|                              Rating: 4.7 out of 5|      150024 reviews|  64 total hours|    676 lectures|  All Levels|Current price: E£319.99|Original price: E£1,399.99|                Bestseller|  662,274 students|                python|\n",
      "|Python for Data Science and Machine Learning Bo...|                                     Jose Portilla|https://www.udemy.com/course/python-for-data-sc...|https://img-b.udemycdn.com/course/240x135/90374...|Learn how to use NumPy, Pandas, Seaborn , Matpl...|                              Rating: 4.6 out of 5|      122487 reviews|  25 total hours|    165 lectures|  All Levels|Current price: E£319.99|Original price: E£1,399.99|                Bestseller|  588,524 students|   python|data science|\n",
      "+--------------------------------------------------+--------------------------------------------------+--------------------------------------------------+--------------------------------------------------+--------------------------------------------------+--------------------------------------------------+--------------------+----------------+----------------+------------+-----------------------+--------------------------+--------------------------+------------------+----------------------+\n",
      "only showing top 10 rows\n",
      "\n"
     ]
    },
    {
     "name": "stderr",
     "output_type": "stream",
     "text": [
      "                                                                                \r"
     ]
    }
   ],
   "source": [
    "data = data.withColumn(\n",
    "    \"prog_languages_n_tools\",\n",
    "    extract_prog_language(F.lower(F.col(\"course_name\")), F.lit(PATTERN)),\n",
    ")\n",
    "\n",
    "data.show(10, truncate=50)"
   ]
  },
  {
   "attachments": {},
   "cell_type": "markdown",
   "metadata": {},
   "source": [
    "### - Clean the following columns\n",
    "\n",
    "```text\n",
    "    - `reviews_avg` \n",
    "    - `reviews_count`\n",
    "```"
   ]
  },
  {
   "cell_type": "code",
   "execution_count": 9,
   "metadata": {},
   "outputs": [
    {
     "name": "stdout",
     "output_type": "stream",
     "text": [
      "+---------------------------------------------------------+------------------------------------------------------+---------------------------------------------------------------------+-------------------------------------------------------------+----------------------------------------------------------------------------------------------------------------------+----------------------------------------------------+--------------------+----------------+----------------+------------+-----------------------+--------------------------+--------------------------+------------------+----------------------+\n",
      "|course_name                                              |instructor                                            |course url                                                           |course image                                                 |course description                                                                                                    |reviews_avg                                         |reviews_count       |course_duration |lectures_count  |level       |price_after_discount   |main_price                |course_flag               |students_count    |prog_languages_n_tools|\n",
      "+---------------------------------------------------------+------------------------------------------------------+---------------------------------------------------------------------+-------------------------------------------------------------+----------------------------------------------------------------------------------------------------------------------+----------------------------------------------------+--------------------+----------------+----------------+------------+-----------------------+--------------------------+--------------------------+------------------+----------------------+\n",
      "|2022 Complete Python Bootcamp From Zero to Hero in Python|Jose Portilla                                         |https://www.udemy.com/course/complete-python-bootcamp/               |https://img-b.udemycdn.com/course/240x135/567828_67d0.jpg    |Learn Python like a Professional  Start from the basics and go all the way to creating your own applications and games|Rating: 4.6 out of 5                                |440383 reviews      |22 total hours  |155 lectures    |All Levels  |Current price: E£319.99|Original price: E£1,399.99|null                      |1,629,692 students|python                |\n",
      "|The Web Developer Bootcamp 2022                          |Colt Steele                                           |https://www.udemy.com/course/the-web-developer-bootcamp/             |https://img-b.udemycdn.com/course/240x135/625204_436a_3.jpg  |COMPLETELY REDONE - The only course you need to learn web development - HTML, CSS, JS, Node, and More!                |Rating: 4.7 out of 5                                |248508 reviews      |64 total hours  |615 lectures    |All Levels  |Current price: E£269.99|Original price: E£1,399.99|null                      |830,559 students  |web dev               |\n",
      "|The Complete 2022 Web Development Bootcamp               |Dr. Angela Yu                                         |https://www.udemy.com/course/the-complete-web-development-bootcamp/  |https://img-b.udemycdn.com/course/240x135/1565838_e54e_16.jpg|Become a Full-Stack Web Developer with just ONE course. HTML, CSS, Javascript, Node, React, MongoDB, Web3 and DApps   |Rating: 4.7 out of 5                                |234837 reviews      |65.5 total hours|490 lectures    |All Levels  |Current price: E£349.99|Original price: E£1,699.99|Bestseller                |794,897 students  |web dev               |\n",
      "|Angular - The Complete Guide (2023 Edition)              |Maximilian Schwarzmüller                              |https://www.udemy.com/course/the-complete-guide-to-angular-2/        |https://img-b.udemycdn.com/course/240x135/756150_c033_2.jpg  |\"Master Angular 14 (formerly \"\"Angular 2\"\") and build awesome                                                         | reactive web apps with the successor of Angular.js\"|Rating: 4.6 out of 5|174576 reviews  |34.5 total hours|472 lectures|All Levels             |Current price: E£319.99   |Original price: E£1,599.99|Bestseller        |angular               |\n",
      "|Java Programming Masterclass covering Java 11 & Java 17  |Tim Buchalka, Tim Buchalka's Learn Programming Academy|https://www.udemy.com/course/java-the-complete-java-developer-course/|https://img-b.udemycdn.com/course/240x135/533682_c10c_4.jpg  |Learn Java In This Course And Become a Computer Programmer. Obtain valuable Core Java Skills And Java Certification   |Rating: 4.5 out of 5                                |171838 reviews      |80.5 total hours|401 lectures    |All Levels  |Current price: E£349.99|Original price: E£849.99  |Bestseller                |727,934 students  |programming|java      |\n",
      "+---------------------------------------------------------+------------------------------------------------------+---------------------------------------------------------------------+-------------------------------------------------------------+----------------------------------------------------------------------------------------------------------------------+----------------------------------------------------+--------------------+----------------+----------------+------------+-----------------------+--------------------------+--------------------------+------------------+----------------------+\n",
      "only showing top 5 rows\n",
      "\n"
     ]
    }
   ],
   "source": [
    "data.show(5, truncate=False)"
   ]
  },
  {
   "cell_type": "code",
   "execution_count": 10,
   "metadata": {},
   "outputs": [
    {
     "name": "stdout",
     "output_type": "stream",
     "text": [
      "+--------------------+--------------------+--------------------+--------------------+--------------------+--------------------+--------------------+----------------+----------------+------------+--------------------+--------------------+--------------------+------------------+----------------------+-------+\n",
      "|         course_name|          instructor|          course url|        course image|  course description|         reviews_avg|       reviews_count| course_duration|  lectures_count|       level|price_after_discount|          main_price|         course_flag|    students_count|prog_languages_n_tools|reviews|\n",
      "+--------------------+--------------------+--------------------+--------------------+--------------------+--------------------+--------------------+----------------+----------------+------------+--------------------+--------------------+--------------------+------------------+----------------------+-------+\n",
      "|2022 Complete Pyt...|       Jose Portilla|https://www.udemy...|https://img-b.ude...|Learn Python like...|Rating: 4.6 out of 5|      440383 reviews|  22 total hours|    155 lectures|  All Levels|Current price: E£...|Original price: E...|                null|1,629,692 students|                python|    4.6|\n",
      "|The Web Developer...|         Colt Steele|https://www.udemy...|https://img-b.ude...|COMPLETELY REDONE...|Rating: 4.7 out of 5|      248508 reviews|  64 total hours|    615 lectures|  All Levels|Current price: E£...|Original price: E...|                null|  830,559 students|               web dev|    4.7|\n",
      "|The Complete 2022...|       Dr. Angela Yu|https://www.udemy...|https://img-b.ude...|Become a Full-Sta...|Rating: 4.7 out of 5|      234837 reviews|65.5 total hours|    490 lectures|  All Levels|Current price: E£...|Original price: E...|          Bestseller|  794,897 students|               web dev|    4.7|\n",
      "|Angular - The Com...|Maximilian Schwar...|https://www.udemy...|https://img-b.ude...|\"Master Angular 1...| reactive web app...|Rating: 4.6 out of 5|  174576 reviews|34.5 total hours|472 lectures|          All Levels|Current price: E£...|Original price: E...|        Bestseller|               angular|       |\n",
      "|Java Programming ...|Tim Buchalka, Tim...|https://www.udemy...|https://img-b.ude...|Learn Java In Thi...|Rating: 4.5 out of 5|      171838 reviews|80.5 total hours|    401 lectures|  All Levels|Current price: E£...|Original price: E...|          Bestseller|  727,934 students|      programming|java|    4.5|\n",
      "|React - The Compl...|Academind by Maxi...|https://www.udemy...|https://img-b.ude...|Dive in and learn...|Rating: 4.6 out of 5|      166128 reviews|49.5 total hours|    495 lectures|  All Levels|Current price: E£...|Original price: E...|          Bestseller|  649,985 students|                 react|    4.6|\n",
      "|Machine Learning ...|Kirill Eremenko, ...|https://www.udemy...|https://img-b.ude...|Learn to create M...|Rating: 4.5 out of 5|      163104 reviews|42.5 total hours|    287 lectures|  All Levels|Current price: E£...|Original price: E...|                null|  900,823 students|  python|r|data sci...|    4.5|\n",
      "|The Complete Java...|   Jonas Schmedtmann|https://www.udemy...|https://img-b.ude...|The modern JavaSc...|Rating: 4.7 out of 5|      156031 reviews|  69 total hours|    320 lectures|  All Levels|Current price: E£...|Original price: E...|          Bestseller|  699,335 students|                  java|    4.7|\n",
      "|100 Days of Code:...|       Dr. Angela Yu|https://www.udemy...|https://img-b.ude...|Master Python by ...|Rating: 4.7 out of 5|      150024 reviews|  64 total hours|    676 lectures|  All Levels|Current price: E£...|Original price: E...|          Bestseller|  662,274 students|                python|    4.7|\n",
      "|Python for Data S...|       Jose Portilla|https://www.udemy...|https://img-b.ude...|Learn how to use ...|Rating: 4.6 out of 5|      122487 reviews|  25 total hours|    165 lectures|  All Levels|Current price: E£...|Original price: E...|          Bestseller|  588,524 students|   python|data science|    4.6|\n",
      "+--------------------+--------------------+--------------------+--------------------+--------------------+--------------------+--------------------+----------------+----------------+------------+--------------------+--------------------+--------------------+------------------+----------------------+-------+\n",
      "only showing top 10 rows\n",
      "\n"
     ]
    },
    {
     "name": "stderr",
     "output_type": "stream",
     "text": [
      "                                                                                \r"
     ]
    }
   ],
   "source": [
    "# Clean the reviews_avg\n",
    "REVIEWS_PATTERN_1 = r\"\\d{1}\\.\\d{1}\"\n",
    "\n",
    "data = data.withColumn(\n",
    "    \"reviews\",\n",
    "    F.regexp_extract(F.col(\"reviews_avg\"), pattern=REVIEWS_PATTERN_1, idx=0),\n",
    ")\n",
    "\n",
    "data.show(10)"
   ]
  },
  {
   "cell_type": "code",
   "execution_count": 11,
   "metadata": {},
   "outputs": [
    {
     "name": "stdout",
     "output_type": "stream",
     "text": [
      "+-------+\n",
      "|reviews|\n",
      "+-------+\n",
      "|    2.6|\n",
      "|    3.1|\n",
      "|    4.2|\n",
      "|    4.4|\n",
      "|    3.8|\n",
      "|    2.7|\n",
      "|    1.7|\n",
      "|    2.9|\n",
      "|    4.5|\n",
      "|   null|\n",
      "|    2.5|\n",
      "|    2.4|\n",
      "|    4.9|\n",
      "|    3.4|\n",
      "|    3.3|\n",
      "|    4.3|\n",
      "|    3.5|\n",
      "|    4.8|\n",
      "|    4.1|\n",
      "|    4.6|\n",
      "|    5.0|\n",
      "|    9.9|\n",
      "|    4.0|\n",
      "|    1.9|\n",
      "|    3.6|\n",
      "|    2.8|\n",
      "|    3.2|\n",
      "|    3.7|\n",
      "|    4.7|\n",
      "|       |\n",
      "|    3.0|\n",
      "|    2.1|\n",
      "|    3.9|\n",
      "+-------+\n",
      "\n",
      "['2.6' '3.1' '4.2' '4.4' '3.8' '2.7' '1.7' '2.9' '4.5' None '2.5' '2.4'\n",
      " '4.9' '3.4' '3.3' '4.3' '3.5' '4.8' '4.1' '4.6' '5.0' '9.9' '4.0' '1.9'\n",
      " '3.6' '2.8' '3.2' '3.7' '4.7' '' '3.0' '2.1' '3.9']\n"
     ]
    }
   ],
   "source": [
    "# Replace null/invalid values\n",
    "data.select(\"reviews\").distinct().show(50)\n",
    "\n",
    "print(data.select(\"reviews\").distinct().toPandas()[\"reviews\"].values)"
   ]
  },
  {
   "cell_type": "code",
   "execution_count": 12,
   "metadata": {},
   "outputs": [
    {
     "name": "stdout",
     "output_type": "stream",
     "text": [
      "+-------+\n",
      "|reviews|\n",
      "+-------+\n",
      "|    4.6|\n",
      "|    4.7|\n",
      "|    4.7|\n",
      "|    4.5|\n",
      "|    4.6|\n",
      "|    4.5|\n",
      "|    4.7|\n",
      "|    4.7|\n",
      "|    4.6|\n",
      "|    4.6|\n",
      "|    4.7|\n",
      "|    4.7|\n",
      "|    4.6|\n",
      "|    4.6|\n",
      "|    4.8|\n",
      "|    4.8|\n",
      "|    4.7|\n",
      "|    4.6|\n",
      "|    4.6|\n",
      "|    4.6|\n",
      "+-------+\n",
      "only showing top 20 rows\n",
      "\n"
     ]
    }
   ],
   "source": [
    "# Calculate the percentile w/o the invalid values\n",
    "df = data.alias(\"df\")\n",
    "\n",
    "df = df.select(\"reviews\").filter(~((df[\"reviews\"].isNull()) | (df[\"reviews\"] == r\"\")))\n",
    "df.show()"
   ]
  },
  {
   "cell_type": "code",
   "execution_count": 13,
   "metadata": {},
   "outputs": [
    {
     "data": {
      "text/plain": [
       "4.4"
      ]
     },
     "execution_count": 13,
     "metadata": {},
     "output_type": "execute_result"
    }
   ],
   "source": [
    "# 50th percentile. i.e 0.5%\n",
    "REPL_VALUE = df.selectExpr(\"percentile(reviews, 0.5)\").first()[0]\n",
    "REPL_VALUE"
   ]
  },
  {
   "cell_type": "code",
   "execution_count": 14,
   "metadata": {},
   "outputs": [
    {
     "name": "stdout",
     "output_type": "stream",
     "text": [
      "+--------------------+--------------------+--------------------+--------------------+--------------------+--------------------+--------------------+----------------+----------------+------------+--------------------+--------------------+--------------------+------------------+----------------------+-------+\n",
      "|         course_name|          instructor|          course url|        course image|  course description|         reviews_avg|       reviews_count| course_duration|  lectures_count|       level|price_after_discount|          main_price|         course_flag|    students_count|prog_languages_n_tools|reviews|\n",
      "+--------------------+--------------------+--------------------+--------------------+--------------------+--------------------+--------------------+----------------+----------------+------------+--------------------+--------------------+--------------------+------------------+----------------------+-------+\n",
      "|2022 Complete Pyt...|       Jose Portilla|https://www.udemy...|https://img-b.ude...|Learn Python like...|Rating: 4.6 out of 5|      440383 reviews|  22 total hours|    155 lectures|  All Levels|Current price: E£...|Original price: E...|                null|1,629,692 students|                python|    4.6|\n",
      "|The Web Developer...|         Colt Steele|https://www.udemy...|https://img-b.ude...|COMPLETELY REDONE...|Rating: 4.7 out of 5|      248508 reviews|  64 total hours|    615 lectures|  All Levels|Current price: E£...|Original price: E...|                null|  830,559 students|               web dev|    4.7|\n",
      "|The Complete 2022...|       Dr. Angela Yu|https://www.udemy...|https://img-b.ude...|Become a Full-Sta...|Rating: 4.7 out of 5|      234837 reviews|65.5 total hours|    490 lectures|  All Levels|Current price: E£...|Original price: E...|          Bestseller|  794,897 students|               web dev|    4.7|\n",
      "|Angular - The Com...|Maximilian Schwar...|https://www.udemy...|https://img-b.ude...|\"Master Angular 1...| reactive web app...|Rating: 4.6 out of 5|  174576 reviews|34.5 total hours|472 lectures|          All Levels|Current price: E£...|Original price: E...|        Bestseller|               angular|    4.4|\n",
      "|Java Programming ...|Tim Buchalka, Tim...|https://www.udemy...|https://img-b.ude...|Learn Java In Thi...|Rating: 4.5 out of 5|      171838 reviews|80.5 total hours|    401 lectures|  All Levels|Current price: E£...|Original price: E...|          Bestseller|  727,934 students|      programming|java|    4.5|\n",
      "|React - The Compl...|Academind by Maxi...|https://www.udemy...|https://img-b.ude...|Dive in and learn...|Rating: 4.6 out of 5|      166128 reviews|49.5 total hours|    495 lectures|  All Levels|Current price: E£...|Original price: E...|          Bestseller|  649,985 students|                 react|    4.6|\n",
      "|Machine Learning ...|Kirill Eremenko, ...|https://www.udemy...|https://img-b.ude...|Learn to create M...|Rating: 4.5 out of 5|      163104 reviews|42.5 total hours|    287 lectures|  All Levels|Current price: E£...|Original price: E...|                null|  900,823 students|  python|r|data sci...|    4.5|\n",
      "|The Complete Java...|   Jonas Schmedtmann|https://www.udemy...|https://img-b.ude...|The modern JavaSc...|Rating: 4.7 out of 5|      156031 reviews|  69 total hours|    320 lectures|  All Levels|Current price: E£...|Original price: E...|          Bestseller|  699,335 students|                  java|    4.7|\n",
      "|100 Days of Code:...|       Dr. Angela Yu|https://www.udemy...|https://img-b.ude...|Master Python by ...|Rating: 4.7 out of 5|      150024 reviews|  64 total hours|    676 lectures|  All Levels|Current price: E£...|Original price: E...|          Bestseller|  662,274 students|                python|    4.7|\n",
      "|Python for Data S...|       Jose Portilla|https://www.udemy...|https://img-b.ude...|Learn how to use ...|Rating: 4.6 out of 5|      122487 reviews|  25 total hours|    165 lectures|  All Levels|Current price: E£...|Original price: E...|          Bestseller|  588,524 students|   python|data science|    4.6|\n",
      "|The Data Science ...|365 Careers, 365 ...|https://www.udemy...|https://img-b.ude...|Complete Data Sci...|Rating: 4.6 out of 5|      114535 reviews|  32 total hours|    517 lectures|  All Levels|Current price: E£...|Original price: E...|          Bestseller|  539,202 students|          data science|    4.6|\n",
      "|Automate the Bori...|         Al Sweigart|https://www.udemy...|https://img-b.ude...|A practical progr...|Rating: 4.7 out of 5|      103366 reviews| 9.5 total hours|     51 lectures|  All Levels|Current price: E£...|Original price: E...|                null|1,060,445 students|    python|programming|    4.7|\n",
      "|Complete C# Unity...|GameDev.tv Team, ...|https://www.udemy...|https://img-b.ude...|Learn Unity in C#...|Rating: 4.7 out of 5|       96126 reviews|18.5 total hours|    140 lectures|  All Levels|Current price: E£...|Original price: E...|                null|  433,485 students|           game dev|c#|    4.7|\n",
      "|Learn Python Prog...|Tim Buchalka, Jea...|https://www.udemy...|https://img-b.ude...|This Python For B...|Rating: 4.6 out of 5|       94413 reviews|72.5 total hours|    534 lectures|  All Levels|Current price: E£...|Original price: E...|                null|  394,722 students|    python|programming|    4.6|\n",
      "|Selenium WebDrive...|        Rahul Shetty|https://www.udemy...|https://img-b.ude...|\"\"\"TOP RATED  #1 ...|Rating: 4.6 out of 5|       89742 reviews|53.5 total hours|    327 lectures|  All Levels|Current price: E£...|Original price: E...|          Bestseller|  280,503 students|             webd|java|    4.6|\n",
      "|Build Responsive ...|   Jonas Schmedtmann|https://www.udemy...|https://img-b.ude...|Learn modern HTML...|Rating: 4.8 out of 5|       85094 reviews|37.5 total hours|    151 lectures|  All Levels|Current price: E£...|Original price: E...|          Bestseller|  341,962 students|          css|html|web|    4.8|\n",
      "|iOS & Swift - The...|       Dr. Angela Yu|https://www.udemy...|https://img-b.ude...|From Beginner to ...|Rating: 4.8 out of 5|       80067 reviews|60.5 total hours|    542 lectures|  All Levels|Current price: E£...|Original price: E...|          Bestseller|  311,592 students|                 swift|    4.8|\n",
      "|Modern React with...|      Stephen Grider|https://www.udemy...|https://img-b.ude...|Master React and ...|Rating: 4.7 out of 5|       77591 reviews|52.5 total hours|    574 lectures|  All Levels|Current price: E£...|Original price: E...|          Bestseller|  275,832 students|                 react|    4.7|\n",
      "|The Ultimate MySQ...|Colt Steele, Ian ...|https://www.udemy...|https://img-b.ude...|JUST COMPLETELY R...|Rating: 4.6 out of 5|       74438 reviews|37.5 total hours|    650 lectures|    Beginner|Current price: E£...|Original price: E...|          Bestseller|  344,881 students|                go|sql|    4.6|\n",
      "|The Complete Web ...|Rob Percival, Cod...|https://www.udemy...|https://img-b.ude...|Learn Web Develop...|Rating: 4.6 out of 5|       70448 reviews|28.5 total hours|    288 lectures|  All Levels|Current price: E£...|Original price: E...|                null|  304,994 students|               web dev|    4.6|\n",
      "+--------------------+--------------------+--------------------+--------------------+--------------------+--------------------+--------------------+----------------+----------------+------------+--------------------+--------------------+--------------------+------------------+----------------------+-------+\n",
      "only showing top 20 rows\n",
      "\n"
     ]
    },
    {
     "name": "stderr",
     "output_type": "stream",
     "text": [
      "                                                                                \r"
     ]
    }
   ],
   "source": [
    "# Replace null/invalid values\n",
    "data = data.withColumn(\n",
    "    \"reviews\",\n",
    "    F.when(F.col(\"reviews\").isNull(), REPL_VALUE)\n",
    "    .when(F.col(\"reviews\") == \"\", REPL_VALUE)\n",
    "    .otherwise(F.col(\"reviews\"))\n",
    "    .cast(\"double\"),\n",
    ")\n",
    "\n",
    "data.show()"
   ]
  },
  {
   "cell_type": "code",
   "execution_count": 15,
   "metadata": {},
   "outputs": [
    {
     "name": "stdout",
     "output_type": "stream",
     "text": [
      "+-------+\n",
      "|reviews|\n",
      "+-------+\n",
      "+-------+\n",
      "\n"
     ]
    }
   ],
   "source": [
    "# Verify!\n",
    "data.select(\"reviews\").filter(data.reviews.isNull()).show()"
   ]
  },
  {
   "cell_type": "code",
   "execution_count": 16,
   "metadata": {},
   "outputs": [
    {
     "name": "stdout",
     "output_type": "stream",
     "text": [
      "13779.0\n",
      "+--------------------+--------------------+--------------------+--------------------+--------------------+--------------------+--------------------+----------------+----------------+------------+--------------------+--------------------+--------------------+------------------+----------------------+-------+-----------+\n",
      "|         course_name|          instructor|          course url|        course image|  course description|         reviews_avg|       reviews_count| course_duration|  lectures_count|       level|price_after_discount|          main_price|         course_flag|    students_count|prog_languages_n_tools|reviews|num_reviews|\n",
      "+--------------------+--------------------+--------------------+--------------------+--------------------+--------------------+--------------------+----------------+----------------+------------+--------------------+--------------------+--------------------+------------------+----------------------+-------+-----------+\n",
      "|2022 Complete Pyt...|       Jose Portilla|https://www.udemy...|https://img-b.ude...|Learn Python like...|Rating: 4.6 out of 5|      440383 reviews|  22 total hours|    155 lectures|  All Levels|Current price: E£...|Original price: E...|                null|1,629,692 students|                python|    4.6|     440383|\n",
      "|The Web Developer...|         Colt Steele|https://www.udemy...|https://img-b.ude...|COMPLETELY REDONE...|Rating: 4.7 out of 5|      248508 reviews|  64 total hours|    615 lectures|  All Levels|Current price: E£...|Original price: E...|                null|  830,559 students|               web dev|    4.7|     248508|\n",
      "|The Complete 2022...|       Dr. Angela Yu|https://www.udemy...|https://img-b.ude...|Become a Full-Sta...|Rating: 4.7 out of 5|      234837 reviews|65.5 total hours|    490 lectures|  All Levels|Current price: E£...|Original price: E...|          Bestseller|  794,897 students|               web dev|    4.7|     234837|\n",
      "|Angular - The Com...|Maximilian Schwar...|https://www.udemy...|https://img-b.ude...|\"Master Angular 1...| reactive web app...|Rating: 4.6 out of 5|  174576 reviews|34.5 total hours|472 lectures|          All Levels|Current price: E£...|Original price: E...|        Bestseller|               angular|    4.4|      13779|\n",
      "|Java Programming ...|Tim Buchalka, Tim...|https://www.udemy...|https://img-b.ude...|Learn Java In Thi...|Rating: 4.5 out of 5|      171838 reviews|80.5 total hours|    401 lectures|  All Levels|Current price: E£...|Original price: E...|          Bestseller|  727,934 students|      programming|java|    4.5|     171838|\n",
      "|React - The Compl...|Academind by Maxi...|https://www.udemy...|https://img-b.ude...|Dive in and learn...|Rating: 4.6 out of 5|      166128 reviews|49.5 total hours|    495 lectures|  All Levels|Current price: E£...|Original price: E...|          Bestseller|  649,985 students|                 react|    4.6|     166128|\n",
      "|Machine Learning ...|Kirill Eremenko, ...|https://www.udemy...|https://img-b.ude...|Learn to create M...|Rating: 4.5 out of 5|      163104 reviews|42.5 total hours|    287 lectures|  All Levels|Current price: E£...|Original price: E...|                null|  900,823 students|  python|r|data sci...|    4.5|     163104|\n",
      "|The Complete Java...|   Jonas Schmedtmann|https://www.udemy...|https://img-b.ude...|The modern JavaSc...|Rating: 4.7 out of 5|      156031 reviews|  69 total hours|    320 lectures|  All Levels|Current price: E£...|Original price: E...|          Bestseller|  699,335 students|                  java|    4.7|     156031|\n",
      "|100 Days of Code:...|       Dr. Angela Yu|https://www.udemy...|https://img-b.ude...|Master Python by ...|Rating: 4.7 out of 5|      150024 reviews|  64 total hours|    676 lectures|  All Levels|Current price: E£...|Original price: E...|          Bestseller|  662,274 students|                python|    4.7|     150024|\n",
      "|Python for Data S...|       Jose Portilla|https://www.udemy...|https://img-b.ude...|Learn how to use ...|Rating: 4.6 out of 5|      122487 reviews|  25 total hours|    165 lectures|  All Levels|Current price: E£...|Original price: E...|          Bestseller|  588,524 students|   python|data science|    4.6|     122487|\n",
      "+--------------------+--------------------+--------------------+--------------------+--------------------+--------------------+--------------------+----------------+----------------+------------+--------------------+--------------------+--------------------+------------------+----------------------+-------+-----------+\n",
      "only showing top 10 rows\n",
      "\n"
     ]
    }
   ],
   "source": [
    "# Extract the patterns.\n",
    "REVIEWS_COUNT_PATTERN = r\"\\d{4,10}\"\n",
    "\n",
    "data = data.withColumn(\n",
    "    \"num_reviews\",\n",
    "    F.regexp_extract(str=F.col(\"reviews_count\"), pattern=REVIEWS_COUNT_PATTERN, idx=0),\n",
    ")\n",
    "\n",
    "\n",
    "# 90th percentile. i.e 0.9%\n",
    "REPL_VALUE = data.selectExpr(\"round(percentile(num_reviews, 0.9), 0)\").first()[0]\n",
    "print(REPL_VALUE)\n",
    "\n",
    "# Replace null/invalid values\n",
    "data = data.withColumn(\n",
    "    \"num_reviews\",\n",
    "    F.when(F.col(\"num_reviews\").isNull(), REPL_VALUE)\n",
    "    .when(F.col(\"num_reviews\") == \"\", REPL_VALUE)\n",
    "    .otherwise(F.col(\"num_reviews\"))\n",
    "    .cast(\"int\"),\n",
    ")\n",
    "\n",
    "data.show(10)"
   ]
  },
  {
   "cell_type": "code",
   "execution_count": 17,
   "metadata": {},
   "outputs": [
    {
     "name": "stdout",
     "output_type": "stream",
     "text": [
      "+-----------+\n",
      "|num_reviews|\n",
      "+-----------+\n",
      "+-----------+\n",
      "\n"
     ]
    }
   ],
   "source": [
    "# Verify!\n",
    "data.select(\"num_reviews\").filter(data[\"num_reviews\"].isNull()).show()"
   ]
  },
  {
   "cell_type": "markdown",
   "metadata": {},
   "source": [
    "### To Do\n",
    "\n",
    "```text\n",
    "- Clean the following columns:\n",
    "    - `course_duration`.\n",
    "    - `lectures_count`.\n",
    "```"
   ]
  },
  {
   "cell_type": "code",
   "execution_count": 18,
   "metadata": {},
   "outputs": [
    {
     "name": "stdout",
     "output_type": "stream",
     "text": [
      "+--------------------+--------------------+--------------------+--------------------+--------------------+--------------------+--------------------+----------------+----------------+------------+--------------------+--------------------+--------------------+------------------+----------------------+-------+-----------+\n",
      "|         course_name|          instructor|          course url|        course image|  course description|         reviews_avg|       reviews_count| course_duration|  lectures_count|       level|price_after_discount|          main_price|         course_flag|    students_count|prog_languages_n_tools|reviews|num_reviews|\n",
      "+--------------------+--------------------+--------------------+--------------------+--------------------+--------------------+--------------------+----------------+----------------+------------+--------------------+--------------------+--------------------+------------------+----------------------+-------+-----------+\n",
      "|2022 Complete Pyt...|       Jose Portilla|https://www.udemy...|https://img-b.ude...|Learn Python like...|Rating: 4.6 out of 5|      440383 reviews|  22 total hours|    155 lectures|  All Levels|Current price: E£...|Original price: E...|                null|1,629,692 students|                python|    4.6|     440383|\n",
      "|The Web Developer...|         Colt Steele|https://www.udemy...|https://img-b.ude...|COMPLETELY REDONE...|Rating: 4.7 out of 5|      248508 reviews|  64 total hours|    615 lectures|  All Levels|Current price: E£...|Original price: E...|                null|  830,559 students|               web dev|    4.7|     248508|\n",
      "|The Complete 2022...|       Dr. Angela Yu|https://www.udemy...|https://img-b.ude...|Become a Full-Sta...|Rating: 4.7 out of 5|      234837 reviews|65.5 total hours|    490 lectures|  All Levels|Current price: E£...|Original price: E...|          Bestseller|  794,897 students|               web dev|    4.7|     234837|\n",
      "|Angular - The Com...|Maximilian Schwar...|https://www.udemy...|https://img-b.ude...|\"Master Angular 1...| reactive web app...|Rating: 4.6 out of 5|  174576 reviews|34.5 total hours|472 lectures|          All Levels|Current price: E£...|Original price: E...|        Bestseller|               angular|    4.4|      13779|\n",
      "|Java Programming ...|Tim Buchalka, Tim...|https://www.udemy...|https://img-b.ude...|Learn Java In Thi...|Rating: 4.5 out of 5|      171838 reviews|80.5 total hours|    401 lectures|  All Levels|Current price: E£...|Original price: E...|          Bestseller|  727,934 students|      programming|java|    4.5|     171838|\n",
      "+--------------------+--------------------+--------------------+--------------------+--------------------+--------------------+--------------------+----------------+----------------+------------+--------------------+--------------------+--------------------+------------------+----------------------+-------+-----------+\n",
      "only showing top 5 rows\n",
      "\n"
     ]
    }
   ],
   "source": [
    "data.show(5)"
   ]
  },
  {
   "cell_type": "code",
   "execution_count": 19,
   "metadata": {},
   "outputs": [
    {
     "name": "stdout",
     "output_type": "stream",
     "text": [
      "+--------------------+--------------------+--------------------+--------------------+--------------------+--------------------+--------------------+----------------+----------------+------------+--------------------+--------------------+--------------------+------------------+----------------------+-------+-----------+-------------------+\n",
      "|         course_name|          instructor|          course url|        course image|  course description|         reviews_avg|       reviews_count| course_duration|  lectures_count|       level|price_after_discount|          main_price|         course_flag|    students_count|prog_languages_n_tools|reviews|num_reviews|course_duration_hrs|\n",
      "+--------------------+--------------------+--------------------+--------------------+--------------------+--------------------+--------------------+----------------+----------------+------------+--------------------+--------------------+--------------------+------------------+----------------------+-------+-----------+-------------------+\n",
      "|2022 Complete Pyt...|       Jose Portilla|https://www.udemy...|https://img-b.ude...|Learn Python like...|Rating: 4.6 out of 5|      440383 reviews|  22 total hours|    155 lectures|  All Levels|Current price: E£...|Original price: E...|                null|1,629,692 students|                python|    4.6|     440383|               22.0|\n",
      "|The Web Developer...|         Colt Steele|https://www.udemy...|https://img-b.ude...|COMPLETELY REDONE...|Rating: 4.7 out of 5|      248508 reviews|  64 total hours|    615 lectures|  All Levels|Current price: E£...|Original price: E...|                null|  830,559 students|               web dev|    4.7|     248508|               64.0|\n",
      "|The Complete 2022...|       Dr. Angela Yu|https://www.udemy...|https://img-b.ude...|Become a Full-Sta...|Rating: 4.7 out of 5|      234837 reviews|65.5 total hours|    490 lectures|  All Levels|Current price: E£...|Original price: E...|          Bestseller|  794,897 students|               web dev|    4.7|     234837|               65.5|\n",
      "|Angular - The Com...|Maximilian Schwar...|https://www.udemy...|https://img-b.ude...|\"Master Angular 1...| reactive web app...|Rating: 4.6 out of 5|  174576 reviews|34.5 total hours|472 lectures|          All Levels|Current price: E£...|Original price: E...|        Bestseller|               angular|    4.4|      13779|               15.0|\n",
      "|Java Programming ...|Tim Buchalka, Tim...|https://www.udemy...|https://img-b.ude...|Learn Java In Thi...|Rating: 4.5 out of 5|      171838 reviews|80.5 total hours|    401 lectures|  All Levels|Current price: E£...|Original price: E...|          Bestseller|  727,934 students|      programming|java|    4.5|     171838|               80.5|\n",
      "|React - The Compl...|Academind by Maxi...|https://www.udemy...|https://img-b.ude...|Dive in and learn...|Rating: 4.6 out of 5|      166128 reviews|49.5 total hours|    495 lectures|  All Levels|Current price: E£...|Original price: E...|          Bestseller|  649,985 students|                 react|    4.6|     166128|               49.5|\n",
      "|Machine Learning ...|Kirill Eremenko, ...|https://www.udemy...|https://img-b.ude...|Learn to create M...|Rating: 4.5 out of 5|      163104 reviews|42.5 total hours|    287 lectures|  All Levels|Current price: E£...|Original price: E...|                null|  900,823 students|  python|r|data sci...|    4.5|     163104|               42.5|\n",
      "|The Complete Java...|   Jonas Schmedtmann|https://www.udemy...|https://img-b.ude...|The modern JavaSc...|Rating: 4.7 out of 5|      156031 reviews|  69 total hours|    320 lectures|  All Levels|Current price: E£...|Original price: E...|          Bestseller|  699,335 students|                  java|    4.7|     156031|               69.0|\n",
      "|100 Days of Code:...|       Dr. Angela Yu|https://www.udemy...|https://img-b.ude...|Master Python by ...|Rating: 4.7 out of 5|      150024 reviews|  64 total hours|    676 lectures|  All Levels|Current price: E£...|Original price: E...|          Bestseller|  662,274 students|                python|    4.7|     150024|               64.0|\n",
      "|Python for Data S...|       Jose Portilla|https://www.udemy...|https://img-b.ude...|Learn how to use ...|Rating: 4.6 out of 5|      122487 reviews|  25 total hours|    165 lectures|  All Levels|Current price: E£...|Original price: E...|          Bestseller|  588,524 students|   python|data science|    4.6|     122487|               25.0|\n",
      "|The Data Science ...|365 Careers, 365 ...|https://www.udemy...|https://img-b.ude...|Complete Data Sci...|Rating: 4.6 out of 5|      114535 reviews|  32 total hours|    517 lectures|  All Levels|Current price: E£...|Original price: E...|          Bestseller|  539,202 students|          data science|    4.6|     114535|               32.0|\n",
      "|Automate the Bori...|         Al Sweigart|https://www.udemy...|https://img-b.ude...|A practical progr...|Rating: 4.7 out of 5|      103366 reviews| 9.5 total hours|     51 lectures|  All Levels|Current price: E£...|Original price: E...|                null|1,060,445 students|    python|programming|    4.7|     103366|                9.5|\n",
      "|Complete C# Unity...|GameDev.tv Team, ...|https://www.udemy...|https://img-b.ude...|Learn Unity in C#...|Rating: 4.7 out of 5|       96126 reviews|18.5 total hours|    140 lectures|  All Levels|Current price: E£...|Original price: E...|                null|  433,485 students|           game dev|c#|    4.7|      96126|               18.5|\n",
      "|Learn Python Prog...|Tim Buchalka, Jea...|https://www.udemy...|https://img-b.ude...|This Python For B...|Rating: 4.6 out of 5|       94413 reviews|72.5 total hours|    534 lectures|  All Levels|Current price: E£...|Original price: E...|                null|  394,722 students|    python|programming|    4.6|      94413|               72.5|\n",
      "|Selenium WebDrive...|        Rahul Shetty|https://www.udemy...|https://img-b.ude...|\"\"\"TOP RATED  #1 ...|Rating: 4.6 out of 5|       89742 reviews|53.5 total hours|    327 lectures|  All Levels|Current price: E£...|Original price: E...|          Bestseller|  280,503 students|             webd|java|    4.6|      89742|               53.5|\n",
      "|Build Responsive ...|   Jonas Schmedtmann|https://www.udemy...|https://img-b.ude...|Learn modern HTML...|Rating: 4.8 out of 5|       85094 reviews|37.5 total hours|    151 lectures|  All Levels|Current price: E£...|Original price: E...|          Bestseller|  341,962 students|          css|html|web|    4.8|      85094|               37.5|\n",
      "|iOS & Swift - The...|       Dr. Angela Yu|https://www.udemy...|https://img-b.ude...|From Beginner to ...|Rating: 4.8 out of 5|       80067 reviews|60.5 total hours|    542 lectures|  All Levels|Current price: E£...|Original price: E...|          Bestseller|  311,592 students|                 swift|    4.8|      80067|               60.5|\n",
      "|Modern React with...|      Stephen Grider|https://www.udemy...|https://img-b.ude...|Master React and ...|Rating: 4.7 out of 5|       77591 reviews|52.5 total hours|    574 lectures|  All Levels|Current price: E£...|Original price: E...|          Bestseller|  275,832 students|                 react|    4.7|      77591|               52.5|\n",
      "|The Ultimate MySQ...|Colt Steele, Ian ...|https://www.udemy...|https://img-b.ude...|JUST COMPLETELY R...|Rating: 4.6 out of 5|       74438 reviews|37.5 total hours|    650 lectures|    Beginner|Current price: E£...|Original price: E...|          Bestseller|  344,881 students|                go|sql|    4.6|      74438|               37.5|\n",
      "|The Complete Web ...|Rob Percival, Cod...|https://www.udemy...|https://img-b.ude...|Learn Web Develop...|Rating: 4.6 out of 5|       70448 reviews|28.5 total hours|    288 lectures|  All Levels|Current price: E£...|Original price: E...|                null|  304,994 students|               web dev|    4.6|      70448|               28.5|\n",
      "+--------------------+--------------------+--------------------+--------------------+--------------------+--------------------+--------------------+----------------+----------------+------------+--------------------+--------------------+--------------------+------------------+----------------------+-------+-----------+-------------------+\n",
      "only showing top 20 rows\n",
      "\n"
     ]
    }
   ],
   "source": [
    "# Course duration and lectures count\n",
    "DURATION_THRESH = 100  # hours\n",
    "DURATION_REPL_VALUE = 15  # hours\n",
    "LECTURES_COUNT_VALUE = 20\n",
    "\n",
    "# Extract the patterns and replace invalid values\n",
    "DURATION_PATTERN = r\"\\d{1,3}\\.?\\d{1,2}\"\n",
    "\n",
    "data = data.withColumn(\n",
    "    \"course_duration_hrs\",\n",
    "    F.regexp_extract(F.col(\"course_duration\"), pattern=DURATION_PATTERN, idx=0),\n",
    ").withColumn(\n",
    "    \"course_duration_hrs\",\n",
    "    F.when(F.col(\"course_duration_hrs\") > DURATION_THRESH, DURATION_REPL_VALUE)\n",
    "    .otherwise(F.col(\"course_duration_hrs\"))\n",
    "    .cast(\"double\"),\n",
    ")\n",
    "\n",
    "data.show()"
   ]
  },
  {
   "cell_type": "code",
   "execution_count": 20,
   "metadata": {},
   "outputs": [
    {
     "name": "stdout",
     "output_type": "stream",
     "text": [
      "+--------------------+--------------------+--------------------+--------------------+--------------------+--------------------+--------------------+----------------+----------------+------------+--------------------+--------------------+--------------------+------------------+----------------------+-------+-----------+-------------------+------------+\n",
      "|         course_name|          instructor|          course url|        course image|  course description|         reviews_avg|       reviews_count| course_duration|  lectures_count|       level|price_after_discount|          main_price|         course_flag|    students_count|prog_languages_n_tools|reviews|num_reviews|course_duration_hrs|num_lectures|\n",
      "+--------------------+--------------------+--------------------+--------------------+--------------------+--------------------+--------------------+----------------+----------------+------------+--------------------+--------------------+--------------------+------------------+----------------------+-------+-----------+-------------------+------------+\n",
      "|2022 Complete Pyt...|       Jose Portilla|https://www.udemy...|https://img-b.ude...|Learn Python like...|Rating: 4.6 out of 5|      440383 reviews|  22 total hours|    155 lectures|  All Levels|Current price: E£...|Original price: E...|                null|1,629,692 students|                python|    4.6|     440383|               22.0|         155|\n",
      "|The Web Developer...|         Colt Steele|https://www.udemy...|https://img-b.ude...|COMPLETELY REDONE...|Rating: 4.7 out of 5|      248508 reviews|  64 total hours|    615 lectures|  All Levels|Current price: E£...|Original price: E...|                null|  830,559 students|               web dev|    4.7|     248508|               64.0|         615|\n",
      "|The Complete 2022...|       Dr. Angela Yu|https://www.udemy...|https://img-b.ude...|Become a Full-Sta...|Rating: 4.7 out of 5|      234837 reviews|65.5 total hours|    490 lectures|  All Levels|Current price: E£...|Original price: E...|          Bestseller|  794,897 students|               web dev|    4.7|     234837|               65.5|         490|\n",
      "|Angular - The Com...|Maximilian Schwar...|https://www.udemy...|https://img-b.ude...|\"Master Angular 1...| reactive web app...|Rating: 4.6 out of 5|  174576 reviews|34.5 total hours|472 lectures|          All Levels|Current price: E£...|Original price: E...|        Bestseller|               angular|    4.4|      13779|               15.0|          20|\n",
      "|Java Programming ...|Tim Buchalka, Tim...|https://www.udemy...|https://img-b.ude...|Learn Java In Thi...|Rating: 4.5 out of 5|      171838 reviews|80.5 total hours|    401 lectures|  All Levels|Current price: E£...|Original price: E...|          Bestseller|  727,934 students|      programming|java|    4.5|     171838|               80.5|         401|\n",
      "|React - The Compl...|Academind by Maxi...|https://www.udemy...|https://img-b.ude...|Dive in and learn...|Rating: 4.6 out of 5|      166128 reviews|49.5 total hours|    495 lectures|  All Levels|Current price: E£...|Original price: E...|          Bestseller|  649,985 students|                 react|    4.6|     166128|               49.5|         495|\n",
      "|Machine Learning ...|Kirill Eremenko, ...|https://www.udemy...|https://img-b.ude...|Learn to create M...|Rating: 4.5 out of 5|      163104 reviews|42.5 total hours|    287 lectures|  All Levels|Current price: E£...|Original price: E...|                null|  900,823 students|  python|r|data sci...|    4.5|     163104|               42.5|         287|\n",
      "|The Complete Java...|   Jonas Schmedtmann|https://www.udemy...|https://img-b.ude...|The modern JavaSc...|Rating: 4.7 out of 5|      156031 reviews|  69 total hours|    320 lectures|  All Levels|Current price: E£...|Original price: E...|          Bestseller|  699,335 students|                  java|    4.7|     156031|               69.0|         320|\n",
      "|100 Days of Code:...|       Dr. Angela Yu|https://www.udemy...|https://img-b.ude...|Master Python by ...|Rating: 4.7 out of 5|      150024 reviews|  64 total hours|    676 lectures|  All Levels|Current price: E£...|Original price: E...|          Bestseller|  662,274 students|                python|    4.7|     150024|               64.0|         676|\n",
      "|Python for Data S...|       Jose Portilla|https://www.udemy...|https://img-b.ude...|Learn how to use ...|Rating: 4.6 out of 5|      122487 reviews|  25 total hours|    165 lectures|  All Levels|Current price: E£...|Original price: E...|          Bestseller|  588,524 students|   python|data science|    4.6|     122487|               25.0|         165|\n",
      "|The Data Science ...|365 Careers, 365 ...|https://www.udemy...|https://img-b.ude...|Complete Data Sci...|Rating: 4.6 out of 5|      114535 reviews|  32 total hours|    517 lectures|  All Levels|Current price: E£...|Original price: E...|          Bestseller|  539,202 students|          data science|    4.6|     114535|               32.0|         517|\n",
      "|Automate the Bori...|         Al Sweigart|https://www.udemy...|https://img-b.ude...|A practical progr...|Rating: 4.7 out of 5|      103366 reviews| 9.5 total hours|     51 lectures|  All Levels|Current price: E£...|Original price: E...|                null|1,060,445 students|    python|programming|    4.7|     103366|                9.5|          51|\n",
      "|Complete C# Unity...|GameDev.tv Team, ...|https://www.udemy...|https://img-b.ude...|Learn Unity in C#...|Rating: 4.7 out of 5|       96126 reviews|18.5 total hours|    140 lectures|  All Levels|Current price: E£...|Original price: E...|                null|  433,485 students|           game dev|c#|    4.7|      96126|               18.5|         140|\n",
      "|Learn Python Prog...|Tim Buchalka, Jea...|https://www.udemy...|https://img-b.ude...|This Python For B...|Rating: 4.6 out of 5|       94413 reviews|72.5 total hours|    534 lectures|  All Levels|Current price: E£...|Original price: E...|                null|  394,722 students|    python|programming|    4.6|      94413|               72.5|         534|\n",
      "|Selenium WebDrive...|        Rahul Shetty|https://www.udemy...|https://img-b.ude...|\"\"\"TOP RATED  #1 ...|Rating: 4.6 out of 5|       89742 reviews|53.5 total hours|    327 lectures|  All Levels|Current price: E£...|Original price: E...|          Bestseller|  280,503 students|             webd|java|    4.6|      89742|               53.5|         327|\n",
      "|Build Responsive ...|   Jonas Schmedtmann|https://www.udemy...|https://img-b.ude...|Learn modern HTML...|Rating: 4.8 out of 5|       85094 reviews|37.5 total hours|    151 lectures|  All Levels|Current price: E£...|Original price: E...|          Bestseller|  341,962 students|          css|html|web|    4.8|      85094|               37.5|         151|\n",
      "|iOS & Swift - The...|       Dr. Angela Yu|https://www.udemy...|https://img-b.ude...|From Beginner to ...|Rating: 4.8 out of 5|       80067 reviews|60.5 total hours|    542 lectures|  All Levels|Current price: E£...|Original price: E...|          Bestseller|  311,592 students|                 swift|    4.8|      80067|               60.5|         542|\n",
      "|Modern React with...|      Stephen Grider|https://www.udemy...|https://img-b.ude...|Master React and ...|Rating: 4.7 out of 5|       77591 reviews|52.5 total hours|    574 lectures|  All Levels|Current price: E£...|Original price: E...|          Bestseller|  275,832 students|                 react|    4.7|      77591|               52.5|         574|\n",
      "|The Ultimate MySQ...|Colt Steele, Ian ...|https://www.udemy...|https://img-b.ude...|JUST COMPLETELY R...|Rating: 4.6 out of 5|       74438 reviews|37.5 total hours|    650 lectures|    Beginner|Current price: E£...|Original price: E...|          Bestseller|  344,881 students|                go|sql|    4.6|      74438|               37.5|         650|\n",
      "|The Complete Web ...|Rob Percival, Cod...|https://www.udemy...|https://img-b.ude...|Learn Web Develop...|Rating: 4.6 out of 5|       70448 reviews|28.5 total hours|    288 lectures|  All Levels|Current price: E£...|Original price: E...|                null|  304,994 students|               web dev|    4.6|      70448|               28.5|         288|\n",
      "+--------------------+--------------------+--------------------+--------------------+--------------------+--------------------+--------------------+----------------+----------------+------------+--------------------+--------------------+--------------------+------------------+----------------------+-------+-----------+-------------------+------------+\n",
      "only showing top 20 rows\n",
      "\n"
     ]
    }
   ],
   "source": [
    "# Extract the patterns and replace invalid values\n",
    "LECTURES_PATTERN_1 = r\"\\d{1,3}\\s?\\w{8}\"\n",
    "LECTURES_PATTERN_2 = r\"\\d{1,3}\"\n",
    "\n",
    "data = (\n",
    "    data.withColumn(\n",
    "        \"num_lectures\",\n",
    "        F.regexp_extract(F.col(\"lectures_count\"), pattern=LECTURES_PATTERN_1, idx=0),\n",
    "    )\n",
    "    .withColumn(\n",
    "        \"num_lectures\",\n",
    "        F.regexp_extract(str=F.col(\"num_lectures\"), pattern=LECTURES_PATTERN_2, idx=0),\n",
    "    )\n",
    "    .withColumn(\n",
    "        \"num_lectures\",\n",
    "        F.when(F.col(\"num_lectures\").isNull(), LECTURES_COUNT_VALUE)\n",
    "        .when(F.col(\"num_lectures\") == \"\", LECTURES_COUNT_VALUE)\n",
    "        .otherwise(F.col(\"num_lectures\"))\n",
    "        .cast(\"int\"),\n",
    "    )\n",
    ")\n",
    "\n",
    "data.show()"
   ]
  },
  {
   "cell_type": "markdown",
   "metadata": {},
   "source": [
    "### To Do\n",
    "\n",
    "```text\n",
    "- Clean the following columns:\n",
    "    - `level`.\n",
    "    - `price_after_discount` and `main_price`.\n",
    "    - `students_count`.\n",
    "```"
   ]
  },
  {
   "cell_type": "code",
   "execution_count": 21,
   "metadata": {},
   "outputs": [
    {
     "data": {
      "text/plain": [
       "['Expert',\n",
       " '13 lectures',\n",
       " 'Current price: E£199.99',\n",
       " '3.5 total hours',\n",
       " '74 lectures',\n",
       " None,\n",
       " '68 lectures',\n",
       " '642 lectures',\n",
       " '229 reviews',\n",
       " '22 lectures',\n",
       " 'Rating: 4.5 out of 5',\n",
       " '85 lectures',\n",
       " 'Current price: E£269.99',\n",
       " '211 lectures',\n",
       " 'All Levels',\n",
       " 'Intermediate',\n",
       " '472 lectures',\n",
       " 'Interviews\"',\n",
       " 'Current price: E£229.99',\n",
       " 'Rating: 4.4 out of 5',\n",
       " 'Beginner']"
      ]
     },
     "execution_count": 21,
     "metadata": {},
     "output_type": "execute_result"
    }
   ],
   "source": [
    "data.select(\"level\").distinct().toPandas()[\"level\"].values.tolist()"
   ]
  },
  {
   "cell_type": "code",
   "execution_count": 22,
   "metadata": {},
   "outputs": [
    {
     "name": "stdout",
     "output_type": "stream",
     "text": [
      "+--------------------+--------------------+--------------------+--------------------+--------------------+--------------------+--------------------+----------------+----------------+------------+--------------------+--------------------+--------------------+------------------+----------------------+-------+-----------+-------------------+------------+------------+\n",
      "|         course_name|          instructor|          course url|        course image|  course description|         reviews_avg|       reviews_count| course_duration|  lectures_count|       level|price_after_discount|          main_price|         course_flag|    students_count|prog_languages_n_tools|reviews|num_reviews|course_duration_hrs|num_lectures|course_level|\n",
      "+--------------------+--------------------+--------------------+--------------------+--------------------+--------------------+--------------------+----------------+----------------+------------+--------------------+--------------------+--------------------+------------------+----------------------+-------+-----------+-------------------+------------+------------+\n",
      "|2022 Complete Pyt...|       Jose Portilla|https://www.udemy...|https://img-b.ude...|Learn Python like...|Rating: 4.6 out of 5|      440383 reviews|  22 total hours|    155 lectures|  All Levels|Current price: E£...|Original price: E...|                null|1,629,692 students|                python|    4.6|     440383|               22.0|         155|  all levels|\n",
      "|The Web Developer...|         Colt Steele|https://www.udemy...|https://img-b.ude...|COMPLETELY REDONE...|Rating: 4.7 out of 5|      248508 reviews|  64 total hours|    615 lectures|  All Levels|Current price: E£...|Original price: E...|                null|  830,559 students|               web dev|    4.7|     248508|               64.0|         615|  all levels|\n",
      "|The Complete 2022...|       Dr. Angela Yu|https://www.udemy...|https://img-b.ude...|Become a Full-Sta...|Rating: 4.7 out of 5|      234837 reviews|65.5 total hours|    490 lectures|  All Levels|Current price: E£...|Original price: E...|          Bestseller|  794,897 students|               web dev|    4.7|     234837|               65.5|         490|  all levels|\n",
      "|Angular - The Com...|Maximilian Schwar...|https://www.udemy...|https://img-b.ude...|\"Master Angular 1...| reactive web app...|Rating: 4.6 out of 5|  174576 reviews|34.5 total hours|472 lectures|          All Levels|Current price: E£...|Original price: E...|        Bestseller|               angular|    4.4|      13779|               15.0|          20|not provided|\n",
      "|Java Programming ...|Tim Buchalka, Tim...|https://www.udemy...|https://img-b.ude...|Learn Java In Thi...|Rating: 4.5 out of 5|      171838 reviews|80.5 total hours|    401 lectures|  All Levels|Current price: E£...|Original price: E...|          Bestseller|  727,934 students|      programming|java|    4.5|     171838|               80.5|         401|  all levels|\n",
      "|React - The Compl...|Academind by Maxi...|https://www.udemy...|https://img-b.ude...|Dive in and learn...|Rating: 4.6 out of 5|      166128 reviews|49.5 total hours|    495 lectures|  All Levels|Current price: E£...|Original price: E...|          Bestseller|  649,985 students|                 react|    4.6|     166128|               49.5|         495|  all levels|\n",
      "|Machine Learning ...|Kirill Eremenko, ...|https://www.udemy...|https://img-b.ude...|Learn to create M...|Rating: 4.5 out of 5|      163104 reviews|42.5 total hours|    287 lectures|  All Levels|Current price: E£...|Original price: E...|                null|  900,823 students|  python|r|data sci...|    4.5|     163104|               42.5|         287|  all levels|\n",
      "|The Complete Java...|   Jonas Schmedtmann|https://www.udemy...|https://img-b.ude...|The modern JavaSc...|Rating: 4.7 out of 5|      156031 reviews|  69 total hours|    320 lectures|  All Levels|Current price: E£...|Original price: E...|          Bestseller|  699,335 students|                  java|    4.7|     156031|               69.0|         320|  all levels|\n",
      "|100 Days of Code:...|       Dr. Angela Yu|https://www.udemy...|https://img-b.ude...|Master Python by ...|Rating: 4.7 out of 5|      150024 reviews|  64 total hours|    676 lectures|  All Levels|Current price: E£...|Original price: E...|          Bestseller|  662,274 students|                python|    4.7|     150024|               64.0|         676|  all levels|\n",
      "|Python for Data S...|       Jose Portilla|https://www.udemy...|https://img-b.ude...|Learn how to use ...|Rating: 4.6 out of 5|      122487 reviews|  25 total hours|    165 lectures|  All Levels|Current price: E£...|Original price: E...|          Bestseller|  588,524 students|   python|data science|    4.6|     122487|               25.0|         165|  all levels|\n",
      "|The Data Science ...|365 Careers, 365 ...|https://www.udemy...|https://img-b.ude...|Complete Data Sci...|Rating: 4.6 out of 5|      114535 reviews|  32 total hours|    517 lectures|  All Levels|Current price: E£...|Original price: E...|          Bestseller|  539,202 students|          data science|    4.6|     114535|               32.0|         517|  all levels|\n",
      "|Automate the Bori...|         Al Sweigart|https://www.udemy...|https://img-b.ude...|A practical progr...|Rating: 4.7 out of 5|      103366 reviews| 9.5 total hours|     51 lectures|  All Levels|Current price: E£...|Original price: E...|                null|1,060,445 students|    python|programming|    4.7|     103366|                9.5|          51|  all levels|\n",
      "|Complete C# Unity...|GameDev.tv Team, ...|https://www.udemy...|https://img-b.ude...|Learn Unity in C#...|Rating: 4.7 out of 5|       96126 reviews|18.5 total hours|    140 lectures|  All Levels|Current price: E£...|Original price: E...|                null|  433,485 students|           game dev|c#|    4.7|      96126|               18.5|         140|  all levels|\n",
      "|Learn Python Prog...|Tim Buchalka, Jea...|https://www.udemy...|https://img-b.ude...|This Python For B...|Rating: 4.6 out of 5|       94413 reviews|72.5 total hours|    534 lectures|  All Levels|Current price: E£...|Original price: E...|                null|  394,722 students|    python|programming|    4.6|      94413|               72.5|         534|  all levels|\n",
      "|Selenium WebDrive...|        Rahul Shetty|https://www.udemy...|https://img-b.ude...|\"\"\"TOP RATED  #1 ...|Rating: 4.6 out of 5|       89742 reviews|53.5 total hours|    327 lectures|  All Levels|Current price: E£...|Original price: E...|          Bestseller|  280,503 students|             webd|java|    4.6|      89742|               53.5|         327|  all levels|\n",
      "|Build Responsive ...|   Jonas Schmedtmann|https://www.udemy...|https://img-b.ude...|Learn modern HTML...|Rating: 4.8 out of 5|       85094 reviews|37.5 total hours|    151 lectures|  All Levels|Current price: E£...|Original price: E...|          Bestseller|  341,962 students|          css|html|web|    4.8|      85094|               37.5|         151|  all levels|\n",
      "|iOS & Swift - The...|       Dr. Angela Yu|https://www.udemy...|https://img-b.ude...|From Beginner to ...|Rating: 4.8 out of 5|       80067 reviews|60.5 total hours|    542 lectures|  All Levels|Current price: E£...|Original price: E...|          Bestseller|  311,592 students|                 swift|    4.8|      80067|               60.5|         542|  all levels|\n",
      "|Modern React with...|      Stephen Grider|https://www.udemy...|https://img-b.ude...|Master React and ...|Rating: 4.7 out of 5|       77591 reviews|52.5 total hours|    574 lectures|  All Levels|Current price: E£...|Original price: E...|          Bestseller|  275,832 students|                 react|    4.7|      77591|               52.5|         574|  all levels|\n",
      "|The Ultimate MySQ...|Colt Steele, Ian ...|https://www.udemy...|https://img-b.ude...|JUST COMPLETELY R...|Rating: 4.6 out of 5|       74438 reviews|37.5 total hours|    650 lectures|    Beginner|Current price: E£...|Original price: E...|          Bestseller|  344,881 students|                go|sql|    4.6|      74438|               37.5|         650|    beginner|\n",
      "|The Complete Web ...|Rob Percival, Cod...|https://www.udemy...|https://img-b.ude...|Learn Web Develop...|Rating: 4.6 out of 5|       70448 reviews|28.5 total hours|    288 lectures|  All Levels|Current price: E£...|Original price: E...|                null|  304,994 students|               web dev|    4.6|      70448|               28.5|         288|  all levels|\n",
      "+--------------------+--------------------+--------------------+--------------------+--------------------+--------------------+--------------------+----------------+----------------+------------+--------------------+--------------------+--------------------+------------------+----------------------+-------+-----------+-------------------+------------+------------+\n",
      "only showing top 20 rows\n",
      "\n"
     ]
    }
   ],
   "source": [
    "# Extract the patterns\n",
    "COURSE_PATTERN = r\"(\\s*all\\s?levels\\s*|\\s*beginner\\s*|\\s*expert\\s*|\\s*intermediate\\s*|\\s*interviews\\s*)\"\n",
    "COURSE_VALUE = \"not provided\"\n",
    "\n",
    "data = data.withColumn(\"course_level\", F.lower(F.col(\"level\"))).withColumn(\n",
    "    \"course_level\",\n",
    "    F.regexp_extract(\n",
    "        str=F.col(\"course_level\"),\n",
    "        pattern=COURSE_PATTERN,\n",
    "        idx=0,\n",
    "    ),\n",
    ")\n",
    "\n",
    "# Replace invalid values\n",
    "data = data.withColumn(\n",
    "    \"course_level\",\n",
    "    F.when(F.col(\"course_level\").isNull(), COURSE_VALUE)\n",
    "    .when(F.col(\"course_level\") == \"\", COURSE_VALUE)\n",
    "    .otherwise(F.col(\"course_level\")),\n",
    ")\n",
    "\n",
    "data.show()"
   ]
  },
  {
   "cell_type": "code",
   "execution_count": 23,
   "metadata": {},
   "outputs": [
    {
     "name": "stdout",
     "output_type": "stream",
     "text": [
      "+--------------------------------------------------+--------------------------------------------------+--------------------------------------------------+--------------------------------------------------+-----------------------+--------------------------+--------------------------+------------------+----------------------+-------+-----------+-------------------+------------+------------+\n",
      "|                                        instructor|                                        course url|                                      course image|                                course description|   price_after_discount|                main_price|               course_flag|    students_count|prog_languages_n_tools|reviews|num_reviews|course_duration_hrs|num_lectures|course_level|\n",
      "+--------------------------------------------------+--------------------------------------------------+--------------------------------------------------+--------------------------------------------------+-----------------------+--------------------------+--------------------------+------------------+----------------------+-------+-----------+-------------------+------------+------------+\n",
      "|                                     Jose Portilla|https://www.udemy.com/course/complete-python-bo...|https://img-b.udemycdn.com/course/240x135/56782...|Learn Python like a Professional  Start from th...|Current price: E£319.99|Original price: E£1,399.99|                      null|1,629,692 students|                python|    4.6|     440383|               22.0|         155|  all levels|\n",
      "|                                       Colt Steele|https://www.udemy.com/course/the-web-developer-...|https://img-b.udemycdn.com/course/240x135/62520...|COMPLETELY REDONE - The only course you need to...|Current price: E£269.99|Original price: E£1,399.99|                      null|  830,559 students|               web dev|    4.7|     248508|               64.0|         615|  all levels|\n",
      "|                                     Dr. Angela Yu|https://www.udemy.com/course/the-complete-web-d...|https://img-b.udemycdn.com/course/240x135/15658...|Become a Full-Stack Web Developer with just ONE...|Current price: E£349.99|Original price: E£1,699.99|                Bestseller|  794,897 students|               web dev|    4.7|     234837|               65.5|         490|  all levels|\n",
      "|                          Maximilian Schwarzmüller|https://www.udemy.com/course/the-complete-guide...|https://img-b.udemycdn.com/course/240x135/75615...|\"Master Angular 14 (formerly \"\"Angular 2\"\") and...|             All Levels|   Current price: E£319.99|Original price: E£1,599.99|        Bestseller|               angular|    4.4|      13779|               15.0|          20|not provided|\n",
      "|Tim Buchalka, Tim Buchalka's Learn Programming ...|https://www.udemy.com/course/java-the-complete-...|https://img-b.udemycdn.com/course/240x135/53368...|Learn Java In This Course And Become a Computer...|Current price: E£349.99|  Original price: E£849.99|                Bestseller|  727,934 students|      programming|java|    4.5|     171838|               80.5|         401|  all levels|\n",
      "|Academind by Maximilian Schwarzmüller, Maximili...|https://www.udemy.com/course/react-the-complete...|https://img-b.udemycdn.com/course/240x135/13620...|Dive in and learn React.js from scratch! Learn ...|Current price: E£319.99|Original price: E£1,599.99|                Bestseller|  649,985 students|                 react|    4.6|     166128|               49.5|         495|  all levels|\n",
      "|Kirill Eremenko, Hadelin de Ponteves, Ligency I...|     https://www.udemy.com/course/machinelearning/|https://img-b.udemycdn.com/course/240x135/95039...|Learn to create Machine Learning Algorithms in ...|Current price: E£269.99|Original price: E£1,299.99|                      null|  900,823 students| python|r|data science|    4.5|     163104|               42.5|         287|  all levels|\n",
      "|                                 Jonas Schmedtmann|https://www.udemy.com/course/the-complete-javas...|https://img-b.udemycdn.com/course/240x135/85171...|The modern JavaScript course for everyone! Mast...|Current price: E£349.99|Original price: E£1,699.99|                Bestseller|  699,335 students|                  java|    4.7|     156031|               69.0|         320|  all levels|\n",
      "|                                     Dr. Angela Yu|    https://www.udemy.com/course/100-days-of-code/|https://img-b.udemycdn.com/course/240x135/27767...|Master Python by building 100 projects in 100 d...|Current price: E£319.99|Original price: E£1,399.99|                Bestseller|  662,274 students|                python|    4.7|     150024|               64.0|         676|  all levels|\n",
      "|                                     Jose Portilla|https://www.udemy.com/course/python-for-data-sc...|https://img-b.udemycdn.com/course/240x135/90374...|Learn how to use NumPy, Pandas, Seaborn , Matpl...|Current price: E£319.99|Original price: E£1,399.99|                Bestseller|  588,524 students|   python|data science|    4.6|     122487|               25.0|         165|  all levels|\n",
      "|                     365 Careers, 365 Careers Team|https://www.udemy.com/course/the-data-science-c...|https://img-b.udemycdn.com/course/240x135/17540...|Complete Data Science Training: Mathematics, St...|Current price: E£319.99|Original price: E£1,699.99|                Bestseller|  539,202 students|          data science|    4.6|     114535|               32.0|         517|  all levels|\n",
      "|                                       Al Sweigart|            https://www.udemy.com/course/automate/|https://img-b.udemycdn.com/course/240x135/54360...|A practical programming course for office worke...|Current price: E£319.99|  Original price: E£479.99|                      null|1,060,445 students|    python|programming|    4.7|     103366|                9.5|          51|  all levels|\n",
      "|       GameDev.tv Team, Rick Davidson, Gary Pettie|         https://www.udemy.com/course/unitycourse/|https://img-b.udemycdn.com/course/240x135/25831...|Learn Unity in C# & Code Your First Five 2D Vid...|Current price: E£349.99|Original price: E£1,599.99|                      null|  433,485 students|           game dev|c#|    4.7|      96126|               18.5|         140|  all levels|\n",
      "|Tim Buchalka, Jean-Paul Roberts, Tim Buchalka's...|https://www.udemy.com/course/python-the-complet...|https://img-b.udemycdn.com/course/240x135/62930...|This Python For Beginners Course Teaches You Th...|Current price: E£269.99|  Original price: E£849.99|                      null|  394,722 students|    python|programming|    4.6|      94413|               72.5|         534|  all levels|\n",
      "|                                      Rahul Shetty|https://www.udemy.com/course/selenium-real-time...|https://img-b.udemycdn.com/course/240x135/35417...|\"\"\"TOP RATED  #1 Master SELENIUM java 4.0 (Late...|Current price: E£319.99|Original price: E£1,399.99|                Bestseller|  280,503 students|             webd|java|    4.6|      89742|               53.5|         327|  all levels|\n",
      "|                                 Jonas Schmedtmann|https://www.udemy.com/course/design-and-develop...|https://img-b.udemycdn.com/course/240x135/43739...|Learn modern HTML5, CSS3 and web design by buil...|Current price: E£349.99|Original price: E£1,699.99|                Bestseller|  341,962 students|          css|html|web|    4.8|      85094|               37.5|         151|  all levels|\n",
      "|                                     Dr. Angela Yu|https://www.udemy.com/course/ios-13-app-develop...|https://img-b.udemycdn.com/course/240x135/17785...|From Beginner to iOS App Developer with Just On...|Current price: E£349.99|Original price: E£1,699.99|                Bestseller|  311,592 students|                 swift|    4.8|      80067|               60.5|         542|  all levels|\n",
      "|                                    Stephen Grider|         https://www.udemy.com/course/react-redux/|https://img-b.udemycdn.com/course/240x135/70526...|Master React and Redux with React Router, Webpa...|Current price: E£319.99|Original price: E£1,399.99|                Bestseller|  275,832 students|                 react|    4.7|      77591|               52.5|         574|  all levels|\n",
      "|                       Colt Steele, Ian Schoonover|https://www.udemy.com/course/the-ultimate-mysql...|https://img-b.udemycdn.com/course/240x135/11870...|JUST COMPLETELY REDONE!  Master SQL, Work With ...|Current price: E£319.99|Original price: E£1,399.99|                Bestseller|  344,881 students|                go|sql|    4.6|      74438|               37.5|         650|    beginner|\n",
      "|Rob Percival, Codestars • over 2 million studen...|https://www.udemy.com/course/the-complete-web-d...|https://img-b.udemycdn.com/course/240x135/76416...|Learn Web Development by building 25 websites a...|Current price: E£269.99|Original price: E£1,299.99|                      null|  304,994 students|               web dev|    4.6|      70448|               28.5|         288|  all levels|\n",
      "+--------------------------------------------------+--------------------------------------------------+--------------------------------------------------+--------------------------------------------------+-----------------------+--------------------------+--------------------------+------------------+----------------------+-------+-----------+-------------------+------------+------------+\n",
      "only showing top 20 rows\n",
      "\n"
     ]
    }
   ],
   "source": [
    "# Drop irrelevant columns\n",
    "data = data.drop(\n",
    "    \"course_name\",\n",
    "    \"reviews_avg\",\n",
    "    \"reviews_count\",\n",
    "    \"course_duration\",\n",
    "    \"lectures_count\",\n",
    "    \"level\",\n",
    ")\n",
    "\n",
    "data.show(truncate=50)"
   ]
  },
  {
   "cell_type": "code",
   "execution_count": 24,
   "metadata": {},
   "outputs": [
    {
     "name": "stdout",
     "output_type": "stream",
     "text": [
      "+--------------------------------------------------+--------------------------------------------------+--------------------------------------------------+--------------------------------------------------+-----------------------+--------------------------+--------------------------+------------------+----------------------+-------+-----------+-------------------+------------+------------+-----------------+\n",
      "|                                        instructor|                                        course url|                                      course image|                                course description|   price_after_discount|                main_price|               course_flag|    students_count|prog_languages_n_tools|reviews|num_reviews|course_duration_hrs|num_lectures|course_level|price_wf_discount|\n",
      "+--------------------------------------------------+--------------------------------------------------+--------------------------------------------------+--------------------------------------------------+-----------------------+--------------------------+--------------------------+------------------+----------------------+-------+-----------+-------------------+------------+------------+-----------------+\n",
      "|                                     Jose Portilla|https://www.udemy.com/course/complete-python-bo...|https://img-b.udemycdn.com/course/240x135/56782...|Learn Python like a Professional  Start from th...|Current price: E£319.99|Original price: E£1,399.99|                      null|1,629,692 students|                python|    4.6|     440383|               22.0|         155|  all levels|           319.99|\n",
      "|                                       Colt Steele|https://www.udemy.com/course/the-web-developer-...|https://img-b.udemycdn.com/course/240x135/62520...|COMPLETELY REDONE - The only course you need to...|Current price: E£269.99|Original price: E£1,399.99|                      null|  830,559 students|               web dev|    4.7|     248508|               64.0|         615|  all levels|           269.99|\n",
      "|                                     Dr. Angela Yu|https://www.udemy.com/course/the-complete-web-d...|https://img-b.udemycdn.com/course/240x135/15658...|Become a Full-Stack Web Developer with just ONE...|Current price: E£349.99|Original price: E£1,699.99|                Bestseller|  794,897 students|               web dev|    4.7|     234837|               65.5|         490|  all levels|           349.99|\n",
      "|                          Maximilian Schwarzmüller|https://www.udemy.com/course/the-complete-guide...|https://img-b.udemycdn.com/course/240x135/75615...|\"Master Angular 14 (formerly \"\"Angular 2\"\") and...|             All Levels|   Current price: E£319.99|Original price: E£1,599.99|        Bestseller|               angular|    4.4|      13779|               15.0|          20|not provided|           199.99|\n",
      "|Tim Buchalka, Tim Buchalka's Learn Programming ...|https://www.udemy.com/course/java-the-complete-...|https://img-b.udemycdn.com/course/240x135/53368...|Learn Java In This Course And Become a Computer...|Current price: E£349.99|  Original price: E£849.99|                Bestseller|  727,934 students|      programming|java|    4.5|     171838|               80.5|         401|  all levels|           349.99|\n",
      "|Academind by Maximilian Schwarzmüller, Maximili...|https://www.udemy.com/course/react-the-complete...|https://img-b.udemycdn.com/course/240x135/13620...|Dive in and learn React.js from scratch! Learn ...|Current price: E£319.99|Original price: E£1,599.99|                Bestseller|  649,985 students|                 react|    4.6|     166128|               49.5|         495|  all levels|           319.99|\n",
      "|Kirill Eremenko, Hadelin de Ponteves, Ligency I...|     https://www.udemy.com/course/machinelearning/|https://img-b.udemycdn.com/course/240x135/95039...|Learn to create Machine Learning Algorithms in ...|Current price: E£269.99|Original price: E£1,299.99|                      null|  900,823 students| python|r|data science|    4.5|     163104|               42.5|         287|  all levels|           269.99|\n",
      "|                                 Jonas Schmedtmann|https://www.udemy.com/course/the-complete-javas...|https://img-b.udemycdn.com/course/240x135/85171...|The modern JavaScript course for everyone! Mast...|Current price: E£349.99|Original price: E£1,699.99|                Bestseller|  699,335 students|                  java|    4.7|     156031|               69.0|         320|  all levels|           349.99|\n",
      "|                                     Dr. Angela Yu|    https://www.udemy.com/course/100-days-of-code/|https://img-b.udemycdn.com/course/240x135/27767...|Master Python by building 100 projects in 100 d...|Current price: E£319.99|Original price: E£1,399.99|                Bestseller|  662,274 students|                python|    4.7|     150024|               64.0|         676|  all levels|           319.99|\n",
      "|                                     Jose Portilla|https://www.udemy.com/course/python-for-data-sc...|https://img-b.udemycdn.com/course/240x135/90374...|Learn how to use NumPy, Pandas, Seaborn , Matpl...|Current price: E£319.99|Original price: E£1,399.99|                Bestseller|  588,524 students|   python|data science|    4.6|     122487|               25.0|         165|  all levels|           319.99|\n",
      "|                     365 Careers, 365 Careers Team|https://www.udemy.com/course/the-data-science-c...|https://img-b.udemycdn.com/course/240x135/17540...|Complete Data Science Training: Mathematics, St...|Current price: E£319.99|Original price: E£1,699.99|                Bestseller|  539,202 students|          data science|    4.6|     114535|               32.0|         517|  all levels|           319.99|\n",
      "|                                       Al Sweigart|            https://www.udemy.com/course/automate/|https://img-b.udemycdn.com/course/240x135/54360...|A practical programming course for office worke...|Current price: E£319.99|  Original price: E£479.99|                      null|1,060,445 students|    python|programming|    4.7|     103366|                9.5|          51|  all levels|           319.99|\n",
      "|       GameDev.tv Team, Rick Davidson, Gary Pettie|         https://www.udemy.com/course/unitycourse/|https://img-b.udemycdn.com/course/240x135/25831...|Learn Unity in C# & Code Your First Five 2D Vid...|Current price: E£349.99|Original price: E£1,599.99|                      null|  433,485 students|           game dev|c#|    4.7|      96126|               18.5|         140|  all levels|           349.99|\n",
      "|Tim Buchalka, Jean-Paul Roberts, Tim Buchalka's...|https://www.udemy.com/course/python-the-complet...|https://img-b.udemycdn.com/course/240x135/62930...|This Python For Beginners Course Teaches You Th...|Current price: E£269.99|  Original price: E£849.99|                      null|  394,722 students|    python|programming|    4.6|      94413|               72.5|         534|  all levels|           269.99|\n",
      "|                                      Rahul Shetty|https://www.udemy.com/course/selenium-real-time...|https://img-b.udemycdn.com/course/240x135/35417...|\"\"\"TOP RATED  #1 Master SELENIUM java 4.0 (Late...|Current price: E£319.99|Original price: E£1,399.99|                Bestseller|  280,503 students|             webd|java|    4.6|      89742|               53.5|         327|  all levels|           319.99|\n",
      "|                                 Jonas Schmedtmann|https://www.udemy.com/course/design-and-develop...|https://img-b.udemycdn.com/course/240x135/43739...|Learn modern HTML5, CSS3 and web design by buil...|Current price: E£349.99|Original price: E£1,699.99|                Bestseller|  341,962 students|          css|html|web|    4.8|      85094|               37.5|         151|  all levels|           349.99|\n",
      "|                                     Dr. Angela Yu|https://www.udemy.com/course/ios-13-app-develop...|https://img-b.udemycdn.com/course/240x135/17785...|From Beginner to iOS App Developer with Just On...|Current price: E£349.99|Original price: E£1,699.99|                Bestseller|  311,592 students|                 swift|    4.8|      80067|               60.5|         542|  all levels|           349.99|\n",
      "|                                    Stephen Grider|         https://www.udemy.com/course/react-redux/|https://img-b.udemycdn.com/course/240x135/70526...|Master React and Redux with React Router, Webpa...|Current price: E£319.99|Original price: E£1,399.99|                Bestseller|  275,832 students|                 react|    4.7|      77591|               52.5|         574|  all levels|           319.99|\n",
      "|                       Colt Steele, Ian Schoonover|https://www.udemy.com/course/the-ultimate-mysql...|https://img-b.udemycdn.com/course/240x135/11870...|JUST COMPLETELY REDONE!  Master SQL, Work With ...|Current price: E£319.99|Original price: E£1,399.99|                Bestseller|  344,881 students|                go|sql|    4.6|      74438|               37.5|         650|    beginner|           319.99|\n",
      "|Rob Percival, Codestars • over 2 million studen...|https://www.udemy.com/course/the-complete-web-d...|https://img-b.udemycdn.com/course/240x135/76416...|Learn Web Development by building 25 websites a...|Current price: E£269.99|Original price: E£1,299.99|                      null|  304,994 students|               web dev|    4.6|      70448|               28.5|         288|  all levels|           269.99|\n",
      "+--------------------------------------------------+--------------------------------------------------+--------------------------------------------------+--------------------------------------------------+-----------------------+--------------------------+--------------------------+------------------+----------------------+-------+-----------+-------------------+------------+------------+-----------------+\n",
      "only showing top 20 rows\n",
      "\n"
     ]
    }
   ],
   "source": [
    "DISCOUNT_PRICE_PATTERN = r\"\\d{1,3}\\.\\d{0,2}\"\n",
    "DISCOUNT_PRICE_VALUE = 199.99\n",
    "\n",
    "# Extract the patterns and replace invalid values\n",
    "data = data.withColumn(\n",
    "    \"price_wf_discount\",\n",
    "    F.regexp_extract(\n",
    "        str=F.col(\"price_after_discount\"),\n",
    "        pattern=DISCOUNT_PRICE_PATTERN,\n",
    "        idx=0,\n",
    "    ),\n",
    ").withColumn(\n",
    "    \"price_wf_discount\",\n",
    "    F.when(F.col(\"price_wf_discount\").isNull(), DISCOUNT_PRICE_VALUE)\n",
    "    .when(F.col(\"price_wf_discount\") == \"\", DISCOUNT_PRICE_VALUE)\n",
    "    .otherwise(F.col(\"price_wf_discount\")),\n",
    ")\n",
    "\n",
    "data.show(truncate=50)"
   ]
  },
  {
   "cell_type": "code",
   "execution_count": 25,
   "metadata": {},
   "outputs": [
    {
     "name": "stdout",
     "output_type": "stream",
     "text": [
      "+----------------------------------------+----------------------------------------+----------------------------------------+----------------------------------------+-----------------------+--------------------------+--------------------------+------------------+----------------------+-------+-----------+-------------------+------------+------------+-----------------+--------------+\n",
      "|                              instructor|                              course url|                            course image|                      course description|   price_after_discount|                main_price|               course_flag|    students_count|prog_languages_n_tools|reviews|num_reviews|course_duration_hrs|num_lectures|course_level|price_wf_discount|original_price|\n",
      "+----------------------------------------+----------------------------------------+----------------------------------------+----------------------------------------+-----------------------+--------------------------+--------------------------+------------------+----------------------+-------+-----------+-------------------+------------+------------+-----------------+--------------+\n",
      "|                           Jose Portilla|https://www.udemy.com/course/complete...|https://img-b.udemycdn.com/course/240...|Learn Python like a Professional  Sta...|Current price: E£319.99|Original price: E£1,399.99|                      null|1,629,692 students|                python|    4.6|     440383|               22.0|         155|  all levels|           319.99|       1399.99|\n",
      "|                             Colt Steele|https://www.udemy.com/course/the-web-...|https://img-b.udemycdn.com/course/240...|COMPLETELY REDONE - The only course y...|Current price: E£269.99|Original price: E£1,399.99|                      null|  830,559 students|               web dev|    4.7|     248508|               64.0|         615|  all levels|           269.99|       1399.99|\n",
      "|                           Dr. Angela Yu|https://www.udemy.com/course/the-comp...|https://img-b.udemycdn.com/course/240...|Become a Full-Stack Web Developer wit...|Current price: E£349.99|Original price: E£1,699.99|                Bestseller|  794,897 students|               web dev|    4.7|     234837|               65.5|         490|  all levels|           349.99|       1699.99|\n",
      "|                Maximilian Schwarzmüller|https://www.udemy.com/course/the-comp...|https://img-b.udemycdn.com/course/240...|\"Master Angular 14 (formerly \"\"Angula...|             All Levels|   Current price: E£319.99|Original price: E£1,599.99|        Bestseller|               angular|    4.4|      13779|               15.0|          20|not provided|           199.99|        1200.0|\n",
      "|Tim Buchalka, Tim Buchalka's Learn Pr...|https://www.udemy.com/course/java-the...|https://img-b.udemycdn.com/course/240...|Learn Java In This Course And Become ...|Current price: E£349.99|  Original price: E£849.99|                Bestseller|  727,934 students|      programming|java|    4.5|     171838|               80.5|         401|  all levels|           349.99|        1200.0|\n",
      "|Academind by Maximilian Schwarzmüller...|https://www.udemy.com/course/react-th...|https://img-b.udemycdn.com/course/240...|Dive in and learn React.js from scrat...|Current price: E£319.99|Original price: E£1,599.99|                Bestseller|  649,985 students|                 react|    4.6|     166128|               49.5|         495|  all levels|           319.99|       1599.99|\n",
      "|Kirill Eremenko, Hadelin de Ponteves,...|https://www.udemy.com/course/machinel...|https://img-b.udemycdn.com/course/240...|Learn to create Machine Learning Algo...|Current price: E£269.99|Original price: E£1,299.99|                      null|  900,823 students| python|r|data science|    4.5|     163104|               42.5|         287|  all levels|           269.99|       1299.99|\n",
      "|                       Jonas Schmedtmann|https://www.udemy.com/course/the-comp...|https://img-b.udemycdn.com/course/240...|The modern JavaScript course for ever...|Current price: E£349.99|Original price: E£1,699.99|                Bestseller|  699,335 students|                  java|    4.7|     156031|               69.0|         320|  all levels|           349.99|       1699.99|\n",
      "|                           Dr. Angela Yu|https://www.udemy.com/course/100-days...|https://img-b.udemycdn.com/course/240...|Master Python by building 100 project...|Current price: E£319.99|Original price: E£1,399.99|                Bestseller|  662,274 students|                python|    4.7|     150024|               64.0|         676|  all levels|           319.99|       1399.99|\n",
      "|                           Jose Portilla|https://www.udemy.com/course/python-f...|https://img-b.udemycdn.com/course/240...|Learn how to use NumPy, Pandas, Seabo...|Current price: E£319.99|Original price: E£1,399.99|                Bestseller|  588,524 students|   python|data science|    4.6|     122487|               25.0|         165|  all levels|           319.99|       1399.99|\n",
      "|           365 Careers, 365 Careers Team|https://www.udemy.com/course/the-data...|https://img-b.udemycdn.com/course/240...|Complete Data Science Training: Mathe...|Current price: E£319.99|Original price: E£1,699.99|                Bestseller|  539,202 students|          data science|    4.6|     114535|               32.0|         517|  all levels|           319.99|       1699.99|\n",
      "|                             Al Sweigart|  https://www.udemy.com/course/automate/|https://img-b.udemycdn.com/course/240...|A practical programming course for of...|Current price: E£319.99|  Original price: E£479.99|                      null|1,060,445 students|    python|programming|    4.7|     103366|                9.5|          51|  all levels|           319.99|        1200.0|\n",
      "|GameDev.tv Team, Rick Davidson, Gary ...|https://www.udemy.com/course/unitycou...|https://img-b.udemycdn.com/course/240...|Learn Unity in C# & Code Your First F...|Current price: E£349.99|Original price: E£1,599.99|                      null|  433,485 students|           game dev|c#|    4.7|      96126|               18.5|         140|  all levels|           349.99|       1599.99|\n",
      "|Tim Buchalka, Jean-Paul Roberts, Tim ...|https://www.udemy.com/course/python-t...|https://img-b.udemycdn.com/course/240...|This Python For Beginners Course Teac...|Current price: E£269.99|  Original price: E£849.99|                      null|  394,722 students|    python|programming|    4.6|      94413|               72.5|         534|  all levels|           269.99|        1200.0|\n",
      "|                            Rahul Shetty|https://www.udemy.com/course/selenium...|https://img-b.udemycdn.com/course/240...|\"\"\"TOP RATED  #1 Master SELENIUM java...|Current price: E£319.99|Original price: E£1,399.99|                Bestseller|  280,503 students|             webd|java|    4.6|      89742|               53.5|         327|  all levels|           319.99|       1399.99|\n",
      "|                       Jonas Schmedtmann|https://www.udemy.com/course/design-a...|https://img-b.udemycdn.com/course/240...|Learn modern HTML5, CSS3 and web desi...|Current price: E£349.99|Original price: E£1,699.99|                Bestseller|  341,962 students|          css|html|web|    4.8|      85094|               37.5|         151|  all levels|           349.99|       1699.99|\n",
      "|                           Dr. Angela Yu|https://www.udemy.com/course/ios-13-a...|https://img-b.udemycdn.com/course/240...|From Beginner to iOS App Developer wi...|Current price: E£349.99|Original price: E£1,699.99|                Bestseller|  311,592 students|                 swift|    4.8|      80067|               60.5|         542|  all levels|           349.99|       1699.99|\n",
      "|                          Stephen Grider|https://www.udemy.com/course/react-re...|https://img-b.udemycdn.com/course/240...|Master React and Redux with React Rou...|Current price: E£319.99|Original price: E£1,399.99|                Bestseller|  275,832 students|                 react|    4.7|      77591|               52.5|         574|  all levels|           319.99|       1399.99|\n",
      "|             Colt Steele, Ian Schoonover|https://www.udemy.com/course/the-ulti...|https://img-b.udemycdn.com/course/240...|JUST COMPLETELY REDONE!  Master SQL, ...|Current price: E£319.99|Original price: E£1,399.99|                Bestseller|  344,881 students|                go|sql|    4.6|      74438|               37.5|         650|    beginner|           319.99|       1399.99|\n",
      "|Rob Percival, Codestars • over 2 mill...|https://www.udemy.com/course/the-comp...|https://img-b.udemycdn.com/course/240...|Learn Web Development by building 25 ...|Current price: E£269.99|Original price: E£1,299.99|                      null|  304,994 students|               web dev|    4.6|      70448|               28.5|         288|  all levels|           269.99|       1299.99|\n",
      "+----------------------------------------+----------------------------------------+----------------------------------------+----------------------------------------+-----------------------+--------------------------+--------------------------+------------------+----------------------+-------+-----------+-------------------+------------+------------+-----------------+--------------+\n",
      "only showing top 20 rows\n",
      "\n"
     ]
    }
   ],
   "source": [
    "# Extract the patterns and replace invalid values\n",
    "MAIN_PRICE_PATTERN_1 = r\"Original\\s?price\\s?\\:?\\s?\\w{1}\\W?\\d{1,3}[\\.\\,]\\d{0,3}\\.\\d{0,2}\"\n",
    "MAIN_PRICE_PATTERN_2 = r\"\\d{1,3}[\\.\\,]\\d{1,3}[\\.\\,]?\\d{0,2}\"  # 856.99, 1,234.55\n",
    "MAIN_PRICE_PATTERN_3 = r\"\\,\"\n",
    "MAIN_PRICE_REPL_VALUE = r\"\"\n",
    "MAIN_PRICE_VALUE = 1_200.00\n",
    "\n",
    "data = (\n",
    "    data.withColumn(\n",
    "        \"original_price\",\n",
    "        F.regexp_extract(\n",
    "            str=F.col(\"main_price\"),\n",
    "            pattern=MAIN_PRICE_PATTERN_1,\n",
    "            idx=0,\n",
    "        ),\n",
    "    )\n",
    "    .withColumn(\n",
    "        \"original_price\",\n",
    "        F.regexp_extract(\n",
    "            str=F.col(\"original_price\"), pattern=MAIN_PRICE_PATTERN_2, idx=0\n",
    "        ),\n",
    "    )\n",
    "    .withColumn(\n",
    "        \"original_price\",\n",
    "        F.regexp_replace(\n",
    "            str=F.col(\"original_price\"),\n",
    "            pattern=MAIN_PRICE_PATTERN_3,\n",
    "            replacement=MAIN_PRICE_REPL_VALUE,\n",
    "        ),\n",
    "    )\n",
    "    .withColumn(\n",
    "        \"original_price\",\n",
    "        F.when(F.col(\"original_price\").isNull(), MAIN_PRICE_VALUE)\n",
    "        .when(F.col(\"original_price\") == \"\", MAIN_PRICE_VALUE)\n",
    "        .otherwise(F.col(\"original_price\")),\n",
    "    )\n",
    ")\n",
    "\n",
    "\n",
    "data.show(truncate=40)"
   ]
  },
  {
   "cell_type": "code",
   "execution_count": 26,
   "metadata": {},
   "outputs": [
    {
     "data": {
      "text/plain": [
       "Bestseller                    513\n",
       "Original price: E£1,299.99      3\n",
       "Original price: E£229.99        2\n",
       "Original price: E£1,599.99      1\n",
       "44 total hours                  1\n",
       "Original price: E£1,199.99      1\n",
       "Rahul Shetty                    1\n",
       "E£269.99                        1\n",
       "Intermediate                    1\n",
       "30 lectures                     1\n",
       "Name: course_flag, dtype: int64"
      ]
     },
     "execution_count": 26,
     "metadata": {},
     "output_type": "execute_result"
    }
   ],
   "source": [
    "data.select(\"course_flag\").toPandas()[\"course_flag\"].value_counts()"
   ]
  },
  {
   "cell_type": "code",
   "execution_count": 27,
   "metadata": {},
   "outputs": [
    {
     "name": "stdout",
     "output_type": "stream",
     "text": [
      "+--------------------------+-----+\n",
      "|course_flag               |count|\n",
      "+--------------------------+-----+\n",
      "|Bestseller                |513  |\n",
      "|30 lectures               |1    |\n",
      "|null                      |0    |\n",
      "|E£269.99                  |1    |\n",
      "|Original price: E£229.99  |2    |\n",
      "|Original price: E£1,599.99|1    |\n",
      "|44 total hours            |1    |\n",
      "|Rahul Shetty              |1    |\n",
      "|Intermediate              |1    |\n",
      "|Original price: E£1,199.99|1    |\n",
      "|Original price: E£1,299.99|3    |\n",
      "+--------------------------+-----+\n",
      "\n"
     ]
    }
   ],
   "source": [
    "data.groupBy(\"course_flag\").agg(F.count(\"course_flag\").alias(\"count\")).show(\n",
    "    truncate=False\n",
    ")"
   ]
  },
  {
   "cell_type": "code",
   "execution_count": 28,
   "metadata": {},
   "outputs": [
    {
     "name": "stdout",
     "output_type": "stream",
     "text": [
      "+----------------------------------------+----------------------------------------+----------------------------------------+----------------------------------------+-----------------------+--------------------------+--------------------------+------------------+----------------------+-------+-----------+-------------------+------------+------------+-----------------+--------------+----------+\n",
      "|                              instructor|                              course url|                            course image|                      course description|   price_after_discount|                main_price|               course_flag|    students_count|prog_languages_n_tools|reviews|num_reviews|course_duration_hrs|num_lectures|course_level|price_wf_discount|original_price| flag_bool|\n",
      "+----------------------------------------+----------------------------------------+----------------------------------------+----------------------------------------+-----------------------+--------------------------+--------------------------+------------------+----------------------+-------+-----------+-------------------+------------+------------+-----------------+--------------+----------+\n",
      "|                           Jose Portilla|https://www.udemy.com/course/complete...|https://img-b.udemycdn.com/course/240...|Learn Python like a Professional  Sta...|Current price: E£319.99|Original price: E£1,399.99|                      null|1,629,692 students|                python|    4.6|     440383|               22.0|         155|  all levels|           319.99|       1399.99|       n/a|\n",
      "|                             Colt Steele|https://www.udemy.com/course/the-web-...|https://img-b.udemycdn.com/course/240...|COMPLETELY REDONE - The only course y...|Current price: E£269.99|Original price: E£1,399.99|                      null|  830,559 students|               web dev|    4.7|     248508|               64.0|         615|  all levels|           269.99|       1399.99|       n/a|\n",
      "|                           Dr. Angela Yu|https://www.udemy.com/course/the-comp...|https://img-b.udemycdn.com/course/240...|Become a Full-Stack Web Developer wit...|Current price: E£349.99|Original price: E£1,699.99|                Bestseller|  794,897 students|               web dev|    4.7|     234837|               65.5|         490|  all levels|           349.99|       1699.99|bestseller|\n",
      "|                Maximilian Schwarzmüller|https://www.udemy.com/course/the-comp...|https://img-b.udemycdn.com/course/240...|\"Master Angular 14 (formerly \"\"Angula...|             All Levels|   Current price: E£319.99|Original price: E£1,599.99|        Bestseller|               angular|    4.4|      13779|               15.0|          20|not provided|           199.99|        1200.0|       n/a|\n",
      "|Tim Buchalka, Tim Buchalka's Learn Pr...|https://www.udemy.com/course/java-the...|https://img-b.udemycdn.com/course/240...|Learn Java In This Course And Become ...|Current price: E£349.99|  Original price: E£849.99|                Bestseller|  727,934 students|      programming|java|    4.5|     171838|               80.5|         401|  all levels|           349.99|        1200.0|bestseller|\n",
      "|Academind by Maximilian Schwarzmüller...|https://www.udemy.com/course/react-th...|https://img-b.udemycdn.com/course/240...|Dive in and learn React.js from scrat...|Current price: E£319.99|Original price: E£1,599.99|                Bestseller|  649,985 students|                 react|    4.6|     166128|               49.5|         495|  all levels|           319.99|       1599.99|bestseller|\n",
      "|Kirill Eremenko, Hadelin de Ponteves,...|https://www.udemy.com/course/machinel...|https://img-b.udemycdn.com/course/240...|Learn to create Machine Learning Algo...|Current price: E£269.99|Original price: E£1,299.99|                      null|  900,823 students| python|r|data science|    4.5|     163104|               42.5|         287|  all levels|           269.99|       1299.99|       n/a|\n",
      "|                       Jonas Schmedtmann|https://www.udemy.com/course/the-comp...|https://img-b.udemycdn.com/course/240...|The modern JavaScript course for ever...|Current price: E£349.99|Original price: E£1,699.99|                Bestseller|  699,335 students|                  java|    4.7|     156031|               69.0|         320|  all levels|           349.99|       1699.99|bestseller|\n",
      "|                           Dr. Angela Yu|https://www.udemy.com/course/100-days...|https://img-b.udemycdn.com/course/240...|Master Python by building 100 project...|Current price: E£319.99|Original price: E£1,399.99|                Bestseller|  662,274 students|                python|    4.7|     150024|               64.0|         676|  all levels|           319.99|       1399.99|bestseller|\n",
      "|                           Jose Portilla|https://www.udemy.com/course/python-f...|https://img-b.udemycdn.com/course/240...|Learn how to use NumPy, Pandas, Seabo...|Current price: E£319.99|Original price: E£1,399.99|                Bestseller|  588,524 students|   python|data science|    4.6|     122487|               25.0|         165|  all levels|           319.99|       1399.99|bestseller|\n",
      "|           365 Careers, 365 Careers Team|https://www.udemy.com/course/the-data...|https://img-b.udemycdn.com/course/240...|Complete Data Science Training: Mathe...|Current price: E£319.99|Original price: E£1,699.99|                Bestseller|  539,202 students|          data science|    4.6|     114535|               32.0|         517|  all levels|           319.99|       1699.99|bestseller|\n",
      "|                             Al Sweigart|  https://www.udemy.com/course/automate/|https://img-b.udemycdn.com/course/240...|A practical programming course for of...|Current price: E£319.99|  Original price: E£479.99|                      null|1,060,445 students|    python|programming|    4.7|     103366|                9.5|          51|  all levels|           319.99|        1200.0|       n/a|\n",
      "|GameDev.tv Team, Rick Davidson, Gary ...|https://www.udemy.com/course/unitycou...|https://img-b.udemycdn.com/course/240...|Learn Unity in C# & Code Your First F...|Current price: E£349.99|Original price: E£1,599.99|                      null|  433,485 students|           game dev|c#|    4.7|      96126|               18.5|         140|  all levels|           349.99|       1599.99|       n/a|\n",
      "|Tim Buchalka, Jean-Paul Roberts, Tim ...|https://www.udemy.com/course/python-t...|https://img-b.udemycdn.com/course/240...|This Python For Beginners Course Teac...|Current price: E£269.99|  Original price: E£849.99|                      null|  394,722 students|    python|programming|    4.6|      94413|               72.5|         534|  all levels|           269.99|        1200.0|       n/a|\n",
      "|                            Rahul Shetty|https://www.udemy.com/course/selenium...|https://img-b.udemycdn.com/course/240...|\"\"\"TOP RATED  #1 Master SELENIUM java...|Current price: E£319.99|Original price: E£1,399.99|                Bestseller|  280,503 students|             webd|java|    4.6|      89742|               53.5|         327|  all levels|           319.99|       1399.99|bestseller|\n",
      "|                       Jonas Schmedtmann|https://www.udemy.com/course/design-a...|https://img-b.udemycdn.com/course/240...|Learn modern HTML5, CSS3 and web desi...|Current price: E£349.99|Original price: E£1,699.99|                Bestseller|  341,962 students|          css|html|web|    4.8|      85094|               37.5|         151|  all levels|           349.99|       1699.99|bestseller|\n",
      "|                           Dr. Angela Yu|https://www.udemy.com/course/ios-13-a...|https://img-b.udemycdn.com/course/240...|From Beginner to iOS App Developer wi...|Current price: E£349.99|Original price: E£1,699.99|                Bestseller|  311,592 students|                 swift|    4.8|      80067|               60.5|         542|  all levels|           349.99|       1699.99|bestseller|\n",
      "|                          Stephen Grider|https://www.udemy.com/course/react-re...|https://img-b.udemycdn.com/course/240...|Master React and Redux with React Rou...|Current price: E£319.99|Original price: E£1,399.99|                Bestseller|  275,832 students|                 react|    4.7|      77591|               52.5|         574|  all levels|           319.99|       1399.99|bestseller|\n",
      "|             Colt Steele, Ian Schoonover|https://www.udemy.com/course/the-ulti...|https://img-b.udemycdn.com/course/240...|JUST COMPLETELY REDONE!  Master SQL, ...|Current price: E£319.99|Original price: E£1,399.99|                Bestseller|  344,881 students|                go|sql|    4.6|      74438|               37.5|         650|    beginner|           319.99|       1399.99|bestseller|\n",
      "|Rob Percival, Codestars • over 2 mill...|https://www.udemy.com/course/the-comp...|https://img-b.udemycdn.com/course/240...|Learn Web Development by building 25 ...|Current price: E£269.99|Original price: E£1,299.99|                      null|  304,994 students|               web dev|    4.6|      70448|               28.5|         288|  all levels|           269.99|       1299.99|       n/a|\n",
      "+----------------------------------------+----------------------------------------+----------------------------------------+----------------------------------------+-----------------------+--------------------------+--------------------------+------------------+----------------------+-------+-----------+-------------------+------------+------------+-----------------+--------------+----------+\n",
      "only showing top 20 rows\n",
      "\n"
     ]
    },
    {
     "name": "stderr",
     "output_type": "stream",
     "text": [
      "                                                                                \r"
     ]
    }
   ],
   "source": [
    "# Extract the patterns and replace invalid values\n",
    "COURSE_FLAG_PATTERN = r\"\\s*bestseller\\s*\"\n",
    "COURSE_FLAG_REPL_VALUE = \"n/a\"\n",
    "\n",
    "data = data.withColumn(\n",
    "    \"flag_bool\",\n",
    "    F.regexp_extract(\n",
    "        str=F.lower(F.col(\"course_flag\")), pattern=COURSE_FLAG_PATTERN, idx=0\n",
    "    ),\n",
    ").withColumn(\n",
    "    \"flag_bool\",\n",
    "    F.when(F.col(\"flag_bool\").isNull(), COURSE_FLAG_REPL_VALUE)\n",
    "    .when(F.col(\"flag_bool\") == \"\", COURSE_FLAG_REPL_VALUE)\n",
    "    .otherwise(F.col(\"flag_bool\")),\n",
    ")\n",
    "\n",
    "data.show(truncate=40)"
   ]
  },
  {
   "cell_type": "code",
   "execution_count": 29,
   "metadata": {},
   "outputs": [
    {
     "name": "stdout",
     "output_type": "stream",
     "text": [
      "+----------------------------------------+----------------------------------------+----------------------------------------+----------------------------------------+-----------------------+--------------------------+--------------------------+------------------+----------------------+-------+-----------+-------------------+------------+------------+-----------------+--------------+----------+------------+\n",
      "|                              instructor|                              course url|                            course image|                      course description|   price_after_discount|                main_price|               course_flag|    students_count|prog_languages_n_tools|reviews|num_reviews|course_duration_hrs|num_lectures|course_level|price_wf_discount|original_price| flag_bool|num_students|\n",
      "+----------------------------------------+----------------------------------------+----------------------------------------+----------------------------------------+-----------------------+--------------------------+--------------------------+------------------+----------------------+-------+-----------+-------------------+------------+------------+-----------------+--------------+----------+------------+\n",
      "|                           Jose Portilla|https://www.udemy.com/course/complete...|https://img-b.udemycdn.com/course/240...|Learn Python like a Professional  Sta...|Current price: E£319.99|Original price: E£1,399.99|                      null|1,629,692 students|                python|    4.6|     440383|               22.0|         155|  all levels|           319.99|       1399.99|       n/a|     1629692|\n",
      "|                             Colt Steele|https://www.udemy.com/course/the-web-...|https://img-b.udemycdn.com/course/240...|COMPLETELY REDONE - The only course y...|Current price: E£269.99|Original price: E£1,399.99|                      null|  830,559 students|               web dev|    4.7|     248508|               64.0|         615|  all levels|           269.99|       1399.99|       n/a|      830559|\n",
      "|                           Dr. Angela Yu|https://www.udemy.com/course/the-comp...|https://img-b.udemycdn.com/course/240...|Become a Full-Stack Web Developer wit...|Current price: E£349.99|Original price: E£1,699.99|                Bestseller|  794,897 students|               web dev|    4.7|     234837|               65.5|         490|  all levels|           349.99|       1699.99|bestseller|      794897|\n",
      "|                Maximilian Schwarzmüller|https://www.udemy.com/course/the-comp...|https://img-b.udemycdn.com/course/240...|\"Master Angular 14 (formerly \"\"Angula...|             All Levels|   Current price: E£319.99|Original price: E£1,599.99|        Bestseller|               angular|    4.4|      13779|               15.0|          20|not provided|           199.99|        1200.0|       n/a|       99999|\n",
      "|Tim Buchalka, Tim Buchalka's Learn Pr...|https://www.udemy.com/course/java-the...|https://img-b.udemycdn.com/course/240...|Learn Java In This Course And Become ...|Current price: E£349.99|  Original price: E£849.99|                Bestseller|  727,934 students|      programming|java|    4.5|     171838|               80.5|         401|  all levels|           349.99|        1200.0|bestseller|      727934|\n",
      "|Academind by Maximilian Schwarzmüller...|https://www.udemy.com/course/react-th...|https://img-b.udemycdn.com/course/240...|Dive in and learn React.js from scrat...|Current price: E£319.99|Original price: E£1,599.99|                Bestseller|  649,985 students|                 react|    4.6|     166128|               49.5|         495|  all levels|           319.99|       1599.99|bestseller|      649985|\n",
      "|Kirill Eremenko, Hadelin de Ponteves,...|https://www.udemy.com/course/machinel...|https://img-b.udemycdn.com/course/240...|Learn to create Machine Learning Algo...|Current price: E£269.99|Original price: E£1,299.99|                      null|  900,823 students| python|r|data science|    4.5|     163104|               42.5|         287|  all levels|           269.99|       1299.99|       n/a|      900823|\n",
      "|                       Jonas Schmedtmann|https://www.udemy.com/course/the-comp...|https://img-b.udemycdn.com/course/240...|The modern JavaScript course for ever...|Current price: E£349.99|Original price: E£1,699.99|                Bestseller|  699,335 students|                  java|    4.7|     156031|               69.0|         320|  all levels|           349.99|       1699.99|bestseller|      699335|\n",
      "|                           Dr. Angela Yu|https://www.udemy.com/course/100-days...|https://img-b.udemycdn.com/course/240...|Master Python by building 100 project...|Current price: E£319.99|Original price: E£1,399.99|                Bestseller|  662,274 students|                python|    4.7|     150024|               64.0|         676|  all levels|           319.99|       1399.99|bestseller|      662274|\n",
      "|                           Jose Portilla|https://www.udemy.com/course/python-f...|https://img-b.udemycdn.com/course/240...|Learn how to use NumPy, Pandas, Seabo...|Current price: E£319.99|Original price: E£1,399.99|                Bestseller|  588,524 students|   python|data science|    4.6|     122487|               25.0|         165|  all levels|           319.99|       1399.99|bestseller|      588524|\n",
      "|           365 Careers, 365 Careers Team|https://www.udemy.com/course/the-data...|https://img-b.udemycdn.com/course/240...|Complete Data Science Training: Mathe...|Current price: E£319.99|Original price: E£1,699.99|                Bestseller|  539,202 students|          data science|    4.6|     114535|               32.0|         517|  all levels|           319.99|       1699.99|bestseller|      539202|\n",
      "|                             Al Sweigart|  https://www.udemy.com/course/automate/|https://img-b.udemycdn.com/course/240...|A practical programming course for of...|Current price: E£319.99|  Original price: E£479.99|                      null|1,060,445 students|    python|programming|    4.7|     103366|                9.5|          51|  all levels|           319.99|        1200.0|       n/a|     1060445|\n",
      "|GameDev.tv Team, Rick Davidson, Gary ...|https://www.udemy.com/course/unitycou...|https://img-b.udemycdn.com/course/240...|Learn Unity in C# & Code Your First F...|Current price: E£349.99|Original price: E£1,599.99|                      null|  433,485 students|           game dev|c#|    4.7|      96126|               18.5|         140|  all levels|           349.99|       1599.99|       n/a|      433485|\n",
      "|Tim Buchalka, Jean-Paul Roberts, Tim ...|https://www.udemy.com/course/python-t...|https://img-b.udemycdn.com/course/240...|This Python For Beginners Course Teac...|Current price: E£269.99|  Original price: E£849.99|                      null|  394,722 students|    python|programming|    4.6|      94413|               72.5|         534|  all levels|           269.99|        1200.0|       n/a|      394722|\n",
      "|                            Rahul Shetty|https://www.udemy.com/course/selenium...|https://img-b.udemycdn.com/course/240...|\"\"\"TOP RATED  #1 Master SELENIUM java...|Current price: E£319.99|Original price: E£1,399.99|                Bestseller|  280,503 students|             webd|java|    4.6|      89742|               53.5|         327|  all levels|           319.99|       1399.99|bestseller|      280503|\n",
      "|                       Jonas Schmedtmann|https://www.udemy.com/course/design-a...|https://img-b.udemycdn.com/course/240...|Learn modern HTML5, CSS3 and web desi...|Current price: E£349.99|Original price: E£1,699.99|                Bestseller|  341,962 students|          css|html|web|    4.8|      85094|               37.5|         151|  all levels|           349.99|       1699.99|bestseller|      341962|\n",
      "|                           Dr. Angela Yu|https://www.udemy.com/course/ios-13-a...|https://img-b.udemycdn.com/course/240...|From Beginner to iOS App Developer wi...|Current price: E£349.99|Original price: E£1,699.99|                Bestseller|  311,592 students|                 swift|    4.8|      80067|               60.5|         542|  all levels|           349.99|       1699.99|bestseller|      311592|\n",
      "|                          Stephen Grider|https://www.udemy.com/course/react-re...|https://img-b.udemycdn.com/course/240...|Master React and Redux with React Rou...|Current price: E£319.99|Original price: E£1,399.99|                Bestseller|  275,832 students|                 react|    4.7|      77591|               52.5|         574|  all levels|           319.99|       1399.99|bestseller|      275832|\n",
      "|             Colt Steele, Ian Schoonover|https://www.udemy.com/course/the-ulti...|https://img-b.udemycdn.com/course/240...|JUST COMPLETELY REDONE!  Master SQL, ...|Current price: E£319.99|Original price: E£1,399.99|                Bestseller|  344,881 students|                go|sql|    4.6|      74438|               37.5|         650|    beginner|           319.99|       1399.99|bestseller|      344881|\n",
      "|Rob Percival, Codestars • over 2 mill...|https://www.udemy.com/course/the-comp...|https://img-b.udemycdn.com/course/240...|Learn Web Development by building 25 ...|Current price: E£269.99|Original price: E£1,299.99|                      null|  304,994 students|               web dev|    4.6|      70448|               28.5|         288|  all levels|           269.99|       1299.99|       n/a|      304994|\n",
      "+----------------------------------------+----------------------------------------+----------------------------------------+----------------------------------------+-----------------------+--------------------------+--------------------------+------------------+----------------------+-------+-----------+-------------------+------------+------------+-----------------+--------------+----------+------------+\n",
      "only showing top 20 rows\n",
      "\n"
     ]
    }
   ],
   "source": [
    "# Extract the patterns and replace invalid values\n",
    "NUM_STUDENTS_PATTERN_1 = r\"\\d{1,3}\\,\\d{1,3}\\,?\\d{0,3}\"\n",
    "NUM_STUDENTS_PATTERN_2 = r\"\\,\"\n",
    "NUM_STUDENTS_REPL_VALUE = 99_999\n",
    "\n",
    "\n",
    "data = (\n",
    "    data.withColumn(\n",
    "        \"num_students\",\n",
    "        F.regexp_extract(\n",
    "            str=F.col(\"students_count\"), pattern=NUM_STUDENTS_PATTERN_1, idx=0\n",
    "        ),\n",
    "    )\n",
    "    .withColumn(\n",
    "        \"num_students\",\n",
    "        F.regexp_replace(\n",
    "            str=F.col(\"num_students\"), pattern=NUM_STUDENTS_PATTERN_2, replacement=\"\"\n",
    "        ),\n",
    "    )\n",
    "    .withColumn(\n",
    "        \"num_students\",\n",
    "        F.when(F.col(\"num_students\").isNull(), NUM_STUDENTS_REPL_VALUE)\n",
    "        .when(F.col(\"num_students\") == \"\", NUM_STUDENTS_REPL_VALUE)\n",
    "        .otherwise(F.col(\"num_students\")),\n",
    "    )\n",
    ")\n",
    "\n",
    "data.show(truncate=40)"
   ]
  },
  {
   "cell_type": "code",
   "execution_count": 30,
   "metadata": {},
   "outputs": [
    {
     "name": "stdout",
     "output_type": "stream",
     "text": [
      "+--------------------------------------------------+--------------------------------------------------+--------------------------------------------------+--------------------------------------------------+----------------------+-------+-----------+-------------------+------------+------------+-----------------+--------------+----------+------------+\n",
      "|                                        instructor|                                        course url|                                      course image|                                course description|prog_languages_n_tools|reviews|num_reviews|course_duration_hrs|num_lectures|course_level|price_wf_discount|original_price| flag_bool|num_students|\n",
      "+--------------------------------------------------+--------------------------------------------------+--------------------------------------------------+--------------------------------------------------+----------------------+-------+-----------+-------------------+------------+------------+-----------------+--------------+----------+------------+\n",
      "|                                     Jose Portilla|https://www.udemy.com/course/complete-python-bo...|https://img-b.udemycdn.com/course/240x135/56782...|Learn Python like a Professional  Start from th...|                python|    4.6|     440383|               22.0|         155|  all levels|           319.99|       1399.99|       n/a|     1629692|\n",
      "|                                       Colt Steele|https://www.udemy.com/course/the-web-developer-...|https://img-b.udemycdn.com/course/240x135/62520...|COMPLETELY REDONE - The only course you need to...|               web dev|    4.7|     248508|               64.0|         615|  all levels|           269.99|       1399.99|       n/a|      830559|\n",
      "|                                     Dr. Angela Yu|https://www.udemy.com/course/the-complete-web-d...|https://img-b.udemycdn.com/course/240x135/15658...|Become a Full-Stack Web Developer with just ONE...|               web dev|    4.7|     234837|               65.5|         490|  all levels|           349.99|       1699.99|bestseller|      794897|\n",
      "|                          Maximilian Schwarzmüller|https://www.udemy.com/course/the-complete-guide...|https://img-b.udemycdn.com/course/240x135/75615...|\"Master Angular 14 (formerly \"\"Angular 2\"\") and...|               angular|    4.4|      13779|               15.0|          20|not provided|           199.99|        1200.0|       n/a|       99999|\n",
      "|Tim Buchalka, Tim Buchalka's Learn Programming ...|https://www.udemy.com/course/java-the-complete-...|https://img-b.udemycdn.com/course/240x135/53368...|Learn Java In This Course And Become a Computer...|      programming|java|    4.5|     171838|               80.5|         401|  all levels|           349.99|        1200.0|bestseller|      727934|\n",
      "|Academind by Maximilian Schwarzmüller, Maximili...|https://www.udemy.com/course/react-the-complete...|https://img-b.udemycdn.com/course/240x135/13620...|Dive in and learn React.js from scratch! Learn ...|                 react|    4.6|     166128|               49.5|         495|  all levels|           319.99|       1599.99|bestseller|      649985|\n",
      "|Kirill Eremenko, Hadelin de Ponteves, Ligency I...|     https://www.udemy.com/course/machinelearning/|https://img-b.udemycdn.com/course/240x135/95039...|Learn to create Machine Learning Algorithms in ...| python|r|data science|    4.5|     163104|               42.5|         287|  all levels|           269.99|       1299.99|       n/a|      900823|\n",
      "|                                 Jonas Schmedtmann|https://www.udemy.com/course/the-complete-javas...|https://img-b.udemycdn.com/course/240x135/85171...|The modern JavaScript course for everyone! Mast...|                  java|    4.7|     156031|               69.0|         320|  all levels|           349.99|       1699.99|bestseller|      699335|\n",
      "|                                     Dr. Angela Yu|    https://www.udemy.com/course/100-days-of-code/|https://img-b.udemycdn.com/course/240x135/27767...|Master Python by building 100 projects in 100 d...|                python|    4.7|     150024|               64.0|         676|  all levels|           319.99|       1399.99|bestseller|      662274|\n",
      "|                                     Jose Portilla|https://www.udemy.com/course/python-for-data-sc...|https://img-b.udemycdn.com/course/240x135/90374...|Learn how to use NumPy, Pandas, Seaborn , Matpl...|   python|data science|    4.6|     122487|               25.0|         165|  all levels|           319.99|       1399.99|bestseller|      588524|\n",
      "|                     365 Careers, 365 Careers Team|https://www.udemy.com/course/the-data-science-c...|https://img-b.udemycdn.com/course/240x135/17540...|Complete Data Science Training: Mathematics, St...|          data science|    4.6|     114535|               32.0|         517|  all levels|           319.99|       1699.99|bestseller|      539202|\n",
      "|                                       Al Sweigart|            https://www.udemy.com/course/automate/|https://img-b.udemycdn.com/course/240x135/54360...|A practical programming course for office worke...|    python|programming|    4.7|     103366|                9.5|          51|  all levels|           319.99|        1200.0|       n/a|     1060445|\n",
      "|       GameDev.tv Team, Rick Davidson, Gary Pettie|         https://www.udemy.com/course/unitycourse/|https://img-b.udemycdn.com/course/240x135/25831...|Learn Unity in C# & Code Your First Five 2D Vid...|           game dev|c#|    4.7|      96126|               18.5|         140|  all levels|           349.99|       1599.99|       n/a|      433485|\n",
      "|Tim Buchalka, Jean-Paul Roberts, Tim Buchalka's...|https://www.udemy.com/course/python-the-complet...|https://img-b.udemycdn.com/course/240x135/62930...|This Python For Beginners Course Teaches You Th...|    python|programming|    4.6|      94413|               72.5|         534|  all levels|           269.99|        1200.0|       n/a|      394722|\n",
      "|                                      Rahul Shetty|https://www.udemy.com/course/selenium-real-time...|https://img-b.udemycdn.com/course/240x135/35417...|\"\"\"TOP RATED  #1 Master SELENIUM java 4.0 (Late...|             webd|java|    4.6|      89742|               53.5|         327|  all levels|           319.99|       1399.99|bestseller|      280503|\n",
      "|                                 Jonas Schmedtmann|https://www.udemy.com/course/design-and-develop...|https://img-b.udemycdn.com/course/240x135/43739...|Learn modern HTML5, CSS3 and web design by buil...|          css|html|web|    4.8|      85094|               37.5|         151|  all levels|           349.99|       1699.99|bestseller|      341962|\n",
      "|                                     Dr. Angela Yu|https://www.udemy.com/course/ios-13-app-develop...|https://img-b.udemycdn.com/course/240x135/17785...|From Beginner to iOS App Developer with Just On...|                 swift|    4.8|      80067|               60.5|         542|  all levels|           349.99|       1699.99|bestseller|      311592|\n",
      "|                                    Stephen Grider|         https://www.udemy.com/course/react-redux/|https://img-b.udemycdn.com/course/240x135/70526...|Master React and Redux with React Router, Webpa...|                 react|    4.7|      77591|               52.5|         574|  all levels|           319.99|       1399.99|bestseller|      275832|\n",
      "|                       Colt Steele, Ian Schoonover|https://www.udemy.com/course/the-ultimate-mysql...|https://img-b.udemycdn.com/course/240x135/11870...|JUST COMPLETELY REDONE!  Master SQL, Work With ...|                go|sql|    4.6|      74438|               37.5|         650|    beginner|           319.99|       1399.99|bestseller|      344881|\n",
      "|Rob Percival, Codestars • over 2 million studen...|https://www.udemy.com/course/the-complete-web-d...|https://img-b.udemycdn.com/course/240x135/76416...|Learn Web Development by building 25 websites a...|               web dev|    4.6|      70448|               28.5|         288|  all levels|           269.99|       1299.99|       n/a|      304994|\n",
      "+--------------------------------------------------+--------------------------------------------------+--------------------------------------------------+--------------------------------------------------+----------------------+-------+-----------+-------------------+------------+------------+-----------------+--------------+----------+------------+\n",
      "only showing top 20 rows\n",
      "\n"
     ]
    }
   ],
   "source": [
    "# Drop irrelevant columns\n",
    "data = data.drop(\"price_after_discount\", \"main_price\", \"course_flag\", \"students_count\")\n",
    "\n",
    "data.show(truncate=50)"
   ]
  },
  {
   "cell_type": "code",
   "execution_count": 31,
   "metadata": {},
   "outputs": [
    {
     "name": "stdout",
     "output_type": "stream",
     "text": [
      "+----------+----------+----------+-------------+----------+\n",
      "|min_review|max_review|avg_review|median_review|std_review|\n",
      "+----------+----------+----------+-------------+----------+\n",
      "|       1.7|       9.9|      4.31|          4.4|       0.4|\n",
      "+----------+----------+----------+-------------+----------+\n",
      "\n"
     ]
    }
   ],
   "source": [
    "# Summary stats of course rating\n",
    "data.agg(\n",
    "    F.min(\"reviews\").alias(\"min_review\"),\n",
    "    F.max(\"reviews\").alias(\"max_review\"),\n",
    "    F.round(F.avg(\"reviews\"), 2).alias(\"avg_review\"),\n",
    "    F.expr(\"percentile(reviews, 0.5)\").alias(\"median_review\"),\n",
    "    F.round(F.stddev(\"reviews\"), 2).alias(\"std_review\"),\n",
    ").show()"
   ]
  },
  {
   "cell_type": "code",
   "execution_count": 32,
   "metadata": {},
   "outputs": [
    {
     "name": "stderr",
     "output_type": "stream",
     "text": [
      "                                                                                \r"
     ]
    },
    {
     "data": {
      "text/html": [
       "<div>\n",
       "<style scoped>\n",
       "    .dataframe tbody tr th:only-of-type {\n",
       "        vertical-align: middle;\n",
       "    }\n",
       "\n",
       "    .dataframe tbody tr th {\n",
       "        vertical-align: top;\n",
       "    }\n",
       "\n",
       "    .dataframe thead th {\n",
       "        text-align: right;\n",
       "    }\n",
       "</style>\n",
       "<table border=\"1\" class=\"dataframe\">\n",
       "  <thead>\n",
       "    <tr style=\"text-align: right;\">\n",
       "      <th></th>\n",
       "      <th>instructor</th>\n",
       "      <th>course url</th>\n",
       "      <th>course image</th>\n",
       "      <th>course description</th>\n",
       "      <th>prog_languages_n_tools</th>\n",
       "      <th>reviews</th>\n",
       "      <th>num_reviews</th>\n",
       "      <th>course_duration_hrs</th>\n",
       "      <th>num_lectures</th>\n",
       "      <th>course_level</th>\n",
       "      <th>price_wf_discount</th>\n",
       "      <th>original_price</th>\n",
       "      <th>flag_bool</th>\n",
       "      <th>num_students</th>\n",
       "    </tr>\n",
       "  </thead>\n",
       "  <tbody>\n",
       "    <tr>\n",
       "      <th>0</th>\n",
       "      <td>Jose Portilla</td>\n",
       "      <td>https://www.udemy.com/course/complete-python-b...</td>\n",
       "      <td>https://img-b.udemycdn.com/course/240x135/5678...</td>\n",
       "      <td>Learn Python like a Professional  Start from t...</td>\n",
       "      <td>python</td>\n",
       "      <td>4.6</td>\n",
       "      <td>440383</td>\n",
       "      <td>22.0</td>\n",
       "      <td>155</td>\n",
       "      <td>all levels</td>\n",
       "      <td>319.99</td>\n",
       "      <td>1399.99</td>\n",
       "      <td>n/a</td>\n",
       "      <td>1629692</td>\n",
       "    </tr>\n",
       "    <tr>\n",
       "      <th>1</th>\n",
       "      <td>Colt Steele</td>\n",
       "      <td>https://www.udemy.com/course/the-web-developer...</td>\n",
       "      <td>https://img-b.udemycdn.com/course/240x135/6252...</td>\n",
       "      <td>COMPLETELY REDONE - The only course you need t...</td>\n",
       "      <td>web dev</td>\n",
       "      <td>4.7</td>\n",
       "      <td>248508</td>\n",
       "      <td>64.0</td>\n",
       "      <td>615</td>\n",
       "      <td>all levels</td>\n",
       "      <td>269.99</td>\n",
       "      <td>1399.99</td>\n",
       "      <td>n/a</td>\n",
       "      <td>830559</td>\n",
       "    </tr>\n",
       "    <tr>\n",
       "      <th>2</th>\n",
       "      <td>Dr. Angela Yu</td>\n",
       "      <td>https://www.udemy.com/course/the-complete-web-...</td>\n",
       "      <td>https://img-b.udemycdn.com/course/240x135/1565...</td>\n",
       "      <td>Become a Full-Stack Web Developer with just ON...</td>\n",
       "      <td>web dev</td>\n",
       "      <td>4.7</td>\n",
       "      <td>234837</td>\n",
       "      <td>65.5</td>\n",
       "      <td>490</td>\n",
       "      <td>all levels</td>\n",
       "      <td>349.99</td>\n",
       "      <td>1699.99</td>\n",
       "      <td>bestseller</td>\n",
       "      <td>794897</td>\n",
       "    </tr>\n",
       "    <tr>\n",
       "      <th>3</th>\n",
       "      <td>Maximilian Schwarzmüller</td>\n",
       "      <td>https://www.udemy.com/course/the-complete-guid...</td>\n",
       "      <td>https://img-b.udemycdn.com/course/240x135/7561...</td>\n",
       "      <td>\"Master Angular 14 (formerly \"\"Angular 2\"\") an...</td>\n",
       "      <td>angular</td>\n",
       "      <td>4.4</td>\n",
       "      <td>13779</td>\n",
       "      <td>15.0</td>\n",
       "      <td>20</td>\n",
       "      <td>not provided</td>\n",
       "      <td>199.99</td>\n",
       "      <td>1200.0</td>\n",
       "      <td>n/a</td>\n",
       "      <td>99999</td>\n",
       "    </tr>\n",
       "    <tr>\n",
       "      <th>4</th>\n",
       "      <td>Tim Buchalka, Tim Buchalka's Learn Programming...</td>\n",
       "      <td>https://www.udemy.com/course/java-the-complete...</td>\n",
       "      <td>https://img-b.udemycdn.com/course/240x135/5336...</td>\n",
       "      <td>Learn Java In This Course And Become a Compute...</td>\n",
       "      <td>programming|java</td>\n",
       "      <td>4.5</td>\n",
       "      <td>171838</td>\n",
       "      <td>80.5</td>\n",
       "      <td>401</td>\n",
       "      <td>all levels</td>\n",
       "      <td>349.99</td>\n",
       "      <td>1200.0</td>\n",
       "      <td>bestseller</td>\n",
       "      <td>727934</td>\n",
       "    </tr>\n",
       "    <tr>\n",
       "      <th>...</th>\n",
       "      <td>...</td>\n",
       "      <td>...</td>\n",
       "      <td>...</td>\n",
       "      <td>...</td>\n",
       "      <td>...</td>\n",
       "      <td>...</td>\n",
       "      <td>...</td>\n",
       "      <td>...</td>\n",
       "      <td>...</td>\n",
       "      <td>...</td>\n",
       "      <td>...</td>\n",
       "      <td>...</td>\n",
       "      <td>...</td>\n",
       "      <td>...</td>\n",
       "    </tr>\n",
       "    <tr>\n",
       "      <th>5022</th>\n",
       "      <td>Serkan Büyüktopçu</td>\n",
       "      <td>https://www.udemy.com/course/siemens-wincc-scada/</td>\n",
       "      <td>https://img-b.udemycdn.com/course/240x135/2858...</td>\n",
       "      <td>This course is a great push for any one who wa...</td>\n",
       "      <td>programming|ada</td>\n",
       "      <td>3.6</td>\n",
       "      <td>13779</td>\n",
       "      <td>2.5</td>\n",
       "      <td>17</td>\n",
       "      <td>expert</td>\n",
       "      <td>519.99</td>\n",
       "      <td>1200.0</td>\n",
       "      <td>n/a</td>\n",
       "      <td>99999</td>\n",
       "    </tr>\n",
       "    <tr>\n",
       "      <th>5023</th>\n",
       "      <td>Andy Bek</td>\n",
       "      <td>https://www.udemy.com/course/object-oriented-p...</td>\n",
       "      <td>https://img-b.udemycdn.com/course/240x135/4450...</td>\n",
       "      <td>Deep OOP Foundations From Absolute Scratch</td>\n",
       "      <td>python|programming</td>\n",
       "      <td>4.5</td>\n",
       "      <td>13779</td>\n",
       "      <td>27.0</td>\n",
       "      <td>231</td>\n",
       "      <td>all levels</td>\n",
       "      <td>199.99</td>\n",
       "      <td>1200.0</td>\n",
       "      <td>n/a</td>\n",
       "      <td>1102</td>\n",
       "    </tr>\n",
       "    <tr>\n",
       "      <th>5024</th>\n",
       "      <td>Learn Tech Plus</td>\n",
       "      <td>https://www.udemy.com/course/learn-basic-jquery/</td>\n",
       "      <td>https://img-b.udemycdn.com/course/240x135/2554...</td>\n",
       "      <td>Everything you need to know to Build a Retirem...</td>\n",
       "      <td>jquery</td>\n",
       "      <td>3.8</td>\n",
       "      <td>13779</td>\n",
       "      <td>NaN</td>\n",
       "      <td>102</td>\n",
       "      <td>beginner</td>\n",
       "      <td>299.99</td>\n",
       "      <td>1200.0</td>\n",
       "      <td>n/a</td>\n",
       "      <td>45245</td>\n",
       "    </tr>\n",
       "    <tr>\n",
       "      <th>5025</th>\n",
       "      <td>Bluelime Learning Solutions</td>\n",
       "      <td>https://www.udemy.com/course/introduction-to-a...</td>\n",
       "      <td>https://img-b.udemycdn.com/course/240x135/1389...</td>\n",
       "      <td>Create an Android App step by step from scratch</td>\n",
       "      <td>android</td>\n",
       "      <td>3.6</td>\n",
       "      <td>13779</td>\n",
       "      <td>NaN</td>\n",
       "      <td>71</td>\n",
       "      <td>beginner</td>\n",
       "      <td>749.99</td>\n",
       "      <td>1200.0</td>\n",
       "      <td>n/a</td>\n",
       "      <td>4653</td>\n",
       "    </tr>\n",
       "    <tr>\n",
       "      <th>5026</th>\n",
       "      <td>ITUniversity.RO Academy, Gabriel Avramescu</td>\n",
       "      <td>https://www.udemy.com/course/basics-of-program...</td>\n",
       "      <td>https://img-b.udemycdn.com/course/240x135/1949...</td>\n",
       "      <td>Most cars, IoT devices or embedded devices hav...</td>\n",
       "      <td></td>\n",
       "      <td>5.0</td>\n",
       "      <td>13779</td>\n",
       "      <td>1.5</td>\n",
       "      <td>20</td>\n",
       "      <td>beginner</td>\n",
       "      <td>229.99</td>\n",
       "      <td>1200.0</td>\n",
       "      <td>n/a</td>\n",
       "      <td>99999</td>\n",
       "    </tr>\n",
       "  </tbody>\n",
       "</table>\n",
       "<p>5027 rows × 14 columns</p>\n",
       "</div>"
      ],
      "text/plain": [
       "                                             instructor  \\\n",
       "0                                         Jose Portilla   \n",
       "1                                           Colt Steele   \n",
       "2                                         Dr. Angela Yu   \n",
       "3                              Maximilian Schwarzmüller   \n",
       "4     Tim Buchalka, Tim Buchalka's Learn Programming...   \n",
       "...                                                 ...   \n",
       "5022                                  Serkan Büyüktopçu   \n",
       "5023                                           Andy Bek   \n",
       "5024                                    Learn Tech Plus   \n",
       "5025                        Bluelime Learning Solutions   \n",
       "5026         ITUniversity.RO Academy, Gabriel Avramescu   \n",
       "\n",
       "                                             course url  \\\n",
       "0     https://www.udemy.com/course/complete-python-b...   \n",
       "1     https://www.udemy.com/course/the-web-developer...   \n",
       "2     https://www.udemy.com/course/the-complete-web-...   \n",
       "3     https://www.udemy.com/course/the-complete-guid...   \n",
       "4     https://www.udemy.com/course/java-the-complete...   \n",
       "...                                                 ...   \n",
       "5022  https://www.udemy.com/course/siemens-wincc-scada/   \n",
       "5023  https://www.udemy.com/course/object-oriented-p...   \n",
       "5024   https://www.udemy.com/course/learn-basic-jquery/   \n",
       "5025  https://www.udemy.com/course/introduction-to-a...   \n",
       "5026  https://www.udemy.com/course/basics-of-program...   \n",
       "\n",
       "                                           course image  \\\n",
       "0     https://img-b.udemycdn.com/course/240x135/5678...   \n",
       "1     https://img-b.udemycdn.com/course/240x135/6252...   \n",
       "2     https://img-b.udemycdn.com/course/240x135/1565...   \n",
       "3     https://img-b.udemycdn.com/course/240x135/7561...   \n",
       "4     https://img-b.udemycdn.com/course/240x135/5336...   \n",
       "...                                                 ...   \n",
       "5022  https://img-b.udemycdn.com/course/240x135/2858...   \n",
       "5023  https://img-b.udemycdn.com/course/240x135/4450...   \n",
       "5024  https://img-b.udemycdn.com/course/240x135/2554...   \n",
       "5025  https://img-b.udemycdn.com/course/240x135/1389...   \n",
       "5026  https://img-b.udemycdn.com/course/240x135/1949...   \n",
       "\n",
       "                                     course description  \\\n",
       "0     Learn Python like a Professional  Start from t...   \n",
       "1     COMPLETELY REDONE - The only course you need t...   \n",
       "2     Become a Full-Stack Web Developer with just ON...   \n",
       "3     \"Master Angular 14 (formerly \"\"Angular 2\"\") an...   \n",
       "4     Learn Java In This Course And Become a Compute...   \n",
       "...                                                 ...   \n",
       "5022  This course is a great push for any one who wa...   \n",
       "5023         Deep OOP Foundations From Absolute Scratch   \n",
       "5024  Everything you need to know to Build a Retirem...   \n",
       "5025    Create an Android App step by step from scratch   \n",
       "5026  Most cars, IoT devices or embedded devices hav...   \n",
       "\n",
       "     prog_languages_n_tools  reviews  num_reviews  course_duration_hrs  \\\n",
       "0                    python      4.6       440383                 22.0   \n",
       "1                   web dev      4.7       248508                 64.0   \n",
       "2                   web dev      4.7       234837                 65.5   \n",
       "3                   angular      4.4        13779                 15.0   \n",
       "4          programming|java      4.5       171838                 80.5   \n",
       "...                     ...      ...          ...                  ...   \n",
       "5022        programming|ada      3.6        13779                  2.5   \n",
       "5023     python|programming      4.5        13779                 27.0   \n",
       "5024                 jquery      3.8        13779                  NaN   \n",
       "5025                android      3.6        13779                  NaN   \n",
       "5026                             5.0        13779                  1.5   \n",
       "\n",
       "      num_lectures  course_level price_wf_discount original_price   flag_bool  \\\n",
       "0              155    all levels            319.99        1399.99         n/a   \n",
       "1              615    all levels            269.99        1399.99         n/a   \n",
       "2              490    all levels            349.99        1699.99  bestseller   \n",
       "3               20  not provided            199.99         1200.0         n/a   \n",
       "4              401    all levels            349.99         1200.0  bestseller   \n",
       "...            ...           ...               ...            ...         ...   \n",
       "5022            17        expert            519.99         1200.0         n/a   \n",
       "5023           231    all levels            199.99         1200.0         n/a   \n",
       "5024           102      beginner            299.99         1200.0         n/a   \n",
       "5025            71      beginner            749.99         1200.0         n/a   \n",
       "5026            20      beginner            229.99         1200.0         n/a   \n",
       "\n",
       "     num_students  \n",
       "0         1629692  \n",
       "1          830559  \n",
       "2          794897  \n",
       "3           99999  \n",
       "4          727934  \n",
       "...           ...  \n",
       "5022        99999  \n",
       "5023         1102  \n",
       "5024        45245  \n",
       "5025         4653  \n",
       "5026        99999  \n",
       "\n",
       "[5027 rows x 14 columns]"
      ]
     },
     "execution_count": 32,
     "metadata": {},
     "output_type": "execute_result"
    }
   ],
   "source": [
    "data.toPandas()"
   ]
  },
  {
   "cell_type": "code",
   "execution_count": null,
   "metadata": {},
   "outputs": [],
   "source": []
  },
  {
   "cell_type": "code",
   "execution_count": null,
   "metadata": {},
   "outputs": [],
   "source": []
  },
  {
   "cell_type": "code",
   "execution_count": null,
   "metadata": {},
   "outputs": [],
   "source": []
  },
  {
   "cell_type": "code",
   "execution_count": null,
   "metadata": {},
   "outputs": [],
   "source": []
  },
  {
   "cell_type": "code",
   "execution_count": null,
   "metadata": {},
   "outputs": [],
   "source": []
  },
  {
   "cell_type": "code",
   "execution_count": null,
   "metadata": {},
   "outputs": [],
   "source": []
  }
 ],
 "metadata": {
  "kernelspec": {
   "display_name": "pyspark_env",
   "language": "python",
   "name": "pyspark_env"
  },
  "language_info": {
   "codemirror_mode": {
    "name": "ipython",
    "version": 3
   },
   "file_extension": ".py",
   "mimetype": "text/x-python",
   "name": "python",
   "nbconvert_exporter": "python",
   "pygments_lexer": "ipython3",
   "version": "3.9.7"
  },
  "orig_nbformat": 4
 },
 "nbformat": 4,
 "nbformat_minor": 2
}
