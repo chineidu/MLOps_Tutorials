{
 "cells": [
  {
   "cell_type": "markdown",
   "metadata": {},
   "source": [
    "# Introduction To Dask"
   ]
  },
  {
   "cell_type": "code",
   "execution_count": 1,
   "metadata": {},
   "outputs": [],
   "source": [
    "# Built-in library\n",
    "from pathlib import Path\n",
    "import re\n",
    "import json\n",
    "from typing import Any, Optional, Union\n",
    "import logging\n",
    "import warnings\n",
    "\n",
    "# Standard imports\n",
    "import numpy as np\n",
    "import numpy.typing as npt\n",
    "from pprint import pprint\n",
    "import pandas as pd\n",
    "import polars as pl\n",
    "from rich.console import Console\n",
    "from rich.theme import Theme\n",
    "\n",
    "custom_theme = Theme(\n",
    "    {\n",
    "        \"info\": \"#76FF7B\",\n",
    "        \"warning\": \"#FBDDFE\",\n",
    "        \"error\": \"#FF0000\",\n",
    "    }\n",
    ")\n",
    "console = Console(theme=custom_theme)\n",
    "\n",
    "# Visualization\n",
    "import matplotlib.pyplot as plt\n",
    "\n",
    "\n",
    "# Pandas settings\n",
    "pd.options.display.max_rows = 1_000\n",
    "pd.options.display.max_columns = 1_000\n",
    "pd.options.display.max_colwidth = 600\n",
    "\n",
    "warnings.filterwarnings(\"ignore\")\n",
    "\n",
    "# Add seed\n",
    "np.random.seed(0)\n",
    "\n",
    "# Black code formatter (Optional)\n",
    "%load_ext lab_black\n",
    "\n",
    "# auto reload imports\n",
    "%load_ext autoreload\n",
    "%autoreload 2"
   ]
  },
  {
   "cell_type": "code",
   "execution_count": 2,
   "metadata": {},
   "outputs": [],
   "source": [
    "# Import Dask\n",
    "import dask\n",
    "import dask.dataframe as dd"
   ]
  },
  {
   "cell_type": "markdown",
   "metadata": {},
   "source": [
    "## Dask DataFrames\n",
    "\n",
    "- Dask Dataframes parallelize the popular pandas library, providing:\n",
    "  - Larger-than-memory execution for single machines, allowing you to process data that is larger than your available RAM.\n",
    "  - Parallel execution for faster processing.\n",
    "  - Distributed computation for terabyte-sized datasets.\n",
    "- It can be thought of as a `collection of many Pandas DataFrames`.\n",
    "\n",
    "<img src=\"./images/dask_dfs.png\" alt=\"Dask DataFrame\" width=\"400\">"
   ]
  },
  {
   "cell_type": "code",
   "execution_count": 3,
   "metadata": {},
   "outputs": [],
   "source": [
    "# Set seet for reproducibility\n",
    "np.random.seed(seed=123)\n",
    "\n",
    "\n",
    "def main() -> None:\n",
    "    # Create data\n",
    "    N: int = 5_000\n",
    "    data_dict: dict[str, Any] = {\n",
    "        \"a\": np.arange(N),\n",
    "        \"b\": np.random.randn(N),\n",
    "        \"c\": np.random.choice([\"a\", \"b\", \"c\"], size=N),\n",
    "    }\n",
    "\n",
    "    # Create Pandas DF\n",
    "    df_pandas: pd.DataFrame = pd.DataFrame(data_dict)\n",
    "    console.print(f\"df_pandas: \\n{df_pandas.head()}\")\n",
    "\n",
    "    # Create Dask DF from Pandas DF\n",
    "    df_dask: dd.DataFrame = dd.from_pandas(\n",
    "        data=df_pandas,\n",
    "        npartitions=10,  # this will partition the dataframe into 10 (Pandas DFs) partitions\n",
    "    )\n",
    "    # Lazy Evaluation\n",
    "    console.print(f\"Lazy Evaluation [df_dask]: {df_dask}\")\n",
    "    console.print(f\"df_dask: \\n{df_dask.head()}\")\n",
    "    console.print(f\"Convert to Pandas [df_dask]: {df_dask.compute()}\")"
   ]
  },
  {
   "cell_type": "code",
   "execution_count": 4,
   "metadata": {},
   "outputs": [
    {
     "data": {
      "text/html": [
       "<pre style=\"white-space:pre;overflow-x:auto;line-height:normal;font-family:Menlo,'DejaVu Sans Mono',consolas,'Courier New',monospace\">df_pandas: \n",
       "   a         b  c\n",
       "<span style=\"color: #008080; text-decoration-color: #008080; font-weight: bold\">0</span>  <span style=\"color: #008080; text-decoration-color: #008080; font-weight: bold\">0</span> <span style=\"color: #008080; text-decoration-color: #008080; font-weight: bold\">-1.085631</span>  a\n",
       "<span style=\"color: #008080; text-decoration-color: #008080; font-weight: bold\">1</span>  <span style=\"color: #008080; text-decoration-color: #008080; font-weight: bold\">1</span>  <span style=\"color: #008080; text-decoration-color: #008080; font-weight: bold\">0.997345</span>  c\n",
       "<span style=\"color: #008080; text-decoration-color: #008080; font-weight: bold\">2</span>  <span style=\"color: #008080; text-decoration-color: #008080; font-weight: bold\">2</span>  <span style=\"color: #008080; text-decoration-color: #008080; font-weight: bold\">0.282978</span>  a\n",
       "<span style=\"color: #008080; text-decoration-color: #008080; font-weight: bold\">3</span>  <span style=\"color: #008080; text-decoration-color: #008080; font-weight: bold\">3</span> <span style=\"color: #008080; text-decoration-color: #008080; font-weight: bold\">-1.506295</span>  a\n",
       "<span style=\"color: #008080; text-decoration-color: #008080; font-weight: bold\">4</span>  <span style=\"color: #008080; text-decoration-color: #008080; font-weight: bold\">4</span> <span style=\"color: #008080; text-decoration-color: #008080; font-weight: bold\">-0.578600</span>  c\n",
       "</pre>\n"
      ],
      "text/plain": [
       "df_pandas: \n",
       "   a         b  c\n",
       "\u001b[1;36m0\u001b[0m  \u001b[1;36m0\u001b[0m \u001b[1;36m-1.085631\u001b[0m  a\n",
       "\u001b[1;36m1\u001b[0m  \u001b[1;36m1\u001b[0m  \u001b[1;36m0.997345\u001b[0m  c\n",
       "\u001b[1;36m2\u001b[0m  \u001b[1;36m2\u001b[0m  \u001b[1;36m0.282978\u001b[0m  a\n",
       "\u001b[1;36m3\u001b[0m  \u001b[1;36m3\u001b[0m \u001b[1;36m-1.506295\u001b[0m  a\n",
       "\u001b[1;36m4\u001b[0m  \u001b[1;36m4\u001b[0m \u001b[1;36m-0.578600\u001b[0m  c\n"
      ]
     },
     "metadata": {},
     "output_type": "display_data"
    },
    {
     "data": {
      "text/html": [
       "<pre style=\"white-space:pre;overflow-x:auto;line-height:normal;font-family:Menlo,'DejaVu Sans Mono',consolas,'Courier New',monospace\">Lazy Evaluation : Dask DataFrame Structure:\n",
       "                    a        b       c\n",
       "<span style=\"color: #808000; text-decoration-color: #808000\">npartitions</span>=<span style=\"color: #008080; text-decoration-color: #008080; font-weight: bold\">10</span>                        \n",
       "<span style=\"color: #008080; text-decoration-color: #008080; font-weight: bold\">0</span>               int64  float64  string\n",
       "<span style=\"color: #008080; text-decoration-color: #008080; font-weight: bold\">500</span>               <span style=\"color: #808000; text-decoration-color: #808000\">...</span>      <span style=\"color: #808000; text-decoration-color: #808000\">...</span>     <span style=\"color: #808000; text-decoration-color: #808000\">...</span>\n",
       "<span style=\"color: #808000; text-decoration-color: #808000\">...</span>               <span style=\"color: #808000; text-decoration-color: #808000\">...</span>      <span style=\"color: #808000; text-decoration-color: #808000\">...</span>     <span style=\"color: #808000; text-decoration-color: #808000\">...</span>\n",
       "<span style=\"color: #008080; text-decoration-color: #008080; font-weight: bold\">4500</span>              <span style=\"color: #808000; text-decoration-color: #808000\">...</span>      <span style=\"color: #808000; text-decoration-color: #808000\">...</span>     <span style=\"color: #808000; text-decoration-color: #808000\">...</span>\n",
       "<span style=\"color: #008080; text-decoration-color: #008080; font-weight: bold\">4999</span>              <span style=\"color: #808000; text-decoration-color: #808000\">...</span>      <span style=\"color: #808000; text-decoration-color: #808000\">...</span>     <span style=\"color: #808000; text-decoration-color: #808000\">...</span>\n",
       "Dask Name: frompandas, <span style=\"color: #008080; text-decoration-color: #008080; font-weight: bold\">1</span> expression\n",
       "<span style=\"color: #808000; text-decoration-color: #808000\">Expr</span>=<span style=\"color: #800080; text-decoration-color: #800080\">df</span>\n",
       "</pre>\n"
      ],
      "text/plain": [
       "Lazy Evaluation : Dask DataFrame Structure:\n",
       "                    a        b       c\n",
       "\u001b[33mnpartitions\u001b[0m=\u001b[1;36m10\u001b[0m                        \n",
       "\u001b[1;36m0\u001b[0m               int64  float64  string\n",
       "\u001b[1;36m500\u001b[0m               \u001b[33m...\u001b[0m      \u001b[33m...\u001b[0m     \u001b[33m...\u001b[0m\n",
       "\u001b[33m...\u001b[0m               \u001b[33m...\u001b[0m      \u001b[33m...\u001b[0m     \u001b[33m...\u001b[0m\n",
       "\u001b[1;36m4500\u001b[0m              \u001b[33m...\u001b[0m      \u001b[33m...\u001b[0m     \u001b[33m...\u001b[0m\n",
       "\u001b[1;36m4999\u001b[0m              \u001b[33m...\u001b[0m      \u001b[33m...\u001b[0m     \u001b[33m...\u001b[0m\n",
       "Dask Name: frompandas, \u001b[1;36m1\u001b[0m expression\n",
       "\u001b[33mExpr\u001b[0m=\u001b[35mdf\u001b[0m\n"
      ]
     },
     "metadata": {},
     "output_type": "display_data"
    },
    {
     "data": {
      "text/html": [
       "<pre style=\"white-space:pre;overflow-x:auto;line-height:normal;font-family:Menlo,'DejaVu Sans Mono',consolas,'Courier New',monospace\">df_dask: \n",
       "   a         b  c\n",
       "<span style=\"color: #008080; text-decoration-color: #008080; font-weight: bold\">0</span>  <span style=\"color: #008080; text-decoration-color: #008080; font-weight: bold\">0</span> <span style=\"color: #008080; text-decoration-color: #008080; font-weight: bold\">-1.085631</span>  a\n",
       "<span style=\"color: #008080; text-decoration-color: #008080; font-weight: bold\">1</span>  <span style=\"color: #008080; text-decoration-color: #008080; font-weight: bold\">1</span>  <span style=\"color: #008080; text-decoration-color: #008080; font-weight: bold\">0.997345</span>  c\n",
       "<span style=\"color: #008080; text-decoration-color: #008080; font-weight: bold\">2</span>  <span style=\"color: #008080; text-decoration-color: #008080; font-weight: bold\">2</span>  <span style=\"color: #008080; text-decoration-color: #008080; font-weight: bold\">0.282978</span>  a\n",
       "<span style=\"color: #008080; text-decoration-color: #008080; font-weight: bold\">3</span>  <span style=\"color: #008080; text-decoration-color: #008080; font-weight: bold\">3</span> <span style=\"color: #008080; text-decoration-color: #008080; font-weight: bold\">-1.506295</span>  a\n",
       "<span style=\"color: #008080; text-decoration-color: #008080; font-weight: bold\">4</span>  <span style=\"color: #008080; text-decoration-color: #008080; font-weight: bold\">4</span> <span style=\"color: #008080; text-decoration-color: #008080; font-weight: bold\">-0.578600</span>  c\n",
       "</pre>\n"
      ],
      "text/plain": [
       "df_dask: \n",
       "   a         b  c\n",
       "\u001b[1;36m0\u001b[0m  \u001b[1;36m0\u001b[0m \u001b[1;36m-1.085631\u001b[0m  a\n",
       "\u001b[1;36m1\u001b[0m  \u001b[1;36m1\u001b[0m  \u001b[1;36m0.997345\u001b[0m  c\n",
       "\u001b[1;36m2\u001b[0m  \u001b[1;36m2\u001b[0m  \u001b[1;36m0.282978\u001b[0m  a\n",
       "\u001b[1;36m3\u001b[0m  \u001b[1;36m3\u001b[0m \u001b[1;36m-1.506295\u001b[0m  a\n",
       "\u001b[1;36m4\u001b[0m  \u001b[1;36m4\u001b[0m \u001b[1;36m-0.578600\u001b[0m  c\n"
      ]
     },
     "metadata": {},
     "output_type": "display_data"
    },
    {
     "data": {
      "text/html": [
       "<pre style=\"white-space:pre;overflow-x:auto;line-height:normal;font-family:Menlo,'DejaVu Sans Mono',consolas,'Courier New',monospace\">Convert to Pandas :          a         b  c\n",
       "<span style=\"color: #008080; text-decoration-color: #008080; font-weight: bold\">0</span>        <span style=\"color: #008080; text-decoration-color: #008080; font-weight: bold\">0</span> <span style=\"color: #008080; text-decoration-color: #008080; font-weight: bold\">-1.085631</span>  a\n",
       "<span style=\"color: #008080; text-decoration-color: #008080; font-weight: bold\">1</span>        <span style=\"color: #008080; text-decoration-color: #008080; font-weight: bold\">1</span>  <span style=\"color: #008080; text-decoration-color: #008080; font-weight: bold\">0.997345</span>  c\n",
       "<span style=\"color: #008080; text-decoration-color: #008080; font-weight: bold\">2</span>        <span style=\"color: #008080; text-decoration-color: #008080; font-weight: bold\">2</span>  <span style=\"color: #008080; text-decoration-color: #008080; font-weight: bold\">0.282978</span>  a\n",
       "<span style=\"color: #008080; text-decoration-color: #008080; font-weight: bold\">3</span>        <span style=\"color: #008080; text-decoration-color: #008080; font-weight: bold\">3</span> <span style=\"color: #008080; text-decoration-color: #008080; font-weight: bold\">-1.506295</span>  a\n",
       "<span style=\"color: #008080; text-decoration-color: #008080; font-weight: bold\">4</span>        <span style=\"color: #008080; text-decoration-color: #008080; font-weight: bold\">4</span> <span style=\"color: #008080; text-decoration-color: #008080; font-weight: bold\">-0.578600</span>  c\n",
       "<span style=\"color: #808000; text-decoration-color: #808000\">...</span>    <span style=\"color: #808000; text-decoration-color: #808000\">...</span>       <span style=\"color: #808000; text-decoration-color: #808000\">...</span> ..\n",
       "<span style=\"color: #008080; text-decoration-color: #008080; font-weight: bold\">4995</span>  <span style=\"color: #008080; text-decoration-color: #008080; font-weight: bold\">4995</span> <span style=\"color: #008080; text-decoration-color: #008080; font-weight: bold\">-1.122270</span>  c\n",
       "<span style=\"color: #008080; text-decoration-color: #008080; font-weight: bold\">4996</span>  <span style=\"color: #008080; text-decoration-color: #008080; font-weight: bold\">4996</span> <span style=\"color: #008080; text-decoration-color: #008080; font-weight: bold\">-1.418638</span>  b\n",
       "<span style=\"color: #008080; text-decoration-color: #008080; font-weight: bold\">4997</span>  <span style=\"color: #008080; text-decoration-color: #008080; font-weight: bold\">4997</span> <span style=\"color: #008080; text-decoration-color: #008080; font-weight: bold\">-1.859715</span>  a\n",
       "<span style=\"color: #008080; text-decoration-color: #008080; font-weight: bold\">4998</span>  <span style=\"color: #008080; text-decoration-color: #008080; font-weight: bold\">4998</span>  <span style=\"color: #008080; text-decoration-color: #008080; font-weight: bold\">0.913822</span>  a\n",
       "<span style=\"color: #008080; text-decoration-color: #008080; font-weight: bold\">4999</span>  <span style=\"color: #008080; text-decoration-color: #008080; font-weight: bold\">4999</span> <span style=\"color: #008080; text-decoration-color: #008080; font-weight: bold\">-1.353840</span>  c\n",
       "\n",
       "<span style=\"font-weight: bold\">[</span><span style=\"color: #008080; text-decoration-color: #008080; font-weight: bold\">5000</span> rows x <span style=\"color: #008080; text-decoration-color: #008080; font-weight: bold\">3</span> columns<span style=\"font-weight: bold\">]</span>\n",
       "</pre>\n"
      ],
      "text/plain": [
       "Convert to Pandas :          a         b  c\n",
       "\u001b[1;36m0\u001b[0m        \u001b[1;36m0\u001b[0m \u001b[1;36m-1.085631\u001b[0m  a\n",
       "\u001b[1;36m1\u001b[0m        \u001b[1;36m1\u001b[0m  \u001b[1;36m0.997345\u001b[0m  c\n",
       "\u001b[1;36m2\u001b[0m        \u001b[1;36m2\u001b[0m  \u001b[1;36m0.282978\u001b[0m  a\n",
       "\u001b[1;36m3\u001b[0m        \u001b[1;36m3\u001b[0m \u001b[1;36m-1.506295\u001b[0m  a\n",
       "\u001b[1;36m4\u001b[0m        \u001b[1;36m4\u001b[0m \u001b[1;36m-0.578600\u001b[0m  c\n",
       "\u001b[33m...\u001b[0m    \u001b[33m...\u001b[0m       \u001b[33m...\u001b[0m ..\n",
       "\u001b[1;36m4995\u001b[0m  \u001b[1;36m4995\u001b[0m \u001b[1;36m-1.122270\u001b[0m  c\n",
       "\u001b[1;36m4996\u001b[0m  \u001b[1;36m4996\u001b[0m \u001b[1;36m-1.418638\u001b[0m  b\n",
       "\u001b[1;36m4997\u001b[0m  \u001b[1;36m4997\u001b[0m \u001b[1;36m-1.859715\u001b[0m  a\n",
       "\u001b[1;36m4998\u001b[0m  \u001b[1;36m4998\u001b[0m  \u001b[1;36m0.913822\u001b[0m  a\n",
       "\u001b[1;36m4999\u001b[0m  \u001b[1;36m4999\u001b[0m \u001b[1;36m-1.353840\u001b[0m  c\n",
       "\n",
       "\u001b[1m[\u001b[0m\u001b[1;36m5000\u001b[0m rows x \u001b[1;36m3\u001b[0m columns\u001b[1m]\u001b[0m\n"
      ]
     },
     "metadata": {},
     "output_type": "display_data"
    }
   ],
   "source": [
    "main()"
   ]
  },
  {
   "cell_type": "code",
   "execution_count": 5,
   "metadata": {},
   "outputs": [
    {
     "data": {
      "text/html": [
       "<pre style=\"white-space:pre;overflow-x:auto;line-height:normal;font-family:Menlo,'DejaVu Sans Mono',consolas,'Courier New',monospace\">df_pandas: \n",
       "   a         b  c\n",
       "<span style=\"color: #008080; text-decoration-color: #008080; font-weight: bold\">0</span>  <span style=\"color: #008080; text-decoration-color: #008080; font-weight: bold\">0</span>  <span style=\"color: #008080; text-decoration-color: #008080; font-weight: bold\">1.102583</span>  c\n",
       "<span style=\"color: #008080; text-decoration-color: #008080; font-weight: bold\">1</span>  <span style=\"color: #008080; text-decoration-color: #008080; font-weight: bold\">1</span> <span style=\"color: #008080; text-decoration-color: #008080; font-weight: bold\">-1.071606</span>  b\n",
       "<span style=\"color: #008080; text-decoration-color: #008080; font-weight: bold\">2</span>  <span style=\"color: #008080; text-decoration-color: #008080; font-weight: bold\">2</span> <span style=\"color: #008080; text-decoration-color: #008080; font-weight: bold\">-0.971151</span>  a\n",
       "<span style=\"color: #008080; text-decoration-color: #008080; font-weight: bold\">3</span>  <span style=\"color: #008080; text-decoration-color: #008080; font-weight: bold\">3</span> <span style=\"color: #008080; text-decoration-color: #008080; font-weight: bold\">-0.092405</span>  a\n",
       "<span style=\"color: #008080; text-decoration-color: #008080; font-weight: bold\">4</span>  <span style=\"color: #008080; text-decoration-color: #008080; font-weight: bold\">4</span> <span style=\"color: #008080; text-decoration-color: #008080; font-weight: bold\">-1.809795</span>  c\n",
       "</pre>\n"
      ],
      "text/plain": [
       "df_pandas: \n",
       "   a         b  c\n",
       "\u001b[1;36m0\u001b[0m  \u001b[1;36m0\u001b[0m  \u001b[1;36m1.102583\u001b[0m  c\n",
       "\u001b[1;36m1\u001b[0m  \u001b[1;36m1\u001b[0m \u001b[1;36m-1.071606\u001b[0m  b\n",
       "\u001b[1;36m2\u001b[0m  \u001b[1;36m2\u001b[0m \u001b[1;36m-0.971151\u001b[0m  a\n",
       "\u001b[1;36m3\u001b[0m  \u001b[1;36m3\u001b[0m \u001b[1;36m-0.092405\u001b[0m  a\n",
       "\u001b[1;36m4\u001b[0m  \u001b[1;36m4\u001b[0m \u001b[1;36m-1.809795\u001b[0m  c\n"
      ]
     },
     "metadata": {},
     "output_type": "display_data"
    }
   ],
   "source": [
    "# Create data\n",
    "N: int = 5_000\n",
    "data_dict: dict[str, Any] = {\n",
    "    \"a\": np.arange(N),\n",
    "    \"b\": np.random.randn(N),\n",
    "    \"c\": np.random.choice([\"a\", \"b\", \"c\"], size=N),\n",
    "}\n",
    "\n",
    "# Create Pandas DF\n",
    "df_pandas: pd.DataFrame = pd.DataFrame(data_dict)\n",
    "console.print(f\"df_pandas: \\n{df_pandas.head()}\")\n",
    "\n",
    "# Create Dask DF from Pandas DF\n",
    "df_dask: dd.DataFrame = dd.from_pandas(\n",
    "    data=df_pandas,\n",
    "    npartitions=10,  # this will partition the dataframe into 10 (Pandas DFs) partitions\n",
    ")\n",
    "# Lazy Evaluation\n",
    "# console.print(f\"Lazy Evaluation [df_dask]: {df_dask}\")\n",
    "# console.print(f\"df_dask: \\n{df_dask.head()}\")\n",
    "# console.print(f\"Convert to Pandas [df_dask]: {df_dask.compute()}\")"
   ]
  },
  {
   "cell_type": "code",
   "execution_count": 6,
   "metadata": {},
   "outputs": [
    {
     "data": {
      "text/html": [
       "<div>\n",
       "<style scoped>\n",
       "    .dataframe tbody tr th:only-of-type {\n",
       "        vertical-align: middle;\n",
       "    }\n",
       "\n",
       "    .dataframe tbody tr th {\n",
       "        vertical-align: top;\n",
       "    }\n",
       "\n",
       "    .dataframe thead th {\n",
       "        text-align: right;\n",
       "    }\n",
       "</style>\n",
       "<table border=\"1\" class=\"dataframe\">\n",
       "  <thead>\n",
       "    <tr style=\"text-align: right;\">\n",
       "      <th></th>\n",
       "      <th>a</th>\n",
       "      <th>b</th>\n",
       "      <th>c</th>\n",
       "    </tr>\n",
       "  </thead>\n",
       "  <tbody>\n",
       "    <tr>\n",
       "      <th>0</th>\n",
       "      <td>0</td>\n",
       "      <td>1.102583</td>\n",
       "      <td>c</td>\n",
       "    </tr>\n",
       "    <tr>\n",
       "      <th>1</th>\n",
       "      <td>1</td>\n",
       "      <td>-1.071606</td>\n",
       "      <td>b</td>\n",
       "    </tr>\n",
       "    <tr>\n",
       "      <th>2</th>\n",
       "      <td>2</td>\n",
       "      <td>-0.971151</td>\n",
       "      <td>a</td>\n",
       "    </tr>\n",
       "    <tr>\n",
       "      <th>3</th>\n",
       "      <td>3</td>\n",
       "      <td>-0.092405</td>\n",
       "      <td>a</td>\n",
       "    </tr>\n",
       "    <tr>\n",
       "      <th>4</th>\n",
       "      <td>4</td>\n",
       "      <td>-1.809795</td>\n",
       "      <td>c</td>\n",
       "    </tr>\n",
       "    <tr>\n",
       "      <th>...</th>\n",
       "      <td>...</td>\n",
       "      <td>...</td>\n",
       "      <td>...</td>\n",
       "    </tr>\n",
       "    <tr>\n",
       "      <th>4995</th>\n",
       "      <td>4995</td>\n",
       "      <td>-0.199352</td>\n",
       "      <td>b</td>\n",
       "    </tr>\n",
       "    <tr>\n",
       "      <th>4996</th>\n",
       "      <td>4996</td>\n",
       "      <td>-0.914287</td>\n",
       "      <td>b</td>\n",
       "    </tr>\n",
       "    <tr>\n",
       "      <th>4997</th>\n",
       "      <td>4997</td>\n",
       "      <td>1.047449</td>\n",
       "      <td>c</td>\n",
       "    </tr>\n",
       "    <tr>\n",
       "      <th>4998</th>\n",
       "      <td>4998</td>\n",
       "      <td>-0.877910</td>\n",
       "      <td>c</td>\n",
       "    </tr>\n",
       "    <tr>\n",
       "      <th>4999</th>\n",
       "      <td>4999</td>\n",
       "      <td>-0.303884</td>\n",
       "      <td>a</td>\n",
       "    </tr>\n",
       "  </tbody>\n",
       "</table>\n",
       "<p>5000 rows × 3 columns</p>\n",
       "</div>"
      ],
      "text/plain": [
       "         a         b  c\n",
       "0        0  1.102583  c\n",
       "1        1 -1.071606  b\n",
       "2        2 -0.971151  a\n",
       "3        3 -0.092405  a\n",
       "4        4 -1.809795  c\n",
       "...    ...       ... ..\n",
       "4995  4995 -0.199352  b\n",
       "4996  4996 -0.914287  b\n",
       "4997  4997  1.047449  c\n",
       "4998  4998 -0.877910  c\n",
       "4999  4999 -0.303884  a\n",
       "\n",
       "[5000 rows x 3 columns]"
      ]
     },
     "execution_count": 6,
     "metadata": {},
     "output_type": "execute_result"
    }
   ],
   "source": [
    "# Convert to Pandas DF\n",
    "df_dask.compute()"
   ]
  },
  {
   "cell_type": "code",
   "execution_count": 7,
   "metadata": {},
   "outputs": [
    {
     "data": {
      "text/html": [
       "<div>\n",
       "<style scoped>\n",
       "    .dataframe tbody tr th:only-of-type {\n",
       "        vertical-align: middle;\n",
       "    }\n",
       "\n",
       "    .dataframe tbody tr th {\n",
       "        vertical-align: top;\n",
       "    }\n",
       "\n",
       "    .dataframe thead th {\n",
       "        text-align: right;\n",
       "    }\n",
       "</style>\n",
       "<table border=\"1\" class=\"dataframe\">\n",
       "  <thead>\n",
       "    <tr style=\"text-align: right;\">\n",
       "      <th></th>\n",
       "      <th>a</th>\n",
       "      <th>b</th>\n",
       "      <th>c</th>\n",
       "    </tr>\n",
       "  </thead>\n",
       "  <tbody>\n",
       "    <tr>\n",
       "      <th>0</th>\n",
       "      <td>0</td>\n",
       "      <td>1.102583</td>\n",
       "      <td>c</td>\n",
       "    </tr>\n",
       "    <tr>\n",
       "      <th>1</th>\n",
       "      <td>1</td>\n",
       "      <td>-1.071606</td>\n",
       "      <td>b</td>\n",
       "    </tr>\n",
       "    <tr>\n",
       "      <th>2</th>\n",
       "      <td>2</td>\n",
       "      <td>-0.971151</td>\n",
       "      <td>a</td>\n",
       "    </tr>\n",
       "    <tr>\n",
       "      <th>3</th>\n",
       "      <td>3</td>\n",
       "      <td>-0.092405</td>\n",
       "      <td>a</td>\n",
       "    </tr>\n",
       "    <tr>\n",
       "      <th>4</th>\n",
       "      <td>4</td>\n",
       "      <td>-1.809795</td>\n",
       "      <td>c</td>\n",
       "    </tr>\n",
       "  </tbody>\n",
       "</table>\n",
       "</div>"
      ],
      "text/plain": [
       "   a         b  c\n",
       "0  0  1.102583  c\n",
       "1  1 -1.071606  b\n",
       "2  2 -0.971151  a\n",
       "3  3 -0.092405  a\n",
       "4  4 -1.809795  c"
      ]
     },
     "execution_count": 7,
     "metadata": {},
     "output_type": "execute_result"
    }
   ],
   "source": [
    "# Access Partitions\n",
    "df_dask.partitions[0].compute().head()"
   ]
  },
  {
   "cell_type": "code",
   "execution_count": 8,
   "metadata": {},
   "outputs": [
    {
     "data": {
      "text/html": [
       "<div>\n",
       "<style scoped>\n",
       "    .dataframe tbody tr th:only-of-type {\n",
       "        vertical-align: middle;\n",
       "    }\n",
       "\n",
       "    .dataframe tbody tr th {\n",
       "        vertical-align: top;\n",
       "    }\n",
       "\n",
       "    .dataframe thead th {\n",
       "        text-align: right;\n",
       "    }\n",
       "</style>\n",
       "<table border=\"1\" class=\"dataframe\">\n",
       "  <thead>\n",
       "    <tr style=\"text-align: right;\">\n",
       "      <th></th>\n",
       "      <th>a</th>\n",
       "      <th>b</th>\n",
       "      <th>c</th>\n",
       "    </tr>\n",
       "  </thead>\n",
       "  <tbody>\n",
       "    <tr>\n",
       "      <th>2500</th>\n",
       "      <td>2500</td>\n",
       "      <td>-1.951697</td>\n",
       "      <td>a</td>\n",
       "    </tr>\n",
       "    <tr>\n",
       "      <th>2501</th>\n",
       "      <td>2501</td>\n",
       "      <td>0.460704</td>\n",
       "      <td>b</td>\n",
       "    </tr>\n",
       "    <tr>\n",
       "      <th>2502</th>\n",
       "      <td>2502</td>\n",
       "      <td>-1.379373</td>\n",
       "      <td>c</td>\n",
       "    </tr>\n",
       "    <tr>\n",
       "      <th>2503</th>\n",
       "      <td>2503</td>\n",
       "      <td>-0.681870</td>\n",
       "      <td>c</td>\n",
       "    </tr>\n",
       "    <tr>\n",
       "      <th>2504</th>\n",
       "      <td>2504</td>\n",
       "      <td>1.304617</td>\n",
       "      <td>c</td>\n",
       "    </tr>\n",
       "  </tbody>\n",
       "</table>\n",
       "</div>"
      ],
      "text/plain": [
       "         a         b  c\n",
       "2500  2500 -1.951697  a\n",
       "2501  2501  0.460704  b\n",
       "2502  2502 -1.379373  c\n",
       "2503  2503 -0.681870  c\n",
       "2504  2504  1.304617  c"
      ]
     },
     "execution_count": 8,
     "metadata": {},
     "output_type": "execute_result"
    }
   ],
   "source": [
    "df_dask.partitions[5].compute().head()"
   ]
  },
  {
   "cell_type": "code",
   "execution_count": 9,
   "metadata": {},
   "outputs": [
    {
     "data": {
      "text/html": [
       "<div>\n",
       "<style scoped>\n",
       "    .dataframe tbody tr th:only-of-type {\n",
       "        vertical-align: middle;\n",
       "    }\n",
       "\n",
       "    .dataframe tbody tr th {\n",
       "        vertical-align: top;\n",
       "    }\n",
       "\n",
       "    .dataframe thead th {\n",
       "        text-align: right;\n",
       "    }\n",
       "</style>\n",
       "<table border=\"1\" class=\"dataframe\">\n",
       "  <thead>\n",
       "    <tr style=\"text-align: right;\">\n",
       "      <th></th>\n",
       "      <th>a</th>\n",
       "      <th>b</th>\n",
       "    </tr>\n",
       "    <tr>\n",
       "      <th>c</th>\n",
       "      <th></th>\n",
       "      <th></th>\n",
       "    </tr>\n",
       "  </thead>\n",
       "  <tbody>\n",
       "    <tr>\n",
       "      <th>a</th>\n",
       "      <td>4120832</td>\n",
       "      <td>40.057335</td>\n",
       "    </tr>\n",
       "    <tr>\n",
       "      <th>b</th>\n",
       "      <td>4184150</td>\n",
       "      <td>71.243072</td>\n",
       "    </tr>\n",
       "    <tr>\n",
       "      <th>c</th>\n",
       "      <td>4192518</td>\n",
       "      <td>-10.268417</td>\n",
       "    </tr>\n",
       "  </tbody>\n",
       "</table>\n",
       "</div>"
      ],
      "text/plain": [
       "         a          b\n",
       "c                    \n",
       "a  4120832  40.057335\n",
       "b  4184150  71.243072\n",
       "c  4192518 -10.268417"
      ]
     },
     "execution_count": 9,
     "metadata": {},
     "output_type": "execute_result"
    }
   ],
   "source": [
    "# Perform Aggregate Function(s)\n",
    "sum_lazy_df = df_dask.groupby(\"c\").sum()\n",
    "sum_df: pd.DataFrame = sum_lazy_df.compute()\n",
    "\n",
    "sum_df"
   ]
  },
  {
   "cell_type": "code",
   "execution_count": 10,
   "metadata": {},
   "outputs": [
    {
     "data": {
      "text/html": [
       "<div>\n",
       "<style scoped>\n",
       "    .dataframe tbody tr th:only-of-type {\n",
       "        vertical-align: middle;\n",
       "    }\n",
       "\n",
       "    .dataframe tbody tr th {\n",
       "        vertical-align: top;\n",
       "    }\n",
       "\n",
       "    .dataframe thead th {\n",
       "        text-align: right;\n",
       "    }\n",
       "</style>\n",
       "<table border=\"1\" class=\"dataframe\">\n",
       "  <thead>\n",
       "    <tr style=\"text-align: right;\">\n",
       "      <th></th>\n",
       "      <th>a</th>\n",
       "      <th>b</th>\n",
       "    </tr>\n",
       "    <tr>\n",
       "      <th>c</th>\n",
       "      <th></th>\n",
       "      <th></th>\n",
       "    </tr>\n",
       "  </thead>\n",
       "  <tbody>\n",
       "    <tr>\n",
       "      <th>a</th>\n",
       "      <td>2514.235509</td>\n",
       "      <td>0.024440</td>\n",
       "    </tr>\n",
       "    <tr>\n",
       "      <th>b</th>\n",
       "      <td>2499.492234</td>\n",
       "      <td>0.042559</td>\n",
       "    </tr>\n",
       "    <tr>\n",
       "      <th>c</th>\n",
       "      <td>2485.191464</td>\n",
       "      <td>-0.006087</td>\n",
       "    </tr>\n",
       "  </tbody>\n",
       "</table>\n",
       "</div>"
      ],
      "text/plain": [
       "             a         b\n",
       "c                       \n",
       "a  2514.235509  0.024440\n",
       "b  2499.492234  0.042559\n",
       "c  2485.191464 -0.006087"
      ]
     },
     "execution_count": 10,
     "metadata": {},
     "output_type": "execute_result"
    }
   ],
   "source": [
    "mean_lazy_df = df_dask.groupby(\"c\").mean()\n",
    "mean_df: pd.DataFrame = mean_lazy_df.compute()\n",
    "\n",
    "mean_df"
   ]
  },
  {
   "cell_type": "markdown",
   "metadata": {},
   "source": [
    "### Visualize The Constructed Graph\n",
    "\n",
    "```sh\n",
    "pip install ipycytoscape\n",
    "\n",
    "# OR\n",
    "pip install graphviz\n",
    "```\n"
   ]
  },
  {
   "cell_type": "code",
   "execution_count": 11,
   "metadata": {},
   "outputs": [],
   "source": [
    "## Dask Delayed\n",
    "\n",
    "\n",
    "@dask.delayed\n",
    "def increment(x: int) -> int:\n",
    "    return x + 1\n",
    "\n",
    "\n",
    "@dask.delayed\n",
    "def add(a: int, b: int) -> int:\n",
    "    return a + b"
   ]
  },
  {
   "cell_type": "code",
   "execution_count": 12,
   "metadata": {},
   "outputs": [],
   "source": [
    "# Build the computation graph\n",
    "a = increment(x=1)\n",
    "b = increment(x=2)\n",
    "c = add(a=a, b=b)"
   ]
  },
  {
   "cell_type": "code",
   "execution_count": 13,
   "metadata": {},
   "outputs": [
    {
     "data": {
      "text/plain": [
       "(Delayed('increment-255ee635-24b9-48bc-a2de-cf07dbd6593e'),\n",
       " Delayed('increment-7d50c429-4930-4a0d-b4e4-385de018af3f'))"
      ]
     },
     "execution_count": 13,
     "metadata": {},
     "output_type": "execute_result"
    }
   ],
   "source": [
    "a, b"
   ]
  },
  {
   "cell_type": "code",
   "execution_count": 14,
   "metadata": {},
   "outputs": [
    {
     "data": {
      "text/html": [
       "<pre style=\"white-space:pre;overflow-x:auto;line-height:normal;font-family:Menlo,'DejaVu Sans Mono',consolas,'Courier New',monospace\"><span style=\"color: #800080; text-decoration-color: #800080; font-weight: bold\">Delayed</span><span style=\"font-weight: bold\">(</span><span style=\"color: #008000; text-decoration-color: #008000\">'add-3296b947-5bf2-472a-8cb5-40989c20b462'</span><span style=\"font-weight: bold\">)</span>\n",
       "</pre>\n"
      ],
      "text/plain": [
       "\u001b[1;35mDelayed\u001b[0m\u001b[1m(\u001b[0m\u001b[32m'add-3296b947-5bf2-472a-8cb5-40989c20b462'\u001b[0m\u001b[1m)\u001b[0m\n"
      ]
     },
     "metadata": {},
     "output_type": "display_data"
    }
   ],
   "source": [
    "console.print(c)"
   ]
  },
  {
   "cell_type": "code",
   "execution_count": 15,
   "metadata": {},
   "outputs": [
    {
     "data": {
      "application/vnd.jupyter.widget-view+json": {
       "model_id": "4cc1548c3f004032a3f392558ed3806d",
       "version_major": 2,
       "version_minor": 0
      },
      "text/plain": [
       "CytoscapeWidget(cytoscape_layout={'name': 'dagre', 'rankDir': 'BT', 'nodeSep': 10, 'edgeSep': 10, 'spacingFact…"
      ]
     },
     "execution_count": 15,
     "metadata": {},
     "output_type": "execute_result"
    }
   ],
   "source": [
    "c.visualize()"
   ]
  },
  {
   "cell_type": "markdown",
   "metadata": {},
   "source": [
    "### Explanation\n",
    "\n",
    "- The figure above shows that the `increment` function runs in parallel and doesn't depend on any other function.\n",
    "- the `add` function on the other hand depends on the `increment` function."
   ]
  },
  {
   "cell_type": "code",
   "execution_count": 16,
   "metadata": {},
   "outputs": [
    {
     "data": {
      "text/plain": [
       "5"
      ]
     },
     "execution_count": 16,
     "metadata": {},
     "output_type": "execute_result"
    }
   ],
   "source": [
    "c.compute()"
   ]
  },
  {
   "cell_type": "markdown",
   "metadata": {},
   "source": [
    "### [Reading And Saving Data](https://docs.dask.org/en/stable/dataframe-create.html)\n",
    "\n",
    "```py\n",
    "# Read CSV files into a Dask.DataFrame\n",
    "read_csv(urlpath[, blocksize, ...])\n",
    "\n",
    "\n",
    "# Read a Parquet file into a Dask DataFrame\n",
    "read_parquet(path[, columns, filters, ...])\n",
    "\n",
    "\n",
    "# Read HDF files into a Dask DataFrame\n",
    "read_hdf(pattern, key[, start, stop, ...])\n",
    "\n",
    "\n",
    "# Read dataframe from ORC file(s)\n",
    "read_orc(path[, engine, columns, index, ...])\n",
    "\n",
    "\n",
    "# Create a dataframe from a set of JSON files\n",
    "read_json(url_path[, orient, lines, ...])\n",
    "\n",
    "\n",
    "# Read SQL database table into a DataFrame.\n",
    "read_sql_table(table_name, con, index_col[, ...])\n",
    "\n",
    "\n",
    "# Read SQL query into a DataFrame.\n",
    "read_sql_query(sql, con, index_col[, ...])\n",
    "\n",
    "\n",
    "# Read SQL query or database table into a DataFrame.\n",
    "read_sql(sql, con, index_col, **kwargs)\n",
    "\n",
    "\n",
    "# Read delimited files into a Dask.DataFrame\n",
    "read_table(urlpath[, blocksize, ...])\n",
    "\n",
    "\n",
    "# Read fixed-width files into a Dask.DataFrame\n",
    "read_fwf(urlpath[, blocksize, ...])\n",
    "\n",
    "\n",
    "# Read any sliceable array into a Dask Dataframe\n",
    "from_array(x[, chunksize, columns, meta])\n",
    "\n",
    "\n",
    "# Store Dask DataFrame to CSV files\n",
    "to_csv(df, filename[, single_file, ...])\n",
    "\n",
    "\n",
    "# Store Dask.dataframe to Parquet files\n",
    "to_parquet(df, path[, engine, compression, ...])\n",
    "\n",
    "\n",
    "# Store Dask Dataframe to Hierarchical Data Format (HDF) files\n",
    "to_hdf(df, path, key[, mode, append, ...])\n",
    "\n",
    "\n",
    "# Store Dask Dataframe to a SQL table\n",
    "to_sql(df, name, uri[, schema, if_exists, ...])\n",
    "```\n",
    "\n",
    "<rr><hr>\n",
    "\n",
    "### Dask Collections:\n",
    "\n",
    "```py\n",
    "# Create Dask DataFrame from many Dask Delayed objects\n",
    "from_delayed(dfs[, meta, divisions, prefix, ...])\n",
    "\n",
    "\n",
    "# Create a Dask DataFrame from a Dask Array.\n",
    "from_dask_array(x[, columns, index, meta])\n",
    "\n",
    "\n",
    "# Create a DataFrame collection from a custom function map\n",
    "from_map(func, *iterables[, args, meta, ...])\n",
    "\n",
    "\n",
    "# Create Dask Dataframe from a Dask Bag.\n",
    "dask.bag.core.Bag.to_dataframe([meta, ...])\n",
    "\n",
    "\n",
    "# Convert into a list of dask.delayed objects, one per partition.\n",
    "DataFrame.to_delayed([optimize_graph])\n",
    "\n",
    "\n",
    "# Create Dask Array from a Dask Dataframe\n",
    "to_records(df)\n",
    "\n",
    "\n",
    "# Create Dask Bag from a Dask DataFrame\n",
    "to_bag(df[, index, format])\n",
    "```\n",
    "\n",
    "<rr><hr>\n",
    "\n",
    "### Pandas\n",
    "\n",
    "```py\n",
    "# Construct a Dask DataFrame from a Pandas DataFrame\n",
    "from_pandas()\n",
    "\n",
    "\n",
    "# Construct a Dask DataFrame from a Python Dictionary\n",
    "DataFrame.from_dict(data, *, npartitions[, ...])\n",
    "```"
   ]
  },
  {
   "cell_type": "code",
   "execution_count": null,
   "metadata": {},
   "outputs": [],
   "source": []
  },
  {
   "cell_type": "markdown",
   "metadata": {},
   "source": [
    "### Dask Delayed"
   ]
  },
  {
   "cell_type": "code",
   "execution_count": 17,
   "metadata": {},
   "outputs": [],
   "source": [
    "## Without Dask Delayed\n",
    "import time\n",
    "\n",
    "\n",
    "def increment(x: int | float) -> int | float:\n",
    "    time.sleep(1)\n",
    "    return x + 1\n",
    "\n",
    "\n",
    "def double(x: int | float) -> int | float:\n",
    "    time.sleep(1)\n",
    "    return x * 2\n",
    "\n",
    "\n",
    "def add(a: int | float, b: int | float) -> int | float:\n",
    "    time.sleep(1)\n",
    "    return a + b"
   ]
  },
  {
   "cell_type": "code",
   "execution_count": 18,
   "metadata": {},
   "outputs": [
    {
     "data": {
      "text/html": [
       "<pre style=\"white-space:pre;overflow-x:auto;line-height:normal;font-family:Menlo,'DejaVu Sans Mono',consolas,'Courier New',monospace\">It took <span style=\"color: #008080; text-decoration-color: #008080; font-weight: bold\">15.</span>03s to process the data\n",
       "</pre>\n"
      ],
      "text/plain": [
       "It took \u001b[1;36m15.\u001b[0m03s to process the data\n"
      ]
     },
     "metadata": {},
     "output_type": "display_data"
    },
    {
     "data": {
      "text/html": [
       "<pre style=\"white-space:pre;overflow-x:auto;line-height:normal;font-family:Menlo,'DejaVu Sans Mono',consolas,'Courier New',monospace\"><span style=\"color: #808000; text-decoration-color: #808000\">total</span>=<span style=\"color: #008080; text-decoration-color: #008080; font-weight: bold\">50</span>\n",
       "</pre>\n"
      ],
      "text/plain": [
       "\u001b[33mtotal\u001b[0m=\u001b[1;36m50\u001b[0m\n"
      ]
     },
     "metadata": {},
     "output_type": "display_data"
    }
   ],
   "source": [
    "start_time = time.time()\n",
    "data: list[int] = [1, 2, 3, 4, 5]\n",
    "output: list[int | Any] = []\n",
    "\n",
    "for x in data:\n",
    "    a = increment(x=x)\n",
    "    b = double(x=x)\n",
    "    c = add(a=a, b=b)\n",
    "    output.append(c)\n",
    "\n",
    "total: int = sum(output)\n",
    "stop_time = time.time()\n",
    "\n",
    "console.print(f\"It took {(stop_time - start_time):.2f}s to process the data\")\n",
    "console.print(f\"{total=}\")"
   ]
  },
  {
   "cell_type": "code",
   "execution_count": 19,
   "metadata": {},
   "outputs": [],
   "source": [
    "## Dask Delayed version\n",
    "\n",
    "\n",
    "@dask.delayed\n",
    "def increment_delayed(x: int | float) -> int | float:\n",
    "    time.sleep(1)\n",
    "    return x + 1\n",
    "\n",
    "\n",
    "@dask.delayed\n",
    "def double_delayed(x: int | float) -> int | float:\n",
    "    time.sleep(1)\n",
    "    return x * 2\n",
    "\n",
    "\n",
    "@dask.delayed\n",
    "def add_delayed(a: int | float, b: int | float) -> int | float:\n",
    "    time.sleep(1)\n",
    "    return a + b"
   ]
  },
  {
   "cell_type": "code",
   "execution_count": 20,
   "metadata": {},
   "outputs": [
    {
     "data": {
      "text/html": [
       "<pre style=\"white-space:pre;overflow-x:auto;line-height:normal;font-family:Menlo,'DejaVu Sans Mono',consolas,'Courier New',monospace\">It took <span style=\"color: #008080; text-decoration-color: #008080; font-weight: bold\">2.</span>01s to process the data\n",
       "</pre>\n"
      ],
      "text/plain": [
       "It took \u001b[1;36m2.\u001b[0m01s to process the data\n"
      ]
     },
     "metadata": {},
     "output_type": "display_data"
    },
    {
     "data": {
      "text/html": [
       "<pre style=\"white-space:pre;overflow-x:auto;line-height:normal;font-family:Menlo,'DejaVu Sans Mono',consolas,'Courier New',monospace\"><span style=\"color: #808000; text-decoration-color: #808000\">total</span>=<span style=\"color: #008080; text-decoration-color: #008080; font-weight: bold\">50</span>\n",
       "</pre>\n"
      ],
      "text/plain": [
       "\u001b[33mtotal\u001b[0m=\u001b[1;36m50\u001b[0m\n"
      ]
     },
     "metadata": {},
     "output_type": "display_data"
    }
   ],
   "source": [
    "start_time = time.time()\n",
    "data: list[int] = [1, 2, 3, 4, 5]\n",
    "output: list[int | Any] = []\n",
    "\n",
    "for x in data:\n",
    "    a = increment_delayed(x=x)\n",
    "    b = double_delayed(x=x)\n",
    "    c = add_delayed(a=a, b=b)\n",
    "    output.append(c)\n",
    "\n",
    "total_delayed: Any = dask.delayed(sum)(output)\n",
    "total: int = total_delayed.compute()\n",
    "stop_time = time.time()\n",
    "\n",
    "console.print(f\"It took {(stop_time - start_time):.2f}s to process the data\")\n",
    "console.print(f\"{total=}\")"
   ]
  },
  {
   "cell_type": "code",
   "execution_count": 21,
   "metadata": {},
   "outputs": [
    {
     "data": {
      "application/vnd.jupyter.widget-view+json": {
       "model_id": "ae61124af4bc47e98a7a071f68641c14",
       "version_major": 2,
       "version_minor": 0
      },
      "text/plain": [
       "CytoscapeWidget(cytoscape_layout={'name': 'dagre', 'rankDir': 'BT', 'nodeSep': 10, 'edgeSep': 10, 'spacingFact…"
      ]
     },
     "execution_count": 21,
     "metadata": {},
     "output_type": "execute_result"
    }
   ],
   "source": [
    "total_delayed.visualize()"
   ]
  },
  {
   "cell_type": "markdown",
   "metadata": {},
   "source": [
    "### Futures\n",
    "\n",
    "- `Futures` help manage asynchronous programming in Python, allowing you to run tasks concurrently and handle their results effectively.\n",
    "\n",
    "#### Concurrent Futures (i.e. concurrent.futures)\n",
    "\n",
    "- `concurrent.futures` module: This is a standard library module that provides a high-level interface for running asynchronous tasks concurrently.\n",
    "- It offers two ways to achieve this:\n",
    "  - Using threads with `ThreadPoolExecutor`\n",
    "  - Using separate processes with `ProcessPoolExecutor`\n",
    "- Both utilize the Future class, which represents the eventual result of an asynchronous operation.\n",
    "- You can't directly access the return value; instead, you use methods like `.result()` to wait and retrieve it once the task finishes.\n",
    "\n",
    "#### ThreadPoolExecutor\n",
    "\n",
    "```py\n",
    "from concurrent.futures import ProcessPoolExecutor, ThreadPoolExecutor\n",
    "\n",
    "\n",
    "start_time = time.time()\n",
    "outputs: list[Any] = []\n",
    "futures: list[Any] = []\n",
    "\n",
    "with ThreadPoolExecutor(max_workers=4) as executor:\n",
    "    for inp in range(10):\n",
    "        future: Any = executor.submit(double, inp)\n",
    "        futures.append(future)\n",
    "    outputs = [future.result() for future in futures]\n",
    "\n",
    "stop_time = time.time()\n",
    "\n",
    "console.print(f\"It took {(stop_time - start_time):.2}s to process the data\")\n",
    "console.print(f\"{outputs=}\")\n",
    "```\n",
    "\n",
    "<hr>\n",
    "\n",
    "#### ProcessPoolExecutor\n",
    "\n",
    "```py\n",
    "# Process Pool requires the code to be in a different module.\n",
    "from utils import double\n",
    "\n",
    "if __name__ == \"__main__\":\n",
    "\n",
    "    start_time = time.time()\n",
    "    outputs: list[Any] = []\n",
    "    futures: list[Any] = []\n",
    "\n",
    "    with ProcessPoolExecutor(max_workers=4) as executor:  # updated line!\n",
    "        for inp in range(10):\n",
    "            future: Any = executor.submit(double, inp)\n",
    "            futures.append(future)\n",
    "        outputs = [future.result() for future in futures]\n",
    "\n",
    "    stop_time = time.time()\n",
    "\n",
    "    console.print(f\"It took {(stop_time - start_time):.2}s to process the data\")\n",
    "    console.print(f\"{outputs=}\")\n",
    "```\n"
   ]
  },
  {
   "cell_type": "code",
   "execution_count": 22,
   "metadata": {},
   "outputs": [],
   "source": [
    "def double(x: int | float) -> int | float:\n",
    "    time.sleep(1)\n",
    "    return x * 2"
   ]
  },
  {
   "cell_type": "code",
   "execution_count": 23,
   "metadata": {},
   "outputs": [
    {
     "data": {
      "text/html": [
       "<pre style=\"white-space:pre;overflow-x:auto;line-height:normal;font-family:Menlo,'DejaVu Sans Mono',consolas,'Courier New',monospace\">It took 1e+01s to process the data\n",
       "</pre>\n"
      ],
      "text/plain": [
       "It took 1e+01s to process the data\n"
      ]
     },
     "metadata": {},
     "output_type": "display_data"
    },
    {
     "data": {
      "text/html": [
       "<pre style=\"white-space:pre;overflow-x:auto;line-height:normal;font-family:Menlo,'DejaVu Sans Mono',consolas,'Courier New',monospace\"><span style=\"color: #808000; text-decoration-color: #808000\">outputs</span>=<span style=\"font-weight: bold\">[</span><span style=\"color: #008080; text-decoration-color: #008080; font-weight: bold\">0</span>, <span style=\"color: #008080; text-decoration-color: #008080; font-weight: bold\">2</span>, <span style=\"color: #008080; text-decoration-color: #008080; font-weight: bold\">4</span>, <span style=\"color: #008080; text-decoration-color: #008080; font-weight: bold\">6</span>, <span style=\"color: #008080; text-decoration-color: #008080; font-weight: bold\">8</span>, <span style=\"color: #008080; text-decoration-color: #008080; font-weight: bold\">10</span>, <span style=\"color: #008080; text-decoration-color: #008080; font-weight: bold\">12</span>, <span style=\"color: #008080; text-decoration-color: #008080; font-weight: bold\">14</span>, <span style=\"color: #008080; text-decoration-color: #008080; font-weight: bold\">16</span>, <span style=\"color: #008080; text-decoration-color: #008080; font-weight: bold\">18</span><span style=\"font-weight: bold\">]</span>\n",
       "</pre>\n"
      ],
      "text/plain": [
       "\u001b[33moutputs\u001b[0m=\u001b[1m[\u001b[0m\u001b[1;36m0\u001b[0m, \u001b[1;36m2\u001b[0m, \u001b[1;36m4\u001b[0m, \u001b[1;36m6\u001b[0m, \u001b[1;36m8\u001b[0m, \u001b[1;36m10\u001b[0m, \u001b[1;36m12\u001b[0m, \u001b[1;36m14\u001b[0m, \u001b[1;36m16\u001b[0m, \u001b[1;36m18\u001b[0m\u001b[1m]\u001b[0m\n"
      ]
     },
     "metadata": {},
     "output_type": "display_data"
    }
   ],
   "source": [
    "# Without Concurency\n",
    "\n",
    "start_time = time.time()\n",
    "outputs: list[Any] = []\n",
    "for inp in range(10):\n",
    "    output: int | float = double(x=inp)\n",
    "    outputs.append(output)\n",
    "\n",
    "stop_time = time.time()\n",
    "\n",
    "console.print(f\"It took {(stop_time - start_time):.2}s to process the data\")\n",
    "console.print(f\"{outputs=}\")"
   ]
  },
  {
   "cell_type": "markdown",
   "metadata": {},
   "source": [
    "#### Thread Pool"
   ]
  },
  {
   "cell_type": "code",
   "execution_count": 24,
   "metadata": {},
   "outputs": [
    {
     "data": {
      "text/html": [
       "<pre style=\"white-space:pre;overflow-x:auto;line-height:normal;font-family:Menlo,'DejaVu Sans Mono',consolas,'Courier New',monospace\">It took <span style=\"color: #008080; text-decoration-color: #008080; font-weight: bold\">3.</span>0s to process the data\n",
       "</pre>\n"
      ],
      "text/plain": [
       "It took \u001b[1;36m3.\u001b[0m0s to process the data\n"
      ]
     },
     "metadata": {},
     "output_type": "display_data"
    },
    {
     "data": {
      "text/html": [
       "<pre style=\"white-space:pre;overflow-x:auto;line-height:normal;font-family:Menlo,'DejaVu Sans Mono',consolas,'Courier New',monospace\"><span style=\"color: #808000; text-decoration-color: #808000\">outputs</span>=<span style=\"font-weight: bold\">[</span><span style=\"color: #008080; text-decoration-color: #008080; font-weight: bold\">0</span>, <span style=\"color: #008080; text-decoration-color: #008080; font-weight: bold\">2</span>, <span style=\"color: #008080; text-decoration-color: #008080; font-weight: bold\">4</span>, <span style=\"color: #008080; text-decoration-color: #008080; font-weight: bold\">6</span>, <span style=\"color: #008080; text-decoration-color: #008080; font-weight: bold\">8</span>, <span style=\"color: #008080; text-decoration-color: #008080; font-weight: bold\">10</span>, <span style=\"color: #008080; text-decoration-color: #008080; font-weight: bold\">12</span>, <span style=\"color: #008080; text-decoration-color: #008080; font-weight: bold\">14</span>, <span style=\"color: #008080; text-decoration-color: #008080; font-weight: bold\">16</span>, <span style=\"color: #008080; text-decoration-color: #008080; font-weight: bold\">18</span><span style=\"font-weight: bold\">]</span>\n",
       "</pre>\n"
      ],
      "text/plain": [
       "\u001b[33moutputs\u001b[0m=\u001b[1m[\u001b[0m\u001b[1;36m0\u001b[0m, \u001b[1;36m2\u001b[0m, \u001b[1;36m4\u001b[0m, \u001b[1;36m6\u001b[0m, \u001b[1;36m8\u001b[0m, \u001b[1;36m10\u001b[0m, \u001b[1;36m12\u001b[0m, \u001b[1;36m14\u001b[0m, \u001b[1;36m16\u001b[0m, \u001b[1;36m18\u001b[0m\u001b[1m]\u001b[0m\n"
      ]
     },
     "metadata": {},
     "output_type": "display_data"
    }
   ],
   "source": [
    "from concurrent.futures import ProcessPoolExecutor, ThreadPoolExecutor\n",
    "\n",
    "\n",
    "start_time = time.time()\n",
    "outputs: list[Any] = []\n",
    "futures: list[Any] = []\n",
    "\n",
    "with ThreadPoolExecutor(max_workers=4) as executor:\n",
    "    for inp in range(10):\n",
    "        future: Any = executor.submit(double, inp)\n",
    "        futures.append(future)\n",
    "    outputs = [future.result() for future in futures]\n",
    "\n",
    "stop_time = time.time()\n",
    "\n",
    "console.print(f\"It took {(stop_time - start_time):.2}s to process the data\")\n",
    "console.print(f\"{outputs=}\")"
   ]
  },
  {
   "cell_type": "markdown",
   "metadata": {},
   "source": [
    "#### Process Pool"
   ]
  },
  {
   "cell_type": "code",
   "execution_count": 25,
   "metadata": {},
   "outputs": [
    {
     "data": {
      "text/html": [
       "<pre style=\"white-space:pre;overflow-x:auto;line-height:normal;font-family:Menlo,'DejaVu Sans Mono',consolas,'Courier New',monospace\">It took <span style=\"color: #008080; text-decoration-color: #008080; font-weight: bold\">3.</span>3s to process the data\n",
       "</pre>\n"
      ],
      "text/plain": [
       "It took \u001b[1;36m3.\u001b[0m3s to process the data\n"
      ]
     },
     "metadata": {},
     "output_type": "display_data"
    },
    {
     "data": {
      "text/html": [
       "<pre style=\"white-space:pre;overflow-x:auto;line-height:normal;font-family:Menlo,'DejaVu Sans Mono',consolas,'Courier New',monospace\"><span style=\"color: #808000; text-decoration-color: #808000\">outputs</span>=<span style=\"font-weight: bold\">[</span><span style=\"color: #008080; text-decoration-color: #008080; font-weight: bold\">0</span>, <span style=\"color: #008080; text-decoration-color: #008080; font-weight: bold\">2</span>, <span style=\"color: #008080; text-decoration-color: #008080; font-weight: bold\">4</span>, <span style=\"color: #008080; text-decoration-color: #008080; font-weight: bold\">6</span>, <span style=\"color: #008080; text-decoration-color: #008080; font-weight: bold\">8</span>, <span style=\"color: #008080; text-decoration-color: #008080; font-weight: bold\">10</span>, <span style=\"color: #008080; text-decoration-color: #008080; font-weight: bold\">12</span>, <span style=\"color: #008080; text-decoration-color: #008080; font-weight: bold\">14</span>, <span style=\"color: #008080; text-decoration-color: #008080; font-weight: bold\">16</span>, <span style=\"color: #008080; text-decoration-color: #008080; font-weight: bold\">18</span><span style=\"font-weight: bold\">]</span>\n",
       "</pre>\n"
      ],
      "text/plain": [
       "\u001b[33moutputs\u001b[0m=\u001b[1m[\u001b[0m\u001b[1;36m0\u001b[0m, \u001b[1;36m2\u001b[0m, \u001b[1;36m4\u001b[0m, \u001b[1;36m6\u001b[0m, \u001b[1;36m8\u001b[0m, \u001b[1;36m10\u001b[0m, \u001b[1;36m12\u001b[0m, \u001b[1;36m14\u001b[0m, \u001b[1;36m16\u001b[0m, \u001b[1;36m18\u001b[0m\u001b[1m]\u001b[0m\n"
      ]
     },
     "metadata": {},
     "output_type": "display_data"
    }
   ],
   "source": [
    "# Process Pool requires the code to be in a different module.\n",
    "from utils import double\n",
    "\n",
    "if __name__ == \"__main__\":\n",
    "\n",
    "    start_time = time.time()\n",
    "    outputs: list[Any] = []\n",
    "    futures: list[Any] = []\n",
    "\n",
    "    with ProcessPoolExecutor(max_workers=4) as executor:  # updated line!\n",
    "        for inp in range(10):\n",
    "            future: Any = executor.submit(double, inp)\n",
    "            futures.append(future)\n",
    "        outputs = [future.result() for future in futures]\n",
    "\n",
    "    stop_time = time.time()\n",
    "\n",
    "    console.print(f\"It took {(stop_time - start_time):.2}s to process the data\")\n",
    "    console.print(f\"{outputs=}\")"
   ]
  },
  {
   "cell_type": "markdown",
   "metadata": {},
   "source": [
    "### Dask Implementation of Futures"
   ]
  },
  {
   "cell_type": "code",
   "execution_count": 26,
   "metadata": {},
   "outputs": [
    {
     "data": {
      "text/html": [
       "<pre style=\"white-space:pre;overflow-x:auto;line-height:normal;font-family:Menlo,'DejaVu Sans Mono',consolas,'Courier New',monospace\">It took <span style=\"color: #008080; text-decoration-color: #008080; font-weight: bold\">1.</span>1s to process the data\n",
       "</pre>\n"
      ],
      "text/plain": [
       "It took \u001b[1;36m1.\u001b[0m1s to process the data\n"
      ]
     },
     "metadata": {},
     "output_type": "display_data"
    },
    {
     "data": {
      "text/html": [
       "<pre style=\"white-space:pre;overflow-x:auto;line-height:normal;font-family:Menlo,'DejaVu Sans Mono',consolas,'Courier New',monospace\"><span style=\"color: #808000; text-decoration-color: #808000\">outputs</span>=<span style=\"font-weight: bold\">[</span><span style=\"color: #008080; text-decoration-color: #008080; font-weight: bold\">0</span>, <span style=\"color: #008080; text-decoration-color: #008080; font-weight: bold\">2</span>, <span style=\"color: #008080; text-decoration-color: #008080; font-weight: bold\">4</span>, <span style=\"color: #008080; text-decoration-color: #008080; font-weight: bold\">6</span>, <span style=\"color: #008080; text-decoration-color: #008080; font-weight: bold\">8</span>, <span style=\"color: #008080; text-decoration-color: #008080; font-weight: bold\">10</span>, <span style=\"color: #008080; text-decoration-color: #008080; font-weight: bold\">12</span>, <span style=\"color: #008080; text-decoration-color: #008080; font-weight: bold\">14</span>, <span style=\"color: #008080; text-decoration-color: #008080; font-weight: bold\">16</span>, <span style=\"color: #008080; text-decoration-color: #008080; font-weight: bold\">18</span><span style=\"font-weight: bold\">]</span>\n",
       "</pre>\n"
      ],
      "text/plain": [
       "\u001b[33moutputs\u001b[0m=\u001b[1m[\u001b[0m\u001b[1;36m0\u001b[0m, \u001b[1;36m2\u001b[0m, \u001b[1;36m4\u001b[0m, \u001b[1;36m6\u001b[0m, \u001b[1;36m8\u001b[0m, \u001b[1;36m10\u001b[0m, \u001b[1;36m12\u001b[0m, \u001b[1;36m14\u001b[0m, \u001b[1;36m16\u001b[0m, \u001b[1;36m18\u001b[0m\u001b[1m]\u001b[0m\n"
      ]
     },
     "metadata": {},
     "output_type": "display_data"
    }
   ],
   "source": [
    "from dask.distributed import Client\n",
    "\n",
    "\n",
    "if __name__ == \"__main__\":\n",
    "    client = Client()\n",
    "\n",
    "    start_time = time.time()\n",
    "    futures: list[Any] = []\n",
    "\n",
    "    for inp in range(10):\n",
    "        future: Any = client.submit(double, inp)\n",
    "        futures.append(future)\n",
    "    outputs: list[Any] = [future.result() for future in futures]\n",
    "\n",
    "    stop_time = time.time()\n",
    "\n",
    "    console.print(f\"It took {(stop_time - start_time):.2}s to process the data\")\n",
    "    console.print(f\"{outputs=}\")"
   ]
  },
  {
   "cell_type": "code",
   "execution_count": 28,
   "metadata": {},
   "outputs": [
    {
     "data": {
      "text/html": [
       "<pre style=\"white-space:pre;overflow-x:auto;line-height:normal;font-family:Menlo,'DejaVu Sans Mono',consolas,'Courier New',monospace\">It took <span style=\"color: #008080; text-decoration-color: #008080; font-weight: bold\">1.</span>0s to process the data\n",
       "</pre>\n"
      ],
      "text/plain": [
       "It took \u001b[1;36m1.\u001b[0m0s to process the data\n"
      ]
     },
     "metadata": {},
     "output_type": "display_data"
    },
    {
     "data": {
      "text/html": [
       "<pre style=\"white-space:pre;overflow-x:auto;line-height:normal;font-family:Menlo,'DejaVu Sans Mono',consolas,'Courier New',monospace\"><span style=\"color: #808000; text-decoration-color: #808000\">outputs</span>=<span style=\"font-weight: bold\">[</span><span style=\"color: #008080; text-decoration-color: #008080; font-weight: bold\">0</span>, <span style=\"color: #008080; text-decoration-color: #008080; font-weight: bold\">2</span>, <span style=\"color: #008080; text-decoration-color: #008080; font-weight: bold\">4</span>, <span style=\"color: #008080; text-decoration-color: #008080; font-weight: bold\">6</span>, <span style=\"color: #008080; text-decoration-color: #008080; font-weight: bold\">8</span>, <span style=\"color: #008080; text-decoration-color: #008080; font-weight: bold\">10</span>, <span style=\"color: #008080; text-decoration-color: #008080; font-weight: bold\">12</span>, <span style=\"color: #008080; text-decoration-color: #008080; font-weight: bold\">14</span>, <span style=\"color: #008080; text-decoration-color: #008080; font-weight: bold\">16</span>, <span style=\"color: #008080; text-decoration-color: #008080; font-weight: bold\">18</span><span style=\"font-weight: bold\">]</span>\n",
       "</pre>\n"
      ],
      "text/plain": [
       "\u001b[33moutputs\u001b[0m=\u001b[1m[\u001b[0m\u001b[1;36m0\u001b[0m, \u001b[1;36m2\u001b[0m, \u001b[1;36m4\u001b[0m, \u001b[1;36m6\u001b[0m, \u001b[1;36m8\u001b[0m, \u001b[1;36m10\u001b[0m, \u001b[1;36m12\u001b[0m, \u001b[1;36m14\u001b[0m, \u001b[1;36m16\u001b[0m, \u001b[1;36m18\u001b[0m\u001b[1m]\u001b[0m\n"
      ]
     },
     "metadata": {},
     "output_type": "display_data"
    }
   ],
   "source": [
    "## Another Dask Future Implementation\n",
    "if __name__ == \"__main__\":\n",
    "    client = Client()\n",
    "\n",
    "    start_time = time.time()\n",
    "\n",
    "    inputs: list[Any] = list(range(10))\n",
    "    futures: list[Any] = client.map(double, inputs)\n",
    "    outputs = client.gather(futures)\n",
    "\n",
    "    stop_time = time.time()\n",
    "\n",
    "    console.print(f\"It took {(stop_time - start_time):.2}s to process the data\")\n",
    "    console.print(f\"{outputs=}\")"
   ]
  },
  {
   "cell_type": "code",
   "execution_count": null,
   "metadata": {},
   "outputs": [],
   "source": [
    "from dask.distributed import Client\n",
    "\n",
    "client = Client()"
   ]
  },
  {
   "cell_type": "code",
   "execution_count": null,
   "metadata": {},
   "outputs": [],
   "source": []
  },
  {
   "cell_type": "code",
   "execution_count": null,
   "metadata": {},
   "outputs": [],
   "source": []
  },
  {
   "cell_type": "code",
   "execution_count": null,
   "metadata": {},
   "outputs": [],
   "source": []
  }
 ],
 "metadata": {
  "kernelspec": {
   "display_name": "torch_p11",
   "language": "python",
   "name": "python3"
  },
  "language_info": {
   "codemirror_mode": {
    "name": "ipython",
    "version": 3
   },
   "file_extension": ".py",
   "mimetype": "text/x-python",
   "name": "python",
   "nbconvert_exporter": "python",
   "pygments_lexer": "ipython3",
   "version": "3.11.8"
  }
 },
 "nbformat": 4,
 "nbformat_minor": 2
}
