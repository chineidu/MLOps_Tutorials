{
 "cells": [
  {
   "cell_type": "code",
   "execution_count": 1,
   "id": "b40a7ef3",
   "metadata": {},
   "outputs": [],
   "source": [
    "import json\n",
    "import os\n",
    "import warnings\n",
    "from pathlib import Path\n",
    "from typing import Any, Generator, Iterable, Type, TypeVar\n",
    "\n",
    "# Standard imports\n",
    "import numpy as np\n",
    "import pandas as pd\n",
    "import polars as pl\n",
    "\n",
    "# Visualization\n",
    "# import matplotlib.pyplot as plt\n",
    "\n",
    "# NumPy settings\n",
    "np.set_printoptions(precision=4)\n",
    "\n",
    "# Pandas settings\n",
    "pd.options.display.max_rows = 1_000\n",
    "pd.options.display.max_columns = 1_000\n",
    "pd.options.display.max_colwidth = 600\n",
    "\n",
    "# Polars settings\n",
    "pl.Config.set_fmt_str_lengths(1_000)\n",
    "pl.Config.set_tbl_cols(n=1_000)\n",
    "pl.Config.set_tbl_rows(n=200)\n",
    "\n",
    "warnings.filterwarnings(\"ignore\")\n",
    "\n",
    "# Black code formatter (Optional)\n",
    "%load_ext lab_black\n",
    "\n",
    "# auto reload imports\n",
    "%load_ext autoreload\n",
    "%autoreload 2"
   ]
  },
  {
   "cell_type": "code",
   "execution_count": 10,
   "id": "b5178b16",
   "metadata": {},
   "outputs": [],
   "source": [
    "import time\n",
    "from threading import Thread\n",
    "\n",
    "\n",
    "class MyThread(Thread):\n",
    "    def __init__(self, name: str, delay: float) -> None:\n",
    "        super().__init__()\n",
    "        self.name = name\n",
    "        self.delay = delay\n",
    "\n",
    "    def run(self) -> None:\n",
    "        \"\"\"Run the thread's activity.\"\"\"\n",
    "        print(f\"Thread {self.name} is starting.\")\n",
    "        thread_count_down(self.name, self.delay)\n",
    "        print(f\"Finished thread {self.name}.\")\n",
    "\n",
    "\n",
    "def thread_count_down(name: str, delay: float) -> None:\n",
    "    \"\"\"Counts down from 5 to 1 with a delay.\"\"\"\n",
    "    counter = 5\n",
    "\n",
    "    while counter:\n",
    "        time.sleep(delay)\n",
    "        print(f\"Thread {name} is counting down: {counter}...\\n\")\n",
    "        counter -= 1"
   ]
  },
  {
   "cell_type": "code",
   "execution_count": 13,
   "id": "199d53fa",
   "metadata": {},
   "outputs": [
    {
     "name": "stdout",
     "output_type": "stream",
     "text": [
      "Thread A is starting.\n",
      "Thread B is starting.\n",
      "Thread A is counting down: 5...\n",
      "Thread B is counting down: 5...\n",
      "\n",
      "\n",
      "Thread B is counting down: 4...\n",
      "Thread A is counting down: 4...\n",
      "\n",
      "\n",
      "Thread A is counting down: 3...\n",
      "Thread B is counting down: 3...\n",
      "\n",
      "\n",
      "Thread B is counting down: 2...\n",
      "Thread A is counting down: 2...\n",
      "\n",
      "\n",
      "Thread A is counting down: 1...\n",
      "Thread B is counting down: 1...\n",
      "\n",
      "Finished thread B.\n",
      "\n",
      "Finished thread A.\n",
      "Both threads have finished execution.\n"
     ]
    }
   ],
   "source": [
    "thread1 = MyThread(\"A\", 0.5)\n",
    "thread2 = MyThread(\"B\", 0.5)\n",
    "\n",
    "thread1.start()\n",
    "thread2.start()\n",
    "\n",
    "thread1.join()\n",
    "thread2.join()\n",
    "\n",
    "print(\"Both threads have finished execution.\")"
   ]
  },
  {
   "cell_type": "code",
   "execution_count": null,
   "id": "ef498df4",
   "metadata": {},
   "outputs": [
    {
     "ename": "AttributeError",
     "evalue": "type object 'Thread' has no attribute 'start_new_thread'",
     "output_type": "error",
     "traceback": [
      "\u001b[31m---------------------------------------------------------------------------\u001b[39m",
      "\u001b[31mAttributeError\u001b[39m                            Traceback (most recent call last)",
      "\u001b[36mCell\u001b[39m\u001b[36m \u001b[39m\u001b[32mIn[15]\u001b[39m\u001b[32m, line 1\u001b[39m\n\u001b[32m----> \u001b[39m\u001b[32m1\u001b[39m \u001b[43mThread\u001b[49m\u001b[43m.\u001b[49m\u001b[43mstart_new_thread\u001b[49m\n",
      "\u001b[31mAttributeError\u001b[39m: type object 'Thread' has no attribute 'start_new_thread'"
     ]
    }
   ],
   "source": []
  },
  {
   "cell_type": "code",
   "execution_count": null,
   "id": "8fe9548f",
   "metadata": {},
   "outputs": [],
   "source": []
  }
 ],
 "metadata": {
  "kernelspec": {
   "display_name": "MLOps_Tutorials (3.12.11)",
   "language": "python",
   "name": "python3"
  },
  "language_info": {
   "codemirror_mode": {
    "name": "ipython",
    "version": 3
   },
   "file_extension": ".py",
   "mimetype": "text/x-python",
   "name": "python",
   "nbconvert_exporter": "python",
   "pygments_lexer": "ipython3",
   "version": "3.12.11"
  }
 },
 "nbformat": 4,
 "nbformat_minor": 5
}
