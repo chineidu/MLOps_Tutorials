{
 "cells": [
  {
   "cell_type": "markdown",
   "metadata": {},
   "source": [
    "# Agents From Scratch\n",
    "\n",
    "Link: [Blog post](https://www.newsletter.swirlai.com/p/building-ai-agents-from-scratch-part)"
   ]
  },
  {
   "cell_type": "code",
   "execution_count": 1,
   "metadata": {},
   "outputs": [],
   "source": [
    "# Built-in library\n",
    "from pathlib import Path\n",
    "import re\n",
    "import json\n",
    "from typing import Any, Literal, Optional, Union\n",
    "import logging\n",
    "import warnings\n",
    "\n",
    "# Standard imports\n",
    "import numpy as np\n",
    "import numpy.typing as npt\n",
    "from pprint import pprint\n",
    "import pandas as pd\n",
    "import polars as pl\n",
    "\n",
    "# Visualization\n",
    "import matplotlib.pyplot as plt\n",
    "\n",
    "# NumPy settings\n",
    "np.set_printoptions(precision=4)\n",
    "\n",
    "# Pandas settings\n",
    "pd.options.display.max_rows = 1_000\n",
    "pd.options.display.max_columns = 1_000\n",
    "pd.options.display.max_colwidth = 600\n",
    "\n",
    "# Polars settings\n",
    "pl.Config.set_fmt_str_lengths(1_000)\n",
    "pl.Config.set_tbl_cols(n=1_000)\n",
    "pl.Config.set_tbl_rows(n=200)\n",
    "\n",
    "warnings.filterwarnings(\"ignore\")\n",
    "\n",
    "# Black code formatter (Optional)\n",
    "%load_ext lab_black\n",
    "\n",
    "# auto reload imports\n",
    "%load_ext autoreload\n",
    "%autoreload 2"
   ]
  },
  {
   "cell_type": "code",
   "execution_count": 2,
   "metadata": {},
   "outputs": [],
   "source": [
    "from rich.console import Console\n",
    "from rich.panel import Panel\n",
    "from rich.text import Text\n",
    "from rich.table import Table\n",
    "from rich import box\n",
    "from rich.theme import Theme\n",
    "\n",
    "custom_theme = Theme(\n",
    "    {\n",
    "        \"white\": \"#FFFFFF\",  # Bright white\n",
    "        \"info\": \"#00FF00\",  # Bright green\n",
    "        \"warning\": \"#FFD700\",  # Bright gold\n",
    "        \"error\": \"#FF1493\",  # Deep pink\n",
    "        \"success\": \"#00FFFF\",  # Cyan\n",
    "        \"highlight\": \"#FF4500\",  # Orange-red\n",
    "    }\n",
    ")\n",
    "\n",
    "console = Console(theme=custom_theme)"
   ]
  },
  {
   "cell_type": "code",
   "execution_count": 3,
   "metadata": {},
   "outputs": [],
   "source": [
    "from dataclasses import dataclass\n",
    "import inspect\n",
    "import os\n",
    "from typing import _GenericAlias, Callable, get_type_hints\n",
    "from urllib import request\n",
    "\n",
    "import openai"
   ]
  },
  {
   "cell_type": "markdown",
   "metadata": {},
   "source": [
    "### Tool Creation Utilities"
   ]
  },
  {
   "cell_type": "code",
   "execution_count": 5,
   "metadata": {},
   "outputs": [],
   "source": [
    "@dataclass\n",
    "class Tool:\n",
    "    \"\"\"A class representing a tool with a name, description, function, and parameters.\n",
    "\n",
    "    Parameters\n",
    "    ----------\n",
    "    name : str\n",
    "        The name of the tool\n",
    "    description : str\n",
    "        A description of what the tool does\n",
    "    func : Callable[..., str]\n",
    "        The function that implements the tool's functionality\n",
    "    parameters : dict[str, dict[str, str]]\n",
    "        A dictionary mapping parameter names to their descriptions and types\n",
    "    \"\"\"\n",
    "\n",
    "    name: str\n",
    "    description: str\n",
    "    func: Callable[..., str]\n",
    "    parameters: dict[str, dict[str, str]]\n",
    "\n",
    "    def __call__(self, *args: Any, **kwds: Any) -> str:\n",
    "        \"\"\"Execute the tool's function with the given arguments.\n",
    "\n",
    "        Parameters\n",
    "        ----------\n",
    "        *args : Any\n",
    "            Positional arguments to pass to the function\n",
    "        **kwds : Any\n",
    "            Keyword arguments to pass to the function\n",
    "\n",
    "        Returns\n",
    "        -------\n",
    "        str\n",
    "            The result of executing the function\n",
    "        \"\"\"\n",
    "        return self.func(*args, **kwds)\n",
    "\n",
    "\n",
    "def parse_docstring_params(docstring: str) -> dict[str, str]:\n",
    "    \"\"\"Parse parameters section from a NumPy-style docstring.\n",
    "\n",
    "    Parameters\n",
    "    ----------\n",
    "    docstring : str\n",
    "        The docstring to parse\n",
    "\n",
    "    Returns\n",
    "    -------\n",
    "    dict[str, str]\n",
    "        A dictionary mapping parameter names to their descriptions\n",
    "    \"\"\"\n",
    "    if not docstring:\n",
    "        return {}\n",
    "\n",
    "    params: dict[str, str] = {}\n",
    "    lines: list[str] = docstring.split(\"\\n\")\n",
    "    in_params: bool = False\n",
    "    current_param: str | None = None\n",
    "\n",
    "    for line in lines:\n",
    "        line = line.strip()\n",
    "        if line.startswith(\"Parameters:\"):\n",
    "            in_params = True\n",
    "        elif in_params:\n",
    "            if line.startswith(\"-\") or line.startswith(\"*\"):\n",
    "                current_param = line.lstrip(\"- *\").split(\":\")[0].strip()\n",
    "                params[current_param] = line.lstrip(\"- *\").split(\":\")[1].strip()\n",
    "            elif current_param and line:\n",
    "                params[current_param] += \" \" + line\n",
    "            elif not line:\n",
    "                in_params = False\n",
    "\n",
    "    return params\n",
    "\n",
    "\n",
    "def get_type_description(type_hint: Any) -> str:\n",
    "    \"\"\"Get a string description of a type hint.\n",
    "\n",
    "    Parameters\n",
    "    ----------\n",
    "    type_hint : Any\n",
    "        The type hint to describe\n",
    "\n",
    "    Returns\n",
    "    -------\n",
    "    str\n",
    "        A human-readable description of the type\n",
    "    \"\"\"\n",
    "    if isinstance(type_hint, _GenericAlias):\n",
    "        if type_hint._name == \"Literal\":\n",
    "            return f\"one of {type_hint.__args__}\"\n",
    "    return type_hint.__name__"
   ]
  },
  {
   "cell_type": "code",
   "execution_count": 6,
   "metadata": {},
   "outputs": [],
   "source": [
    "# Updated version\n",
    "def parse_docstring_params(docstring: str) -> dict[str, str]:\n",
    "    \"\"\"Parse docstring parameters into a dictionary.\n",
    "\n",
    "    This function extracts parameter descriptions from a NumPy-style docstring\n",
    "    and returns them as a dictionary mapping parameter names to their descriptions.\n",
    "\n",
    "    Parameters\n",
    "    ----------\n",
    "    docstring : str\n",
    "        The docstring to parse, expected to be in NumPy format.\n",
    "\n",
    "    Returns\n",
    "    -------\n",
    "    dict[str, str]\n",
    "        A dictionary where keys are parameter names and values are their descriptions.\n",
    "        Returns an empty dict if the docstring is empty or has no parameters.\n",
    "    \"\"\"\n",
    "    if not docstring:\n",
    "        return {}\n",
    "\n",
    "    params: dict[str, str] = {}\n",
    "    lines: list[str] = docstring.split(\"\\n\")\n",
    "    in_params: bool = False\n",
    "    current_param: str | None = None\n",
    "\n",
    "    for line in lines:\n",
    "        line = line.strip()\n",
    "        if line.startswith(\"Parameters\"):\n",
    "            in_params = True\n",
    "            continue\n",
    "        elif in_params:\n",
    "            if (\n",
    "                line.startswith(\"Returns\")\n",
    "                or line.startswith(\"Raises\")\n",
    "                or line.startswith(\"Notes\")\n",
    "                or line.startswith(\"Examples\")\n",
    "            ):\n",
    "                break\n",
    "            if line:\n",
    "                if \":\" in line:\n",
    "                    current_param, description = map(str.strip, line.split(\":\", 1))\n",
    "                    # Remove leading \"-\", \" \" or \"*\" from the line\n",
    "                    current_param = current_param.strip(\"-* \")\n",
    "                    params[current_param] = description\n",
    "                elif current_param:\n",
    "                    params[current_param] += \" \" + line\n",
    "            else:\n",
    "                in_params = False\n",
    "\n",
    "    return params"
   ]
  },
  {
   "cell_type": "code",
   "execution_count": 7,
   "metadata": {},
   "outputs": [
    {
     "data": {
      "text/html": [
       "<pre style=\"white-space:pre;overflow-x:auto;line-height:normal;font-family:Menlo,'DejaVu Sans Mono',consolas,'Courier New',monospace\"><span style=\"font-weight: bold\">{</span><span style=\"color: #008000; text-decoration-color: #008000\">'param1'</span>: <span style=\"color: #008000; text-decoration-color: #008000\">'This is the first parameter.'</span>, <span style=\"color: #008000; text-decoration-color: #008000\">'param2'</span>: <span style=\"color: #008000; text-decoration-color: #008000\">'This is the second parameter.'</span><span style=\"font-weight: bold\">}</span>\n",
       "</pre>\n"
      ],
      "text/plain": [
       "\u001b[1m{\u001b[0m\u001b[32m'param1'\u001b[0m: \u001b[32m'This is the first parameter.'\u001b[0m, \u001b[32m'param2'\u001b[0m: \u001b[32m'This is the second parameter.'\u001b[0m\u001b[1m}\u001b[0m\n"
      ]
     },
     "metadata": {},
     "output_type": "display_data"
    },
    {
     "data": {
      "text/html": [
       "<pre style=\"white-space:pre;overflow-x:auto;line-height:normal;font-family:Menlo,'DejaVu Sans Mono',consolas,'Courier New',monospace\"><span style=\"font-weight: bold\">{</span><span style=\"color: #008000; text-decoration-color: #008000\">'param1'</span>: <span style=\"color: #008000; text-decoration-color: #008000\">'str This is the first parameter.'</span>, <span style=\"color: #008000; text-decoration-color: #008000\">'param2'</span>: <span style=\"color: #008000; text-decoration-color: #008000\">'int This is the second parameter.'</span><span style=\"font-weight: bold\">}</span>\n",
       "</pre>\n"
      ],
      "text/plain": [
       "\u001b[1m{\u001b[0m\u001b[32m'param1'\u001b[0m: \u001b[32m'str This is the first parameter.'\u001b[0m, \u001b[32m'param2'\u001b[0m: \u001b[32m'int This is the second parameter.'\u001b[0m\u001b[1m}\u001b[0m\n"
      ]
     },
     "metadata": {},
     "output_type": "display_data"
    }
   ],
   "source": [
    "# Examples\n",
    "# 1: Regular\n",
    "def my_func1(param1: str, param2: int) -> dict[str, str]:\n",
    "    \"\"\"Parse docstring parameters into a dictionary.\n",
    "\n",
    "    Parameters:\n",
    "    - param1: This is the first parameter.\n",
    "    - param2: This is the second parameter.\n",
    "\n",
    "    Returns:\n",
    "    - A dictionary with parameter names as keys and their descriptions as values.\n",
    "    \"\"\"\n",
    "\n",
    "\n",
    "# 2: NumPy Style\n",
    "def my_func2(param1: str, param2: int) -> dict[str, str]:\n",
    "    \"\"\"Parse docstring parameters into a dictionary.\n",
    "\n",
    "    Parameters\n",
    "    ----------\n",
    "    param1 : str\n",
    "        This is the first parameter.\n",
    "    param2 : int\n",
    "        This is the second parameter.\n",
    "\n",
    "    Returns\n",
    "    -------\n",
    "    dict[str, str]\n",
    "        A dictionary with parameter names as keys and their descriptions as values.\n",
    "    \"\"\"\n",
    "\n",
    "\n",
    "console.print(parse_docstring_params(my_func1.__doc__))\n",
    "console.print(parse_docstring_params(my_func2.__doc__))"
   ]
  },
  {
   "cell_type": "code",
   "execution_count": 8,
   "metadata": {},
   "outputs": [
    {
     "name": "stdout",
     "output_type": "stream",
     "text": [
      "{'param1': <class 'str'>, 'param2': <class 'int'>, 'return': dict[str, str]}\n",
      "str\n"
     ]
    }
   ],
   "source": [
    "type_hints_dict: dict[str, Any] = get_type_hints(my_func2)\n",
    "print(type_hints_dict)\n",
    "\n",
    "print(get_type_description(type_hints_dict.get(\"param1\")))"
   ]
  },
  {
   "cell_type": "markdown",
   "metadata": {},
   "source": [
    "<br>\n",
    "\n",
    "### Tool Creation Decorator"
   ]
  },
  {
   "cell_type": "code",
   "execution_count": 9,
   "metadata": {},
   "outputs": [
    {
     "data": {
      "text/html": [
       "<pre style=\"white-space:pre;overflow-x:auto;line-height:normal;font-family:Menlo,'DejaVu Sans Mono',consolas,'Courier New',monospace\">Parse docstring parameters into a dictionary.\n",
       "\n",
       "Parameters:\n",
       "- param1: This is the first parameter.\n",
       "- param2: This is the second parameter.\n",
       "\n",
       "Returns:\n",
       "- A dictionary with parameter names as keys and their descriptions as values.\n",
       "</pre>\n"
      ],
      "text/plain": [
       "Parse docstring parameters into a dictionary.\n",
       "\n",
       "Parameters:\n",
       "- param1: This is the first parameter.\n",
       "- param2: This is the second parameter.\n",
       "\n",
       "Returns:\n",
       "- A dictionary with parameter names as keys and their descriptions as values.\n"
      ]
     },
     "metadata": {},
     "output_type": "display_data"
    },
    {
     "name": "stdout",
     "output_type": "stream",
     "text": [
      "===== OR =====\n",
      "\n",
      "\n",
      "Parse docstring parameters into a dictionary.\n",
      "\n",
      "    Parameters:\n",
      "    - param1: This is the first parameter.\n",
      "    - param2: This is the second parameter.\n",
      "\n",
      "    Returns:\n",
      "    - A dictionary with parameter names as keys and their descriptions as values.\n",
      "    \n"
     ]
    }
   ],
   "source": [
    "console.print(inspect.getdoc(my_func1))\n",
    "\n",
    "print(\"===== OR =====\\n\\n\")\n",
    "\n",
    "# OR\n",
    "print(my_func1.__doc__)"
   ]
  },
  {
   "cell_type": "code",
   "execution_count": 10,
   "metadata": {},
   "outputs": [
    {
     "data": {
      "text/plain": [
       "<Signature (param1: str, param2: int) -> dict[str, str]>"
      ]
     },
     "execution_count": 10,
     "metadata": {},
     "output_type": "execute_result"
    }
   ],
   "source": [
    "inspect.signature(my_func2)"
   ]
  },
  {
   "cell_type": "code",
   "execution_count": 12,
   "metadata": {},
   "outputs": [],
   "source": [
    "def tool(name: str | None = None) -> str:\n",
    "    \"\"\"Decorator function to create a Tool object from a function.\n",
    "\n",
    "    Parameters\n",
    "    ----------\n",
    "    name : str | None, optional\n",
    "        Custom name for the tool. If None, uses the function name, by default None\n",
    "\n",
    "    Returns\n",
    "    -------\n",
    "    Callable\n",
    "        Decorator function that creates a Tool object\n",
    "    \"\"\"\n",
    "\n",
    "    def decorator(func: Callable[..., str]) -> Tool:\n",
    "        \"\"\"Inner decorator function that processes the decorated function.\n",
    "\n",
    "        Parameters\n",
    "        ----------\n",
    "        func : Callable[..., str]\n",
    "            Function to be converted into a Tool object\n",
    "\n",
    "        Returns\n",
    "        -------\n",
    "        Tool\n",
    "            Tool object created from the decorated function\n",
    "        \"\"\"\n",
    "        tool_name: str = name or func.__name__\n",
    "        description: str = inspect.getdoc(func) or \"No description provided.\"\n",
    "\n",
    "        type_hints: dict[str, Any] = get_type_hints(func)\n",
    "        param_docs: dict[str, str] = parse_docstring_params(description)\n",
    "        sig: inspect.Signature = inspect.signature(func)\n",
    "        params: dict[str, Any] = {}\n",
    "\n",
    "        for param_name, param in sig.parameters.items():\n",
    "            params[param_name] = {\n",
    "                \"type\": get_type_description(type_hints.get(param_name)),\n",
    "                \"description\": param_docs.get(param_name, \"No description provided.\"),\n",
    "            }\n",
    "        return Tool(\n",
    "            name=tool_name,\n",
    "            description=description,\n",
    "            func=func,\n",
    "            parameters=params,\n",
    "        )\n",
    "\n",
    "    return decorator"
   ]
  },
  {
   "cell_type": "markdown",
   "metadata": {},
   "source": [
    "### Create Currency Convertion Tool"
   ]
  },
  {
   "cell_type": "code",
   "execution_count": null,
   "metadata": {},
   "outputs": [],
   "source": [
    "@tool()\n",
    "def convert_currency(amount: float, from_currency: str, to_currency: str) -> str:\n",
    "    pass"
   ]
  },
  {
   "cell_type": "code",
   "execution_count": null,
   "metadata": {},
   "outputs": [],
   "source": []
  }
 ],
 "metadata": {
  "kernelspec": {
   "display_name": "torch_p11",
   "language": "python",
   "name": "python3"
  },
  "language_info": {
   "codemirror_mode": {
    "name": "ipython",
    "version": 3
   },
   "file_extension": ".py",
   "mimetype": "text/x-python",
   "name": "python",
   "nbconvert_exporter": "python",
   "pygments_lexer": "ipython3",
   "version": "3.11.8"
  }
 },
 "nbformat": 4,
 "nbformat_minor": 2
}
