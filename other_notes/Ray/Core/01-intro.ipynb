{
 "cells": [
  {
   "cell_type": "code",
   "execution_count": 17,
   "metadata": {},
   "outputs": [
    {
     "name": "stdout",
     "output_type": "stream",
     "text": [
      "The lab_black extension is already loaded. To reload it, use:\n",
      "  %reload_ext lab_black\n",
      "The autoreload extension is already loaded. To reload it, use:\n",
      "  %reload_ext autoreload\n"
     ]
    }
   ],
   "source": [
    "# Built-in library\n",
    "from pathlib import Path\n",
    "import re\n",
    "import json\n",
    "from typing import Annotated, Any, Literal, Optional, Union\n",
    "import logging\n",
    "import warnings\n",
    "\n",
    "# Standard imports\n",
    "import numpy as np\n",
    "import numpy.typing as npt\n",
    "from pprint import pprint\n",
    "import pandas as pd\n",
    "\n",
    "# import polars as pl\n",
    "\n",
    "# Visualization\n",
    "# import matplotlib.pyplot as plt\n",
    "\n",
    "# NumPy settings\n",
    "np.set_printoptions(precision=4)\n",
    "\n",
    "# Pandas settings\n",
    "pd.options.display.max_rows = 1_000\n",
    "pd.options.display.max_columns = 1_000\n",
    "pd.options.display.max_colwidth = 600\n",
    "\n",
    "# Polars settings\n",
    "# pl.Config.set_fmt_str_lengths(1_000)\n",
    "# pl.Config.set_tbl_cols(n=1_000)\n",
    "# pl.Config.set_tbl_rows(n=200)\n",
    "\n",
    "warnings.filterwarnings(\"ignore\")\n",
    "\n",
    "# Black code formatter (Optional)\n",
    "%load_ext lab_black\n",
    "\n",
    "# auto reload imports\n",
    "%load_ext autoreload\n",
    "%autoreload 2"
   ]
  },
  {
   "cell_type": "code",
   "execution_count": 2,
   "metadata": {},
   "outputs": [
    {
     "name": "stdout",
     "output_type": "stream",
     "text": [
      "Runtime: 2.82 seconds, data:\n",
      "(0, 'Learning')\n",
      "(1, 'Ray')\n",
      "(2, 'Flexible')\n",
      "(3, 'Distributed')\n",
      "(4, 'Python')\n",
      "(5, 'for')\n",
      "(6, 'Machine')\n",
      "(7, 'Learning')\n"
     ]
    }
   ],
   "source": [
    "import time\n",
    "\n",
    "import ray\n",
    "\n",
    "# ray.init()\n",
    "\n",
    "\n",
    "# View resource usage\n",
    "# print(ray.available_resources())\n",
    "\n",
    "database: list[str] = [\n",
    "    \"Learning\",\n",
    "    \"Ray\",\n",
    "    \"Flexible\",\n",
    "    \"Distributed\",\n",
    "    \"Python\",\n",
    "    \"for\",\n",
    "    \"Machine\",\n",
    "    \"Learning\",\n",
    "]\n",
    "\n",
    "\n",
    "def retrieve(item: int) -> tuple[int, str]:\n",
    "    time.sleep(item / 10)\n",
    "    return item, database[item]\n",
    "\n",
    "\n",
    "def print_runtime(input_data: list[tuple[int, str]], start_time: float) -> None:\n",
    "    \"\"\"Print the runtime of the operation and the resulting data.\"\"\"\n",
    "    print(f\"Runtime: {time.time() - start_time:.2f} seconds, data:\")\n",
    "    print(*input_data, sep=\"\\n\")\n",
    "\n",
    "\n",
    "@ray.remote\n",
    "def retrieve_task(item: int, db: list[str]) -> tuple[int, str]:\n",
    "    time.sleep(item / 10.0)\n",
    "    return item, db[item]\n",
    "\n",
    "\n",
    "def synchronous_call() -> None:\n",
    "    \"\"\"Execute the main program.\"\"\"\n",
    "    start: float = time.time()\n",
    "    data: list[tuple[int, str]] = [retrieve(item) for item in range(8)]\n",
    "    print_runtime(data, start)\n",
    "\n",
    "\n",
    "if __name__ == \"__main__\":\n",
    "    synchronous_call()"
   ]
  },
  {
   "cell_type": "markdown",
   "metadata": {},
   "source": [
    "## Parallel Computing Using Ray"
   ]
  },
  {
   "cell_type": "code",
   "execution_count": 6,
   "metadata": {},
   "outputs": [
    {
     "name": "stdout",
     "output_type": "stream",
     "text": [
      "Runtime: 0.72 seconds, data:\n",
      "(0, 'Learning')\n",
      "(1, 'Ray')\n",
      "(2, 'Flexible')\n",
      "(3, 'Distributed')\n",
      "(4, 'Python')\n",
      "(5, 'for')\n",
      "(6, 'Machine')\n",
      "(7, 'Learning')\n"
     ]
    }
   ],
   "source": [
    "# Put the db in Ray's object store so that it can be\n",
    "# accessed by all workers in the cluster.\n",
    "db_object_ref = ray.put(database)\n",
    "\n",
    "\n",
    "@ray.remote\n",
    "def retrieve_task(item: int, db: list[str]) -> tuple[int, str]:\n",
    "    time.sleep(item / 10.0)\n",
    "    return item, db[item]\n",
    "\n",
    "\n",
    "def parallel_call() -> None:\n",
    "    \"\"\"Execute the main program in parallel using Ray.\n",
    "\n",
    "    Returns\n",
    "    -------\n",
    "    None\n",
    "        The function prints the runtime and retrieved data.\n",
    "\n",
    "    Notes\n",
    "    -----\n",
    "    object_reference : list[ray.ObjectRef]\n",
    "        List of Ray object references of shape (8,)\n",
    "    data : list[tuple[int, str]]\n",
    "        Retrieved data of shape (8, 2)\n",
    "    \"\"\"\n",
    "    start: float = time.time()\n",
    "    # New! It returns a list of object references (i.e. a future)\n",
    "    object_reference: list[ray.ObjectRef] = [\n",
    "        retrieve_task.remote(item, db_object_ref) for item in range(8)\n",
    "    ]\n",
    "    # New\n",
    "    data: list[tuple[int, str]] = ray.get(object_reference)\n",
    "    print_runtime(data, start)\n",
    "\n",
    "\n",
    "if __name__ == \"__main__\":\n",
    "    parallel_call()"
   ]
  },
  {
   "cell_type": "code",
   "execution_count": 16,
   "metadata": {},
   "outputs": [
    {
     "name": "stdout",
     "output_type": "stream",
     "text": [
      "Runtime: 0.14 seconds, data:\n",
      "(0, 'Learning')\n",
      "(1, 'Ray')\n",
      "Runtime: 0.34 seconds, data:\n",
      "(2, 'Flexible')\n",
      "(3, 'Distributed')\n",
      "Runtime: 0.54 seconds, data:\n",
      "(4, 'Python')\n",
      "(5, 'for')\n",
      "Runtime: 0.75 seconds, data:\n",
      "(6, 'Machine')\n",
      "(7, 'Learning')\n"
     ]
    }
   ],
   "source": [
    "def parallel_call_updated_1() -> list[tuple[int, str]]:\n",
    "    \"\"\"Execute the main program in parallel using Ray.\n",
    "\n",
    "    Returns\n",
    "    -------\n",
    "    None\n",
    "        The function prints the runtime and retrieved data.\n",
    "\n",
    "    Notes\n",
    "    -----\n",
    "    object_references : list[ray.ObjectRef]\n",
    "        List of Ray object references of shape (8,)\n",
    "    data : list[tuple[int, str]]\n",
    "        Retrieved data of shape (8, 2)\n",
    "    \"\"\"\n",
    "    start: float = time.time()\n",
    "    # It returns a list of object references (i.e. a future)\n",
    "    object_references: list[ray.ObjectRef] = [\n",
    "        retrieve_task.remote(item, db_object_ref) for item in range(8)\n",
    "    ]\n",
    "    all_data: list[tuple[int, str]] = []\n",
    "    timeout: float = 7.0\n",
    "\n",
    "    # Instead of blocking, iterate thru the object references with a\n",
    "    # max timeout of N seconds.\n",
    "    while len(object_references) > 0:\n",
    "        finished, object_references = ray.wait(\n",
    "            object_references,\n",
    "            num_returns=2,  # Return 2 results at a time.\n",
    "            timeout=timeout,\n",
    "        )\n",
    "        data: list[tuple[int, str]] = ray.get(finished)\n",
    "        print_runtime(data, start)\n",
    "        all_data.extend(data)\n",
    "    return all_data\n",
    "\n",
    "\n",
    "if __name__ == \"__main__\":\n",
    "    all_data: list[tuple[int, str]] = parallel_call_updated_1()"
   ]
  },
  {
   "cell_type": "code",
   "execution_count": 13,
   "metadata": {},
   "outputs": [
    {
     "data": {
      "text/plain": [
       "[(0, 'Learning'),\n",
       " (1, 'Ray'),\n",
       " (2, 'Flexible'),\n",
       " (3, 'Distributed'),\n",
       " (4, 'Python'),\n",
       " (5, 'for'),\n",
       " (6, 'Machine'),\n",
       " (7, 'Learning')]"
      ]
     },
     "execution_count": 13,
     "metadata": {},
     "output_type": "execute_result"
    }
   ],
   "source": [
    "all_data"
   ]
  },
  {
   "cell_type": "markdown",
   "metadata": {},
   "source": [
    "### Handling Task Dependencies\n",
    "\n",
    "- Create a task that runs both `retrieve_task` and `follow_up_task` consecutively."
   ]
  },
  {
   "cell_type": "code",
   "execution_count": null,
   "metadata": {},
   "outputs": [
    {
     "name": "stdout",
     "output_type": "stream",
     "text": [
      "Runtime: 1.42 seconds, data:\n",
      "[(0, 'Learning'), (1, 'Ray')]\n",
      "[(2, 'Flexible'), (3, 'Distributed')]\n",
      "[(4, 'Python'), (5, 'for')]\n",
      "[(6, 'Machine'), (7, 'Learning')]\n"
     ]
    }
   ],
   "source": [
    "@ray.remote\n",
    "def follow_up_task(\n",
    "    retrieve_result: tuple[int, str],\n",
    ") -> tuple[\n",
    "    Annotated[tuple[int, str], \"retrieve_result\"],\n",
    "    Annotated[tuple[int, str], \"follow_up_result\"],\n",
    "]:\n",
    "    \"\"\"This is a follow-up task that takes the original item and retrieves\n",
    "    the follow-up result.\"\"\"\n",
    "    original_item, _ = retrieve_result\n",
    "    follow_up_result: tuple[int, str] = retrieve(item=original_item + 1)\n",
    "    return [retrieve_result, follow_up_result]\n",
    "\n",
    "\n",
    "def parallel_call_2() -> None:\n",
    "    start: float = time.time()\n",
    "\n",
    "    retrieved_refs: list[ray.ObjectRef] = [\n",
    "        retrieve_task.remote(item, db_object_ref) for item in [0, 2, 4, 6]\n",
    "    ]\n",
    "    follow_up_refs = [follow_up_task.remote(res) for res in retrieved_refs]\n",
    "    data = ray.get(follow_up_refs)\n",
    "    print_runtime(data, start)\n",
    "    return data\n",
    "\n",
    "\n",
    "if __name__ == \"__main__\":\n",
    "    # Call the main function\n",
    "    all_data = parallel_call_2()"
   ]
  },
  {
   "cell_type": "code",
   "execution_count": null,
   "metadata": {},
   "outputs": [
    {
     "name": "stdout",
     "output_type": "stream",
     "text": [
      "Runtime: 0.14 seconds, data:\n",
      "[(0, 'Learning'), (1, 'Ray')]\n",
      "Runtime: 0.60 seconds, data:\n",
      "[(2, 'Flexible'), (3, 'Distributed')]\n",
      "Runtime: 0.95 seconds, data:\n",
      "[(4, 'Python'), (5, 'for')]\n",
      "Runtime: 1.35 seconds, data:\n",
      "[(6, 'Machine'), (7, 'Learning')]\n"
     ]
    }
   ],
   "source": [
    "def parallel_call_3() -> None:\n",
    "    start: float = time.time()\n",
    "\n",
    "    all_data = []\n",
    "    retrieved_refs: list[ray.ObjectRef] = [\n",
    "        retrieve_task.remote(item, db_object_ref) for item in [0, 2, 4, 6]\n",
    "    ]\n",
    "    follow_up_refs = [follow_up_task.remote(ResourceWarning) for ResourceWarning in retrieved_refs]\n",
    "\n",
    "    while len(follow_up_refs) > 0:\n",
    "        done_refs, follow_up_refs = ray.wait(follow_up_refs, timeout=10)\n",
    "        data = ray.get(done_refs)\n",
    "        all_data.extend(data)\n",
    "        print_runtime(data, start)\n",
    "\n",
    "    return all_data\n",
    "\n",
    "\n",
    "if __name__ == \"__main__\":\n",
    "    # Call the main function\n",
    "    all_data = parallel_call_3()"
   ]
  },
  {
   "cell_type": "code",
   "execution_count": 26,
   "metadata": {},
   "outputs": [
    {
     "name": "stdout",
     "output_type": "stream",
     "text": [
      "michael\n",
      "sarah\n",
      "joshua\n",
      "narine\n",
      "david\n"
     ]
    }
   ],
   "source": [
    "names = [\"Michael\", \"Sarah\", \"Joshua\", \"Narine\", \"David\"]\n",
    "\n",
    "for name in names:\n",
    "    if cleaned_name := name.lower():\n",
    "        print(cleaned_name)"
   ]
  },
  {
   "cell_type": "code",
   "execution_count": null,
   "metadata": {},
   "outputs": [],
   "source": []
  },
  {
   "cell_type": "code",
   "execution_count": null,
   "metadata": {},
   "outputs": [],
   "source": []
  },
  {
   "cell_type": "code",
   "execution_count": null,
   "metadata": {},
   "outputs": [],
   "source": []
  },
  {
   "cell_type": "code",
   "execution_count": null,
   "metadata": {},
   "outputs": [],
   "source": []
  },
  {
   "cell_type": "code",
   "execution_count": null,
   "metadata": {},
   "outputs": [],
   "source": []
  },
  {
   "cell_type": "code",
   "execution_count": null,
   "metadata": {},
   "outputs": [],
   "source": []
  }
 ],
 "metadata": {
  "kernelspec": {
   "display_name": ".venv",
   "language": "python",
   "name": "python3"
  },
  "language_info": {
   "codemirror_mode": {
    "name": "ipython",
    "version": 3
   },
   "file_extension": ".py",
   "mimetype": "text/x-python",
   "name": "python",
   "nbconvert_exporter": "python",
   "pygments_lexer": "ipython3",
   "version": "3.12.7"
  }
 },
 "nbformat": 4,
 "nbformat_minor": 2
}
