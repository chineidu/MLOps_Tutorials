{
 "cells": [
  {
   "cell_type": "code",
   "execution_count": 2,
   "id": "1abab355",
   "metadata": {},
   "outputs": [],
   "source": [
    "import warnings\n",
    "from typing import Any, Literal\n",
    "\n",
    "import numpy as np\n",
    "import pandas as pd\n",
    "import polars as pl\n",
    "from rich.console import Console\n",
    "from rich.theme import Theme\n",
    "\n",
    "custom_theme = Theme(\n",
    "    {\n",
    "        \"white\": \"#FFFFFF\",  # Bright white\n",
    "        \"info\": \"#00FF00\",  # Bright green\n",
    "        \"warning\": \"#FFD700\",  # Bright gold\n",
    "        \"error\": \"#FF1493\",  # Deep pink\n",
    "        \"success\": \"#00FFFF\",  # Cyan\n",
    "        \"highlight\": \"#FF4500\",  # Orange-red\n",
    "    }\n",
    ")\n",
    "console = Console(theme=custom_theme)\n",
    "\n",
    "# Visualization\n",
    "# import matplotlib.pyplot as plt\n",
    "\n",
    "# NumPy settings\n",
    "np.set_printoptions(precision=4)\n",
    "\n",
    "# Pandas settings\n",
    "pd.options.display.max_rows = 1_000\n",
    "pd.options.display.max_columns = 1_000\n",
    "pd.options.display.max_colwidth = 600\n",
    "\n",
    "# Polars settings\n",
    "pl.Config.set_fmt_str_lengths(1_000)\n",
    "pl.Config.set_tbl_cols(n=1_000)\n",
    "pl.Config.set_tbl_rows(n=200)\n",
    "\n",
    "warnings.filterwarnings(\"ignore\")\n",
    "\n",
    "# Black code formatter (Optional)\n",
    "%load_ext lab_black\n",
    "\n",
    "# auto reload imports\n",
    "%load_ext autoreload\n",
    "%autoreload 2"
   ]
  },
  {
   "cell_type": "code",
   "execution_count": 3,
   "id": "5ba09751",
   "metadata": {},
   "outputs": [],
   "source": [
    "def go_up_from_current_directory(*, go_up: int = 1) -> None:\n",
    "    \"\"\"This is used to up a number of directories.\n",
    "\n",
    "    Params:\n",
    "    -------\n",
    "    go_up: int, default=1\n",
    "        This indicates the number of times to go back up from the current directory.\n",
    "\n",
    "    Returns:\n",
    "    --------\n",
    "    None\n",
    "    \"\"\"\n",
    "    import os\n",
    "    import sys\n",
    "\n",
    "    CONST: str = \"../\"\n",
    "    NUM: str = CONST * go_up\n",
    "\n",
    "    # Goto the previous directory\n",
    "    prev_directory = os.path.join(os.path.dirname(__name__), NUM)\n",
    "    # Get the 'absolute path' of the previous directory\n",
    "    abs_path_prev_directory = os.path.abspath(prev_directory)\n",
    "\n",
    "    # Add the path to the System paths\n",
    "    sys.path.insert(0, abs_path_prev_directory)\n",
    "    print(abs_path_prev_directory)\n",
    "\n",
    "\n",
    "# Demo (Prevents ruff from removing the unused module import)\n",
    "name: Any\n",
    "category: Literal[\"A\", \"B\", \"C\"]"
   ]
  },
  {
   "cell_type": "markdown",
   "id": "957417df",
   "metadata": {},
   "source": [
    "# Arrays and Hashing"
   ]
  },
  {
   "cell_type": "code",
   "execution_count": null,
   "id": "bf4dff8c",
   "metadata": {},
   "outputs": [],
   "source": []
  },
  {
   "cell_type": "markdown",
   "id": "3376b765",
   "metadata": {},
   "source": [
    "## Qs Contains Duplicate\n",
    "\n",
    "- Given an integer array `nums`, return `true` if any value appears at least twice in the array, and return `false` if every element is distinct.\n",
    "\n",
    "### Example 1:\n",
    "\n",
    "```\n",
    "Input: nums = [1,2,3,1]\n",
    "Output: true\n",
    "```\n",
    "### Example 2:\n",
    "\n",
    "```\n",
    "Input: nums = [1,2,3,4]\n",
    "Output: false\n",
    "```\n",
    "### Example 3:\n",
    "\n",
    "```\n",
    "Input: nums = [1,1,1,3,3,4,3,2,4,2]\n",
    "Output: true\n",
    "```\n",
    "\n",
    "### Constraints:\n",
    "- `1 <= nums.length <= 10^5`\n",
    "- `-10^9 <= nums[i] <= 10^9`\n"
   ]
  },
  {
   "cell_type": "code",
   "execution_count": 22,
   "id": "92ef1531",
   "metadata": {},
   "outputs": [
    {
     "name": "stdout",
     "output_type": "stream",
     "text": [
      "True\n",
      "False\n"
     ]
    }
   ],
   "source": [
    "# Brute Force\n",
    "def contains_duplicate_brute_force(nums: list[int]) -> bool:\n",
    "    for idx in range(0, len(nums)):\n",
    "        for i in range(idx + 1, len(nums)):\n",
    "            item = nums[idx]\n",
    "            next_item = nums[i]\n",
    "            if item == next_item:\n",
    "                return True\n",
    "    return False\n",
    "\n",
    "\n",
    "if __name__ == \"__main__\":\n",
    "    res: bool = contains_duplicate_brute_force(nums=[1, 2, 3, 1])\n",
    "    print(res)\n",
    "\n",
    "    res: bool = contains_duplicate_brute_force(nums=[1, 2, 3, 4])\n",
    "    print(res)"
   ]
  },
  {
   "cell_type": "code",
   "execution_count": 24,
   "id": "b9116f6e",
   "metadata": {},
   "outputs": [
    {
     "name": "stdout",
     "output_type": "stream",
     "text": [
      "True\n",
      "False\n"
     ]
    }
   ],
   "source": [
    "# Optimized Version\n",
    "def contains_duplicate(nums: list[int]) -> bool:\n",
    "    return len(set(nums)) == len(nums)\n",
    "\n",
    "\n",
    "if __name__ == \"__main__\":\n",
    "    res = contains_duplicate(nums=[1, 2, 3, 4])\n",
    "    print(res)\n",
    "\n",
    "    res: bool = contains_duplicate_brute_force(nums=[1, 2, 3, 4])\n",
    "    print(res)"
   ]
  },
  {
   "cell_type": "markdown",
   "id": "76e694e8",
   "metadata": {},
   "source": [
    "<br>\n",
    "\n",
    "## Qs Missing Number\n",
    "\n",
    "- Given an array `nums` containing `n` distinct numbers in the range `[0, n]`, return the only number in the range that is missing from the array.\n",
    "\n",
    "### Example 1:\n",
    "\n",
    "```\n",
    "Input: nums = [3,0,1]\n",
    "Output: 2\n",
    "Explanation: n = 3 since there are 3 numbers, so all numbers are in the range [0,3]. 2 is the missing number in the range since it does not appear in nums.\n",
    "```\n",
    "### Example 2:\n",
    "\n",
    "```\n",
    "Input: nums = [0,1]\n",
    "Output: 2\n",
    "Explanation: n = 2 since there are 2 numbers, so all numbers are in the range [0,2]. 2 is the missing number in the range since it does not appear in nums.\n",
    "```\n",
    "### Example 3:\n",
    "\n",
    "```\n",
    "Input: nums = [9,6,4,2,3,5,7,0,1]\n",
    "Output: 8\n",
    "Explanation: n = 9 since there are 9 numbers, so all numbers are in the range [0,9]. 8 is the missing number in the range since it does not appear in nums.\n",
    "```\n",
    "\n",
    "### Constraints:\n",
    "- `n == nums.length`\n",
    "- `1 <= n <= 10^4`\n",
    "- `0 <= nums[i] <= n`\n",
    "- All the numbers of `nums` are unique.\n"
   ]
  },
  {
   "cell_type": "code",
   "execution_count": null,
   "id": "5ee92d73",
   "metadata": {},
   "outputs": [
    {
     "name": "stdout",
     "output_type": "stream",
     "text": [
      "[2]\n",
      "[2]\n",
      "[8]\n"
     ]
    }
   ],
   "source": [
    "def missing_number(nums: list[int]) -> list[int]:\n",
    "    my_list: list[int] = list(range(0, len(nums) + 1))\n",
    "    return list(set(my_list).difference(set(nums)))\n",
    "\n",
    "\n",
    "if __name__ == \"__main__\":\n",
    "    res: list[int] = missing_number(nums=[3, 0, 1])\n",
    "    print(res)\n",
    "\n",
    "    res: list[int] = missing_number(nums=[0, 1])\n",
    "    print(res)\n",
    "\n",
    "    res: list[int] = missing_number(nums=[9, 6, 4, 2, 3, 5, 7, 0, 1])\n",
    "    print(res)"
   ]
  },
  {
   "cell_type": "markdown",
   "id": "16df94d4",
   "metadata": {},
   "source": [
    "## Qs Two Sum\n",
    "\n",
    "- Given an array of integers `nums` and an integer `target`, return indices of the two numbers such that they add up to `target`.\n",
    "- You may assume that each input would have exactly one solution, and you may not use the same element twice.\n",
    "- You can return the answer in any order.\n",
    "### Example 1:\n",
    "\n",
    "```\n",
    "Input: nums = [2,7,11,15], target = 9\n",
    "Output: [0,1]\n",
    "Explanation: Because nums[0] + nums[1] == 9, we return [0, 1].\n",
    "```\n",
    "### Example 2:\n",
    "\n",
    "```\n",
    "Input: nums = [3,2,4], target = 6\n",
    "Output: [1,2]\n",
    "Explanation: Because nums[1] + nums[2] == 6, we return [1, 2].\n",
    "```\n",
    "### Example 3:\n",
    "\n",
    "```\n",
    "Input: nums = [3,3], target = 6\n",
    "Output: [0,1]\n",
    "Explanation: Because nums[0] + nums[1] == 6, we return [0, 1].\n",
    "```### Constraints:\n",
    "- `2 <= nums.length <= 10^4`\n",
    "- `-10^9 <= nums[i] <= 10^9`\n",
    "- `-10^9 <= target <= 10^9`\n",
    "- Only one valid answer exists.\n"
   ]
  },
  {
   "cell_type": "code",
   "execution_count": null,
   "id": "853cfc05",
   "metadata": {},
   "outputs": [
    {
     "name": "stdout",
     "output_type": "stream",
     "text": [
      "(0, 1)\n",
      "(1, 2)\n",
      "(0, 1)\n"
     ]
    }
   ],
   "source": [
    "def two_sum_brute_force(nums: list[int], target: int) -> tuple[int, int]:\n",
    "    for idx in range(len(nums)):\n",
    "        for jdx in range(idx + 1, len(nums)):\n",
    "            if nums[idx] + nums[jdx] == target:\n",
    "                return (idx, jdx)\n",
    "    return None\n",
    "\n",
    "\n",
    "if __name__ == \"__main__\":\n",
    "    res: list[int] = two_sum_brute_force(nums=[2, 7, 11, 15], target=9)\n",
    "    print(res)\n",
    "\n",
    "    res: list[int] = two_sum_brute_force(nums=[3, 2, 4], target=6)\n",
    "    print(res)\n",
    "\n",
    "    res: list[int] = two_sum_brute_force(nums=[3, 3], target=6)\n",
    "    print(res)"
   ]
  },
  {
   "cell_type": "code",
   "execution_count": 30,
   "id": "cdc76ff5",
   "metadata": {},
   "outputs": [
    {
     "name": "stdout",
     "output_type": "stream",
     "text": [
      "(0, 1)\n",
      "(1, 2)\n",
      "(0, 1)\n"
     ]
    }
   ],
   "source": [
    "def two_sum(nums: list[int], target: int) -> tuple[int, int]:\n",
    "    prev_dict: dict[int, int] = {}\n",
    "\n",
    "    for idx, val in enumerate(nums):\n",
    "        diff: int = target - val\n",
    "        if diff in prev_dict.keys():\n",
    "            return (prev_dict.get(diff), idx)\n",
    "        prev_dict[val] = idx\n",
    "    return None\n",
    "\n",
    "\n",
    "if __name__ == \"__main__\":\n",
    "    res: list[int] = two_sum(nums=[2, 7, 11, 15], target=9)\n",
    "    print(res)\n",
    "\n",
    "    res: list[int] = two_sum(nums=[3, 2, 4], target=6)\n",
    "    print(res)\n",
    "\n",
    "    res: list[int] = two_sum(nums=[3, 3], target=6)\n",
    "    print(res)"
   ]
  },
  {
   "cell_type": "markdown",
   "id": "cd0781ac",
   "metadata": {},
   "source": [
    "<br>\n",
    "\n",
    "## Qs How Many Numbers Are Smaller Than the Current Number\n",
    "\n",
    "- Given the array `nums`, for each `nums[i]` find out how many numbers in the array are smaller than it. That is, for each `nums[i]` you have to count the number of valid `j`'s such that `j != i` and `nums[j] < nums[i]`.\n",
    "\n",
    "### Example 1:\n",
    "\n",
    "```\n",
    "Input: nums = [8,1,2,2,3]\n",
    "Output: [4,0,1,1,3]\n",
    "Explanation:\n",
    "For nums[0]=8 there exist four smaller numbers than it (1, 2, 2 and 3).\n",
    "For nums[1]=1 does not exist any smaller number than it.\n",
    "For nums[2]=2 there exist one smaller number than it (1).\n",
    "For nums[3]=2 there exist one smaller number than it (1).\n",
    "For nums[4]=3 there exist three smaller numbers than it (1, 2 and 2).\n",
    "```\n",
    "\n",
    "### Example 2:\n",
    "```\n",
    "Input: nums = [6,5,4,8]\n",
    "Output: [2,1,0,3]\n",
    "Explanation:\n",
    "For nums[0]=6 there exist two smaller numbers than it (5 and 4).\n",
    "For nums[1]=5 there exist one smaller number than it (4).\n",
    "For nums[2]=4 there exist no smaller numbers than it.\n",
    "For nums[3]=8 there exist three smaller numbers than it (6, 5 and 4).\n",
    "```\n",
    "\n",
    "### Example 3:\n",
    "```\n",
    "Input: nums = [7,7,7,7]\n",
    "Output: [0,0,0,0]\n",
    "Explanation:\n",
    "For nums[0]=7 does not exist any smaller number than it.\n",
    "For nums[1]=7 does not exist any smaller number than it.\n",
    "For nums[2]=7 does not exist any smaller number than it.\n",
    "For nums[3]=7 does not exist any smaller number than it.\n",
    "```\n",
    "\n",
    "### Constraints:\n",
    "- `2 <= nums.length <= 500`\n",
    "- `0 <= nums[i] <= 100`\n"
   ]
  },
  {
   "cell_type": "code",
   "execution_count": 36,
   "id": "1cff9930",
   "metadata": {},
   "outputs": [
    {
     "name": "stdout",
     "output_type": "stream",
     "text": [
      "[4, 0, 1, 1, 3]\n",
      "[2, 1, 0, 3]\n",
      "[0, 0, 0, 0]\n"
     ]
    }
   ],
   "source": [
    "def how_many_smaller_than_current_number_brute_force(nums: list[int]) -> list[int]:\n",
    "    result: list[int] = []\n",
    "\n",
    "    for idx in range(len(nums)):\n",
    "        counter: int = 0\n",
    "        for jdx in range(len(nums)):\n",
    "            if nums[idx] > nums[jdx] and idx != jdx:\n",
    "                counter += 1\n",
    "        result.append(counter)\n",
    "    return result\n",
    "\n",
    "\n",
    "if __name__ == \"__main__\":\n",
    "    res: list[int] = how_many_smaller_than_current_number_brute_force(\n",
    "        nums=[8, 1, 2, 2, 3]\n",
    "    )\n",
    "    print(res)\n",
    "\n",
    "    res: list[int] = how_many_smaller_than_current_number_brute_force(nums=[6, 5, 4, 8])\n",
    "    print(res)\n",
    "\n",
    "    res: list[int] = how_many_smaller_than_current_number_brute_force(nums=[7, 7, 7, 7])\n",
    "    print(res)"
   ]
  },
  {
   "cell_type": "code",
   "execution_count": null,
   "id": "9d0953a0",
   "metadata": {},
   "outputs": [
    {
     "name": "stdout",
     "output_type": "stream",
     "text": [
      "[4, 0, 1, 1, 3]\n",
      "[2, 1, 0, 3]\n",
      "[0, 0, 0, 0]\n"
     ]
    }
   ],
   "source": [
    "# The overall time complexity is O(n log n), driven by the initial sort of the input list; the subsequent dictionary \n",
    "# construction and list comprehension are both linear in n.\n",
    "def how_many_smaller_than_current_number(nums: list[int]) -> list[int]:\n",
    "    sorted_nums: list[int] = sorted(nums)\n",
    "    my_dict: dict[int, int] = {}  # val: idx\n",
    "\n",
    "    for idx, val in enumerate(sorted_nums, start=0):\n",
    "        if val not in my_dict:\n",
    "            my_dict[val] = idx\n",
    "\n",
    "    return [my_dict.get(nums[idx]) for idx in range(0, len(nums))]\n",
    "\n",
    "\n",
    "\n",
    "if __name__ == \"__main__\":\n",
    "    res: list[int] = how_many_smaller_than_current_number(nums=[8, 1, 2, 2, 3])\n",
    "    print(res)\n",
    "\n",
    "    res: list[int] = how_many_smaller_than_current_number(nums=[6, 5, 4, 8])\n",
    "    print(res)\n",
    "\n",
    "    res: list[int] = how_many_smaller_than_current_number(nums=[7, 7, 7, 7])\n",
    "    print(res)"
   ]
  },
  {
   "cell_type": "code",
   "execution_count": null,
   "id": "5b36ae1e",
   "metadata": {},
   "outputs": [
    {
     "name": "stdout",
     "output_type": "stream",
     "text": [
      "[4, 0, 1, 1, 3]\n",
      "[2, 1, 0, 3]\n",
      "[0, 0, 0, 0]\n"
     ]
    }
   ],
   "source": [
    "# Replace your current version with this O(n + k) solution\n",
    "def how_many_smaller_than_current_number_optimized(nums: list[int]) -> list[int]:\n",
    "    if not nums:\n",
    "        return []\n",
    "    max_val = max(nums)\n",
    "    # 1) count occurrences\n",
    "    count = [0] * (max_val + 1)\n",
    "    for x in nums:\n",
    "        count[x] += 1\n",
    "    # 2) build prefix sums: prefix[i] = # of elements < i\n",
    "    prefix = [0] * (max_val + 1)\n",
    "    running = 0\n",
    "    for i in range(max_val + 1):\n",
    "        prefix[i] = running\n",
    "        running += count[i]\n",
    "    # 3) lookup\n",
    "    return [prefix[x] for x in nums]\n",
    "\n",
    "\n",
    "if __name__ == \"__main__\":\n",
    "    res: list[int] = how_many_smaller_than_current_number_optimized(nums=[8, 1, 2, 2, 3])\n",
    "    print(res)\n",
    "\n",
    "    res: list[int] = how_many_smaller_than_current_number_optimized(nums=[6, 5, 4, 8])\n",
    "    print(res)\n",
    "\n",
    "    res: list[int] = how_many_smaller_than_current_number_optimized(nums=[7, 7, 7, 7])\n",
    "    print(res)"
   ]
  },
  {
   "cell_type": "code",
   "execution_count": null,
   "id": "ce8bdc0f",
   "metadata": {},
   "outputs": [],
   "source": []
  },
  {
   "cell_type": "code",
   "execution_count": null,
   "id": "9b1b9737",
   "metadata": {},
   "outputs": [],
   "source": []
  },
  {
   "cell_type": "code",
   "execution_count": null,
   "id": "7607f457",
   "metadata": {},
   "outputs": [],
   "source": []
  },
  {
   "cell_type": "code",
   "execution_count": null,
   "id": "3654c574",
   "metadata": {},
   "outputs": [],
   "source": []
  },
  {
   "cell_type": "code",
   "execution_count": null,
   "id": "dd19139a",
   "metadata": {},
   "outputs": [],
   "source": []
  },
  {
   "cell_type": "code",
   "execution_count": null,
   "id": "526e30e3",
   "metadata": {},
   "outputs": [],
   "source": []
  },
  {
   "cell_type": "code",
   "execution_count": null,
   "id": "0bdd9bd6",
   "metadata": {},
   "outputs": [],
   "source": []
  },
  {
   "cell_type": "code",
   "execution_count": null,
   "id": "874def25",
   "metadata": {},
   "outputs": [],
   "source": []
  },
  {
   "cell_type": "code",
   "execution_count": null,
   "id": "cf54985b",
   "metadata": {},
   "outputs": [],
   "source": []
  },
  {
   "cell_type": "code",
   "execution_count": null,
   "id": "c24dba5d",
   "metadata": {},
   "outputs": [],
   "source": []
  },
  {
   "cell_type": "code",
   "execution_count": null,
   "id": "2fc9978a",
   "metadata": {},
   "outputs": [],
   "source": []
  }
 ],
 "metadata": {
  "kernelspec": {
   "display_name": "MLOps_Tutorials (3.12.11)",
   "language": "python",
   "name": "python3"
  },
  "language_info": {
   "codemirror_mode": {
    "name": "ipython",
    "version": 3
   },
   "file_extension": ".py",
   "mimetype": "text/x-python",
   "name": "python",
   "nbconvert_exporter": "python",
   "pygments_lexer": "ipython3",
   "version": "3.12.11"
  }
 },
 "nbformat": 4,
 "nbformat_minor": 5
}
